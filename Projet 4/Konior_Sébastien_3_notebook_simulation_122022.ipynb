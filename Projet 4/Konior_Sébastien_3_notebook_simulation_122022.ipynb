{
 "cells": [
  {
   "cell_type": "code",
   "execution_count": 1,
   "outputs": [],
   "source": [
    "import pandas as pd\n",
    "import numpy as np\n",
    "\n",
    "from sklearn.cluster import KMeans\n",
    "import textwrap\n",
    "import matplotlib.pyplot as plt\n",
    "from sklearn.metrics import adjusted_rand_score\n",
    "from sklearn.cluster import AgglomerativeClustering\n",
    "import scipy.cluster._hierarchy as sch\n",
    "from sklearn.datasets import make_circles\n",
    "from sklearn.preprocessing import StandardScaler, MinMaxScaler\n",
    "from sklearn.compose import ColumnTransformer\n",
    "from sklearn.pipeline import Pipeline, make_pipeline\n",
    "from yellowbrick.cluster import KElbowVisualizer\n",
    "from yellowbrick.cluster import SilhouetteVisualizer\n",
    "from sklearn.neighbors import NearestNeighbors\n",
    "import seaborn as sns\n",
    "import plotly.graph_objs as go\n",
    "import plotly.figure_factory as ff"
   ],
   "metadata": {
    "collapsed": false,
    "pycharm": {
     "name": "#%%\n"
    }
   }
  },
  {
   "cell_type": "code",
   "execution_count": 2,
   "outputs": [
    {
     "data": {
      "text/plain": "                     customer_unique_id  order_id  item_number  \\\n0      0000366f3b9a7992bf8c76cfdf3221e2         1          1.0   \n1      0000b849f77a49e4a4ce2b2a4ca5be3f         1          1.0   \n2      0000f46a3911fa3c0805444483337064         1          1.0   \n3      0000f6ccb0745a6a4b88665a16c9f078         1          1.0   \n4      0004aac84e0df4da2b147fca70cf8255         1          1.0   \n...                                 ...       ...          ...   \n93353  fffcf5a5ff07b0908bd4e2dbc735a684         1          2.0   \n93354  fffea47cd6d3cc0a88bd621562a9d061         1          1.0   \n93355  ffff371b4d645b6ecea244b27531430a         1          1.0   \n93356  ffff5962728ec6157033ef9805bacc48         1          1.0   \n93357  ffffd2657e2aad2907e67c3e9daecbeb         1          1.0   \n\n       total_price_cmd  total_freight_cmd  review_score  haversine_distance  \\\n0               129.90              12.00           5.0           68.656337   \n1                18.90               8.29           4.0           13.765174   \n2                69.00              17.22           3.0          320.987292   \n3                25.99              17.63           4.0         1540.727062   \n4               180.00              16.89           5.0           95.939915   \n...                ...                ...           ...                 ...   \n93353          1570.00             497.42           5.0         1239.685635   \n93354            64.89              19.69           4.0          948.298541   \n93355            89.90              22.56           5.0          947.624481   \n93356           115.00              18.69           5.0          396.071172   \n93357            56.99              14.57           5.0          220.957443   \n\n       moy_photos_qty  number_of_sequential_payments  \\\n0                 1.0                            1.0   \n1                 1.0                            1.0   \n2                 3.0                            1.0   \n3                 5.0                            1.0   \n4                 3.0                            1.0   \n...               ...                            ...   \n93353             1.0                            1.0   \n93354             2.0                            1.0   \n93355             5.0                            1.0   \n93356             3.0                            1.0   \n93357             2.0                            1.0   \n\n       sum_of_installments_payments  ...  order_purchase_periodDay  \\\n0                               8.0  ...                         1   \n1                               1.0  ...                         1   \n2                               8.0  ...                         3   \n3                               4.0  ...                         3   \n4                               6.0  ...                         3   \n...                             ...  ...                       ...   \n93353                          10.0  ...                         3   \n93354                           1.0  ...                         3   \n93355                           1.0  ...                         2   \n93356                           5.0  ...                         2   \n93357                           4.0  ...                         3   \n\n       order_purchase_timestamp  order_delivered_customer_date  \\\n0           2018-05-10 10:56:27            2018-05-16 20:48:37   \n1           2018-05-07 11:11:27            2018-05-10 18:02:42   \n2           2017-03-10 21:05:03            2017-04-05 14:38:47   \n3           2017-10-12 20:29:41            2017-11-01 21:23:05   \n4           2017-11-14 19:45:42            2017-11-27 23:08:56   \n...                         ...                            ...   \n93353       2017-06-08 21:00:36            2017-07-06 09:22:00   \n93354       2017-12-10 20:07:56            2018-01-09 22:28:20   \n93355       2017-02-07 15:49:16            2017-02-22 12:45:04   \n93356       2018-05-02 15:17:41            2018-05-14 11:54:26   \n93357       2017-05-02 20:18:45            2017-05-10 09:33:48   \n\n      product_category_name_english existing_review        m  f  \\\n0                             House            True   141.90  1   \n1                     Health_Beauty           False    27.19  1   \n2                             Other           False    86.22  1   \n3                      Technologies            True    43.62  1   \n4                      Technologies           False   196.89  1   \n...                             ...             ...      ... ..   \n93353                 Health_Beauty           False  2067.42  1   \n93354                          Kids           False    84.58  1   \n93355                          Auto           False   112.46  1   \n93356                         Other            True   133.69  1   \n93357                 Health_Beauty           False    71.56  1   \n\n                date_time (Today)  R (Récence) delta_purchase_delivery  \n0      2022-11-16 12:24:09.861234         1651                     6.0  \n1      2022-11-16 12:24:09.861234         1654                     3.0  \n2      2022-11-16 12:24:09.861234         2076                    25.0  \n3      2022-11-16 12:24:09.861234         1860                    20.0  \n4      2022-11-16 12:24:09.861234         1827                    13.0  \n...                           ...          ...                     ...  \n93353  2022-11-16 12:24:09.861234         1986                    27.0  \n93354  2022-11-16 12:24:09.861234         1801                    30.0  \n93355  2022-11-16 12:24:09.861234         2107                    14.0  \n93356  2022-11-16 12:24:09.861234         1658                    11.0  \n93357  2022-11-16 12:24:09.861234         2023                     7.0  \n\n[93358 rows x 22 columns]",
      "text/html": "<div>\n<style scoped>\n    .dataframe tbody tr th:only-of-type {\n        vertical-align: middle;\n    }\n\n    .dataframe tbody tr th {\n        vertical-align: top;\n    }\n\n    .dataframe thead th {\n        text-align: right;\n    }\n</style>\n<table border=\"1\" class=\"dataframe\">\n  <thead>\n    <tr style=\"text-align: right;\">\n      <th></th>\n      <th>customer_unique_id</th>\n      <th>order_id</th>\n      <th>item_number</th>\n      <th>total_price_cmd</th>\n      <th>total_freight_cmd</th>\n      <th>review_score</th>\n      <th>haversine_distance</th>\n      <th>moy_photos_qty</th>\n      <th>number_of_sequential_payments</th>\n      <th>sum_of_installments_payments</th>\n      <th>...</th>\n      <th>order_purchase_periodDay</th>\n      <th>order_purchase_timestamp</th>\n      <th>order_delivered_customer_date</th>\n      <th>product_category_name_english</th>\n      <th>existing_review</th>\n      <th>m</th>\n      <th>f</th>\n      <th>date_time (Today)</th>\n      <th>R (Récence)</th>\n      <th>delta_purchase_delivery</th>\n    </tr>\n  </thead>\n  <tbody>\n    <tr>\n      <th>0</th>\n      <td>0000366f3b9a7992bf8c76cfdf3221e2</td>\n      <td>1</td>\n      <td>1.0</td>\n      <td>129.90</td>\n      <td>12.00</td>\n      <td>5.0</td>\n      <td>68.656337</td>\n      <td>1.0</td>\n      <td>1.0</td>\n      <td>8.0</td>\n      <td>...</td>\n      <td>1</td>\n      <td>2018-05-10 10:56:27</td>\n      <td>2018-05-16 20:48:37</td>\n      <td>House</td>\n      <td>True</td>\n      <td>141.90</td>\n      <td>1</td>\n      <td>2022-11-16 12:24:09.861234</td>\n      <td>1651</td>\n      <td>6.0</td>\n    </tr>\n    <tr>\n      <th>1</th>\n      <td>0000b849f77a49e4a4ce2b2a4ca5be3f</td>\n      <td>1</td>\n      <td>1.0</td>\n      <td>18.90</td>\n      <td>8.29</td>\n      <td>4.0</td>\n      <td>13.765174</td>\n      <td>1.0</td>\n      <td>1.0</td>\n      <td>1.0</td>\n      <td>...</td>\n      <td>1</td>\n      <td>2018-05-07 11:11:27</td>\n      <td>2018-05-10 18:02:42</td>\n      <td>Health_Beauty</td>\n      <td>False</td>\n      <td>27.19</td>\n      <td>1</td>\n      <td>2022-11-16 12:24:09.861234</td>\n      <td>1654</td>\n      <td>3.0</td>\n    </tr>\n    <tr>\n      <th>2</th>\n      <td>0000f46a3911fa3c0805444483337064</td>\n      <td>1</td>\n      <td>1.0</td>\n      <td>69.00</td>\n      <td>17.22</td>\n      <td>3.0</td>\n      <td>320.987292</td>\n      <td>3.0</td>\n      <td>1.0</td>\n      <td>8.0</td>\n      <td>...</td>\n      <td>3</td>\n      <td>2017-03-10 21:05:03</td>\n      <td>2017-04-05 14:38:47</td>\n      <td>Other</td>\n      <td>False</td>\n      <td>86.22</td>\n      <td>1</td>\n      <td>2022-11-16 12:24:09.861234</td>\n      <td>2076</td>\n      <td>25.0</td>\n    </tr>\n    <tr>\n      <th>3</th>\n      <td>0000f6ccb0745a6a4b88665a16c9f078</td>\n      <td>1</td>\n      <td>1.0</td>\n      <td>25.99</td>\n      <td>17.63</td>\n      <td>4.0</td>\n      <td>1540.727062</td>\n      <td>5.0</td>\n      <td>1.0</td>\n      <td>4.0</td>\n      <td>...</td>\n      <td>3</td>\n      <td>2017-10-12 20:29:41</td>\n      <td>2017-11-01 21:23:05</td>\n      <td>Technologies</td>\n      <td>True</td>\n      <td>43.62</td>\n      <td>1</td>\n      <td>2022-11-16 12:24:09.861234</td>\n      <td>1860</td>\n      <td>20.0</td>\n    </tr>\n    <tr>\n      <th>4</th>\n      <td>0004aac84e0df4da2b147fca70cf8255</td>\n      <td>1</td>\n      <td>1.0</td>\n      <td>180.00</td>\n      <td>16.89</td>\n      <td>5.0</td>\n      <td>95.939915</td>\n      <td>3.0</td>\n      <td>1.0</td>\n      <td>6.0</td>\n      <td>...</td>\n      <td>3</td>\n      <td>2017-11-14 19:45:42</td>\n      <td>2017-11-27 23:08:56</td>\n      <td>Technologies</td>\n      <td>False</td>\n      <td>196.89</td>\n      <td>1</td>\n      <td>2022-11-16 12:24:09.861234</td>\n      <td>1827</td>\n      <td>13.0</td>\n    </tr>\n    <tr>\n      <th>...</th>\n      <td>...</td>\n      <td>...</td>\n      <td>...</td>\n      <td>...</td>\n      <td>...</td>\n      <td>...</td>\n      <td>...</td>\n      <td>...</td>\n      <td>...</td>\n      <td>...</td>\n      <td>...</td>\n      <td>...</td>\n      <td>...</td>\n      <td>...</td>\n      <td>...</td>\n      <td>...</td>\n      <td>...</td>\n      <td>...</td>\n      <td>...</td>\n      <td>...</td>\n      <td>...</td>\n    </tr>\n    <tr>\n      <th>93353</th>\n      <td>fffcf5a5ff07b0908bd4e2dbc735a684</td>\n      <td>1</td>\n      <td>2.0</td>\n      <td>1570.00</td>\n      <td>497.42</td>\n      <td>5.0</td>\n      <td>1239.685635</td>\n      <td>1.0</td>\n      <td>1.0</td>\n      <td>10.0</td>\n      <td>...</td>\n      <td>3</td>\n      <td>2017-06-08 21:00:36</td>\n      <td>2017-07-06 09:22:00</td>\n      <td>Health_Beauty</td>\n      <td>False</td>\n      <td>2067.42</td>\n      <td>1</td>\n      <td>2022-11-16 12:24:09.861234</td>\n      <td>1986</td>\n      <td>27.0</td>\n    </tr>\n    <tr>\n      <th>93354</th>\n      <td>fffea47cd6d3cc0a88bd621562a9d061</td>\n      <td>1</td>\n      <td>1.0</td>\n      <td>64.89</td>\n      <td>19.69</td>\n      <td>4.0</td>\n      <td>948.298541</td>\n      <td>2.0</td>\n      <td>1.0</td>\n      <td>1.0</td>\n      <td>...</td>\n      <td>3</td>\n      <td>2017-12-10 20:07:56</td>\n      <td>2018-01-09 22:28:20</td>\n      <td>Kids</td>\n      <td>False</td>\n      <td>84.58</td>\n      <td>1</td>\n      <td>2022-11-16 12:24:09.861234</td>\n      <td>1801</td>\n      <td>30.0</td>\n    </tr>\n    <tr>\n      <th>93355</th>\n      <td>ffff371b4d645b6ecea244b27531430a</td>\n      <td>1</td>\n      <td>1.0</td>\n      <td>89.90</td>\n      <td>22.56</td>\n      <td>5.0</td>\n      <td>947.624481</td>\n      <td>5.0</td>\n      <td>1.0</td>\n      <td>1.0</td>\n      <td>...</td>\n      <td>2</td>\n      <td>2017-02-07 15:49:16</td>\n      <td>2017-02-22 12:45:04</td>\n      <td>Auto</td>\n      <td>False</td>\n      <td>112.46</td>\n      <td>1</td>\n      <td>2022-11-16 12:24:09.861234</td>\n      <td>2107</td>\n      <td>14.0</td>\n    </tr>\n    <tr>\n      <th>93356</th>\n      <td>ffff5962728ec6157033ef9805bacc48</td>\n      <td>1</td>\n      <td>1.0</td>\n      <td>115.00</td>\n      <td>18.69</td>\n      <td>5.0</td>\n      <td>396.071172</td>\n      <td>3.0</td>\n      <td>1.0</td>\n      <td>5.0</td>\n      <td>...</td>\n      <td>2</td>\n      <td>2018-05-02 15:17:41</td>\n      <td>2018-05-14 11:54:26</td>\n      <td>Other</td>\n      <td>True</td>\n      <td>133.69</td>\n      <td>1</td>\n      <td>2022-11-16 12:24:09.861234</td>\n      <td>1658</td>\n      <td>11.0</td>\n    </tr>\n    <tr>\n      <th>93357</th>\n      <td>ffffd2657e2aad2907e67c3e9daecbeb</td>\n      <td>1</td>\n      <td>1.0</td>\n      <td>56.99</td>\n      <td>14.57</td>\n      <td>5.0</td>\n      <td>220.957443</td>\n      <td>2.0</td>\n      <td>1.0</td>\n      <td>4.0</td>\n      <td>...</td>\n      <td>3</td>\n      <td>2017-05-02 20:18:45</td>\n      <td>2017-05-10 09:33:48</td>\n      <td>Health_Beauty</td>\n      <td>False</td>\n      <td>71.56</td>\n      <td>1</td>\n      <td>2022-11-16 12:24:09.861234</td>\n      <td>2023</td>\n      <td>7.0</td>\n    </tr>\n  </tbody>\n</table>\n<p>93358 rows × 22 columns</p>\n</div>"
     },
     "execution_count": 2,
     "metadata": {},
     "output_type": "execute_result"
    }
   ],
   "source": [
    "df1 = pd.read_csv(\"Olist_1.csv\")\n",
    "df1"
   ],
   "metadata": {
    "collapsed": false,
    "pycharm": {
     "name": "#%%\n"
    }
   }
  },
  {
   "cell_type": "code",
   "execution_count": 3,
   "outputs": [
    {
     "data": {
      "text/plain": "dtype('O')"
     },
     "execution_count": 3,
     "metadata": {},
     "output_type": "execute_result"
    }
   ],
   "source": [
    "df1['order_purchase_timestamp'].dtype"
   ],
   "metadata": {
    "collapsed": false,
    "pycharm": {
     "name": "#%%\n"
    }
   }
  },
  {
   "cell_type": "code",
   "execution_count": 4,
   "outputs": [],
   "source": [
    "df1['order_purchase_timestamp'] = pd.to_datetime(df1['order_purchase_timestamp'], format = '%Y-%m-%d %H:%M:%S')"
   ],
   "metadata": {
    "collapsed": false,
    "pycharm": {
     "name": "#%%\n"
    }
   }
  },
  {
   "cell_type": "code",
   "execution_count": 5,
   "outputs": [
    {
     "data": {
      "text/plain": "(Timestamp('2016-09-15 12:16:38'), Timestamp('2018-08-29 15:00:37'))"
     },
     "execution_count": 5,
     "metadata": {},
     "output_type": "execute_result"
    }
   ],
   "source": [
    "df1['order_purchase_timestamp'].min(), df1['order_purchase_timestamp'].max()"
   ],
   "metadata": {
    "collapsed": false,
    "pycharm": {
     "name": "#%%\n"
    }
   }
  },
  {
   "cell_type": "code",
   "execution_count": 6,
   "outputs": [
    {
     "name": "stdout",
     "output_type": "stream",
     "text": [
      "La période entière des commandes porte sur 23 mois.\n"
     ]
    }
   ],
   "source": [
    "order_purchase_time_delta = int((df1['order_purchase_timestamp'].max() - df1['order_purchase_timestamp'].min())/np.timedelta64(1,'M'))\n",
    "print(\"La période entière des commandes porte sur {} mois.\".format(order_purchase_time_delta))"
   ],
   "metadata": {
    "collapsed": false,
    "pycharm": {
     "name": "#%%\n"
    }
   }
  },
  {
   "cell_type": "code",
   "execution_count": 7,
   "outputs": [],
   "source": [
    "df2 = df1.copy()"
   ],
   "metadata": {
    "collapsed": false,
    "pycharm": {
     "name": "#%%\n"
    }
   }
  },
  {
   "cell_type": "code",
   "execution_count": 8,
   "outputs": [
    {
     "data": {
      "text/plain": "                     customer_unique_id  order_id  item_number  \\\n0      0000366f3b9a7992bf8c76cfdf3221e2         1          1.0   \n1      0000b849f77a49e4a4ce2b2a4ca5be3f         1          1.0   \n3      0000f6ccb0745a6a4b88665a16c9f078         1          1.0   \n4      0004aac84e0df4da2b147fca70cf8255         1          1.0   \n5      0004bd2a26a76fe21f786e4fbd80607f         1          1.0   \n...                                 ...       ...          ...   \n93350  fffa431dd3fcdefea4b1777d114144f2         1          1.0   \n93351  fffb09418989a0dbff854a28163e47c6         1          1.0   \n93352  fffbf87b7a1a6fa8b03f081c5f51a201         1          1.0   \n93354  fffea47cd6d3cc0a88bd621562a9d061         1          1.0   \n93356  ffff5962728ec6157033ef9805bacc48         1          1.0   \n\n       total_price_cmd  total_freight_cmd  review_score  haversine_distance  \\\n0               129.90              12.00           5.0           68.656337   \n1                18.90               8.29           4.0           13.765174   \n3                25.99              17.63           4.0         1540.727062   \n4               180.00              16.89           5.0           95.939915   \n5               154.00              12.98           4.0           16.883243   \n...                ...                ...           ...                 ...   \n93350            64.99              16.21           5.0          277.664919   \n93351            58.00              15.16           5.0          226.121396   \n93352           149.00              18.32           5.0         1470.523989   \n93354            64.89              19.69           4.0          948.298541   \n93356           115.00              18.69           5.0          396.071172   \n\n       moy_photos_qty  number_of_sequential_payments  \\\n0            1.000000                            1.0   \n1            1.000000                            1.0   \n3            5.000000                            1.0   \n4            3.000000                            1.0   \n5            3.000000                            1.0   \n...               ...                            ...   \n93350        2.000000                            1.0   \n93351        1.000000                            1.0   \n93352        2.256378                            1.0   \n93354        2.000000                            1.0   \n93356        3.000000                            1.0   \n\n       sum_of_installments_payments  ...  order_purchase_periodDay  \\\n0                               8.0  ...                         1   \n1                               1.0  ...                         1   \n3                               4.0  ...                         3   \n4                               6.0  ...                         3   \n5                               8.0  ...                         3   \n...                             ...  ...                       ...   \n93350                           1.0  ...                         3   \n93351                           1.0  ...                         3   \n93352                           2.0  ...                         0   \n93354                           1.0  ...                         3   \n93356                           5.0  ...                         2   \n\n       order_purchase_timestamp  order_delivered_customer_date  \\\n0           2018-05-10 10:56:27            2018-05-16 20:48:37   \n1           2018-05-07 11:11:27            2018-05-10 18:02:42   \n3           2017-10-12 20:29:41            2017-11-01 21:23:05   \n4           2017-11-14 19:45:42            2017-11-27 23:08:56   \n5           2018-04-05 19:33:16            2018-04-07 16:12:43   \n...                         ...                            ...   \n93350       2017-10-30 20:39:50            2017-11-10 16:19:39   \n93351       2017-12-17 19:14:35            2017-12-26 17:07:14   \n93352       2017-12-27 22:36:41            2018-01-15 19:39:13   \n93354       2017-12-10 20:07:56            2018-01-09 22:28:20   \n93356       2018-05-02 15:17:41            2018-05-14 11:54:26   \n\n      product_category_name_english existing_review       m  f  \\\n0                             House            True  141.90  1   \n1                     Health_Beauty           False   27.19  1   \n3                      Technologies            True   43.62  1   \n4                      Technologies           False  196.89  1   \n5                             House           False  166.98  1   \n...                             ...             ...     ... ..   \n93350                         Other           False   81.20  1   \n93351                         Other           False   73.16  1   \n93352                       Unknown           False  167.32  1   \n93354                          Kids           False   84.58  1   \n93356                         Other            True  133.69  1   \n\n                date_time (Today)  R (Récence) delta_purchase_delivery  \n0      2022-11-16 12:24:09.861234         1651                     6.0  \n1      2022-11-16 12:24:09.861234         1654                     3.0  \n3      2022-11-16 12:24:09.861234         1860                    20.0  \n4      2022-11-16 12:24:09.861234         1827                    13.0  \n5      2022-11-16 12:24:09.861234         1685                     1.0  \n...                           ...          ...                     ...  \n93350  2022-11-16 12:24:09.861234         1842                    10.0  \n93351  2022-11-16 12:24:09.861234         1794                     8.0  \n93352  2022-11-16 12:24:09.861234         1784                    18.0  \n93354  2022-11-16 12:24:09.861234         1801                    30.0  \n93356  2022-11-16 12:24:09.861234         1658                    11.0  \n\n[72678 rows x 22 columns]",
      "text/html": "<div>\n<style scoped>\n    .dataframe tbody tr th:only-of-type {\n        vertical-align: middle;\n    }\n\n    .dataframe tbody tr th {\n        vertical-align: top;\n    }\n\n    .dataframe thead th {\n        text-align: right;\n    }\n</style>\n<table border=\"1\" class=\"dataframe\">\n  <thead>\n    <tr style=\"text-align: right;\">\n      <th></th>\n      <th>customer_unique_id</th>\n      <th>order_id</th>\n      <th>item_number</th>\n      <th>total_price_cmd</th>\n      <th>total_freight_cmd</th>\n      <th>review_score</th>\n      <th>haversine_distance</th>\n      <th>moy_photos_qty</th>\n      <th>number_of_sequential_payments</th>\n      <th>sum_of_installments_payments</th>\n      <th>...</th>\n      <th>order_purchase_periodDay</th>\n      <th>order_purchase_timestamp</th>\n      <th>order_delivered_customer_date</th>\n      <th>product_category_name_english</th>\n      <th>existing_review</th>\n      <th>m</th>\n      <th>f</th>\n      <th>date_time (Today)</th>\n      <th>R (Récence)</th>\n      <th>delta_purchase_delivery</th>\n    </tr>\n  </thead>\n  <tbody>\n    <tr>\n      <th>0</th>\n      <td>0000366f3b9a7992bf8c76cfdf3221e2</td>\n      <td>1</td>\n      <td>1.0</td>\n      <td>129.90</td>\n      <td>12.00</td>\n      <td>5.0</td>\n      <td>68.656337</td>\n      <td>1.000000</td>\n      <td>1.0</td>\n      <td>8.0</td>\n      <td>...</td>\n      <td>1</td>\n      <td>2018-05-10 10:56:27</td>\n      <td>2018-05-16 20:48:37</td>\n      <td>House</td>\n      <td>True</td>\n      <td>141.90</td>\n      <td>1</td>\n      <td>2022-11-16 12:24:09.861234</td>\n      <td>1651</td>\n      <td>6.0</td>\n    </tr>\n    <tr>\n      <th>1</th>\n      <td>0000b849f77a49e4a4ce2b2a4ca5be3f</td>\n      <td>1</td>\n      <td>1.0</td>\n      <td>18.90</td>\n      <td>8.29</td>\n      <td>4.0</td>\n      <td>13.765174</td>\n      <td>1.000000</td>\n      <td>1.0</td>\n      <td>1.0</td>\n      <td>...</td>\n      <td>1</td>\n      <td>2018-05-07 11:11:27</td>\n      <td>2018-05-10 18:02:42</td>\n      <td>Health_Beauty</td>\n      <td>False</td>\n      <td>27.19</td>\n      <td>1</td>\n      <td>2022-11-16 12:24:09.861234</td>\n      <td>1654</td>\n      <td>3.0</td>\n    </tr>\n    <tr>\n      <th>3</th>\n      <td>0000f6ccb0745a6a4b88665a16c9f078</td>\n      <td>1</td>\n      <td>1.0</td>\n      <td>25.99</td>\n      <td>17.63</td>\n      <td>4.0</td>\n      <td>1540.727062</td>\n      <td>5.000000</td>\n      <td>1.0</td>\n      <td>4.0</td>\n      <td>...</td>\n      <td>3</td>\n      <td>2017-10-12 20:29:41</td>\n      <td>2017-11-01 21:23:05</td>\n      <td>Technologies</td>\n      <td>True</td>\n      <td>43.62</td>\n      <td>1</td>\n      <td>2022-11-16 12:24:09.861234</td>\n      <td>1860</td>\n      <td>20.0</td>\n    </tr>\n    <tr>\n      <th>4</th>\n      <td>0004aac84e0df4da2b147fca70cf8255</td>\n      <td>1</td>\n      <td>1.0</td>\n      <td>180.00</td>\n      <td>16.89</td>\n      <td>5.0</td>\n      <td>95.939915</td>\n      <td>3.000000</td>\n      <td>1.0</td>\n      <td>6.0</td>\n      <td>...</td>\n      <td>3</td>\n      <td>2017-11-14 19:45:42</td>\n      <td>2017-11-27 23:08:56</td>\n      <td>Technologies</td>\n      <td>False</td>\n      <td>196.89</td>\n      <td>1</td>\n      <td>2022-11-16 12:24:09.861234</td>\n      <td>1827</td>\n      <td>13.0</td>\n    </tr>\n    <tr>\n      <th>5</th>\n      <td>0004bd2a26a76fe21f786e4fbd80607f</td>\n      <td>1</td>\n      <td>1.0</td>\n      <td>154.00</td>\n      <td>12.98</td>\n      <td>4.0</td>\n      <td>16.883243</td>\n      <td>3.000000</td>\n      <td>1.0</td>\n      <td>8.0</td>\n      <td>...</td>\n      <td>3</td>\n      <td>2018-04-05 19:33:16</td>\n      <td>2018-04-07 16:12:43</td>\n      <td>House</td>\n      <td>False</td>\n      <td>166.98</td>\n      <td>1</td>\n      <td>2022-11-16 12:24:09.861234</td>\n      <td>1685</td>\n      <td>1.0</td>\n    </tr>\n    <tr>\n      <th>...</th>\n      <td>...</td>\n      <td>...</td>\n      <td>...</td>\n      <td>...</td>\n      <td>...</td>\n      <td>...</td>\n      <td>...</td>\n      <td>...</td>\n      <td>...</td>\n      <td>...</td>\n      <td>...</td>\n      <td>...</td>\n      <td>...</td>\n      <td>...</td>\n      <td>...</td>\n      <td>...</td>\n      <td>...</td>\n      <td>...</td>\n      <td>...</td>\n      <td>...</td>\n      <td>...</td>\n    </tr>\n    <tr>\n      <th>93350</th>\n      <td>fffa431dd3fcdefea4b1777d114144f2</td>\n      <td>1</td>\n      <td>1.0</td>\n      <td>64.99</td>\n      <td>16.21</td>\n      <td>5.0</td>\n      <td>277.664919</td>\n      <td>2.000000</td>\n      <td>1.0</td>\n      <td>1.0</td>\n      <td>...</td>\n      <td>3</td>\n      <td>2017-10-30 20:39:50</td>\n      <td>2017-11-10 16:19:39</td>\n      <td>Other</td>\n      <td>False</td>\n      <td>81.20</td>\n      <td>1</td>\n      <td>2022-11-16 12:24:09.861234</td>\n      <td>1842</td>\n      <td>10.0</td>\n    </tr>\n    <tr>\n      <th>93351</th>\n      <td>fffb09418989a0dbff854a28163e47c6</td>\n      <td>1</td>\n      <td>1.0</td>\n      <td>58.00</td>\n      <td>15.16</td>\n      <td>5.0</td>\n      <td>226.121396</td>\n      <td>1.000000</td>\n      <td>1.0</td>\n      <td>1.0</td>\n      <td>...</td>\n      <td>3</td>\n      <td>2017-12-17 19:14:35</td>\n      <td>2017-12-26 17:07:14</td>\n      <td>Other</td>\n      <td>False</td>\n      <td>73.16</td>\n      <td>1</td>\n      <td>2022-11-16 12:24:09.861234</td>\n      <td>1794</td>\n      <td>8.0</td>\n    </tr>\n    <tr>\n      <th>93352</th>\n      <td>fffbf87b7a1a6fa8b03f081c5f51a201</td>\n      <td>1</td>\n      <td>1.0</td>\n      <td>149.00</td>\n      <td>18.32</td>\n      <td>5.0</td>\n      <td>1470.523989</td>\n      <td>2.256378</td>\n      <td>1.0</td>\n      <td>2.0</td>\n      <td>...</td>\n      <td>0</td>\n      <td>2017-12-27 22:36:41</td>\n      <td>2018-01-15 19:39:13</td>\n      <td>Unknown</td>\n      <td>False</td>\n      <td>167.32</td>\n      <td>1</td>\n      <td>2022-11-16 12:24:09.861234</td>\n      <td>1784</td>\n      <td>18.0</td>\n    </tr>\n    <tr>\n      <th>93354</th>\n      <td>fffea47cd6d3cc0a88bd621562a9d061</td>\n      <td>1</td>\n      <td>1.0</td>\n      <td>64.89</td>\n      <td>19.69</td>\n      <td>4.0</td>\n      <td>948.298541</td>\n      <td>2.000000</td>\n      <td>1.0</td>\n      <td>1.0</td>\n      <td>...</td>\n      <td>3</td>\n      <td>2017-12-10 20:07:56</td>\n      <td>2018-01-09 22:28:20</td>\n      <td>Kids</td>\n      <td>False</td>\n      <td>84.58</td>\n      <td>1</td>\n      <td>2022-11-16 12:24:09.861234</td>\n      <td>1801</td>\n      <td>30.0</td>\n    </tr>\n    <tr>\n      <th>93356</th>\n      <td>ffff5962728ec6157033ef9805bacc48</td>\n      <td>1</td>\n      <td>1.0</td>\n      <td>115.00</td>\n      <td>18.69</td>\n      <td>5.0</td>\n      <td>396.071172</td>\n      <td>3.000000</td>\n      <td>1.0</td>\n      <td>5.0</td>\n      <td>...</td>\n      <td>2</td>\n      <td>2018-05-02 15:17:41</td>\n      <td>2018-05-14 11:54:26</td>\n      <td>Other</td>\n      <td>True</td>\n      <td>133.69</td>\n      <td>1</td>\n      <td>2022-11-16 12:24:09.861234</td>\n      <td>1658</td>\n      <td>11.0</td>\n    </tr>\n  </tbody>\n</table>\n<p>72678 rows × 22 columns</p>\n</div>"
     },
     "execution_count": 8,
     "metadata": {},
     "output_type": "execute_result"
    }
   ],
   "source": [
    "df2 = df2[df2['order_purchase_timestamp'] >= '2017-08-29 00:00:00']\n",
    "df2"
   ],
   "metadata": {
    "collapsed": false,
    "pycharm": {
     "name": "#%%\n"
    }
   }
  },
  {
   "cell_type": "code",
   "execution_count": 9,
   "outputs": [
    {
     "data": {
      "text/plain": "                     customer_unique_id order_purchase_timestamp  R (Récence)  \\\n0      0000366f3b9a7992bf8c76cfdf3221e2      2018-05-10 10:56:27         1651   \n1      0000b849f77a49e4a4ce2b2a4ca5be3f      2018-05-07 11:11:27         1654   \n3      0000f6ccb0745a6a4b88665a16c9f078      2017-10-12 20:29:41         1860   \n4      0004aac84e0df4da2b147fca70cf8255      2017-11-14 19:45:42         1827   \n5      0004bd2a26a76fe21f786e4fbd80607f      2018-04-05 19:33:16         1685   \n...                                 ...                      ...          ...   \n93350  fffa431dd3fcdefea4b1777d114144f2      2017-10-30 20:39:50         1842   \n93351  fffb09418989a0dbff854a28163e47c6      2017-12-17 19:14:35         1794   \n93352  fffbf87b7a1a6fa8b03f081c5f51a201      2017-12-27 22:36:41         1784   \n93354  fffea47cd6d3cc0a88bd621562a9d061      2017-12-10 20:07:56         1801   \n93356  ffff5962728ec6157033ef9805bacc48      2018-05-02 15:17:41         1658   \n\n       f       m  delta_purchase_delivery  review_score  haversine_distance  \n0      1  141.90                      6.0           5.0           68.656337  \n1      1   27.19                      3.0           4.0           13.765174  \n3      1   43.62                     20.0           4.0         1540.727062  \n4      1  196.89                     13.0           5.0           95.939915  \n5      1  166.98                      1.0           4.0           16.883243  \n...   ..     ...                      ...           ...                 ...  \n93350  1   81.20                     10.0           5.0          277.664919  \n93351  1   73.16                      8.0           5.0          226.121396  \n93352  1  167.32                     18.0           5.0         1470.523989  \n93354  1   84.58                     30.0           4.0          948.298541  \n93356  1  133.69                     11.0           5.0          396.071172  \n\n[72678 rows x 8 columns]",
      "text/html": "<div>\n<style scoped>\n    .dataframe tbody tr th:only-of-type {\n        vertical-align: middle;\n    }\n\n    .dataframe tbody tr th {\n        vertical-align: top;\n    }\n\n    .dataframe thead th {\n        text-align: right;\n    }\n</style>\n<table border=\"1\" class=\"dataframe\">\n  <thead>\n    <tr style=\"text-align: right;\">\n      <th></th>\n      <th>customer_unique_id</th>\n      <th>order_purchase_timestamp</th>\n      <th>R (Récence)</th>\n      <th>f</th>\n      <th>m</th>\n      <th>delta_purchase_delivery</th>\n      <th>review_score</th>\n      <th>haversine_distance</th>\n    </tr>\n  </thead>\n  <tbody>\n    <tr>\n      <th>0</th>\n      <td>0000366f3b9a7992bf8c76cfdf3221e2</td>\n      <td>2018-05-10 10:56:27</td>\n      <td>1651</td>\n      <td>1</td>\n      <td>141.90</td>\n      <td>6.0</td>\n      <td>5.0</td>\n      <td>68.656337</td>\n    </tr>\n    <tr>\n      <th>1</th>\n      <td>0000b849f77a49e4a4ce2b2a4ca5be3f</td>\n      <td>2018-05-07 11:11:27</td>\n      <td>1654</td>\n      <td>1</td>\n      <td>27.19</td>\n      <td>3.0</td>\n      <td>4.0</td>\n      <td>13.765174</td>\n    </tr>\n    <tr>\n      <th>3</th>\n      <td>0000f6ccb0745a6a4b88665a16c9f078</td>\n      <td>2017-10-12 20:29:41</td>\n      <td>1860</td>\n      <td>1</td>\n      <td>43.62</td>\n      <td>20.0</td>\n      <td>4.0</td>\n      <td>1540.727062</td>\n    </tr>\n    <tr>\n      <th>4</th>\n      <td>0004aac84e0df4da2b147fca70cf8255</td>\n      <td>2017-11-14 19:45:42</td>\n      <td>1827</td>\n      <td>1</td>\n      <td>196.89</td>\n      <td>13.0</td>\n      <td>5.0</td>\n      <td>95.939915</td>\n    </tr>\n    <tr>\n      <th>5</th>\n      <td>0004bd2a26a76fe21f786e4fbd80607f</td>\n      <td>2018-04-05 19:33:16</td>\n      <td>1685</td>\n      <td>1</td>\n      <td>166.98</td>\n      <td>1.0</td>\n      <td>4.0</td>\n      <td>16.883243</td>\n    </tr>\n    <tr>\n      <th>...</th>\n      <td>...</td>\n      <td>...</td>\n      <td>...</td>\n      <td>...</td>\n      <td>...</td>\n      <td>...</td>\n      <td>...</td>\n      <td>...</td>\n    </tr>\n    <tr>\n      <th>93350</th>\n      <td>fffa431dd3fcdefea4b1777d114144f2</td>\n      <td>2017-10-30 20:39:50</td>\n      <td>1842</td>\n      <td>1</td>\n      <td>81.20</td>\n      <td>10.0</td>\n      <td>5.0</td>\n      <td>277.664919</td>\n    </tr>\n    <tr>\n      <th>93351</th>\n      <td>fffb09418989a0dbff854a28163e47c6</td>\n      <td>2017-12-17 19:14:35</td>\n      <td>1794</td>\n      <td>1</td>\n      <td>73.16</td>\n      <td>8.0</td>\n      <td>5.0</td>\n      <td>226.121396</td>\n    </tr>\n    <tr>\n      <th>93352</th>\n      <td>fffbf87b7a1a6fa8b03f081c5f51a201</td>\n      <td>2017-12-27 22:36:41</td>\n      <td>1784</td>\n      <td>1</td>\n      <td>167.32</td>\n      <td>18.0</td>\n      <td>5.0</td>\n      <td>1470.523989</td>\n    </tr>\n    <tr>\n      <th>93354</th>\n      <td>fffea47cd6d3cc0a88bd621562a9d061</td>\n      <td>2017-12-10 20:07:56</td>\n      <td>1801</td>\n      <td>1</td>\n      <td>84.58</td>\n      <td>30.0</td>\n      <td>4.0</td>\n      <td>948.298541</td>\n    </tr>\n    <tr>\n      <th>93356</th>\n      <td>ffff5962728ec6157033ef9805bacc48</td>\n      <td>2018-05-02 15:17:41</td>\n      <td>1658</td>\n      <td>1</td>\n      <td>133.69</td>\n      <td>11.0</td>\n      <td>5.0</td>\n      <td>396.071172</td>\n    </tr>\n  </tbody>\n</table>\n<p>72678 rows × 8 columns</p>\n</div>"
     },
     "execution_count": 9,
     "metadata": {},
     "output_type": "execute_result"
    }
   ],
   "source": [
    "df3 = df2[['customer_unique_id', 'order_purchase_timestamp', 'R (Récence)', 'f', 'm', 'delta_purchase_delivery', 'review_score', 'haversine_distance']]\n",
    "df3"
   ],
   "metadata": {
    "collapsed": false,
    "pycharm": {
     "name": "#%%\n"
    }
   }
  },
  {
   "cell_type": "code",
   "execution_count": 10,
   "outputs": [
    {
     "data": {
      "text/plain": "                     customer_unique_id order_purchase_timestamp  R (Récence)  \\\n13433  24ac2b4327e25baf39f2119e4228976a      2018-08-29 15:00:37         1539   \n66821  b701bebbdf478f5500348f03aff62121      2018-08-29 14:52:00         1539   \n46739  7febafa06d9d8f232a900a2937f04338      2018-08-29 14:18:28         1539   \n33812  5c58de6fb80e93396e2f35642666b693      2018-08-29 14:18:23         1539   \n44590  7a22d14aa3c3599238509ddca4b93b01      2018-08-29 12:25:59         1539   \n...                                 ...                      ...          ...   \n61734  a915c8d4e27f573bb89c9bac9064290d      2017-08-29 02:04:08         1905   \n23633  40afc4aac9be0b1ce4b1f520480edeea      2017-08-29 00:45:28         1905   \n57924  9eb1e6e4ad8e8e4a87dc87fda7e002a4      2017-08-29 00:12:32         1905   \n5600   0f4a442b7983c8a1a7fe12f1c4690436      2017-08-29 00:03:09         1905   \n27661  4bc1e2793d19b3a627ed677976caf8a6      2017-08-29 00:01:27         1905   \n\n       f       m  delta_purchase_delivery  review_score  haversine_distance  \n13433  1   93.75                      1.0           5.0           87.870776  \n66821  1   33.23                      1.0           3.0            6.412264  \n46739  1   61.29                      1.0           5.0          267.210602  \n33812  1  510.96                      1.0           5.0            6.037134  \n44590  1   73.10                      1.0           1.0           12.152183  \n...   ..     ...                      ...           ...                 ...  \n61734  1   31.38                     14.0           4.0          325.286519  \n23633  1  158.79                      3.0           4.0           34.501864  \n57924  1   80.73                      8.0           5.0           18.359009  \n5600   1  223.78                     21.0           2.0          227.035983  \n27661  1  124.51                     21.0           5.0          326.451031  \n\n[72678 rows x 8 columns]",
      "text/html": "<div>\n<style scoped>\n    .dataframe tbody tr th:only-of-type {\n        vertical-align: middle;\n    }\n\n    .dataframe tbody tr th {\n        vertical-align: top;\n    }\n\n    .dataframe thead th {\n        text-align: right;\n    }\n</style>\n<table border=\"1\" class=\"dataframe\">\n  <thead>\n    <tr style=\"text-align: right;\">\n      <th></th>\n      <th>customer_unique_id</th>\n      <th>order_purchase_timestamp</th>\n      <th>R (Récence)</th>\n      <th>f</th>\n      <th>m</th>\n      <th>delta_purchase_delivery</th>\n      <th>review_score</th>\n      <th>haversine_distance</th>\n    </tr>\n  </thead>\n  <tbody>\n    <tr>\n      <th>13433</th>\n      <td>24ac2b4327e25baf39f2119e4228976a</td>\n      <td>2018-08-29 15:00:37</td>\n      <td>1539</td>\n      <td>1</td>\n      <td>93.75</td>\n      <td>1.0</td>\n      <td>5.0</td>\n      <td>87.870776</td>\n    </tr>\n    <tr>\n      <th>66821</th>\n      <td>b701bebbdf478f5500348f03aff62121</td>\n      <td>2018-08-29 14:52:00</td>\n      <td>1539</td>\n      <td>1</td>\n      <td>33.23</td>\n      <td>1.0</td>\n      <td>3.0</td>\n      <td>6.412264</td>\n    </tr>\n    <tr>\n      <th>46739</th>\n      <td>7febafa06d9d8f232a900a2937f04338</td>\n      <td>2018-08-29 14:18:28</td>\n      <td>1539</td>\n      <td>1</td>\n      <td>61.29</td>\n      <td>1.0</td>\n      <td>5.0</td>\n      <td>267.210602</td>\n    </tr>\n    <tr>\n      <th>33812</th>\n      <td>5c58de6fb80e93396e2f35642666b693</td>\n      <td>2018-08-29 14:18:23</td>\n      <td>1539</td>\n      <td>1</td>\n      <td>510.96</td>\n      <td>1.0</td>\n      <td>5.0</td>\n      <td>6.037134</td>\n    </tr>\n    <tr>\n      <th>44590</th>\n      <td>7a22d14aa3c3599238509ddca4b93b01</td>\n      <td>2018-08-29 12:25:59</td>\n      <td>1539</td>\n      <td>1</td>\n      <td>73.10</td>\n      <td>1.0</td>\n      <td>1.0</td>\n      <td>12.152183</td>\n    </tr>\n    <tr>\n      <th>...</th>\n      <td>...</td>\n      <td>...</td>\n      <td>...</td>\n      <td>...</td>\n      <td>...</td>\n      <td>...</td>\n      <td>...</td>\n      <td>...</td>\n    </tr>\n    <tr>\n      <th>61734</th>\n      <td>a915c8d4e27f573bb89c9bac9064290d</td>\n      <td>2017-08-29 02:04:08</td>\n      <td>1905</td>\n      <td>1</td>\n      <td>31.38</td>\n      <td>14.0</td>\n      <td>4.0</td>\n      <td>325.286519</td>\n    </tr>\n    <tr>\n      <th>23633</th>\n      <td>40afc4aac9be0b1ce4b1f520480edeea</td>\n      <td>2017-08-29 00:45:28</td>\n      <td>1905</td>\n      <td>1</td>\n      <td>158.79</td>\n      <td>3.0</td>\n      <td>4.0</td>\n      <td>34.501864</td>\n    </tr>\n    <tr>\n      <th>57924</th>\n      <td>9eb1e6e4ad8e8e4a87dc87fda7e002a4</td>\n      <td>2017-08-29 00:12:32</td>\n      <td>1905</td>\n      <td>1</td>\n      <td>80.73</td>\n      <td>8.0</td>\n      <td>5.0</td>\n      <td>18.359009</td>\n    </tr>\n    <tr>\n      <th>5600</th>\n      <td>0f4a442b7983c8a1a7fe12f1c4690436</td>\n      <td>2017-08-29 00:03:09</td>\n      <td>1905</td>\n      <td>1</td>\n      <td>223.78</td>\n      <td>21.0</td>\n      <td>2.0</td>\n      <td>227.035983</td>\n    </tr>\n    <tr>\n      <th>27661</th>\n      <td>4bc1e2793d19b3a627ed677976caf8a6</td>\n      <td>2017-08-29 00:01:27</td>\n      <td>1905</td>\n      <td>1</td>\n      <td>124.51</td>\n      <td>21.0</td>\n      <td>5.0</td>\n      <td>326.451031</td>\n    </tr>\n  </tbody>\n</table>\n<p>72678 rows × 8 columns</p>\n</div>"
     },
     "execution_count": 10,
     "metadata": {},
     "output_type": "execute_result"
    }
   ],
   "source": [
    "df3.sort_values('order_purchase_timestamp', ascending=False, inplace=True)\n",
    "df3"
   ],
   "metadata": {
    "collapsed": false,
    "pycharm": {
     "name": "#%%\n"
    }
   }
  },
  {
   "cell_type": "code",
   "execution_count": 11,
   "outputs": [],
   "source": [
    "# Fonction qui permet la division du dataset en 2, à partir d'une date donnée, cela nous permettra de sélectionner le dataframe souhaité\n",
    "\n",
    "def data_split(df, date):\n",
    "    return df[df['order_purchase_timestamp'] <= date], df[df['order_purchase_timestamp'] >= date]"
   ],
   "metadata": {
    "collapsed": false,
    "pycharm": {
     "name": "#%%\n"
    }
   }
  },
  {
   "cell_type": "code",
   "execution_count": 12,
   "outputs": [],
   "source": [
    "# Fonction qui permet l'ajout des périodes à incrémenter\n",
    "\n",
    "def additional_period(pt, period_day, maximal_date):\n",
    "    add_p = pd.to_datetime(pt, format = '%Y-%m-%d %H:%M:%S') + pd.DateOffset(days = period_day)\n",
    "    if add_p <= maximal_date:\n",
    "        return add_p\n",
    "    else:\n",
    "        print('La date maximale est dépassé')"
   ],
   "metadata": {
    "collapsed": false,
    "pycharm": {
     "name": "#%%\n"
    }
   }
  },
  {
   "cell_type": "code",
   "execution_count": 13,
   "outputs": [],
   "source": [
    "date_fin = '2018-09-03'"
   ],
   "metadata": {
    "collapsed": false,
    "pycharm": {
     "name": "#%%\n"
    }
   }
  },
  {
   "cell_type": "code",
   "execution_count": 14,
   "outputs": [],
   "source": [
    "df_inf_00, df_sup_00 = data_split(df3, date_fin)"
   ],
   "metadata": {
    "collapsed": false,
    "pycharm": {
     "name": "#%%\n"
    }
   }
  },
  {
   "cell_type": "code",
   "execution_count": 15,
   "outputs": [
    {
     "data": {
      "text/plain": "                     customer_unique_id order_purchase_timestamp  R (Récence)  \\\n13433  24ac2b4327e25baf39f2119e4228976a      2018-08-29 15:00:37         1539   \n66821  b701bebbdf478f5500348f03aff62121      2018-08-29 14:52:00         1539   \n46739  7febafa06d9d8f232a900a2937f04338      2018-08-29 14:18:28         1539   \n33812  5c58de6fb80e93396e2f35642666b693      2018-08-29 14:18:23         1539   \n44590  7a22d14aa3c3599238509ddca4b93b01      2018-08-29 12:25:59         1539   \n...                                 ...                      ...          ...   \n61734  a915c8d4e27f573bb89c9bac9064290d      2017-08-29 02:04:08         1905   \n23633  40afc4aac9be0b1ce4b1f520480edeea      2017-08-29 00:45:28         1905   \n57924  9eb1e6e4ad8e8e4a87dc87fda7e002a4      2017-08-29 00:12:32         1905   \n5600   0f4a442b7983c8a1a7fe12f1c4690436      2017-08-29 00:03:09         1905   \n27661  4bc1e2793d19b3a627ed677976caf8a6      2017-08-29 00:01:27         1905   \n\n       f       m  delta_purchase_delivery  review_score  haversine_distance  \n13433  1   93.75                      1.0           5.0           87.870776  \n66821  1   33.23                      1.0           3.0            6.412264  \n46739  1   61.29                      1.0           5.0          267.210602  \n33812  1  510.96                      1.0           5.0            6.037134  \n44590  1   73.10                      1.0           1.0           12.152183  \n...   ..     ...                      ...           ...                 ...  \n61734  1   31.38                     14.0           4.0          325.286519  \n23633  1  158.79                      3.0           4.0           34.501864  \n57924  1   80.73                      8.0           5.0           18.359009  \n5600   1  223.78                     21.0           2.0          227.035983  \n27661  1  124.51                     21.0           5.0          326.451031  \n\n[72678 rows x 8 columns]",
      "text/html": "<div>\n<style scoped>\n    .dataframe tbody tr th:only-of-type {\n        vertical-align: middle;\n    }\n\n    .dataframe tbody tr th {\n        vertical-align: top;\n    }\n\n    .dataframe thead th {\n        text-align: right;\n    }\n</style>\n<table border=\"1\" class=\"dataframe\">\n  <thead>\n    <tr style=\"text-align: right;\">\n      <th></th>\n      <th>customer_unique_id</th>\n      <th>order_purchase_timestamp</th>\n      <th>R (Récence)</th>\n      <th>f</th>\n      <th>m</th>\n      <th>delta_purchase_delivery</th>\n      <th>review_score</th>\n      <th>haversine_distance</th>\n    </tr>\n  </thead>\n  <tbody>\n    <tr>\n      <th>13433</th>\n      <td>24ac2b4327e25baf39f2119e4228976a</td>\n      <td>2018-08-29 15:00:37</td>\n      <td>1539</td>\n      <td>1</td>\n      <td>93.75</td>\n      <td>1.0</td>\n      <td>5.0</td>\n      <td>87.870776</td>\n    </tr>\n    <tr>\n      <th>66821</th>\n      <td>b701bebbdf478f5500348f03aff62121</td>\n      <td>2018-08-29 14:52:00</td>\n      <td>1539</td>\n      <td>1</td>\n      <td>33.23</td>\n      <td>1.0</td>\n      <td>3.0</td>\n      <td>6.412264</td>\n    </tr>\n    <tr>\n      <th>46739</th>\n      <td>7febafa06d9d8f232a900a2937f04338</td>\n      <td>2018-08-29 14:18:28</td>\n      <td>1539</td>\n      <td>1</td>\n      <td>61.29</td>\n      <td>1.0</td>\n      <td>5.0</td>\n      <td>267.210602</td>\n    </tr>\n    <tr>\n      <th>33812</th>\n      <td>5c58de6fb80e93396e2f35642666b693</td>\n      <td>2018-08-29 14:18:23</td>\n      <td>1539</td>\n      <td>1</td>\n      <td>510.96</td>\n      <td>1.0</td>\n      <td>5.0</td>\n      <td>6.037134</td>\n    </tr>\n    <tr>\n      <th>44590</th>\n      <td>7a22d14aa3c3599238509ddca4b93b01</td>\n      <td>2018-08-29 12:25:59</td>\n      <td>1539</td>\n      <td>1</td>\n      <td>73.10</td>\n      <td>1.0</td>\n      <td>1.0</td>\n      <td>12.152183</td>\n    </tr>\n    <tr>\n      <th>...</th>\n      <td>...</td>\n      <td>...</td>\n      <td>...</td>\n      <td>...</td>\n      <td>...</td>\n      <td>...</td>\n      <td>...</td>\n      <td>...</td>\n    </tr>\n    <tr>\n      <th>61734</th>\n      <td>a915c8d4e27f573bb89c9bac9064290d</td>\n      <td>2017-08-29 02:04:08</td>\n      <td>1905</td>\n      <td>1</td>\n      <td>31.38</td>\n      <td>14.0</td>\n      <td>4.0</td>\n      <td>325.286519</td>\n    </tr>\n    <tr>\n      <th>23633</th>\n      <td>40afc4aac9be0b1ce4b1f520480edeea</td>\n      <td>2017-08-29 00:45:28</td>\n      <td>1905</td>\n      <td>1</td>\n      <td>158.79</td>\n      <td>3.0</td>\n      <td>4.0</td>\n      <td>34.501864</td>\n    </tr>\n    <tr>\n      <th>57924</th>\n      <td>9eb1e6e4ad8e8e4a87dc87fda7e002a4</td>\n      <td>2017-08-29 00:12:32</td>\n      <td>1905</td>\n      <td>1</td>\n      <td>80.73</td>\n      <td>8.0</td>\n      <td>5.0</td>\n      <td>18.359009</td>\n    </tr>\n    <tr>\n      <th>5600</th>\n      <td>0f4a442b7983c8a1a7fe12f1c4690436</td>\n      <td>2017-08-29 00:03:09</td>\n      <td>1905</td>\n      <td>1</td>\n      <td>223.78</td>\n      <td>21.0</td>\n      <td>2.0</td>\n      <td>227.035983</td>\n    </tr>\n    <tr>\n      <th>27661</th>\n      <td>4bc1e2793d19b3a627ed677976caf8a6</td>\n      <td>2017-08-29 00:01:27</td>\n      <td>1905</td>\n      <td>1</td>\n      <td>124.51</td>\n      <td>21.0</td>\n      <td>5.0</td>\n      <td>326.451031</td>\n    </tr>\n  </tbody>\n</table>\n<p>72678 rows × 8 columns</p>\n</div>"
     },
     "execution_count": 15,
     "metadata": {},
     "output_type": "execute_result"
    }
   ],
   "source": [
    "df_inf_00"
   ],
   "metadata": {
    "collapsed": false,
    "pycharm": {
     "name": "#%%\n"
    }
   }
  },
  {
   "cell_type": "code",
   "execution_count": 16,
   "outputs": [
    {
     "data": {
      "text/plain": "Timestamp('2018-08-29 15:00:37')"
     },
     "execution_count": 16,
     "metadata": {},
     "output_type": "execute_result"
    }
   ],
   "source": [
    "last_order_date = df_inf_00['order_purchase_timestamp'].max()\n",
    "last_order_date"
   ],
   "metadata": {
    "collapsed": false,
    "pycharm": {
     "name": "#%%\n"
    }
   }
  },
  {
   "cell_type": "code",
   "execution_count": 17,
   "outputs": [
    {
     "data": {
      "text/plain": "Timestamp('2017-08-29 00:01:27')"
     },
     "execution_count": 17,
     "metadata": {},
     "output_type": "execute_result"
    }
   ],
   "source": [
    "first_order_date = df_inf_00['order_purchase_timestamp'].min()\n",
    "first_order_date"
   ],
   "metadata": {
    "collapsed": false,
    "pycharm": {
     "name": "#%%\n"
    }
   }
  },
  {
   "cell_type": "code",
   "execution_count": 18,
   "outputs": [
    {
     "name": "stdout",
     "output_type": "stream",
     "text": [
      "<class 'pandas.core.frame.DataFrame'>\n",
      "Int64Index: 72678 entries, 13433 to 27661\n",
      "Data columns (total 8 columns):\n",
      " #   Column                    Non-Null Count  Dtype         \n",
      "---  ------                    --------------  -----         \n",
      " 0   customer_unique_id        72678 non-null  object        \n",
      " 1   order_purchase_timestamp  72678 non-null  datetime64[ns]\n",
      " 2   R (Récence)               72678 non-null  int64         \n",
      " 3   f                         72678 non-null  int64         \n",
      " 4   m                         72678 non-null  float64       \n",
      " 5   delta_purchase_delivery   72678 non-null  float64       \n",
      " 6   review_score              72678 non-null  float64       \n",
      " 7   haversine_distance        72678 non-null  float64       \n",
      "dtypes: datetime64[ns](1), float64(4), int64(2), object(1)\n",
      "memory usage: 5.0+ MB\n"
     ]
    }
   ],
   "source": [
    "df_inf_00.info()"
   ],
   "metadata": {
    "collapsed": false,
    "pycharm": {
     "name": "#%%\n"
    }
   }
  },
  {
   "cell_type": "code",
   "execution_count": 19,
   "outputs": [
    {
     "data": {
      "text/plain": "                                 order_purchase_timestamp  R (Récence)  f  \\\ncustomer_unique_id                                                          \n24ac2b4327e25baf39f2119e4228976a      2018-08-29 15:00:37         1539  1   \nb701bebbdf478f5500348f03aff62121      2018-08-29 14:52:00         1539  1   \n7febafa06d9d8f232a900a2937f04338      2018-08-29 14:18:28         1539  1   \n5c58de6fb80e93396e2f35642666b693      2018-08-29 14:18:23         1539  1   \n7a22d14aa3c3599238509ddca4b93b01      2018-08-29 12:25:59         1539  1   \n...                                                   ...          ... ..   \na915c8d4e27f573bb89c9bac9064290d      2017-08-29 02:04:08         1905  1   \n40afc4aac9be0b1ce4b1f520480edeea      2017-08-29 00:45:28         1905  1   \n9eb1e6e4ad8e8e4a87dc87fda7e002a4      2017-08-29 00:12:32         1905  1   \n0f4a442b7983c8a1a7fe12f1c4690436      2017-08-29 00:03:09         1905  1   \n4bc1e2793d19b3a627ed677976caf8a6      2017-08-29 00:01:27         1905  1   \n\n                                       m  delta_purchase_delivery  \\\ncustomer_unique_id                                                  \n24ac2b4327e25baf39f2119e4228976a   93.75                      1.0   \nb701bebbdf478f5500348f03aff62121   33.23                      1.0   \n7febafa06d9d8f232a900a2937f04338   61.29                      1.0   \n5c58de6fb80e93396e2f35642666b693  510.96                      1.0   \n7a22d14aa3c3599238509ddca4b93b01   73.10                      1.0   \n...                                  ...                      ...   \na915c8d4e27f573bb89c9bac9064290d   31.38                     14.0   \n40afc4aac9be0b1ce4b1f520480edeea  158.79                      3.0   \n9eb1e6e4ad8e8e4a87dc87fda7e002a4   80.73                      8.0   \n0f4a442b7983c8a1a7fe12f1c4690436  223.78                     21.0   \n4bc1e2793d19b3a627ed677976caf8a6  124.51                     21.0   \n\n                                  review_score  haversine_distance  \ncustomer_unique_id                                                  \n24ac2b4327e25baf39f2119e4228976a           5.0           87.870776  \nb701bebbdf478f5500348f03aff62121           3.0            6.412264  \n7febafa06d9d8f232a900a2937f04338           5.0          267.210602  \n5c58de6fb80e93396e2f35642666b693           5.0            6.037134  \n7a22d14aa3c3599238509ddca4b93b01           1.0           12.152183  \n...                                        ...                 ...  \na915c8d4e27f573bb89c9bac9064290d           4.0          325.286519  \n40afc4aac9be0b1ce4b1f520480edeea           4.0           34.501864  \n9eb1e6e4ad8e8e4a87dc87fda7e002a4           5.0           18.359009  \n0f4a442b7983c8a1a7fe12f1c4690436           2.0          227.035983  \n4bc1e2793d19b3a627ed677976caf8a6           5.0          326.451031  \n\n[72678 rows x 7 columns]",
      "text/html": "<div>\n<style scoped>\n    .dataframe tbody tr th:only-of-type {\n        vertical-align: middle;\n    }\n\n    .dataframe tbody tr th {\n        vertical-align: top;\n    }\n\n    .dataframe thead th {\n        text-align: right;\n    }\n</style>\n<table border=\"1\" class=\"dataframe\">\n  <thead>\n    <tr style=\"text-align: right;\">\n      <th></th>\n      <th>order_purchase_timestamp</th>\n      <th>R (Récence)</th>\n      <th>f</th>\n      <th>m</th>\n      <th>delta_purchase_delivery</th>\n      <th>review_score</th>\n      <th>haversine_distance</th>\n    </tr>\n    <tr>\n      <th>customer_unique_id</th>\n      <th></th>\n      <th></th>\n      <th></th>\n      <th></th>\n      <th></th>\n      <th></th>\n      <th></th>\n    </tr>\n  </thead>\n  <tbody>\n    <tr>\n      <th>24ac2b4327e25baf39f2119e4228976a</th>\n      <td>2018-08-29 15:00:37</td>\n      <td>1539</td>\n      <td>1</td>\n      <td>93.75</td>\n      <td>1.0</td>\n      <td>5.0</td>\n      <td>87.870776</td>\n    </tr>\n    <tr>\n      <th>b701bebbdf478f5500348f03aff62121</th>\n      <td>2018-08-29 14:52:00</td>\n      <td>1539</td>\n      <td>1</td>\n      <td>33.23</td>\n      <td>1.0</td>\n      <td>3.0</td>\n      <td>6.412264</td>\n    </tr>\n    <tr>\n      <th>7febafa06d9d8f232a900a2937f04338</th>\n      <td>2018-08-29 14:18:28</td>\n      <td>1539</td>\n      <td>1</td>\n      <td>61.29</td>\n      <td>1.0</td>\n      <td>5.0</td>\n      <td>267.210602</td>\n    </tr>\n    <tr>\n      <th>5c58de6fb80e93396e2f35642666b693</th>\n      <td>2018-08-29 14:18:23</td>\n      <td>1539</td>\n      <td>1</td>\n      <td>510.96</td>\n      <td>1.0</td>\n      <td>5.0</td>\n      <td>6.037134</td>\n    </tr>\n    <tr>\n      <th>7a22d14aa3c3599238509ddca4b93b01</th>\n      <td>2018-08-29 12:25:59</td>\n      <td>1539</td>\n      <td>1</td>\n      <td>73.10</td>\n      <td>1.0</td>\n      <td>1.0</td>\n      <td>12.152183</td>\n    </tr>\n    <tr>\n      <th>...</th>\n      <td>...</td>\n      <td>...</td>\n      <td>...</td>\n      <td>...</td>\n      <td>...</td>\n      <td>...</td>\n      <td>...</td>\n    </tr>\n    <tr>\n      <th>a915c8d4e27f573bb89c9bac9064290d</th>\n      <td>2017-08-29 02:04:08</td>\n      <td>1905</td>\n      <td>1</td>\n      <td>31.38</td>\n      <td>14.0</td>\n      <td>4.0</td>\n      <td>325.286519</td>\n    </tr>\n    <tr>\n      <th>40afc4aac9be0b1ce4b1f520480edeea</th>\n      <td>2017-08-29 00:45:28</td>\n      <td>1905</td>\n      <td>1</td>\n      <td>158.79</td>\n      <td>3.0</td>\n      <td>4.0</td>\n      <td>34.501864</td>\n    </tr>\n    <tr>\n      <th>9eb1e6e4ad8e8e4a87dc87fda7e002a4</th>\n      <td>2017-08-29 00:12:32</td>\n      <td>1905</td>\n      <td>1</td>\n      <td>80.73</td>\n      <td>8.0</td>\n      <td>5.0</td>\n      <td>18.359009</td>\n    </tr>\n    <tr>\n      <th>0f4a442b7983c8a1a7fe12f1c4690436</th>\n      <td>2017-08-29 00:03:09</td>\n      <td>1905</td>\n      <td>1</td>\n      <td>223.78</td>\n      <td>21.0</td>\n      <td>2.0</td>\n      <td>227.035983</td>\n    </tr>\n    <tr>\n      <th>4bc1e2793d19b3a627ed677976caf8a6</th>\n      <td>2017-08-29 00:01:27</td>\n      <td>1905</td>\n      <td>1</td>\n      <td>124.51</td>\n      <td>21.0</td>\n      <td>5.0</td>\n      <td>326.451031</td>\n    </tr>\n  </tbody>\n</table>\n<p>72678 rows × 7 columns</p>\n</div>"
     },
     "execution_count": 19,
     "metadata": {},
     "output_type": "execute_result"
    }
   ],
   "source": [
    "df_inf_00.set_index('customer_unique_id', inplace = True)\n",
    "df_inf_00"
   ],
   "metadata": {
    "collapsed": false,
    "pycharm": {
     "name": "#%%\n"
    }
   }
  },
  {
   "cell_type": "code",
   "execution_count": 20,
   "outputs": [
    {
     "data": {
      "text/plain": "                                  R (Récence)  f       m  \\\ncustomer_unique_id                                         \n24ac2b4327e25baf39f2119e4228976a         1539  1   93.75   \nb701bebbdf478f5500348f03aff62121         1539  1   33.23   \n7febafa06d9d8f232a900a2937f04338         1539  1   61.29   \n5c58de6fb80e93396e2f35642666b693         1539  1  510.96   \n7a22d14aa3c3599238509ddca4b93b01         1539  1   73.10   \n...                                       ... ..     ...   \na915c8d4e27f573bb89c9bac9064290d         1905  1   31.38   \n40afc4aac9be0b1ce4b1f520480edeea         1905  1  158.79   \n9eb1e6e4ad8e8e4a87dc87fda7e002a4         1905  1   80.73   \n0f4a442b7983c8a1a7fe12f1c4690436         1905  1  223.78   \n4bc1e2793d19b3a627ed677976caf8a6         1905  1  124.51   \n\n                                  delta_purchase_delivery  review_score  \\\ncustomer_unique_id                                                        \n24ac2b4327e25baf39f2119e4228976a                      1.0           5.0   \nb701bebbdf478f5500348f03aff62121                      1.0           3.0   \n7febafa06d9d8f232a900a2937f04338                      1.0           5.0   \n5c58de6fb80e93396e2f35642666b693                      1.0           5.0   \n7a22d14aa3c3599238509ddca4b93b01                      1.0           1.0   \n...                                                   ...           ...   \na915c8d4e27f573bb89c9bac9064290d                     14.0           4.0   \n40afc4aac9be0b1ce4b1f520480edeea                      3.0           4.0   \n9eb1e6e4ad8e8e4a87dc87fda7e002a4                      8.0           5.0   \n0f4a442b7983c8a1a7fe12f1c4690436                     21.0           2.0   \n4bc1e2793d19b3a627ed677976caf8a6                     21.0           5.0   \n\n                                  haversine_distance  \ncustomer_unique_id                                    \n24ac2b4327e25baf39f2119e4228976a           87.870776  \nb701bebbdf478f5500348f03aff62121            6.412264  \n7febafa06d9d8f232a900a2937f04338          267.210602  \n5c58de6fb80e93396e2f35642666b693            6.037134  \n7a22d14aa3c3599238509ddca4b93b01           12.152183  \n...                                              ...  \na915c8d4e27f573bb89c9bac9064290d          325.286519  \n40afc4aac9be0b1ce4b1f520480edeea           34.501864  \n9eb1e6e4ad8e8e4a87dc87fda7e002a4           18.359009  \n0f4a442b7983c8a1a7fe12f1c4690436          227.035983  \n4bc1e2793d19b3a627ed677976caf8a6          326.451031  \n\n[72678 rows x 6 columns]",
      "text/html": "<div>\n<style scoped>\n    .dataframe tbody tr th:only-of-type {\n        vertical-align: middle;\n    }\n\n    .dataframe tbody tr th {\n        vertical-align: top;\n    }\n\n    .dataframe thead th {\n        text-align: right;\n    }\n</style>\n<table border=\"1\" class=\"dataframe\">\n  <thead>\n    <tr style=\"text-align: right;\">\n      <th></th>\n      <th>R (Récence)</th>\n      <th>f</th>\n      <th>m</th>\n      <th>delta_purchase_delivery</th>\n      <th>review_score</th>\n      <th>haversine_distance</th>\n    </tr>\n    <tr>\n      <th>customer_unique_id</th>\n      <th></th>\n      <th></th>\n      <th></th>\n      <th></th>\n      <th></th>\n      <th></th>\n    </tr>\n  </thead>\n  <tbody>\n    <tr>\n      <th>24ac2b4327e25baf39f2119e4228976a</th>\n      <td>1539</td>\n      <td>1</td>\n      <td>93.75</td>\n      <td>1.0</td>\n      <td>5.0</td>\n      <td>87.870776</td>\n    </tr>\n    <tr>\n      <th>b701bebbdf478f5500348f03aff62121</th>\n      <td>1539</td>\n      <td>1</td>\n      <td>33.23</td>\n      <td>1.0</td>\n      <td>3.0</td>\n      <td>6.412264</td>\n    </tr>\n    <tr>\n      <th>7febafa06d9d8f232a900a2937f04338</th>\n      <td>1539</td>\n      <td>1</td>\n      <td>61.29</td>\n      <td>1.0</td>\n      <td>5.0</td>\n      <td>267.210602</td>\n    </tr>\n    <tr>\n      <th>5c58de6fb80e93396e2f35642666b693</th>\n      <td>1539</td>\n      <td>1</td>\n      <td>510.96</td>\n      <td>1.0</td>\n      <td>5.0</td>\n      <td>6.037134</td>\n    </tr>\n    <tr>\n      <th>7a22d14aa3c3599238509ddca4b93b01</th>\n      <td>1539</td>\n      <td>1</td>\n      <td>73.10</td>\n      <td>1.0</td>\n      <td>1.0</td>\n      <td>12.152183</td>\n    </tr>\n    <tr>\n      <th>...</th>\n      <td>...</td>\n      <td>...</td>\n      <td>...</td>\n      <td>...</td>\n      <td>...</td>\n      <td>...</td>\n    </tr>\n    <tr>\n      <th>a915c8d4e27f573bb89c9bac9064290d</th>\n      <td>1905</td>\n      <td>1</td>\n      <td>31.38</td>\n      <td>14.0</td>\n      <td>4.0</td>\n      <td>325.286519</td>\n    </tr>\n    <tr>\n      <th>40afc4aac9be0b1ce4b1f520480edeea</th>\n      <td>1905</td>\n      <td>1</td>\n      <td>158.79</td>\n      <td>3.0</td>\n      <td>4.0</td>\n      <td>34.501864</td>\n    </tr>\n    <tr>\n      <th>9eb1e6e4ad8e8e4a87dc87fda7e002a4</th>\n      <td>1905</td>\n      <td>1</td>\n      <td>80.73</td>\n      <td>8.0</td>\n      <td>5.0</td>\n      <td>18.359009</td>\n    </tr>\n    <tr>\n      <th>0f4a442b7983c8a1a7fe12f1c4690436</th>\n      <td>1905</td>\n      <td>1</td>\n      <td>223.78</td>\n      <td>21.0</td>\n      <td>2.0</td>\n      <td>227.035983</td>\n    </tr>\n    <tr>\n      <th>4bc1e2793d19b3a627ed677976caf8a6</th>\n      <td>1905</td>\n      <td>1</td>\n      <td>124.51</td>\n      <td>21.0</td>\n      <td>5.0</td>\n      <td>326.451031</td>\n    </tr>\n  </tbody>\n</table>\n<p>72678 rows × 6 columns</p>\n</div>"
     },
     "execution_count": 20,
     "metadata": {},
     "output_type": "execute_result"
    }
   ],
   "source": [
    "df_inf_00_ = df_inf_00[['R (Récence)', 'f', 'm', 'delta_purchase_delivery', 'review_score', 'haversine_distance']]\n",
    "df_inf_00_"
   ],
   "metadata": {
    "collapsed": false,
    "pycharm": {
     "name": "#%%\n"
    }
   }
  },
  {
   "cell_type": "code",
   "execution_count": 21,
   "outputs": [],
   "source": [
    "scaler = MinMaxScaler()"
   ],
   "metadata": {
    "collapsed": false,
    "pycharm": {
     "name": "#%%\n"
    }
   }
  },
  {
   "cell_type": "code",
   "execution_count": 22,
   "outputs": [
    {
     "data": {
      "text/plain": "array([[0.        , 0.        , 0.00616354, 0.00480769, 1.        ,\n        0.01630724],\n       [0.        , 0.        , 0.0017313 , 0.00480769, 0.5       ,\n        0.00119   ],\n       [0.        , 0.        , 0.0037863 , 0.00480769, 1.        ,\n        0.04958951],\n       ...,\n       [1.        , 0.        , 0.00521001, 0.03846154, 1.        ,\n        0.0034071 ],\n       [1.        , 0.        , 0.01568642, 0.10096154, 0.25      ,\n        0.04213382],\n       [1.        , 0.        , 0.00841628, 0.10096154, 1.        ,\n        0.06058347]])"
     },
     "execution_count": 22,
     "metadata": {},
     "output_type": "execute_result"
    }
   ],
   "source": [
    "df_inf_00_scaled = scaler.fit_transform(df_inf_00_)\n",
    "df_inf_00_scaled"
   ],
   "metadata": {
    "collapsed": false,
    "pycharm": {
     "name": "#%%\n"
    }
   }
  },
  {
   "cell_type": "code",
   "execution_count": 23,
   "outputs": [],
   "source": [
    "# Entrainement du kmeans\n",
    "\n",
    "kmeans_model_0 = KMeans(n_clusters = 4, random_state = 42)\n",
    "kmeans_model_0.fit(df_inf_00_scaled)\n",
    "label_model_0 = kmeans_model_0.labels_\n"
   ],
   "metadata": {
    "collapsed": false,
    "pycharm": {
     "name": "#%%\n"
    }
   }
  },
  {
   "cell_type": "code",
   "execution_count": 24,
   "outputs": [
    {
     "data": {
      "text/plain": "array([1, 0, 1, ..., 3, 2, 3])"
     },
     "execution_count": 24,
     "metadata": {},
     "output_type": "execute_result"
    }
   ],
   "source": [
    "label_model_0"
   ],
   "metadata": {
    "collapsed": false,
    "pycharm": {
     "name": "#%%\n"
    }
   }
  },
  {
   "cell_type": "markdown",
   "source": [
    "####\n",
    "### Intervalle 1"
   ],
   "metadata": {
    "collapsed": false,
    "pycharm": {
     "name": "#%% md\n"
    }
   }
  },
  {
   "cell_type": "code",
   "execution_count": 25,
   "outputs": [],
   "source": [
    "I_01 = '2017-09-19'"
   ],
   "metadata": {
    "collapsed": false,
    "pycharm": {
     "name": "#%%\n"
    }
   }
  },
  {
   "cell_type": "code",
   "execution_count": 26,
   "outputs": [],
   "source": [
    "df_inf_01, df_sup_01 = data_split(df_inf_00, I_01)"
   ],
   "metadata": {
    "collapsed": false,
    "pycharm": {
     "name": "#%%\n"
    }
   }
  },
  {
   "cell_type": "code",
   "execution_count": 27,
   "outputs": [
    {
     "data": {
      "text/plain": "                                 order_purchase_timestamp  R (Récence)  f  \\\ncustomer_unique_id                                                          \n83bbd85b71fae0581d2b69e380e35171      2017-09-18 23:56:54         1884  1   \ndb5845a22edcc1c05394690732caa60b      2017-09-18 23:41:24         1884  1   \n2cf396c9e24e7627ff042cccb209b9e6      2017-09-18 23:34:58         1884  2   \ne2308203e48b22740287786fd75a8b11      2017-09-18 23:33:56         1884  1   \n7480359f2bfb287f5723a3025890d06a      2017-09-18 23:29:20         1884  1   \n...                                                   ...          ... ..   \na915c8d4e27f573bb89c9bac9064290d      2017-08-29 02:04:08         1905  1   \n40afc4aac9be0b1ce4b1f520480edeea      2017-08-29 00:45:28         1905  1   \n9eb1e6e4ad8e8e4a87dc87fda7e002a4      2017-08-29 00:12:32         1905  1   \n0f4a442b7983c8a1a7fe12f1c4690436      2017-08-29 00:03:09         1905  1   \n4bc1e2793d19b3a627ed677976caf8a6      2017-08-29 00:01:27         1905  1   \n\n                                       m  delta_purchase_delivery  \\\ncustomer_unique_id                                                  \n83bbd85b71fae0581d2b69e380e35171  183.84                     28.0   \ndb5845a22edcc1c05394690732caa60b  166.69                     15.0   \n2cf396c9e24e7627ff042cccb209b9e6  429.30                     13.0   \ne2308203e48b22740287786fd75a8b11   71.82                      9.0   \n7480359f2bfb287f5723a3025890d06a  232.71                     10.0   \n...                                  ...                      ...   \na915c8d4e27f573bb89c9bac9064290d   31.38                     14.0   \n40afc4aac9be0b1ce4b1f520480edeea  158.79                      3.0   \n9eb1e6e4ad8e8e4a87dc87fda7e002a4   80.73                      8.0   \n0f4a442b7983c8a1a7fe12f1c4690436  223.78                     21.0   \n4bc1e2793d19b3a627ed677976caf8a6  124.51                     21.0   \n\n                                  review_score  haversine_distance  \ncustomer_unique_id                                                  \n83bbd85b71fae0581d2b69e380e35171           1.0          841.025930  \ndb5845a22edcc1c05394690732caa60b           1.0          187.926352  \n2cf396c9e24e7627ff042cccb209b9e6           3.5          180.852086  \ne2308203e48b22740287786fd75a8b11           4.0           81.434306  \n7480359f2bfb287f5723a3025890d06a           4.0          420.336208  \n...                                        ...                 ...  \na915c8d4e27f573bb89c9bac9064290d           4.0          325.286519  \n40afc4aac9be0b1ce4b1f520480edeea           4.0           34.501864  \n9eb1e6e4ad8e8e4a87dc87fda7e002a4           5.0           18.359009  \n0f4a442b7983c8a1a7fe12f1c4690436           2.0          227.035983  \n4bc1e2793d19b3a627ed677976caf8a6           5.0          326.451031  \n\n[2871 rows x 7 columns]",
      "text/html": "<div>\n<style scoped>\n    .dataframe tbody tr th:only-of-type {\n        vertical-align: middle;\n    }\n\n    .dataframe tbody tr th {\n        vertical-align: top;\n    }\n\n    .dataframe thead th {\n        text-align: right;\n    }\n</style>\n<table border=\"1\" class=\"dataframe\">\n  <thead>\n    <tr style=\"text-align: right;\">\n      <th></th>\n      <th>order_purchase_timestamp</th>\n      <th>R (Récence)</th>\n      <th>f</th>\n      <th>m</th>\n      <th>delta_purchase_delivery</th>\n      <th>review_score</th>\n      <th>haversine_distance</th>\n    </tr>\n    <tr>\n      <th>customer_unique_id</th>\n      <th></th>\n      <th></th>\n      <th></th>\n      <th></th>\n      <th></th>\n      <th></th>\n      <th></th>\n    </tr>\n  </thead>\n  <tbody>\n    <tr>\n      <th>83bbd85b71fae0581d2b69e380e35171</th>\n      <td>2017-09-18 23:56:54</td>\n      <td>1884</td>\n      <td>1</td>\n      <td>183.84</td>\n      <td>28.0</td>\n      <td>1.0</td>\n      <td>841.025930</td>\n    </tr>\n    <tr>\n      <th>db5845a22edcc1c05394690732caa60b</th>\n      <td>2017-09-18 23:41:24</td>\n      <td>1884</td>\n      <td>1</td>\n      <td>166.69</td>\n      <td>15.0</td>\n      <td>1.0</td>\n      <td>187.926352</td>\n    </tr>\n    <tr>\n      <th>2cf396c9e24e7627ff042cccb209b9e6</th>\n      <td>2017-09-18 23:34:58</td>\n      <td>1884</td>\n      <td>2</td>\n      <td>429.30</td>\n      <td>13.0</td>\n      <td>3.5</td>\n      <td>180.852086</td>\n    </tr>\n    <tr>\n      <th>e2308203e48b22740287786fd75a8b11</th>\n      <td>2017-09-18 23:33:56</td>\n      <td>1884</td>\n      <td>1</td>\n      <td>71.82</td>\n      <td>9.0</td>\n      <td>4.0</td>\n      <td>81.434306</td>\n    </tr>\n    <tr>\n      <th>7480359f2bfb287f5723a3025890d06a</th>\n      <td>2017-09-18 23:29:20</td>\n      <td>1884</td>\n      <td>1</td>\n      <td>232.71</td>\n      <td>10.0</td>\n      <td>4.0</td>\n      <td>420.336208</td>\n    </tr>\n    <tr>\n      <th>...</th>\n      <td>...</td>\n      <td>...</td>\n      <td>...</td>\n      <td>...</td>\n      <td>...</td>\n      <td>...</td>\n      <td>...</td>\n    </tr>\n    <tr>\n      <th>a915c8d4e27f573bb89c9bac9064290d</th>\n      <td>2017-08-29 02:04:08</td>\n      <td>1905</td>\n      <td>1</td>\n      <td>31.38</td>\n      <td>14.0</td>\n      <td>4.0</td>\n      <td>325.286519</td>\n    </tr>\n    <tr>\n      <th>40afc4aac9be0b1ce4b1f520480edeea</th>\n      <td>2017-08-29 00:45:28</td>\n      <td>1905</td>\n      <td>1</td>\n      <td>158.79</td>\n      <td>3.0</td>\n      <td>4.0</td>\n      <td>34.501864</td>\n    </tr>\n    <tr>\n      <th>9eb1e6e4ad8e8e4a87dc87fda7e002a4</th>\n      <td>2017-08-29 00:12:32</td>\n      <td>1905</td>\n      <td>1</td>\n      <td>80.73</td>\n      <td>8.0</td>\n      <td>5.0</td>\n      <td>18.359009</td>\n    </tr>\n    <tr>\n      <th>0f4a442b7983c8a1a7fe12f1c4690436</th>\n      <td>2017-08-29 00:03:09</td>\n      <td>1905</td>\n      <td>1</td>\n      <td>223.78</td>\n      <td>21.0</td>\n      <td>2.0</td>\n      <td>227.035983</td>\n    </tr>\n    <tr>\n      <th>4bc1e2793d19b3a627ed677976caf8a6</th>\n      <td>2017-08-29 00:01:27</td>\n      <td>1905</td>\n      <td>1</td>\n      <td>124.51</td>\n      <td>21.0</td>\n      <td>5.0</td>\n      <td>326.451031</td>\n    </tr>\n  </tbody>\n</table>\n<p>2871 rows × 7 columns</p>\n</div>"
     },
     "execution_count": 27,
     "metadata": {},
     "output_type": "execute_result"
    }
   ],
   "source": [
    "df_inf_01"
   ],
   "metadata": {
    "collapsed": false,
    "pycharm": {
     "name": "#%%\n"
    }
   }
  },
  {
   "cell_type": "code",
   "execution_count": 28,
   "outputs": [
    {
     "data": {
      "text/plain": "                                  R (Récence)  f       m  \\\ncustomer_unique_id                                         \n83bbd85b71fae0581d2b69e380e35171         1884  1  183.84   \ndb5845a22edcc1c05394690732caa60b         1884  1  166.69   \n2cf396c9e24e7627ff042cccb209b9e6         1884  2  429.30   \ne2308203e48b22740287786fd75a8b11         1884  1   71.82   \n7480359f2bfb287f5723a3025890d06a         1884  1  232.71   \n...                                       ... ..     ...   \na915c8d4e27f573bb89c9bac9064290d         1905  1   31.38   \n40afc4aac9be0b1ce4b1f520480edeea         1905  1  158.79   \n9eb1e6e4ad8e8e4a87dc87fda7e002a4         1905  1   80.73   \n0f4a442b7983c8a1a7fe12f1c4690436         1905  1  223.78   \n4bc1e2793d19b3a627ed677976caf8a6         1905  1  124.51   \n\n                                  delta_purchase_delivery  review_score  \\\ncustomer_unique_id                                                        \n83bbd85b71fae0581d2b69e380e35171                     28.0           1.0   \ndb5845a22edcc1c05394690732caa60b                     15.0           1.0   \n2cf396c9e24e7627ff042cccb209b9e6                     13.0           3.5   \ne2308203e48b22740287786fd75a8b11                      9.0           4.0   \n7480359f2bfb287f5723a3025890d06a                     10.0           4.0   \n...                                                   ...           ...   \na915c8d4e27f573bb89c9bac9064290d                     14.0           4.0   \n40afc4aac9be0b1ce4b1f520480edeea                      3.0           4.0   \n9eb1e6e4ad8e8e4a87dc87fda7e002a4                      8.0           5.0   \n0f4a442b7983c8a1a7fe12f1c4690436                     21.0           2.0   \n4bc1e2793d19b3a627ed677976caf8a6                     21.0           5.0   \n\n                                  haversine_distance  \ncustomer_unique_id                                    \n83bbd85b71fae0581d2b69e380e35171          841.025930  \ndb5845a22edcc1c05394690732caa60b          187.926352  \n2cf396c9e24e7627ff042cccb209b9e6          180.852086  \ne2308203e48b22740287786fd75a8b11           81.434306  \n7480359f2bfb287f5723a3025890d06a          420.336208  \n...                                              ...  \na915c8d4e27f573bb89c9bac9064290d          325.286519  \n40afc4aac9be0b1ce4b1f520480edeea           34.501864  \n9eb1e6e4ad8e8e4a87dc87fda7e002a4           18.359009  \n0f4a442b7983c8a1a7fe12f1c4690436          227.035983  \n4bc1e2793d19b3a627ed677976caf8a6          326.451031  \n\n[2871 rows x 6 columns]",
      "text/html": "<div>\n<style scoped>\n    .dataframe tbody tr th:only-of-type {\n        vertical-align: middle;\n    }\n\n    .dataframe tbody tr th {\n        vertical-align: top;\n    }\n\n    .dataframe thead th {\n        text-align: right;\n    }\n</style>\n<table border=\"1\" class=\"dataframe\">\n  <thead>\n    <tr style=\"text-align: right;\">\n      <th></th>\n      <th>R (Récence)</th>\n      <th>f</th>\n      <th>m</th>\n      <th>delta_purchase_delivery</th>\n      <th>review_score</th>\n      <th>haversine_distance</th>\n    </tr>\n    <tr>\n      <th>customer_unique_id</th>\n      <th></th>\n      <th></th>\n      <th></th>\n      <th></th>\n      <th></th>\n      <th></th>\n    </tr>\n  </thead>\n  <tbody>\n    <tr>\n      <th>83bbd85b71fae0581d2b69e380e35171</th>\n      <td>1884</td>\n      <td>1</td>\n      <td>183.84</td>\n      <td>28.0</td>\n      <td>1.0</td>\n      <td>841.025930</td>\n    </tr>\n    <tr>\n      <th>db5845a22edcc1c05394690732caa60b</th>\n      <td>1884</td>\n      <td>1</td>\n      <td>166.69</td>\n      <td>15.0</td>\n      <td>1.0</td>\n      <td>187.926352</td>\n    </tr>\n    <tr>\n      <th>2cf396c9e24e7627ff042cccb209b9e6</th>\n      <td>1884</td>\n      <td>2</td>\n      <td>429.30</td>\n      <td>13.0</td>\n      <td>3.5</td>\n      <td>180.852086</td>\n    </tr>\n    <tr>\n      <th>e2308203e48b22740287786fd75a8b11</th>\n      <td>1884</td>\n      <td>1</td>\n      <td>71.82</td>\n      <td>9.0</td>\n      <td>4.0</td>\n      <td>81.434306</td>\n    </tr>\n    <tr>\n      <th>7480359f2bfb287f5723a3025890d06a</th>\n      <td>1884</td>\n      <td>1</td>\n      <td>232.71</td>\n      <td>10.0</td>\n      <td>4.0</td>\n      <td>420.336208</td>\n    </tr>\n    <tr>\n      <th>...</th>\n      <td>...</td>\n      <td>...</td>\n      <td>...</td>\n      <td>...</td>\n      <td>...</td>\n      <td>...</td>\n    </tr>\n    <tr>\n      <th>a915c8d4e27f573bb89c9bac9064290d</th>\n      <td>1905</td>\n      <td>1</td>\n      <td>31.38</td>\n      <td>14.0</td>\n      <td>4.0</td>\n      <td>325.286519</td>\n    </tr>\n    <tr>\n      <th>40afc4aac9be0b1ce4b1f520480edeea</th>\n      <td>1905</td>\n      <td>1</td>\n      <td>158.79</td>\n      <td>3.0</td>\n      <td>4.0</td>\n      <td>34.501864</td>\n    </tr>\n    <tr>\n      <th>9eb1e6e4ad8e8e4a87dc87fda7e002a4</th>\n      <td>1905</td>\n      <td>1</td>\n      <td>80.73</td>\n      <td>8.0</td>\n      <td>5.0</td>\n      <td>18.359009</td>\n    </tr>\n    <tr>\n      <th>0f4a442b7983c8a1a7fe12f1c4690436</th>\n      <td>1905</td>\n      <td>1</td>\n      <td>223.78</td>\n      <td>21.0</td>\n      <td>2.0</td>\n      <td>227.035983</td>\n    </tr>\n    <tr>\n      <th>4bc1e2793d19b3a627ed677976caf8a6</th>\n      <td>1905</td>\n      <td>1</td>\n      <td>124.51</td>\n      <td>21.0</td>\n      <td>5.0</td>\n      <td>326.451031</td>\n    </tr>\n  </tbody>\n</table>\n<p>2871 rows × 6 columns</p>\n</div>"
     },
     "execution_count": 28,
     "metadata": {},
     "output_type": "execute_result"
    }
   ],
   "source": [
    "df_inf_01_ = df_inf_01[['R (Récence)', 'f', 'm', 'delta_purchase_delivery', 'review_score', 'haversine_distance']]\n",
    "df_inf_01_"
   ],
   "metadata": {
    "collapsed": false,
    "pycharm": {
     "name": "#%%\n"
    }
   }
  },
  {
   "cell_type": "code",
   "execution_count": 29,
   "outputs": [
    {
     "data": {
      "text/plain": "array([[0.        , 0.        , 0.07121634, 0.26732673, 0.        ,\n        0.41933192],\n       [0.        , 0.        , 0.06418774, 0.13861386, 0.        ,\n        0.09345036],\n       [0.        , 0.5       , 0.17181346, 0.11881188, 0.625     ,\n        0.08992046],\n       ...,\n       [1.        , 0.        , 0.02895866, 0.06930693, 1.        ,\n        0.00884018],\n       [1.        , 0.        , 0.08758499, 0.1980198 , 0.25      ,\n        0.11296516],\n       [1.        , 0.        , 0.04690106, 0.1980198 , 1.        ,\n        0.16257097]])"
     },
     "execution_count": 29,
     "metadata": {},
     "output_type": "execute_result"
    }
   ],
   "source": [
    "df_inf_01_scaled = scaler.fit_transform(df_inf_01_)\n",
    "df_inf_01_scaled"
   ],
   "metadata": {
    "collapsed": false,
    "pycharm": {
     "name": "#%%\n"
    }
   }
  },
  {
   "cell_type": "code",
   "execution_count": 30,
   "outputs": [],
   "source": [
    "# Pipeline avec le k choisi\n",
    "\n",
    "kmeans_model_1 = KMeans(4, random_state = 42)\n",
    "kmeans_model_1.fit(df_inf_01_scaled)\n",
    "\n",
    "# Etiquette\n",
    "labels_model_1 = kmeans_model_1.labels_"
   ],
   "metadata": {
    "collapsed": false,
    "pycharm": {
     "name": "#%%\n"
    }
   }
  },
  {
   "cell_type": "code",
   "execution_count": 31,
   "outputs": [
    {
     "data": {
      "text/plain": "array([3, 3, 2, ..., 1, 3, 1])"
     },
     "execution_count": 31,
     "metadata": {},
     "output_type": "execute_result"
    }
   ],
   "source": [
    "labels_model_1"
   ],
   "metadata": {
    "collapsed": false,
    "pycharm": {
     "name": "#%%\n"
    }
   }
  },
  {
   "cell_type": "code",
   "execution_count": 32,
   "outputs": [],
   "source": [
    "labels_predict_1 = kmeans_model_0.predict(df_inf_01_scaled)"
   ],
   "metadata": {
    "collapsed": false,
    "pycharm": {
     "name": "#%%\n"
    }
   }
  },
  {
   "cell_type": "code",
   "execution_count": 33,
   "outputs": [
    {
     "data": {
      "text/plain": "array([2, 2, 1, ..., 3, 2, 3])"
     },
     "execution_count": 33,
     "metadata": {},
     "output_type": "execute_result"
    }
   ],
   "source": [
    "labels_predict_1"
   ],
   "metadata": {
    "collapsed": false,
    "pycharm": {
     "name": "#%%\n"
    }
   }
  },
  {
   "cell_type": "code",
   "execution_count": 34,
   "outputs": [
    {
     "data": {
      "text/plain": "0.6864551842612211"
     },
     "execution_count": 34,
     "metadata": {},
     "output_type": "execute_result"
    }
   ],
   "source": [
    "ari_01 = adjusted_rand_score(labels_model_1, labels_predict_1)\n",
    "ari_01"
   ],
   "metadata": {
    "collapsed": false,
    "pycharm": {
     "name": "#%%\n"
    }
   }
  },
  {
   "cell_type": "code",
   "execution_count": 35,
   "outputs": [],
   "source": [
    "ari_score = {}"
   ],
   "metadata": {
    "collapsed": false,
    "pycharm": {
     "name": "#%%\n"
    }
   }
  },
  {
   "cell_type": "code",
   "execution_count": 36,
   "outputs": [
    {
     "data": {
      "text/plain": "{'2017-09-19': 0.6864551842612211}"
     },
     "execution_count": 36,
     "metadata": {},
     "output_type": "execute_result"
    }
   ],
   "source": [
    "ari_score[I_01] = ari_01\n",
    "ari_score"
   ],
   "metadata": {
    "collapsed": false,
    "pycharm": {
     "name": "#%%\n"
    }
   }
  },
  {
   "cell_type": "markdown",
   "source": [
    "####\n",
    "### Intervalle 2"
   ],
   "metadata": {
    "collapsed": false,
    "pycharm": {
     "name": "#%% md\n"
    }
   }
  },
  {
   "cell_type": "code",
   "execution_count": 37,
   "outputs": [],
   "source": [
    "nj = 21"
   ],
   "metadata": {
    "collapsed": false,
    "pycharm": {
     "name": "#%%\n"
    }
   }
  },
  {
   "cell_type": "code",
   "execution_count": 38,
   "outputs": [
    {
     "data": {
      "text/plain": "Timestamp('2017-10-10 00:00:00')"
     },
     "execution_count": 38,
     "metadata": {},
     "output_type": "execute_result"
    }
   ],
   "source": [
    "I_02 = additional_period(I_01, nj, last_order_date)\n",
    "I_02"
   ],
   "metadata": {
    "collapsed": false,
    "pycharm": {
     "name": "#%%\n"
    }
   }
  },
  {
   "cell_type": "code",
   "execution_count": 39,
   "outputs": [
    {
     "data": {
      "text/plain": "                                 order_purchase_timestamp  R (Récence)  f  \\\ncustomer_unique_id                                                          \nc154216d425e50fa232a228f6b9616bd      2017-10-09 23:55:59         1863  1   \ncf8add60e7c0183121f770791961c035      2017-10-09 23:33:10         1863  1   \nc2a0eb5fcaddf44f7567f4dbd0da6830      2017-10-09 23:27:36         1863  1   \n9ac370ba1e5aa108afc187fd57ce9442      2017-10-09 23:26:55         1863  1   \n867baeb0278332d0ec8a169c3d4b1486      2017-10-09 23:07:52         1863  1   \n...                                                   ...          ... ..   \n26cad9c9ba313f4f4883570a88f5460c      2017-09-19 02:06:24         1884  1   \ne41193588c849790e4c162a04e7d4d69      2017-09-19 01:31:45         1884  1   \n8fa9794287d53baf3d08e2fd2d73a44f      2017-09-19 00:19:17         1884  1   \n097922f64914c7cde32a46a54e299428      2017-09-19 00:04:15         1884  1   \n1b547f8eeea20e082f1230c912937518      2017-09-19 00:03:56         1884  1   \n\n                                       m  delta_purchase_delivery  \\\ncustomer_unique_id                                                  \nc154216d425e50fa232a228f6b9616bd  600.30                      9.0   \ncf8add60e7c0183121f770791961c035   22.68                      3.0   \nc2a0eb5fcaddf44f7567f4dbd0da6830  280.63                      8.0   \n9ac370ba1e5aa108afc187fd57ce9442   27.33                      8.0   \n867baeb0278332d0ec8a169c3d4b1486  195.22                     16.0   \n...                                  ...                      ...   \n26cad9c9ba313f4f4883570a88f5460c  106.16                      7.0   \ne41193588c849790e4c162a04e7d4d69   65.56                     22.0   \n8fa9794287d53baf3d08e2fd2d73a44f   76.08                     10.0   \n097922f64914c7cde32a46a54e299428  264.48                     16.0   \n1b547f8eeea20e082f1230c912937518  101.63                     13.0   \n\n                                  review_score  haversine_distance  \ncustomer_unique_id                                                  \nc154216d425e50fa232a228f6b9616bd           5.0          476.224116  \ncf8add60e7c0183121f770791961c035           5.0            8.665060  \nc2a0eb5fcaddf44f7567f4dbd0da6830           4.0          295.326162  \n9ac370ba1e5aa108afc187fd57ce9442           4.0           56.689266  \n867baeb0278332d0ec8a169c3d4b1486           3.0           18.158275  \n...                                        ...                 ...  \n26cad9c9ba313f4f4883570a88f5460c           5.0          181.539605  \ne41193588c849790e4c162a04e7d4d69           4.0          826.116829  \n8fa9794287d53baf3d08e2fd2d73a44f           5.0          295.110834  \n097922f64914c7cde32a46a54e299428           1.0          512.270773  \n1b547f8eeea20e082f1230c912937518           5.0          120.614782  \n\n[2735 rows x 7 columns]",
      "text/html": "<div>\n<style scoped>\n    .dataframe tbody tr th:only-of-type {\n        vertical-align: middle;\n    }\n\n    .dataframe tbody tr th {\n        vertical-align: top;\n    }\n\n    .dataframe thead th {\n        text-align: right;\n    }\n</style>\n<table border=\"1\" class=\"dataframe\">\n  <thead>\n    <tr style=\"text-align: right;\">\n      <th></th>\n      <th>order_purchase_timestamp</th>\n      <th>R (Récence)</th>\n      <th>f</th>\n      <th>m</th>\n      <th>delta_purchase_delivery</th>\n      <th>review_score</th>\n      <th>haversine_distance</th>\n    </tr>\n    <tr>\n      <th>customer_unique_id</th>\n      <th></th>\n      <th></th>\n      <th></th>\n      <th></th>\n      <th></th>\n      <th></th>\n      <th></th>\n    </tr>\n  </thead>\n  <tbody>\n    <tr>\n      <th>c154216d425e50fa232a228f6b9616bd</th>\n      <td>2017-10-09 23:55:59</td>\n      <td>1863</td>\n      <td>1</td>\n      <td>600.30</td>\n      <td>9.0</td>\n      <td>5.0</td>\n      <td>476.224116</td>\n    </tr>\n    <tr>\n      <th>cf8add60e7c0183121f770791961c035</th>\n      <td>2017-10-09 23:33:10</td>\n      <td>1863</td>\n      <td>1</td>\n      <td>22.68</td>\n      <td>3.0</td>\n      <td>5.0</td>\n      <td>8.665060</td>\n    </tr>\n    <tr>\n      <th>c2a0eb5fcaddf44f7567f4dbd0da6830</th>\n      <td>2017-10-09 23:27:36</td>\n      <td>1863</td>\n      <td>1</td>\n      <td>280.63</td>\n      <td>8.0</td>\n      <td>4.0</td>\n      <td>295.326162</td>\n    </tr>\n    <tr>\n      <th>9ac370ba1e5aa108afc187fd57ce9442</th>\n      <td>2017-10-09 23:26:55</td>\n      <td>1863</td>\n      <td>1</td>\n      <td>27.33</td>\n      <td>8.0</td>\n      <td>4.0</td>\n      <td>56.689266</td>\n    </tr>\n    <tr>\n      <th>867baeb0278332d0ec8a169c3d4b1486</th>\n      <td>2017-10-09 23:07:52</td>\n      <td>1863</td>\n      <td>1</td>\n      <td>195.22</td>\n      <td>16.0</td>\n      <td>3.0</td>\n      <td>18.158275</td>\n    </tr>\n    <tr>\n      <th>...</th>\n      <td>...</td>\n      <td>...</td>\n      <td>...</td>\n      <td>...</td>\n      <td>...</td>\n      <td>...</td>\n      <td>...</td>\n    </tr>\n    <tr>\n      <th>26cad9c9ba313f4f4883570a88f5460c</th>\n      <td>2017-09-19 02:06:24</td>\n      <td>1884</td>\n      <td>1</td>\n      <td>106.16</td>\n      <td>7.0</td>\n      <td>5.0</td>\n      <td>181.539605</td>\n    </tr>\n    <tr>\n      <th>e41193588c849790e4c162a04e7d4d69</th>\n      <td>2017-09-19 01:31:45</td>\n      <td>1884</td>\n      <td>1</td>\n      <td>65.56</td>\n      <td>22.0</td>\n      <td>4.0</td>\n      <td>826.116829</td>\n    </tr>\n    <tr>\n      <th>8fa9794287d53baf3d08e2fd2d73a44f</th>\n      <td>2017-09-19 00:19:17</td>\n      <td>1884</td>\n      <td>1</td>\n      <td>76.08</td>\n      <td>10.0</td>\n      <td>5.0</td>\n      <td>295.110834</td>\n    </tr>\n    <tr>\n      <th>097922f64914c7cde32a46a54e299428</th>\n      <td>2017-09-19 00:04:15</td>\n      <td>1884</td>\n      <td>1</td>\n      <td>264.48</td>\n      <td>16.0</td>\n      <td>1.0</td>\n      <td>512.270773</td>\n    </tr>\n    <tr>\n      <th>1b547f8eeea20e082f1230c912937518</th>\n      <td>2017-09-19 00:03:56</td>\n      <td>1884</td>\n      <td>1</td>\n      <td>101.63</td>\n      <td>13.0</td>\n      <td>5.0</td>\n      <td>120.614782</td>\n    </tr>\n  </tbody>\n</table>\n<p>2735 rows × 7 columns</p>\n</div>"
     },
     "execution_count": 39,
     "metadata": {},
     "output_type": "execute_result"
    }
   ],
   "source": [
    "df_inf_02 = df_inf_00.loc[(df_inf_00['order_purchase_timestamp'] > I_01) & (df_inf_00['order_purchase_timestamp'] <= I_02)]\n",
    "df_inf_02"
   ],
   "metadata": {
    "collapsed": false,
    "pycharm": {
     "name": "#%%\n"
    }
   }
  },
  {
   "cell_type": "code",
   "execution_count": 40,
   "outputs": [
    {
     "data": {
      "text/plain": "                                  R (Récence)  f       m  \\\ncustomer_unique_id                                         \nc154216d425e50fa232a228f6b9616bd         1863  1  600.30   \ncf8add60e7c0183121f770791961c035         1863  1   22.68   \nc2a0eb5fcaddf44f7567f4dbd0da6830         1863  1  280.63   \n9ac370ba1e5aa108afc187fd57ce9442         1863  1   27.33   \n867baeb0278332d0ec8a169c3d4b1486         1863  1  195.22   \n...                                       ... ..     ...   \n26cad9c9ba313f4f4883570a88f5460c         1884  1  106.16   \ne41193588c849790e4c162a04e7d4d69         1884  1   65.56   \n8fa9794287d53baf3d08e2fd2d73a44f         1884  1   76.08   \n097922f64914c7cde32a46a54e299428         1884  1  264.48   \n1b547f8eeea20e082f1230c912937518         1884  1  101.63   \n\n                                  delta_purchase_delivery  review_score  \\\ncustomer_unique_id                                                        \nc154216d425e50fa232a228f6b9616bd                      9.0           5.0   \ncf8add60e7c0183121f770791961c035                      3.0           5.0   \nc2a0eb5fcaddf44f7567f4dbd0da6830                      8.0           4.0   \n9ac370ba1e5aa108afc187fd57ce9442                      8.0           4.0   \n867baeb0278332d0ec8a169c3d4b1486                     16.0           3.0   \n...                                                   ...           ...   \n26cad9c9ba313f4f4883570a88f5460c                      7.0           5.0   \ne41193588c849790e4c162a04e7d4d69                     22.0           4.0   \n8fa9794287d53baf3d08e2fd2d73a44f                     10.0           5.0   \n097922f64914c7cde32a46a54e299428                     16.0           1.0   \n1b547f8eeea20e082f1230c912937518                     13.0           5.0   \n\n                                  haversine_distance  \ncustomer_unique_id                                    \nc154216d425e50fa232a228f6b9616bd          476.224116  \ncf8add60e7c0183121f770791961c035            8.665060  \nc2a0eb5fcaddf44f7567f4dbd0da6830          295.326162  \n9ac370ba1e5aa108afc187fd57ce9442           56.689266  \n867baeb0278332d0ec8a169c3d4b1486           18.158275  \n...                                              ...  \n26cad9c9ba313f4f4883570a88f5460c          181.539605  \ne41193588c849790e4c162a04e7d4d69          826.116829  \n8fa9794287d53baf3d08e2fd2d73a44f          295.110834  \n097922f64914c7cde32a46a54e299428          512.270773  \n1b547f8eeea20e082f1230c912937518          120.614782  \n\n[2735 rows x 6 columns]",
      "text/html": "<div>\n<style scoped>\n    .dataframe tbody tr th:only-of-type {\n        vertical-align: middle;\n    }\n\n    .dataframe tbody tr th {\n        vertical-align: top;\n    }\n\n    .dataframe thead th {\n        text-align: right;\n    }\n</style>\n<table border=\"1\" class=\"dataframe\">\n  <thead>\n    <tr style=\"text-align: right;\">\n      <th></th>\n      <th>R (Récence)</th>\n      <th>f</th>\n      <th>m</th>\n      <th>delta_purchase_delivery</th>\n      <th>review_score</th>\n      <th>haversine_distance</th>\n    </tr>\n    <tr>\n      <th>customer_unique_id</th>\n      <th></th>\n      <th></th>\n      <th></th>\n      <th></th>\n      <th></th>\n      <th></th>\n    </tr>\n  </thead>\n  <tbody>\n    <tr>\n      <th>c154216d425e50fa232a228f6b9616bd</th>\n      <td>1863</td>\n      <td>1</td>\n      <td>600.30</td>\n      <td>9.0</td>\n      <td>5.0</td>\n      <td>476.224116</td>\n    </tr>\n    <tr>\n      <th>cf8add60e7c0183121f770791961c035</th>\n      <td>1863</td>\n      <td>1</td>\n      <td>22.68</td>\n      <td>3.0</td>\n      <td>5.0</td>\n      <td>8.665060</td>\n    </tr>\n    <tr>\n      <th>c2a0eb5fcaddf44f7567f4dbd0da6830</th>\n      <td>1863</td>\n      <td>1</td>\n      <td>280.63</td>\n      <td>8.0</td>\n      <td>4.0</td>\n      <td>295.326162</td>\n    </tr>\n    <tr>\n      <th>9ac370ba1e5aa108afc187fd57ce9442</th>\n      <td>1863</td>\n      <td>1</td>\n      <td>27.33</td>\n      <td>8.0</td>\n      <td>4.0</td>\n      <td>56.689266</td>\n    </tr>\n    <tr>\n      <th>867baeb0278332d0ec8a169c3d4b1486</th>\n      <td>1863</td>\n      <td>1</td>\n      <td>195.22</td>\n      <td>16.0</td>\n      <td>3.0</td>\n      <td>18.158275</td>\n    </tr>\n    <tr>\n      <th>...</th>\n      <td>...</td>\n      <td>...</td>\n      <td>...</td>\n      <td>...</td>\n      <td>...</td>\n      <td>...</td>\n    </tr>\n    <tr>\n      <th>26cad9c9ba313f4f4883570a88f5460c</th>\n      <td>1884</td>\n      <td>1</td>\n      <td>106.16</td>\n      <td>7.0</td>\n      <td>5.0</td>\n      <td>181.539605</td>\n    </tr>\n    <tr>\n      <th>e41193588c849790e4c162a04e7d4d69</th>\n      <td>1884</td>\n      <td>1</td>\n      <td>65.56</td>\n      <td>22.0</td>\n      <td>4.0</td>\n      <td>826.116829</td>\n    </tr>\n    <tr>\n      <th>8fa9794287d53baf3d08e2fd2d73a44f</th>\n      <td>1884</td>\n      <td>1</td>\n      <td>76.08</td>\n      <td>10.0</td>\n      <td>5.0</td>\n      <td>295.110834</td>\n    </tr>\n    <tr>\n      <th>097922f64914c7cde32a46a54e299428</th>\n      <td>1884</td>\n      <td>1</td>\n      <td>264.48</td>\n      <td>16.0</td>\n      <td>1.0</td>\n      <td>512.270773</td>\n    </tr>\n    <tr>\n      <th>1b547f8eeea20e082f1230c912937518</th>\n      <td>1884</td>\n      <td>1</td>\n      <td>101.63</td>\n      <td>13.0</td>\n      <td>5.0</td>\n      <td>120.614782</td>\n    </tr>\n  </tbody>\n</table>\n<p>2735 rows × 6 columns</p>\n</div>"
     },
     "execution_count": 40,
     "metadata": {},
     "output_type": "execute_result"
    }
   ],
   "source": [
    "df_inf_02_ = df_inf_02[['R (Récence)', 'f', 'm', 'delta_purchase_delivery', 'review_score', 'haversine_distance']]\n",
    "df_inf_02_"
   ],
   "metadata": {
    "collapsed": false,
    "pycharm": {
     "name": "#%%\n"
    }
   }
  },
  {
   "cell_type": "code",
   "execution_count": 41,
   "outputs": [
    {
     "data": {
      "text/plain": "array([[0.00000000e+00, 0.00000000e+00, 4.28974380e-02, 6.10687023e-02,\n        1.00000000e+00, 2.31471335e-01],\n       [0.00000000e+00, 0.00000000e+00, 5.78784260e-04, 1.52671756e-02,\n        1.00000000e+00, 4.21169982e-03],\n       [0.00000000e+00, 0.00000000e+00, 1.94771893e-02, 5.34351145e-02,\n        7.50000000e-01, 1.43544896e-01],\n       ...,\n       [1.00000000e+00, 0.00000000e+00, 4.49107280e-03, 6.87022901e-02,\n        1.00000000e+00, 1.43440235e-01],\n       [1.00000000e+00, 0.00000000e+00, 1.82939784e-02, 1.14503817e-01,\n        0.00000000e+00, 2.48992010e-01],\n       [1.00000000e+00, 0.00000000e+00, 6.36296367e-03, 9.16030534e-02,\n        1.00000000e+00, 5.86254745e-02]])"
     },
     "execution_count": 41,
     "metadata": {},
     "output_type": "execute_result"
    }
   ],
   "source": [
    "df_inf_02_scaled = scaler.fit_transform(df_inf_02_)\n",
    "df_inf_02_scaled"
   ],
   "metadata": {
    "collapsed": false,
    "pycharm": {
     "name": "#%%\n"
    }
   }
  },
  {
   "cell_type": "code",
   "execution_count": 42,
   "outputs": [],
   "source": [
    "\n",
    "# Kmeans avec le k choisi\n",
    "\n",
    "kmeans_model_2 = KMeans(4, random_state=42)\n",
    "kmeans_model_2.fit(df_inf_02_scaled)\n",
    "\n",
    "# Etiquette\n",
    "labels_model_2 = kmeans_model_2.labels_\n"
   ],
   "metadata": {
    "collapsed": false,
    "pycharm": {
     "name": "#%%\n"
    }
   }
  },
  {
   "cell_type": "code",
   "execution_count": 43,
   "outputs": [
    {
     "data": {
      "text/plain": "array([2, 2, 2, ..., 1, 3, 1])"
     },
     "execution_count": 43,
     "metadata": {},
     "output_type": "execute_result"
    }
   ],
   "source": [
    "labels_model_2"
   ],
   "metadata": {
    "collapsed": false,
    "pycharm": {
     "name": "#%%\n"
    }
   }
  },
  {
   "cell_type": "code",
   "execution_count": 44,
   "outputs": [
    {
     "data": {
      "text/plain": "array([[0.00000000e+00, 0.00000000e+00, 4.28974380e-02, 6.10687023e-02,\n        1.00000000e+00, 2.31471335e-01],\n       [0.00000000e+00, 0.00000000e+00, 5.78784260e-04, 1.52671756e-02,\n        1.00000000e+00, 4.21169982e-03],\n       [0.00000000e+00, 0.00000000e+00, 1.94771893e-02, 5.34351145e-02,\n        7.50000000e-01, 1.43544896e-01],\n       ...,\n       [1.00000000e+00, 0.00000000e+00, 4.49107280e-03, 6.87022901e-02,\n        1.00000000e+00, 1.43440235e-01],\n       [1.00000000e+00, 0.00000000e+00, 1.82939784e-02, 1.14503817e-01,\n        0.00000000e+00, 2.48992010e-01],\n       [1.00000000e+00, 0.00000000e+00, 6.36296367e-03, 9.16030534e-02,\n        1.00000000e+00, 5.86254745e-02]])"
     },
     "execution_count": 44,
     "metadata": {},
     "output_type": "execute_result"
    }
   ],
   "source": [
    "df_inf_02_scaled = scaler.fit_transform(df_inf_02_)\n",
    "df_inf_02_scaled"
   ],
   "metadata": {
    "collapsed": false,
    "pycharm": {
     "name": "#%%\n"
    }
   }
  },
  {
   "cell_type": "code",
   "execution_count": 45,
   "outputs": [],
   "source": [
    "labels_predict_2 = kmeans_model_1.predict(df_inf_02_scaled)"
   ],
   "metadata": {
    "collapsed": false,
    "pycharm": {
     "name": "#%%\n"
    }
   }
  },
  {
   "cell_type": "code",
   "execution_count": 46,
   "outputs": [
    {
     "data": {
      "text/plain": "array([2, 2, 2, ..., 1, 3, 1])"
     },
     "execution_count": 46,
     "metadata": {},
     "output_type": "execute_result"
    }
   ],
   "source": [
    "labels_predict_2"
   ],
   "metadata": {
    "collapsed": false,
    "pycharm": {
     "name": "#%%\n"
    }
   }
  },
  {
   "cell_type": "code",
   "execution_count": 47,
   "outputs": [
    {
     "data": {
      "text/plain": "0.9703524800217207"
     },
     "execution_count": 47,
     "metadata": {},
     "output_type": "execute_result"
    }
   ],
   "source": [
    "ari_02 = adjusted_rand_score(labels_model_2, labels_predict_2)\n",
    "ari_02"
   ],
   "metadata": {
    "collapsed": false,
    "pycharm": {
     "name": "#%%\n"
    }
   }
  },
  {
   "cell_type": "code",
   "execution_count": 48,
   "outputs": [
    {
     "data": {
      "text/plain": "{'2017-09-19': 0.6864551842612211,\n Timestamp('2017-10-10 00:00:00'): 0.9703524800217207}"
     },
     "execution_count": 48,
     "metadata": {},
     "output_type": "execute_result"
    }
   ],
   "source": [
    "ari_score[I_02] = ari_02\n",
    "ari_score"
   ],
   "metadata": {
    "collapsed": false,
    "pycharm": {
     "name": "#%%\n"
    }
   }
  },
  {
   "cell_type": "markdown",
   "source": [
    "####\n",
    "### Intervalle 3"
   ],
   "metadata": {
    "collapsed": false,
    "pycharm": {
     "name": "#%% md\n"
    }
   }
  },
  {
   "cell_type": "code",
   "execution_count": 49,
   "outputs": [
    {
     "data": {
      "text/plain": "Timestamp('2017-10-31 00:00:00')"
     },
     "execution_count": 49,
     "metadata": {},
     "output_type": "execute_result"
    }
   ],
   "source": [
    "I_03 = additional_period(I_02, nj, last_order_date)\n",
    "I_03"
   ],
   "metadata": {
    "collapsed": false,
    "pycharm": {
     "name": "#%%\n"
    }
   }
  },
  {
   "cell_type": "code",
   "execution_count": 50,
   "outputs": [
    {
     "data": {
      "text/plain": "                                 order_purchase_timestamp  R (Récence)  f  \\\ncustomer_unique_id                                                          \n7076410a88aad104a29286c43a894453      2017-10-30 23:58:49         1842  1   \n1e93052ca04eb5b8acffe45b9b6bb66c      2017-10-30 23:55:00         1842  1   \nc379a32aeeabb565ff46fb859ffd85fa      2017-10-30 23:52:37         1842  1   \nbe15cf7cb42b3cc516cd4c5188cf2fb6      2017-10-30 23:33:31         1842  1   \nb84bbab81298049dc58935109becbbcd      2017-10-30 23:31:49         1842  1   \n...                                                   ...          ... ..   \nb58f03f2b8052e2284e206fc895778e1      2017-10-10 01:08:25         1863  1   \nd8040447345a69f29cc595c5c6df5b3b      2017-10-10 01:06:52         1863  1   \n92229a5aec9b0ce20826be85c841baa3      2017-10-10 00:45:51         1863  1   \n442744b6da00323e5f67a7414cfdf670      2017-10-10 00:07:07         1863  1   \n820670a5bb74b9574d2688fc39f2345e      2017-10-10 00:03:12         1863  1   \n\n                                       m  delta_purchase_delivery  \\\ncustomer_unique_id                                                  \n7076410a88aad104a29286c43a894453  319.11                      8.0   \n1e93052ca04eb5b8acffe45b9b6bb66c   60.53                     24.0   \nc379a32aeeabb565ff46fb859ffd85fa  279.04                      7.0   \nbe15cf7cb42b3cc516cd4c5188cf2fb6   61.01                      8.0   \nb84bbab81298049dc58935109becbbcd  112.76                      7.0   \n...                                  ...                      ...   \nb58f03f2b8052e2284e206fc895778e1   28.75                     10.0   \nd8040447345a69f29cc595c5c6df5b3b  100.83                      7.0   \n92229a5aec9b0ce20826be85c841baa3  330.52                     15.0   \n442744b6da00323e5f67a7414cfdf670   57.68                      7.0   \n820670a5bb74b9574d2688fc39f2345e   66.60                     14.0   \n\n                                  review_score  haversine_distance  \ncustomer_unique_id                                                  \n7076410a88aad104a29286c43a894453           5.0          695.251930  \n1e93052ca04eb5b8acffe45b9b6bb66c           5.0         1497.234912  \nc379a32aeeabb565ff46fb859ffd85fa           5.0           23.122933  \nbe15cf7cb42b3cc516cd4c5188cf2fb6           5.0          257.678579  \nb84bbab81298049dc58935109becbbcd           5.0          316.108377  \n...                                        ...                 ...  \nb58f03f2b8052e2284e206fc895778e1           5.0          290.672842  \nd8040447345a69f29cc595c5c6df5b3b           1.0          334.541188  \n92229a5aec9b0ce20826be85c841baa3           5.0          822.518902  \n442744b6da00323e5f67a7414cfdf670           5.0           10.055505  \n820670a5bb74b9574d2688fc39f2345e           5.0          224.855226  \n\n[2920 rows x 7 columns]",
      "text/html": "<div>\n<style scoped>\n    .dataframe tbody tr th:only-of-type {\n        vertical-align: middle;\n    }\n\n    .dataframe tbody tr th {\n        vertical-align: top;\n    }\n\n    .dataframe thead th {\n        text-align: right;\n    }\n</style>\n<table border=\"1\" class=\"dataframe\">\n  <thead>\n    <tr style=\"text-align: right;\">\n      <th></th>\n      <th>order_purchase_timestamp</th>\n      <th>R (Récence)</th>\n      <th>f</th>\n      <th>m</th>\n      <th>delta_purchase_delivery</th>\n      <th>review_score</th>\n      <th>haversine_distance</th>\n    </tr>\n    <tr>\n      <th>customer_unique_id</th>\n      <th></th>\n      <th></th>\n      <th></th>\n      <th></th>\n      <th></th>\n      <th></th>\n      <th></th>\n    </tr>\n  </thead>\n  <tbody>\n    <tr>\n      <th>7076410a88aad104a29286c43a894453</th>\n      <td>2017-10-30 23:58:49</td>\n      <td>1842</td>\n      <td>1</td>\n      <td>319.11</td>\n      <td>8.0</td>\n      <td>5.0</td>\n      <td>695.251930</td>\n    </tr>\n    <tr>\n      <th>1e93052ca04eb5b8acffe45b9b6bb66c</th>\n      <td>2017-10-30 23:55:00</td>\n      <td>1842</td>\n      <td>1</td>\n      <td>60.53</td>\n      <td>24.0</td>\n      <td>5.0</td>\n      <td>1497.234912</td>\n    </tr>\n    <tr>\n      <th>c379a32aeeabb565ff46fb859ffd85fa</th>\n      <td>2017-10-30 23:52:37</td>\n      <td>1842</td>\n      <td>1</td>\n      <td>279.04</td>\n      <td>7.0</td>\n      <td>5.0</td>\n      <td>23.122933</td>\n    </tr>\n    <tr>\n      <th>be15cf7cb42b3cc516cd4c5188cf2fb6</th>\n      <td>2017-10-30 23:33:31</td>\n      <td>1842</td>\n      <td>1</td>\n      <td>61.01</td>\n      <td>8.0</td>\n      <td>5.0</td>\n      <td>257.678579</td>\n    </tr>\n    <tr>\n      <th>b84bbab81298049dc58935109becbbcd</th>\n      <td>2017-10-30 23:31:49</td>\n      <td>1842</td>\n      <td>1</td>\n      <td>112.76</td>\n      <td>7.0</td>\n      <td>5.0</td>\n      <td>316.108377</td>\n    </tr>\n    <tr>\n      <th>...</th>\n      <td>...</td>\n      <td>...</td>\n      <td>...</td>\n      <td>...</td>\n      <td>...</td>\n      <td>...</td>\n      <td>...</td>\n    </tr>\n    <tr>\n      <th>b58f03f2b8052e2284e206fc895778e1</th>\n      <td>2017-10-10 01:08:25</td>\n      <td>1863</td>\n      <td>1</td>\n      <td>28.75</td>\n      <td>10.0</td>\n      <td>5.0</td>\n      <td>290.672842</td>\n    </tr>\n    <tr>\n      <th>d8040447345a69f29cc595c5c6df5b3b</th>\n      <td>2017-10-10 01:06:52</td>\n      <td>1863</td>\n      <td>1</td>\n      <td>100.83</td>\n      <td>7.0</td>\n      <td>1.0</td>\n      <td>334.541188</td>\n    </tr>\n    <tr>\n      <th>92229a5aec9b0ce20826be85c841baa3</th>\n      <td>2017-10-10 00:45:51</td>\n      <td>1863</td>\n      <td>1</td>\n      <td>330.52</td>\n      <td>15.0</td>\n      <td>5.0</td>\n      <td>822.518902</td>\n    </tr>\n    <tr>\n      <th>442744b6da00323e5f67a7414cfdf670</th>\n      <td>2017-10-10 00:07:07</td>\n      <td>1863</td>\n      <td>1</td>\n      <td>57.68</td>\n      <td>7.0</td>\n      <td>5.0</td>\n      <td>10.055505</td>\n    </tr>\n    <tr>\n      <th>820670a5bb74b9574d2688fc39f2345e</th>\n      <td>2017-10-10 00:03:12</td>\n      <td>1863</td>\n      <td>1</td>\n      <td>66.60</td>\n      <td>14.0</td>\n      <td>5.0</td>\n      <td>224.855226</td>\n    </tr>\n  </tbody>\n</table>\n<p>2920 rows × 7 columns</p>\n</div>"
     },
     "execution_count": 50,
     "metadata": {},
     "output_type": "execute_result"
    }
   ],
   "source": [
    "df_inf_03 = df_inf_00.loc[(df_inf_00['order_purchase_timestamp'] > I_02) & (df_inf_00['order_purchase_timestamp'] <= I_03)]\n",
    "df_inf_03"
   ],
   "metadata": {
    "collapsed": false,
    "pycharm": {
     "name": "#%%\n"
    }
   }
  },
  {
   "cell_type": "code",
   "execution_count": 51,
   "outputs": [
    {
     "data": {
      "text/plain": "                                  R (Récence)  f       m  \\\ncustomer_unique_id                                         \n7076410a88aad104a29286c43a894453         1842  1  319.11   \n1e93052ca04eb5b8acffe45b9b6bb66c         1842  1   60.53   \nc379a32aeeabb565ff46fb859ffd85fa         1842  1  279.04   \nbe15cf7cb42b3cc516cd4c5188cf2fb6         1842  1   61.01   \nb84bbab81298049dc58935109becbbcd         1842  1  112.76   \n...                                       ... ..     ...   \nb58f03f2b8052e2284e206fc895778e1         1863  1   28.75   \nd8040447345a69f29cc595c5c6df5b3b         1863  1  100.83   \n92229a5aec9b0ce20826be85c841baa3         1863  1  330.52   \n442744b6da00323e5f67a7414cfdf670         1863  1   57.68   \n820670a5bb74b9574d2688fc39f2345e         1863  1   66.60   \n\n                                  delta_purchase_delivery  review_score  \\\ncustomer_unique_id                                                        \n7076410a88aad104a29286c43a894453                      8.0           5.0   \n1e93052ca04eb5b8acffe45b9b6bb66c                     24.0           5.0   \nc379a32aeeabb565ff46fb859ffd85fa                      7.0           5.0   \nbe15cf7cb42b3cc516cd4c5188cf2fb6                      8.0           5.0   \nb84bbab81298049dc58935109becbbcd                      7.0           5.0   \n...                                                   ...           ...   \nb58f03f2b8052e2284e206fc895778e1                     10.0           5.0   \nd8040447345a69f29cc595c5c6df5b3b                      7.0           1.0   \n92229a5aec9b0ce20826be85c841baa3                     15.0           5.0   \n442744b6da00323e5f67a7414cfdf670                      7.0           5.0   \n820670a5bb74b9574d2688fc39f2345e                     14.0           5.0   \n\n                                  haversine_distance  \ncustomer_unique_id                                    \n7076410a88aad104a29286c43a894453          695.251930  \n1e93052ca04eb5b8acffe45b9b6bb66c         1497.234912  \nc379a32aeeabb565ff46fb859ffd85fa           23.122933  \nbe15cf7cb42b3cc516cd4c5188cf2fb6          257.678579  \nb84bbab81298049dc58935109becbbcd          316.108377  \n...                                              ...  \nb58f03f2b8052e2284e206fc895778e1          290.672842  \nd8040447345a69f29cc595c5c6df5b3b          334.541188  \n92229a5aec9b0ce20826be85c841baa3          822.518902  \n442744b6da00323e5f67a7414cfdf670           10.055505  \n820670a5bb74b9574d2688fc39f2345e          224.855226  \n\n[2920 rows x 6 columns]",
      "text/html": "<div>\n<style scoped>\n    .dataframe tbody tr th:only-of-type {\n        vertical-align: middle;\n    }\n\n    .dataframe tbody tr th {\n        vertical-align: top;\n    }\n\n    .dataframe thead th {\n        text-align: right;\n    }\n</style>\n<table border=\"1\" class=\"dataframe\">\n  <thead>\n    <tr style=\"text-align: right;\">\n      <th></th>\n      <th>R (Récence)</th>\n      <th>f</th>\n      <th>m</th>\n      <th>delta_purchase_delivery</th>\n      <th>review_score</th>\n      <th>haversine_distance</th>\n    </tr>\n    <tr>\n      <th>customer_unique_id</th>\n      <th></th>\n      <th></th>\n      <th></th>\n      <th></th>\n      <th></th>\n      <th></th>\n    </tr>\n  </thead>\n  <tbody>\n    <tr>\n      <th>7076410a88aad104a29286c43a894453</th>\n      <td>1842</td>\n      <td>1</td>\n      <td>319.11</td>\n      <td>8.0</td>\n      <td>5.0</td>\n      <td>695.251930</td>\n    </tr>\n    <tr>\n      <th>1e93052ca04eb5b8acffe45b9b6bb66c</th>\n      <td>1842</td>\n      <td>1</td>\n      <td>60.53</td>\n      <td>24.0</td>\n      <td>5.0</td>\n      <td>1497.234912</td>\n    </tr>\n    <tr>\n      <th>c379a32aeeabb565ff46fb859ffd85fa</th>\n      <td>1842</td>\n      <td>1</td>\n      <td>279.04</td>\n      <td>7.0</td>\n      <td>5.0</td>\n      <td>23.122933</td>\n    </tr>\n    <tr>\n      <th>be15cf7cb42b3cc516cd4c5188cf2fb6</th>\n      <td>1842</td>\n      <td>1</td>\n      <td>61.01</td>\n      <td>8.0</td>\n      <td>5.0</td>\n      <td>257.678579</td>\n    </tr>\n    <tr>\n      <th>b84bbab81298049dc58935109becbbcd</th>\n      <td>1842</td>\n      <td>1</td>\n      <td>112.76</td>\n      <td>7.0</td>\n      <td>5.0</td>\n      <td>316.108377</td>\n    </tr>\n    <tr>\n      <th>...</th>\n      <td>...</td>\n      <td>...</td>\n      <td>...</td>\n      <td>...</td>\n      <td>...</td>\n      <td>...</td>\n    </tr>\n    <tr>\n      <th>b58f03f2b8052e2284e206fc895778e1</th>\n      <td>1863</td>\n      <td>1</td>\n      <td>28.75</td>\n      <td>10.0</td>\n      <td>5.0</td>\n      <td>290.672842</td>\n    </tr>\n    <tr>\n      <th>d8040447345a69f29cc595c5c6df5b3b</th>\n      <td>1863</td>\n      <td>1</td>\n      <td>100.83</td>\n      <td>7.0</td>\n      <td>1.0</td>\n      <td>334.541188</td>\n    </tr>\n    <tr>\n      <th>92229a5aec9b0ce20826be85c841baa3</th>\n      <td>1863</td>\n      <td>1</td>\n      <td>330.52</td>\n      <td>15.0</td>\n      <td>5.0</td>\n      <td>822.518902</td>\n    </tr>\n    <tr>\n      <th>442744b6da00323e5f67a7414cfdf670</th>\n      <td>1863</td>\n      <td>1</td>\n      <td>57.68</td>\n      <td>7.0</td>\n      <td>5.0</td>\n      <td>10.055505</td>\n    </tr>\n    <tr>\n      <th>820670a5bb74b9574d2688fc39f2345e</th>\n      <td>1863</td>\n      <td>1</td>\n      <td>66.60</td>\n      <td>14.0</td>\n      <td>5.0</td>\n      <td>224.855226</td>\n    </tr>\n  </tbody>\n</table>\n<p>2920 rows × 6 columns</p>\n</div>"
     },
     "execution_count": 51,
     "metadata": {},
     "output_type": "execute_result"
    }
   ],
   "source": [
    "df_inf_03_ = df_inf_03[['R (Récence)', 'f', 'm', 'delta_purchase_delivery', 'review_score', 'haversine_distance']]\n",
    "df_inf_03_"
   ],
   "metadata": {
    "collapsed": false,
    "pycharm": {
     "name": "#%%\n"
    }
   }
  },
  {
   "cell_type": "code",
   "execution_count": 52,
   "outputs": [
    {
     "data": {
      "text/plain": "array([[0.        , 0.        , 0.09871359, 0.06481481, 1.        ,\n        0.33734002],\n       [0.        , 0.        , 0.01569889, 0.21296296, 1.        ,\n        0.72646652],\n       [0.        , 0.        , 0.08584949, 0.05555556, 1.        ,\n        0.01121937],\n       ...,\n       [1.        , 0.        , 0.10237666, 0.12962963, 1.        ,\n        0.39909064],\n       [1.        , 0.        , 0.01478392, 0.05555556, 1.        ,\n        0.00487899],\n       [1.        , 0.        , 0.01764761, 0.12037037, 1.        ,\n        0.10910098]])"
     },
     "execution_count": 52,
     "metadata": {},
     "output_type": "execute_result"
    }
   ],
   "source": [
    "df_inf_03_scaled = scaler.fit_transform(df_inf_03_)\n",
    "df_inf_03_scaled"
   ],
   "metadata": {
    "collapsed": false,
    "pycharm": {
     "name": "#%%\n"
    }
   }
  },
  {
   "cell_type": "code",
   "execution_count": 53,
   "outputs": [],
   "source": [
    "\n",
    "# Kmeans avec le k choisi\n",
    "\n",
    "kmeans_model_3 = KMeans(4, random_state=42)\n",
    "kmeans_model_3.fit(df_inf_03_scaled)\n",
    "\n",
    "# Etiquette\n",
    "labels_model_3 = kmeans_model_3.labels_"
   ],
   "metadata": {
    "collapsed": false,
    "pycharm": {
     "name": "#%%\n"
    }
   }
  },
  {
   "cell_type": "code",
   "execution_count": 54,
   "outputs": [
    {
     "data": {
      "text/plain": "array([2, 3, 2, ..., 0, 0, 0])"
     },
     "execution_count": 54,
     "metadata": {},
     "output_type": "execute_result"
    }
   ],
   "source": [
    "labels_model_3"
   ],
   "metadata": {
    "collapsed": false,
    "pycharm": {
     "name": "#%%\n"
    }
   }
  },
  {
   "cell_type": "code",
   "execution_count": 55,
   "outputs": [
    {
     "data": {
      "text/plain": "array([2, 0, 2, ..., 1, 1, 1])"
     },
     "execution_count": 55,
     "metadata": {},
     "output_type": "execute_result"
    }
   ],
   "source": [
    "labels_predict_3 = kmeans_model_2.predict(df_inf_03_scaled)\n",
    "labels_predict_3"
   ],
   "metadata": {
    "collapsed": false,
    "pycharm": {
     "name": "#%%\n"
    }
   }
  },
  {
   "cell_type": "code",
   "execution_count": 56,
   "outputs": [
    {
     "data": {
      "text/plain": "0.9556678730363262"
     },
     "execution_count": 56,
     "metadata": {},
     "output_type": "execute_result"
    }
   ],
   "source": [
    "\n",
    "ari_03 = adjusted_rand_score(labels_model_3, labels_predict_3)\n",
    "ari_03"
   ],
   "metadata": {
    "collapsed": false,
    "pycharm": {
     "name": "#%%\n"
    }
   }
  },
  {
   "cell_type": "code",
   "execution_count": 57,
   "outputs": [
    {
     "data": {
      "text/plain": "{'2017-09-19': 0.6864551842612211,\n Timestamp('2017-10-10 00:00:00'): 0.9703524800217207,\n Timestamp('2017-10-31 00:00:00'): 0.9556678730363262}"
     },
     "execution_count": 57,
     "metadata": {},
     "output_type": "execute_result"
    }
   ],
   "source": [
    "ari_score[I_03] = ari_03\n",
    "ari_score"
   ],
   "metadata": {
    "collapsed": false,
    "pycharm": {
     "name": "#%%\n"
    }
   }
  },
  {
   "cell_type": "markdown",
   "source": [
    "####\n",
    "### Intervalle 4"
   ],
   "metadata": {
    "collapsed": false,
    "pycharm": {
     "name": "#%% md\n"
    }
   }
  },
  {
   "cell_type": "code",
   "execution_count": 58,
   "outputs": [
    {
     "data": {
      "text/plain": "Timestamp('2017-11-21 00:00:00')"
     },
     "execution_count": 58,
     "metadata": {},
     "output_type": "execute_result"
    }
   ],
   "source": [
    "I_04 = additional_period(I_03, nj, last_order_date)\n",
    "I_04"
   ],
   "metadata": {
    "collapsed": false,
    "pycharm": {
     "name": "#%%\n"
    }
   }
  },
  {
   "cell_type": "code",
   "execution_count": 59,
   "outputs": [
    {
     "data": {
      "text/plain": "                                 order_purchase_timestamp  R (Récence)  f  \\\ncustomer_unique_id                                                          \n58f4f93513df408ed8b2c2469e5cf33c      2017-11-20 23:45:24         1821  1   \n9e823cb684444e4ff997099a6c110539      2017-11-20 23:42:30         1821  1   \nb29bd5c2f25523fa4754d058fd513707      2017-11-20 23:34:26         1821  2   \necb12d670b10e511edd56ecda04c7314      2017-11-20 23:27:27         1821  1   \n9318503cd3fcb28ff64924992bfc4e06      2017-11-20 23:07:17         1821  1   \n...                                                   ...          ... ..   \n35173058d3ac45f25ca1e8a216011e9a      2017-10-31 07:15:11         1842  1   \n1c72075103f417245b9f15c1287fd6e4      2017-10-31 04:57:41         1842  1   \nc8003923bd1dd8512c7ec0a94a215366      2017-10-31 04:16:46         1842  1   \n2ac6f6d09c75bb721defa2eb7a4f52a1      2017-10-31 00:48:08         1842  2   \na9b61ba333b469e49f16885f14ac6b40      2017-10-31 00:01:18         1842  1   \n\n                                       m  delta_purchase_delivery  \\\ncustomer_unique_id                                                  \n58f4f93513df408ed8b2c2469e5cf33c  116.06                     28.0   \n9e823cb684444e4ff997099a6c110539   60.37                      7.0   \nb29bd5c2f25523fa4754d058fd513707  137.54                      3.0   \necb12d670b10e511edd56ecda04c7314  102.23                      2.0   \n9318503cd3fcb28ff64924992bfc4e06   89.63                      9.0   \n...                                  ...                      ...   \n35173058d3ac45f25ca1e8a216011e9a   35.00                     17.0   \n1c72075103f417245b9f15c1287fd6e4  167.51                      9.0   \nc8003923bd1dd8512c7ec0a94a215366   55.24                      6.0   \n2ac6f6d09c75bb721defa2eb7a4f52a1   78.51                     13.0   \na9b61ba333b469e49f16885f14ac6b40   81.73                      1.0   \n\n                                  review_score  haversine_distance  \ncustomer_unique_id                                                  \n58f4f93513df408ed8b2c2469e5cf33c           1.0          219.318771  \n9e823cb684444e4ff997099a6c110539           5.0          177.579959  \nb29bd5c2f25523fa4754d058fd513707           5.0           75.540465  \necb12d670b10e511edd56ecda04c7314           5.0           74.063621  \n9318503cd3fcb28ff64924992bfc4e06           4.0          896.434000  \n...                                        ...                 ...  \n35173058d3ac45f25ca1e8a216011e9a           5.0          434.265506  \n1c72075103f417245b9f15c1287fd6e4           5.0          504.585884  \nc8003923bd1dd8512c7ec0a94a215366           5.0           42.387200  \n2ac6f6d09c75bb721defa2eb7a4f52a1           4.0          605.045616  \na9b61ba333b469e49f16885f14ac6b40           5.0           10.343277  \n\n[3280 rows x 7 columns]",
      "text/html": "<div>\n<style scoped>\n    .dataframe tbody tr th:only-of-type {\n        vertical-align: middle;\n    }\n\n    .dataframe tbody tr th {\n        vertical-align: top;\n    }\n\n    .dataframe thead th {\n        text-align: right;\n    }\n</style>\n<table border=\"1\" class=\"dataframe\">\n  <thead>\n    <tr style=\"text-align: right;\">\n      <th></th>\n      <th>order_purchase_timestamp</th>\n      <th>R (Récence)</th>\n      <th>f</th>\n      <th>m</th>\n      <th>delta_purchase_delivery</th>\n      <th>review_score</th>\n      <th>haversine_distance</th>\n    </tr>\n    <tr>\n      <th>customer_unique_id</th>\n      <th></th>\n      <th></th>\n      <th></th>\n      <th></th>\n      <th></th>\n      <th></th>\n      <th></th>\n    </tr>\n  </thead>\n  <tbody>\n    <tr>\n      <th>58f4f93513df408ed8b2c2469e5cf33c</th>\n      <td>2017-11-20 23:45:24</td>\n      <td>1821</td>\n      <td>1</td>\n      <td>116.06</td>\n      <td>28.0</td>\n      <td>1.0</td>\n      <td>219.318771</td>\n    </tr>\n    <tr>\n      <th>9e823cb684444e4ff997099a6c110539</th>\n      <td>2017-11-20 23:42:30</td>\n      <td>1821</td>\n      <td>1</td>\n      <td>60.37</td>\n      <td>7.0</td>\n      <td>5.0</td>\n      <td>177.579959</td>\n    </tr>\n    <tr>\n      <th>b29bd5c2f25523fa4754d058fd513707</th>\n      <td>2017-11-20 23:34:26</td>\n      <td>1821</td>\n      <td>2</td>\n      <td>137.54</td>\n      <td>3.0</td>\n      <td>5.0</td>\n      <td>75.540465</td>\n    </tr>\n    <tr>\n      <th>ecb12d670b10e511edd56ecda04c7314</th>\n      <td>2017-11-20 23:27:27</td>\n      <td>1821</td>\n      <td>1</td>\n      <td>102.23</td>\n      <td>2.0</td>\n      <td>5.0</td>\n      <td>74.063621</td>\n    </tr>\n    <tr>\n      <th>9318503cd3fcb28ff64924992bfc4e06</th>\n      <td>2017-11-20 23:07:17</td>\n      <td>1821</td>\n      <td>1</td>\n      <td>89.63</td>\n      <td>9.0</td>\n      <td>4.0</td>\n      <td>896.434000</td>\n    </tr>\n    <tr>\n      <th>...</th>\n      <td>...</td>\n      <td>...</td>\n      <td>...</td>\n      <td>...</td>\n      <td>...</td>\n      <td>...</td>\n      <td>...</td>\n    </tr>\n    <tr>\n      <th>35173058d3ac45f25ca1e8a216011e9a</th>\n      <td>2017-10-31 07:15:11</td>\n      <td>1842</td>\n      <td>1</td>\n      <td>35.00</td>\n      <td>17.0</td>\n      <td>5.0</td>\n      <td>434.265506</td>\n    </tr>\n    <tr>\n      <th>1c72075103f417245b9f15c1287fd6e4</th>\n      <td>2017-10-31 04:57:41</td>\n      <td>1842</td>\n      <td>1</td>\n      <td>167.51</td>\n      <td>9.0</td>\n      <td>5.0</td>\n      <td>504.585884</td>\n    </tr>\n    <tr>\n      <th>c8003923bd1dd8512c7ec0a94a215366</th>\n      <td>2017-10-31 04:16:46</td>\n      <td>1842</td>\n      <td>1</td>\n      <td>55.24</td>\n      <td>6.0</td>\n      <td>5.0</td>\n      <td>42.387200</td>\n    </tr>\n    <tr>\n      <th>2ac6f6d09c75bb721defa2eb7a4f52a1</th>\n      <td>2017-10-31 00:48:08</td>\n      <td>1842</td>\n      <td>2</td>\n      <td>78.51</td>\n      <td>13.0</td>\n      <td>4.0</td>\n      <td>605.045616</td>\n    </tr>\n    <tr>\n      <th>a9b61ba333b469e49f16885f14ac6b40</th>\n      <td>2017-10-31 00:01:18</td>\n      <td>1842</td>\n      <td>1</td>\n      <td>81.73</td>\n      <td>1.0</td>\n      <td>5.0</td>\n      <td>10.343277</td>\n    </tr>\n  </tbody>\n</table>\n<p>3280 rows × 7 columns</p>\n</div>"
     },
     "execution_count": 59,
     "metadata": {},
     "output_type": "execute_result"
    }
   ],
   "source": [
    "df_inf_04 = df_inf_00.loc[\n",
    "    (df_inf_00['order_purchase_timestamp'] > I_03) & (df_inf_00['order_purchase_timestamp'] <= I_04)]\n",
    "df_inf_04"
   ],
   "metadata": {
    "collapsed": false,
    "pycharm": {
     "name": "#%%\n"
    }
   }
  },
  {
   "cell_type": "code",
   "execution_count": 60,
   "outputs": [
    {
     "data": {
      "text/plain": "                                  R (Récence)  f       m  \\\ncustomer_unique_id                                         \n58f4f93513df408ed8b2c2469e5cf33c         1821  1  116.06   \n9e823cb684444e4ff997099a6c110539         1821  1   60.37   \nb29bd5c2f25523fa4754d058fd513707         1821  2  137.54   \necb12d670b10e511edd56ecda04c7314         1821  1  102.23   \n9318503cd3fcb28ff64924992bfc4e06         1821  1   89.63   \n...                                       ... ..     ...   \n35173058d3ac45f25ca1e8a216011e9a         1842  1   35.00   \n1c72075103f417245b9f15c1287fd6e4         1842  1  167.51   \nc8003923bd1dd8512c7ec0a94a215366         1842  1   55.24   \n2ac6f6d09c75bb721defa2eb7a4f52a1         1842  2   78.51   \na9b61ba333b469e49f16885f14ac6b40         1842  1   81.73   \n\n                                  delta_purchase_delivery  review_score  \\\ncustomer_unique_id                                                        \n58f4f93513df408ed8b2c2469e5cf33c                     28.0           1.0   \n9e823cb684444e4ff997099a6c110539                      7.0           5.0   \nb29bd5c2f25523fa4754d058fd513707                      3.0           5.0   \necb12d670b10e511edd56ecda04c7314                      2.0           5.0   \n9318503cd3fcb28ff64924992bfc4e06                      9.0           4.0   \n...                                                   ...           ...   \n35173058d3ac45f25ca1e8a216011e9a                     17.0           5.0   \n1c72075103f417245b9f15c1287fd6e4                      9.0           5.0   \nc8003923bd1dd8512c7ec0a94a215366                      6.0           5.0   \n2ac6f6d09c75bb721defa2eb7a4f52a1                     13.0           4.0   \na9b61ba333b469e49f16885f14ac6b40                      1.0           5.0   \n\n                                  haversine_distance  \ncustomer_unique_id                                    \n58f4f93513df408ed8b2c2469e5cf33c          219.318771  \n9e823cb684444e4ff997099a6c110539          177.579959  \nb29bd5c2f25523fa4754d058fd513707           75.540465  \necb12d670b10e511edd56ecda04c7314           74.063621  \n9318503cd3fcb28ff64924992bfc4e06          896.434000  \n...                                              ...  \n35173058d3ac45f25ca1e8a216011e9a          434.265506  \n1c72075103f417245b9f15c1287fd6e4          504.585884  \nc8003923bd1dd8512c7ec0a94a215366           42.387200  \n2ac6f6d09c75bb721defa2eb7a4f52a1          605.045616  \na9b61ba333b469e49f16885f14ac6b40           10.343277  \n\n[3280 rows x 6 columns]",
      "text/html": "<div>\n<style scoped>\n    .dataframe tbody tr th:only-of-type {\n        vertical-align: middle;\n    }\n\n    .dataframe tbody tr th {\n        vertical-align: top;\n    }\n\n    .dataframe thead th {\n        text-align: right;\n    }\n</style>\n<table border=\"1\" class=\"dataframe\">\n  <thead>\n    <tr style=\"text-align: right;\">\n      <th></th>\n      <th>R (Récence)</th>\n      <th>f</th>\n      <th>m</th>\n      <th>delta_purchase_delivery</th>\n      <th>review_score</th>\n      <th>haversine_distance</th>\n    </tr>\n    <tr>\n      <th>customer_unique_id</th>\n      <th></th>\n      <th></th>\n      <th></th>\n      <th></th>\n      <th></th>\n      <th></th>\n    </tr>\n  </thead>\n  <tbody>\n    <tr>\n      <th>58f4f93513df408ed8b2c2469e5cf33c</th>\n      <td>1821</td>\n      <td>1</td>\n      <td>116.06</td>\n      <td>28.0</td>\n      <td>1.0</td>\n      <td>219.318771</td>\n    </tr>\n    <tr>\n      <th>9e823cb684444e4ff997099a6c110539</th>\n      <td>1821</td>\n      <td>1</td>\n      <td>60.37</td>\n      <td>7.0</td>\n      <td>5.0</td>\n      <td>177.579959</td>\n    </tr>\n    <tr>\n      <th>b29bd5c2f25523fa4754d058fd513707</th>\n      <td>1821</td>\n      <td>2</td>\n      <td>137.54</td>\n      <td>3.0</td>\n      <td>5.0</td>\n      <td>75.540465</td>\n    </tr>\n    <tr>\n      <th>ecb12d670b10e511edd56ecda04c7314</th>\n      <td>1821</td>\n      <td>1</td>\n      <td>102.23</td>\n      <td>2.0</td>\n      <td>5.0</td>\n      <td>74.063621</td>\n    </tr>\n    <tr>\n      <th>9318503cd3fcb28ff64924992bfc4e06</th>\n      <td>1821</td>\n      <td>1</td>\n      <td>89.63</td>\n      <td>9.0</td>\n      <td>4.0</td>\n      <td>896.434000</td>\n    </tr>\n    <tr>\n      <th>...</th>\n      <td>...</td>\n      <td>...</td>\n      <td>...</td>\n      <td>...</td>\n      <td>...</td>\n      <td>...</td>\n    </tr>\n    <tr>\n      <th>35173058d3ac45f25ca1e8a216011e9a</th>\n      <td>1842</td>\n      <td>1</td>\n      <td>35.00</td>\n      <td>17.0</td>\n      <td>5.0</td>\n      <td>434.265506</td>\n    </tr>\n    <tr>\n      <th>1c72075103f417245b9f15c1287fd6e4</th>\n      <td>1842</td>\n      <td>1</td>\n      <td>167.51</td>\n      <td>9.0</td>\n      <td>5.0</td>\n      <td>504.585884</td>\n    </tr>\n    <tr>\n      <th>c8003923bd1dd8512c7ec0a94a215366</th>\n      <td>1842</td>\n      <td>1</td>\n      <td>55.24</td>\n      <td>6.0</td>\n      <td>5.0</td>\n      <td>42.387200</td>\n    </tr>\n    <tr>\n      <th>2ac6f6d09c75bb721defa2eb7a4f52a1</th>\n      <td>1842</td>\n      <td>2</td>\n      <td>78.51</td>\n      <td>13.0</td>\n      <td>4.0</td>\n      <td>605.045616</td>\n    </tr>\n    <tr>\n      <th>a9b61ba333b469e49f16885f14ac6b40</th>\n      <td>1842</td>\n      <td>1</td>\n      <td>81.73</td>\n      <td>1.0</td>\n      <td>5.0</td>\n      <td>10.343277</td>\n    </tr>\n  </tbody>\n</table>\n<p>3280 rows × 6 columns</p>\n</div>"
     },
     "execution_count": 60,
     "metadata": {},
     "output_type": "execute_result"
    }
   ],
   "source": [
    "df_inf_04_ = df_inf_04[['R (Récence)', 'f', 'm', 'delta_purchase_delivery', 'review_score', 'haversine_distance']]\n",
    "df_inf_04_"
   ],
   "metadata": {
    "collapsed": false,
    "pycharm": {
     "name": "#%%\n"
    }
   }
  },
  {
   "cell_type": "code",
   "execution_count": 61,
   "outputs": [
    {
     "data": {
      "text/plain": "array([[0.        , 0.        , 0.03228767, 0.22222222, 0.        ,\n        0.06609718],\n       [0.        , 0.        , 0.01472467, 0.05555556, 1.        ,\n        0.05350526],\n       [0.        , 0.33333333, 0.03906183, 0.02380952, 1.        ,\n        0.02272161],\n       ...,\n       [1.        , 0.        , 0.01310681, 0.04761905, 1.        ,\n        0.01271982],\n       [1.        , 0.33333333, 0.02044549, 0.1031746 , 0.75      ,\n        0.18246465],\n       [1.        , 0.        , 0.02146099, 0.00793651, 1.        ,\n        0.00305269]])"
     },
     "execution_count": 61,
     "metadata": {},
     "output_type": "execute_result"
    }
   ],
   "source": [
    "df_inf_04_scaled = scaler.fit_transform(df_inf_04_)\n",
    "df_inf_04_scaled"
   ],
   "metadata": {
    "collapsed": false,
    "pycharm": {
     "name": "#%%\n"
    }
   }
  },
  {
   "cell_type": "code",
   "execution_count": 62,
   "outputs": [],
   "source": [
    "\n",
    "# Kmeans avec le k choisi\n",
    "\n",
    "kmeans_model_4 = KMeans(4, random_state=42)\n",
    "kmeans_model_4.fit(df_inf_04_scaled)\n",
    "\n",
    "# Etiquette\n",
    "labels_model_4 = kmeans_model_4.labels_"
   ],
   "metadata": {
    "collapsed": false,
    "pycharm": {
     "name": "#%%\n"
    }
   }
  },
  {
   "cell_type": "code",
   "execution_count": 63,
   "outputs": [
    {
     "data": {
      "text/plain": "array([3, 2, 2, ..., 0, 0, 0])"
     },
     "execution_count": 63,
     "metadata": {},
     "output_type": "execute_result"
    }
   ],
   "source": [
    "labels_model_4"
   ],
   "metadata": {
    "collapsed": false,
    "pycharm": {
     "name": "#%%\n"
    }
   }
  },
  {
   "cell_type": "code",
   "execution_count": 64,
   "outputs": [
    {
     "data": {
      "text/plain": "array([1, 2, 2, ..., 0, 0, 0])"
     },
     "execution_count": 64,
     "metadata": {},
     "output_type": "execute_result"
    }
   ],
   "source": [
    "labels_predict_4 = kmeans_model_3.predict(df_inf_04_scaled)\n",
    "labels_predict_4"
   ],
   "metadata": {
    "collapsed": false,
    "pycharm": {
     "name": "#%%\n"
    }
   }
  },
  {
   "cell_type": "code",
   "execution_count": 65,
   "outputs": [
    {
     "data": {
      "text/plain": "0.7102637915244074"
     },
     "execution_count": 65,
     "metadata": {},
     "output_type": "execute_result"
    }
   ],
   "source": [
    "\n",
    "ari_04 = adjusted_rand_score(labels_model_4, labels_predict_4)\n",
    "ari_04"
   ],
   "metadata": {
    "collapsed": false,
    "pycharm": {
     "name": "#%%\n"
    }
   }
  },
  {
   "cell_type": "code",
   "execution_count": 66,
   "outputs": [
    {
     "data": {
      "text/plain": "{'2017-09-19': 0.6864551842612211,\n Timestamp('2017-10-10 00:00:00'): 0.9703524800217207,\n Timestamp('2017-10-31 00:00:00'): 0.9556678730363262,\n Timestamp('2017-11-21 00:00:00'): 0.7102637915244074}"
     },
     "execution_count": 66,
     "metadata": {},
     "output_type": "execute_result"
    }
   ],
   "source": [
    "ari_score[I_04] = ari_04\n",
    "ari_score"
   ],
   "metadata": {
    "collapsed": false,
    "pycharm": {
     "name": "#%%\n"
    }
   }
  },
  {
   "cell_type": "markdown",
   "source": [
    "####\n",
    "### Intervalle 5"
   ],
   "metadata": {
    "collapsed": false,
    "pycharm": {
     "name": "#%% md\n"
    }
   }
  },
  {
   "cell_type": "code",
   "execution_count": 67,
   "outputs": [
    {
     "data": {
      "text/plain": "Timestamp('2017-12-12 00:00:00')"
     },
     "execution_count": 67,
     "metadata": {},
     "output_type": "execute_result"
    }
   ],
   "source": [
    "I_05 = additional_period(I_04, nj, last_order_date)\n",
    "I_05"
   ],
   "metadata": {
    "collapsed": false,
    "pycharm": {
     "name": "#%%\n"
    }
   }
  },
  {
   "cell_type": "code",
   "execution_count": 68,
   "outputs": [
    {
     "data": {
      "text/plain": "                                 order_purchase_timestamp  R (Récence)  f  \\\ncustomer_unique_id                                                          \ncdb39fc59bcd68bbe98459b8d08880f5      2017-12-11 23:55:56         1800  1   \ne1afc31f60bd65fec039b9e87888b979      2017-12-11 23:55:52         1800  1   \nf199ea84ac53cf917976f3d432a4ee12      2017-12-11 23:55:38         1800  1   \ne833175a9cac5193854c00daf5703a07      2017-12-11 23:52:20         1800  1   \nba48fb2a1a18a927c201654e33f38e79      2017-12-11 23:43:58         1800  1   \n...                                                   ...          ... ..   \n093862d1d1cedccf9c5d15ea4da89f14      2017-11-21 02:03:56         1821  1   \n9ea07065d974ed11af47d782daac5c6d      2017-11-21 01:16:32         1821  1   \nf94857d9e9d320b0b0438ce3ddea22ae      2017-11-21 00:34:16         1821  1   \n8b97e74de321e5e5009a92d7aedff7bb      2017-11-21 00:17:44         1821  1   \nd0ff1a7468fcc46b8fc658ab35d2a12c      2017-11-21 00:03:41         1821  1   \n\n                                       m  delta_purchase_delivery  \\\ncustomer_unique_id                                                  \ncdb39fc59bcd68bbe98459b8d08880f5   55.01                      6.0   \ne1afc31f60bd65fec039b9e87888b979   88.08                      7.0   \nf199ea84ac53cf917976f3d432a4ee12   40.76                      6.0   \ne833175a9cac5193854c00daf5703a07   92.57                     10.0   \nba48fb2a1a18a927c201654e33f38e79   27.10                     24.0   \n...                                  ...                      ...   \n093862d1d1cedccf9c5d15ea4da89f14   92.30                      2.0   \n9ea07065d974ed11af47d782daac5c6d   90.77                      9.0   \nf94857d9e9d320b0b0438ce3ddea22ae  338.17                      8.0   \n8b97e74de321e5e5009a92d7aedff7bb  618.60                      6.0   \nd0ff1a7468fcc46b8fc658ab35d2a12c   29.75                      6.0   \n\n                                  review_score  haversine_distance  \ncustomer_unique_id                                                  \ncdb39fc59bcd68bbe98459b8d08880f5           5.0          211.618224  \ne1afc31f60bd65fec039b9e87888b979           4.0            9.063483  \nf199ea84ac53cf917976f3d432a4ee12           5.0           53.346337  \ne833175a9cac5193854c00daf5703a07           5.0           52.156867  \nba48fb2a1a18a927c201654e33f38e79           5.0          423.150358  \n...                                        ...                 ...  \n093862d1d1cedccf9c5d15ea4da89f14           5.0           58.849378  \n9ea07065d974ed11af47d782daac5c6d           5.0          336.945356  \nf94857d9e9d320b0b0438ce3ddea22ae           5.0          388.770431  \n8b97e74de321e5e5009a92d7aedff7bb           5.0          409.281285  \nd0ff1a7468fcc46b8fc658ab35d2a12c           5.0          130.246631  \n\n[6434 rows x 7 columns]",
      "text/html": "<div>\n<style scoped>\n    .dataframe tbody tr th:only-of-type {\n        vertical-align: middle;\n    }\n\n    .dataframe tbody tr th {\n        vertical-align: top;\n    }\n\n    .dataframe thead th {\n        text-align: right;\n    }\n</style>\n<table border=\"1\" class=\"dataframe\">\n  <thead>\n    <tr style=\"text-align: right;\">\n      <th></th>\n      <th>order_purchase_timestamp</th>\n      <th>R (Récence)</th>\n      <th>f</th>\n      <th>m</th>\n      <th>delta_purchase_delivery</th>\n      <th>review_score</th>\n      <th>haversine_distance</th>\n    </tr>\n    <tr>\n      <th>customer_unique_id</th>\n      <th></th>\n      <th></th>\n      <th></th>\n      <th></th>\n      <th></th>\n      <th></th>\n      <th></th>\n    </tr>\n  </thead>\n  <tbody>\n    <tr>\n      <th>cdb39fc59bcd68bbe98459b8d08880f5</th>\n      <td>2017-12-11 23:55:56</td>\n      <td>1800</td>\n      <td>1</td>\n      <td>55.01</td>\n      <td>6.0</td>\n      <td>5.0</td>\n      <td>211.618224</td>\n    </tr>\n    <tr>\n      <th>e1afc31f60bd65fec039b9e87888b979</th>\n      <td>2017-12-11 23:55:52</td>\n      <td>1800</td>\n      <td>1</td>\n      <td>88.08</td>\n      <td>7.0</td>\n      <td>4.0</td>\n      <td>9.063483</td>\n    </tr>\n    <tr>\n      <th>f199ea84ac53cf917976f3d432a4ee12</th>\n      <td>2017-12-11 23:55:38</td>\n      <td>1800</td>\n      <td>1</td>\n      <td>40.76</td>\n      <td>6.0</td>\n      <td>5.0</td>\n      <td>53.346337</td>\n    </tr>\n    <tr>\n      <th>e833175a9cac5193854c00daf5703a07</th>\n      <td>2017-12-11 23:52:20</td>\n      <td>1800</td>\n      <td>1</td>\n      <td>92.57</td>\n      <td>10.0</td>\n      <td>5.0</td>\n      <td>52.156867</td>\n    </tr>\n    <tr>\n      <th>ba48fb2a1a18a927c201654e33f38e79</th>\n      <td>2017-12-11 23:43:58</td>\n      <td>1800</td>\n      <td>1</td>\n      <td>27.10</td>\n      <td>24.0</td>\n      <td>5.0</td>\n      <td>423.150358</td>\n    </tr>\n    <tr>\n      <th>...</th>\n      <td>...</td>\n      <td>...</td>\n      <td>...</td>\n      <td>...</td>\n      <td>...</td>\n      <td>...</td>\n      <td>...</td>\n    </tr>\n    <tr>\n      <th>093862d1d1cedccf9c5d15ea4da89f14</th>\n      <td>2017-11-21 02:03:56</td>\n      <td>1821</td>\n      <td>1</td>\n      <td>92.30</td>\n      <td>2.0</td>\n      <td>5.0</td>\n      <td>58.849378</td>\n    </tr>\n    <tr>\n      <th>9ea07065d974ed11af47d782daac5c6d</th>\n      <td>2017-11-21 01:16:32</td>\n      <td>1821</td>\n      <td>1</td>\n      <td>90.77</td>\n      <td>9.0</td>\n      <td>5.0</td>\n      <td>336.945356</td>\n    </tr>\n    <tr>\n      <th>f94857d9e9d320b0b0438ce3ddea22ae</th>\n      <td>2017-11-21 00:34:16</td>\n      <td>1821</td>\n      <td>1</td>\n      <td>338.17</td>\n      <td>8.0</td>\n      <td>5.0</td>\n      <td>388.770431</td>\n    </tr>\n    <tr>\n      <th>8b97e74de321e5e5009a92d7aedff7bb</th>\n      <td>2017-11-21 00:17:44</td>\n      <td>1821</td>\n      <td>1</td>\n      <td>618.60</td>\n      <td>6.0</td>\n      <td>5.0</td>\n      <td>409.281285</td>\n    </tr>\n    <tr>\n      <th>d0ff1a7468fcc46b8fc658ab35d2a12c</th>\n      <td>2017-11-21 00:03:41</td>\n      <td>1821</td>\n      <td>1</td>\n      <td>29.75</td>\n      <td>6.0</td>\n      <td>5.0</td>\n      <td>130.246631</td>\n    </tr>\n  </tbody>\n</table>\n<p>6434 rows × 7 columns</p>\n</div>"
     },
     "execution_count": 68,
     "metadata": {},
     "output_type": "execute_result"
    }
   ],
   "source": [
    "df_inf_05 = df_inf_00.loc[\n",
    "    (df_inf_00['order_purchase_timestamp'] > I_04) & (df_inf_00['order_purchase_timestamp'] <= I_05)]\n",
    "df_inf_05"
   ],
   "metadata": {
    "collapsed": false,
    "pycharm": {
     "name": "#%%\n"
    }
   }
  },
  {
   "cell_type": "code",
   "execution_count": 69,
   "outputs": [
    {
     "data": {
      "text/plain": "                                  R (Récence)  f       m  \\\ncustomer_unique_id                                         \ncdb39fc59bcd68bbe98459b8d08880f5         1800  1   55.01   \ne1afc31f60bd65fec039b9e87888b979         1800  1   88.08   \nf199ea84ac53cf917976f3d432a4ee12         1800  1   40.76   \ne833175a9cac5193854c00daf5703a07         1800  1   92.57   \nba48fb2a1a18a927c201654e33f38e79         1800  1   27.10   \n...                                       ... ..     ...   \n093862d1d1cedccf9c5d15ea4da89f14         1821  1   92.30   \n9ea07065d974ed11af47d782daac5c6d         1821  1   90.77   \nf94857d9e9d320b0b0438ce3ddea22ae         1821  1  338.17   \n8b97e74de321e5e5009a92d7aedff7bb         1821  1  618.60   \nd0ff1a7468fcc46b8fc658ab35d2a12c         1821  1   29.75   \n\n                                  delta_purchase_delivery  review_score  \\\ncustomer_unique_id                                                        \ncdb39fc59bcd68bbe98459b8d08880f5                      6.0           5.0   \ne1afc31f60bd65fec039b9e87888b979                      7.0           4.0   \nf199ea84ac53cf917976f3d432a4ee12                      6.0           5.0   \ne833175a9cac5193854c00daf5703a07                     10.0           5.0   \nba48fb2a1a18a927c201654e33f38e79                     24.0           5.0   \n...                                                   ...           ...   \n093862d1d1cedccf9c5d15ea4da89f14                      2.0           5.0   \n9ea07065d974ed11af47d782daac5c6d                      9.0           5.0   \nf94857d9e9d320b0b0438ce3ddea22ae                      8.0           5.0   \n8b97e74de321e5e5009a92d7aedff7bb                      6.0           5.0   \nd0ff1a7468fcc46b8fc658ab35d2a12c                      6.0           5.0   \n\n                                  haversine_distance  \ncustomer_unique_id                                    \ncdb39fc59bcd68bbe98459b8d08880f5          211.618224  \ne1afc31f60bd65fec039b9e87888b979            9.063483  \nf199ea84ac53cf917976f3d432a4ee12           53.346337  \ne833175a9cac5193854c00daf5703a07           52.156867  \nba48fb2a1a18a927c201654e33f38e79          423.150358  \n...                                              ...  \n093862d1d1cedccf9c5d15ea4da89f14           58.849378  \n9ea07065d974ed11af47d782daac5c6d          336.945356  \nf94857d9e9d320b0b0438ce3ddea22ae          388.770431  \n8b97e74de321e5e5009a92d7aedff7bb          409.281285  \nd0ff1a7468fcc46b8fc658ab35d2a12c          130.246631  \n\n[6434 rows x 6 columns]",
      "text/html": "<div>\n<style scoped>\n    .dataframe tbody tr th:only-of-type {\n        vertical-align: middle;\n    }\n\n    .dataframe tbody tr th {\n        vertical-align: top;\n    }\n\n    .dataframe thead th {\n        text-align: right;\n    }\n</style>\n<table border=\"1\" class=\"dataframe\">\n  <thead>\n    <tr style=\"text-align: right;\">\n      <th></th>\n      <th>R (Récence)</th>\n      <th>f</th>\n      <th>m</th>\n      <th>delta_purchase_delivery</th>\n      <th>review_score</th>\n      <th>haversine_distance</th>\n    </tr>\n    <tr>\n      <th>customer_unique_id</th>\n      <th></th>\n      <th></th>\n      <th></th>\n      <th></th>\n      <th></th>\n      <th></th>\n    </tr>\n  </thead>\n  <tbody>\n    <tr>\n      <th>cdb39fc59bcd68bbe98459b8d08880f5</th>\n      <td>1800</td>\n      <td>1</td>\n      <td>55.01</td>\n      <td>6.0</td>\n      <td>5.0</td>\n      <td>211.618224</td>\n    </tr>\n    <tr>\n      <th>e1afc31f60bd65fec039b9e87888b979</th>\n      <td>1800</td>\n      <td>1</td>\n      <td>88.08</td>\n      <td>7.0</td>\n      <td>4.0</td>\n      <td>9.063483</td>\n    </tr>\n    <tr>\n      <th>f199ea84ac53cf917976f3d432a4ee12</th>\n      <td>1800</td>\n      <td>1</td>\n      <td>40.76</td>\n      <td>6.0</td>\n      <td>5.0</td>\n      <td>53.346337</td>\n    </tr>\n    <tr>\n      <th>e833175a9cac5193854c00daf5703a07</th>\n      <td>1800</td>\n      <td>1</td>\n      <td>92.57</td>\n      <td>10.0</td>\n      <td>5.0</td>\n      <td>52.156867</td>\n    </tr>\n    <tr>\n      <th>ba48fb2a1a18a927c201654e33f38e79</th>\n      <td>1800</td>\n      <td>1</td>\n      <td>27.10</td>\n      <td>24.0</td>\n      <td>5.0</td>\n      <td>423.150358</td>\n    </tr>\n    <tr>\n      <th>...</th>\n      <td>...</td>\n      <td>...</td>\n      <td>...</td>\n      <td>...</td>\n      <td>...</td>\n      <td>...</td>\n    </tr>\n    <tr>\n      <th>093862d1d1cedccf9c5d15ea4da89f14</th>\n      <td>1821</td>\n      <td>1</td>\n      <td>92.30</td>\n      <td>2.0</td>\n      <td>5.0</td>\n      <td>58.849378</td>\n    </tr>\n    <tr>\n      <th>9ea07065d974ed11af47d782daac5c6d</th>\n      <td>1821</td>\n      <td>1</td>\n      <td>90.77</td>\n      <td>9.0</td>\n      <td>5.0</td>\n      <td>336.945356</td>\n    </tr>\n    <tr>\n      <th>f94857d9e9d320b0b0438ce3ddea22ae</th>\n      <td>1821</td>\n      <td>1</td>\n      <td>338.17</td>\n      <td>8.0</td>\n      <td>5.0</td>\n      <td>388.770431</td>\n    </tr>\n    <tr>\n      <th>8b97e74de321e5e5009a92d7aedff7bb</th>\n      <td>1821</td>\n      <td>1</td>\n      <td>618.60</td>\n      <td>6.0</td>\n      <td>5.0</td>\n      <td>409.281285</td>\n    </tr>\n    <tr>\n      <th>d0ff1a7468fcc46b8fc658ab35d2a12c</th>\n      <td>1821</td>\n      <td>1</td>\n      <td>29.75</td>\n      <td>6.0</td>\n      <td>5.0</td>\n      <td>130.246631</td>\n    </tr>\n  </tbody>\n</table>\n<p>6434 rows × 6 columns</p>\n</div>"
     },
     "execution_count": 69,
     "metadata": {},
     "output_type": "execute_result"
    }
   ],
   "source": [
    "df_inf_05_ = df_inf_05[['R (Récence)', 'f', 'm', 'delta_purchase_delivery', 'review_score', 'haversine_distance']]\n",
    "df_inf_05_"
   ],
   "metadata": {
    "collapsed": false,
    "pycharm": {
     "name": "#%%\n"
    }
   }
  },
  {
   "cell_type": "code",
   "execution_count": 70,
   "outputs": [
    {
     "data": {
      "text/plain": "array([[0.        , 0.        , 0.00679493, 0.02906977, 1.        ,\n        0.06383743],\n       [0.        , 0.        , 0.01224505, 0.03488372, 0.75      ,\n        0.00273412],\n       [0.        , 0.        , 0.00444645, 0.02906977, 1.        ,\n        0.01609263],\n       ...,\n       [1.        , 0.        , 0.05346124, 0.04069767, 1.        ,\n        0.11727774],\n       [1.        , 0.        , 0.09967764, 0.02906977, 1.        ,\n        0.12346511],\n       [1.        , 0.        , 0.00263194, 0.02906977, 1.        ,\n        0.03929062]])"
     },
     "execution_count": 70,
     "metadata": {},
     "output_type": "execute_result"
    }
   ],
   "source": [
    "df_inf_05_scaled = scaler.fit_transform(df_inf_05_)\n",
    "df_inf_05_scaled"
   ],
   "metadata": {
    "collapsed": false,
    "pycharm": {
     "name": "#%%\n"
    }
   }
  },
  {
   "cell_type": "code",
   "execution_count": 71,
   "outputs": [],
   "source": [
    "\n",
    "# Kmeans avec le k choisi\n",
    "\n",
    "kmeans_model_5 = KMeans(4, random_state=42)\n",
    "kmeans_model_5.fit(df_inf_05_scaled)\n",
    "\n",
    "# Etiquette\n",
    "labels_model_5 = kmeans_model_5.labels_"
   ],
   "metadata": {
    "collapsed": false,
    "pycharm": {
     "name": "#%%\n"
    }
   }
  },
  {
   "cell_type": "code",
   "execution_count": 72,
   "outputs": [
    {
     "data": {
      "text/plain": "array([1, 1, 1, ..., 3, 3, 3])"
     },
     "execution_count": 72,
     "metadata": {},
     "output_type": "execute_result"
    }
   ],
   "source": [
    "labels_model_5"
   ],
   "metadata": {
    "collapsed": false,
    "pycharm": {
     "name": "#%%\n"
    }
   }
  },
  {
   "cell_type": "code",
   "execution_count": 73,
   "outputs": [
    {
     "data": {
      "text/plain": "array([2, 2, 2, ..., 0, 0, 0])"
     },
     "execution_count": 73,
     "metadata": {},
     "output_type": "execute_result"
    }
   ],
   "source": [
    "labels_predict_5 = kmeans_model_4.predict(df_inf_05_scaled)\n",
    "labels_predict_5"
   ],
   "metadata": {
    "collapsed": false,
    "pycharm": {
     "name": "#%%\n"
    }
   }
  },
  {
   "cell_type": "code",
   "execution_count": 74,
   "outputs": [
    {
     "data": {
      "text/plain": "0.6883429712802089"
     },
     "execution_count": 74,
     "metadata": {},
     "output_type": "execute_result"
    }
   ],
   "source": [
    "\n",
    "ari_05 = adjusted_rand_score(labels_model_5, labels_predict_5)\n",
    "ari_05"
   ],
   "metadata": {
    "collapsed": false,
    "pycharm": {
     "name": "#%%\n"
    }
   }
  },
  {
   "cell_type": "code",
   "execution_count": 75,
   "outputs": [
    {
     "data": {
      "text/plain": "{'2017-09-19': 0.6864551842612211,\n Timestamp('2017-10-10 00:00:00'): 0.9703524800217207,\n Timestamp('2017-10-31 00:00:00'): 0.9556678730363262,\n Timestamp('2017-11-21 00:00:00'): 0.7102637915244074,\n Timestamp('2017-12-12 00:00:00'): 0.6883429712802089}"
     },
     "execution_count": 75,
     "metadata": {},
     "output_type": "execute_result"
    }
   ],
   "source": [
    "ari_score[I_05] = ari_05\n",
    "ari_score"
   ],
   "metadata": {
    "collapsed": false,
    "pycharm": {
     "name": "#%%\n"
    }
   }
  },
  {
   "cell_type": "markdown",
   "source": [
    "####\n",
    "### Intervalle 6"
   ],
   "metadata": {
    "collapsed": false,
    "pycharm": {
     "name": "#%% md\n"
    }
   }
  },
  {
   "cell_type": "code",
   "execution_count": 76,
   "outputs": [
    {
     "data": {
      "text/plain": "Timestamp('2018-01-02 00:00:00')"
     },
     "execution_count": 76,
     "metadata": {},
     "output_type": "execute_result"
    }
   ],
   "source": [
    "I_06 = additional_period(I_05, nj, last_order_date)\n",
    "I_06"
   ],
   "metadata": {
    "collapsed": false,
    "pycharm": {
     "name": "#%%\n"
    }
   }
  },
  {
   "cell_type": "code",
   "execution_count": 77,
   "outputs": [
    {
     "data": {
      "text/plain": "                                 order_purchase_timestamp  R (Récence)  f  \\\ncustomer_unique_id                                                          \nbe31ab006786747df81854035a1960f4      2018-01-01 23:50:59         1779  1   \necebbe0d87df8e20256cdd3f4196fbea      2018-01-01 23:45:49         1779  1   \n048018b271de8a57850a736e1decab48      2018-01-01 23:22:57         1779  1   \ncc6658129b907dd144c8f15765d626f9      2018-01-01 23:20:33         1779  1   \nc48f157c4de3d58b5087490cd61d97a8      2018-01-01 23:15:14         1779  1   \n...                                                   ...          ... ..   \n9101c89ca944110708708e96e8b2491a      2017-12-12 00:59:26         1800  1   \ne890c412a8b910d4709660658d700483      2017-12-12 00:29:08         1800  1   \nd2187dc7a5fe7d690a44e28ee37bf594      2017-12-12 00:24:45         1800  1   \n74f91d83f0d90cad6bd731402aa7dee0      2017-12-12 00:24:39         1800  1   \n73a16d227b8890311f474d135afa3980      2017-12-12 00:08:49         1800  1   \n\n                                       m  delta_purchase_delivery  \\\ncustomer_unique_id                                                  \nbe31ab006786747df81854035a1960f4   67.39                     13.0   \necebbe0d87df8e20256cdd3f4196fbea  105.97                     31.0   \n048018b271de8a57850a736e1decab48  259.82                     15.0   \ncc6658129b907dd144c8f15765d626f9   65.69                     13.0   \nc48f157c4de3d58b5087490cd61d97a8   42.09                      7.0   \n...                                  ...                      ...   \n9101c89ca944110708708e96e8b2491a   81.21                     21.0   \ne890c412a8b910d4709660658d700483  110.02                     10.0   \nd2187dc7a5fe7d690a44e28ee37bf594   55.09                      8.0   \n74f91d83f0d90cad6bd731402aa7dee0  243.14                     39.0   \n73a16d227b8890311f474d135afa3980   29.06                      6.0   \n\n                                  review_score  haversine_distance  \ncustomer_unique_id                                                  \nbe31ab006786747df81854035a1960f4           5.0          105.883009  \necebbe0d87df8e20256cdd3f4196fbea           5.0          696.984676  \n048018b271de8a57850a736e1decab48           5.0          337.267024  \ncc6658129b907dd144c8f15765d626f9           5.0          267.227812  \nc48f157c4de3d58b5087490cd61d97a8           4.0          305.607771  \n...                                        ...                 ...  \n9101c89ca944110708708e96e8b2491a           4.0          241.786345  \ne890c412a8b910d4709660658d700483           1.0          562.479694  \nd2187dc7a5fe7d690a44e28ee37bf594           5.0          506.371650  \n74f91d83f0d90cad6bd731402aa7dee0           1.0          555.145375  \n73a16d227b8890311f474d135afa3980           5.0           11.402964  \n\n[2897 rows x 7 columns]",
      "text/html": "<div>\n<style scoped>\n    .dataframe tbody tr th:only-of-type {\n        vertical-align: middle;\n    }\n\n    .dataframe tbody tr th {\n        vertical-align: top;\n    }\n\n    .dataframe thead th {\n        text-align: right;\n    }\n</style>\n<table border=\"1\" class=\"dataframe\">\n  <thead>\n    <tr style=\"text-align: right;\">\n      <th></th>\n      <th>order_purchase_timestamp</th>\n      <th>R (Récence)</th>\n      <th>f</th>\n      <th>m</th>\n      <th>delta_purchase_delivery</th>\n      <th>review_score</th>\n      <th>haversine_distance</th>\n    </tr>\n    <tr>\n      <th>customer_unique_id</th>\n      <th></th>\n      <th></th>\n      <th></th>\n      <th></th>\n      <th></th>\n      <th></th>\n      <th></th>\n    </tr>\n  </thead>\n  <tbody>\n    <tr>\n      <th>be31ab006786747df81854035a1960f4</th>\n      <td>2018-01-01 23:50:59</td>\n      <td>1779</td>\n      <td>1</td>\n      <td>67.39</td>\n      <td>13.0</td>\n      <td>5.0</td>\n      <td>105.883009</td>\n    </tr>\n    <tr>\n      <th>ecebbe0d87df8e20256cdd3f4196fbea</th>\n      <td>2018-01-01 23:45:49</td>\n      <td>1779</td>\n      <td>1</td>\n      <td>105.97</td>\n      <td>31.0</td>\n      <td>5.0</td>\n      <td>696.984676</td>\n    </tr>\n    <tr>\n      <th>048018b271de8a57850a736e1decab48</th>\n      <td>2018-01-01 23:22:57</td>\n      <td>1779</td>\n      <td>1</td>\n      <td>259.82</td>\n      <td>15.0</td>\n      <td>5.0</td>\n      <td>337.267024</td>\n    </tr>\n    <tr>\n      <th>cc6658129b907dd144c8f15765d626f9</th>\n      <td>2018-01-01 23:20:33</td>\n      <td>1779</td>\n      <td>1</td>\n      <td>65.69</td>\n      <td>13.0</td>\n      <td>5.0</td>\n      <td>267.227812</td>\n    </tr>\n    <tr>\n      <th>c48f157c4de3d58b5087490cd61d97a8</th>\n      <td>2018-01-01 23:15:14</td>\n      <td>1779</td>\n      <td>1</td>\n      <td>42.09</td>\n      <td>7.0</td>\n      <td>4.0</td>\n      <td>305.607771</td>\n    </tr>\n    <tr>\n      <th>...</th>\n      <td>...</td>\n      <td>...</td>\n      <td>...</td>\n      <td>...</td>\n      <td>...</td>\n      <td>...</td>\n      <td>...</td>\n    </tr>\n    <tr>\n      <th>9101c89ca944110708708e96e8b2491a</th>\n      <td>2017-12-12 00:59:26</td>\n      <td>1800</td>\n      <td>1</td>\n      <td>81.21</td>\n      <td>21.0</td>\n      <td>4.0</td>\n      <td>241.786345</td>\n    </tr>\n    <tr>\n      <th>e890c412a8b910d4709660658d700483</th>\n      <td>2017-12-12 00:29:08</td>\n      <td>1800</td>\n      <td>1</td>\n      <td>110.02</td>\n      <td>10.0</td>\n      <td>1.0</td>\n      <td>562.479694</td>\n    </tr>\n    <tr>\n      <th>d2187dc7a5fe7d690a44e28ee37bf594</th>\n      <td>2017-12-12 00:24:45</td>\n      <td>1800</td>\n      <td>1</td>\n      <td>55.09</td>\n      <td>8.0</td>\n      <td>5.0</td>\n      <td>506.371650</td>\n    </tr>\n    <tr>\n      <th>74f91d83f0d90cad6bd731402aa7dee0</th>\n      <td>2017-12-12 00:24:39</td>\n      <td>1800</td>\n      <td>1</td>\n      <td>243.14</td>\n      <td>39.0</td>\n      <td>1.0</td>\n      <td>555.145375</td>\n    </tr>\n    <tr>\n      <th>73a16d227b8890311f474d135afa3980</th>\n      <td>2017-12-12 00:08:49</td>\n      <td>1800</td>\n      <td>1</td>\n      <td>29.06</td>\n      <td>6.0</td>\n      <td>5.0</td>\n      <td>11.402964</td>\n    </tr>\n  </tbody>\n</table>\n<p>2897 rows × 7 columns</p>\n</div>"
     },
     "execution_count": 77,
     "metadata": {},
     "output_type": "execute_result"
    }
   ],
   "source": [
    "df_inf_06 = df_inf_00.loc[\n",
    "    (df_inf_00['order_purchase_timestamp'] > I_05) & (df_inf_00['order_purchase_timestamp'] <= I_06)]\n",
    "df_inf_06"
   ],
   "metadata": {
    "collapsed": false,
    "pycharm": {
     "name": "#%%\n"
    }
   }
  },
  {
   "cell_type": "code",
   "execution_count": 78,
   "outputs": [
    {
     "data": {
      "text/plain": "                                  R (Récence)  f       m  \\\ncustomer_unique_id                                         \nbe31ab006786747df81854035a1960f4         1779  1   67.39   \necebbe0d87df8e20256cdd3f4196fbea         1779  1  105.97   \n048018b271de8a57850a736e1decab48         1779  1  259.82   \ncc6658129b907dd144c8f15765d626f9         1779  1   65.69   \nc48f157c4de3d58b5087490cd61d97a8         1779  1   42.09   \n...                                       ... ..     ...   \n9101c89ca944110708708e96e8b2491a         1800  1   81.21   \ne890c412a8b910d4709660658d700483         1800  1  110.02   \nd2187dc7a5fe7d690a44e28ee37bf594         1800  1   55.09   \n74f91d83f0d90cad6bd731402aa7dee0         1800  1  243.14   \n73a16d227b8890311f474d135afa3980         1800  1   29.06   \n\n                                  delta_purchase_delivery  review_score  \\\ncustomer_unique_id                                                        \nbe31ab006786747df81854035a1960f4                     13.0           5.0   \necebbe0d87df8e20256cdd3f4196fbea                     31.0           5.0   \n048018b271de8a57850a736e1decab48                     15.0           5.0   \ncc6658129b907dd144c8f15765d626f9                     13.0           5.0   \nc48f157c4de3d58b5087490cd61d97a8                      7.0           4.0   \n...                                                   ...           ...   \n9101c89ca944110708708e96e8b2491a                     21.0           4.0   \ne890c412a8b910d4709660658d700483                     10.0           1.0   \nd2187dc7a5fe7d690a44e28ee37bf594                      8.0           5.0   \n74f91d83f0d90cad6bd731402aa7dee0                     39.0           1.0   \n73a16d227b8890311f474d135afa3980                      6.0           5.0   \n\n                                  haversine_distance  \ncustomer_unique_id                                    \nbe31ab006786747df81854035a1960f4          105.883009  \necebbe0d87df8e20256cdd3f4196fbea          696.984676  \n048018b271de8a57850a736e1decab48          337.267024  \ncc6658129b907dd144c8f15765d626f9          267.227812  \nc48f157c4de3d58b5087490cd61d97a8          305.607771  \n...                                              ...  \n9101c89ca944110708708e96e8b2491a          241.786345  \ne890c412a8b910d4709660658d700483          562.479694  \nd2187dc7a5fe7d690a44e28ee37bf594          506.371650  \n74f91d83f0d90cad6bd731402aa7dee0          555.145375  \n73a16d227b8890311f474d135afa3980           11.402964  \n\n[2897 rows x 6 columns]",
      "text/html": "<div>\n<style scoped>\n    .dataframe tbody tr th:only-of-type {\n        vertical-align: middle;\n    }\n\n    .dataframe tbody tr th {\n        vertical-align: top;\n    }\n\n    .dataframe thead th {\n        text-align: right;\n    }\n</style>\n<table border=\"1\" class=\"dataframe\">\n  <thead>\n    <tr style=\"text-align: right;\">\n      <th></th>\n      <th>R (Récence)</th>\n      <th>f</th>\n      <th>m</th>\n      <th>delta_purchase_delivery</th>\n      <th>review_score</th>\n      <th>haversine_distance</th>\n    </tr>\n    <tr>\n      <th>customer_unique_id</th>\n      <th></th>\n      <th></th>\n      <th></th>\n      <th></th>\n      <th></th>\n      <th></th>\n    </tr>\n  </thead>\n  <tbody>\n    <tr>\n      <th>be31ab006786747df81854035a1960f4</th>\n      <td>1779</td>\n      <td>1</td>\n      <td>67.39</td>\n      <td>13.0</td>\n      <td>5.0</td>\n      <td>105.883009</td>\n    </tr>\n    <tr>\n      <th>ecebbe0d87df8e20256cdd3f4196fbea</th>\n      <td>1779</td>\n      <td>1</td>\n      <td>105.97</td>\n      <td>31.0</td>\n      <td>5.0</td>\n      <td>696.984676</td>\n    </tr>\n    <tr>\n      <th>048018b271de8a57850a736e1decab48</th>\n      <td>1779</td>\n      <td>1</td>\n      <td>259.82</td>\n      <td>15.0</td>\n      <td>5.0</td>\n      <td>337.267024</td>\n    </tr>\n    <tr>\n      <th>cc6658129b907dd144c8f15765d626f9</th>\n      <td>1779</td>\n      <td>1</td>\n      <td>65.69</td>\n      <td>13.0</td>\n      <td>5.0</td>\n      <td>267.227812</td>\n    </tr>\n    <tr>\n      <th>c48f157c4de3d58b5087490cd61d97a8</th>\n      <td>1779</td>\n      <td>1</td>\n      <td>42.09</td>\n      <td>7.0</td>\n      <td>4.0</td>\n      <td>305.607771</td>\n    </tr>\n    <tr>\n      <th>...</th>\n      <td>...</td>\n      <td>...</td>\n      <td>...</td>\n      <td>...</td>\n      <td>...</td>\n      <td>...</td>\n    </tr>\n    <tr>\n      <th>9101c89ca944110708708e96e8b2491a</th>\n      <td>1800</td>\n      <td>1</td>\n      <td>81.21</td>\n      <td>21.0</td>\n      <td>4.0</td>\n      <td>241.786345</td>\n    </tr>\n    <tr>\n      <th>e890c412a8b910d4709660658d700483</th>\n      <td>1800</td>\n      <td>1</td>\n      <td>110.02</td>\n      <td>10.0</td>\n      <td>1.0</td>\n      <td>562.479694</td>\n    </tr>\n    <tr>\n      <th>d2187dc7a5fe7d690a44e28ee37bf594</th>\n      <td>1800</td>\n      <td>1</td>\n      <td>55.09</td>\n      <td>8.0</td>\n      <td>5.0</td>\n      <td>506.371650</td>\n    </tr>\n    <tr>\n      <th>74f91d83f0d90cad6bd731402aa7dee0</th>\n      <td>1800</td>\n      <td>1</td>\n      <td>243.14</td>\n      <td>39.0</td>\n      <td>1.0</td>\n      <td>555.145375</td>\n    </tr>\n    <tr>\n      <th>73a16d227b8890311f474d135afa3980</th>\n      <td>1800</td>\n      <td>1</td>\n      <td>29.06</td>\n      <td>6.0</td>\n      <td>5.0</td>\n      <td>11.402964</td>\n    </tr>\n  </tbody>\n</table>\n<p>2897 rows × 6 columns</p>\n</div>"
     },
     "execution_count": 78,
     "metadata": {},
     "output_type": "execute_result"
    }
   ],
   "source": [
    "df_inf_06_ = df_inf_06[['R (Récence)', 'f', 'm', 'delta_purchase_delivery', 'review_score', 'haversine_distance']]\n",
    "df_inf_06_"
   ],
   "metadata": {
    "collapsed": false,
    "pycharm": {
     "name": "#%%\n"
    }
   }
  },
  {
   "cell_type": "code",
   "execution_count": 79,
   "outputs": [
    {
     "data": {
      "text/plain": "array([[0.        , 0.        , 0.01632649, 0.09090909, 1.        ,\n        0.05094245],\n       [0.        , 0.        , 0.02807572, 0.22727273, 1.        ,\n        0.33611581],\n       [0.        , 0.        , 0.0749295 , 0.10606061, 1.        ,\n        0.16257224],\n       ...,\n       [1.        , 0.        , 0.01258063, 0.0530303 , 1.        ,\n        0.24415573],\n       [1.        , 0.        , 0.06984974, 0.28787879, 0.        ,\n        0.26768631],\n       [1.        , 0.        , 0.0046534 , 0.03787879, 1.        ,\n        0.00536113]])"
     },
     "execution_count": 79,
     "metadata": {},
     "output_type": "execute_result"
    }
   ],
   "source": [
    "df_inf_06_scaled = scaler.fit_transform(df_inf_06_)\n",
    "df_inf_06_scaled"
   ],
   "metadata": {
    "collapsed": false,
    "pycharm": {
     "name": "#%%\n"
    }
   }
  },
  {
   "cell_type": "code",
   "execution_count": 80,
   "outputs": [],
   "source": [
    "\n",
    "# Kmeans avec le k choisi\n",
    "\n",
    "kmeans_model_6 = KMeans(4, random_state=42)\n",
    "kmeans_model_6.fit(df_inf_06_scaled)\n",
    "\n",
    "# Etiquette\n",
    "labels_model_6 = kmeans_model_6.labels_"
   ],
   "metadata": {
    "collapsed": false,
    "pycharm": {
     "name": "#%%\n"
    }
   }
  },
  {
   "cell_type": "code",
   "execution_count": 81,
   "outputs": [
    {
     "data": {
      "text/plain": "array([3, 3, 3, ..., 1, 2, 1])"
     },
     "execution_count": 81,
     "metadata": {},
     "output_type": "execute_result"
    }
   ],
   "source": [
    "labels_model_6"
   ],
   "metadata": {
    "collapsed": false,
    "pycharm": {
     "name": "#%%\n"
    }
   }
  },
  {
   "cell_type": "code",
   "execution_count": 82,
   "outputs": [
    {
     "data": {
      "text/plain": "array([1, 1, 1, ..., 3, 2, 3])"
     },
     "execution_count": 82,
     "metadata": {},
     "output_type": "execute_result"
    }
   ],
   "source": [
    "labels_predict_6 = kmeans_model_5.predict(df_inf_06_scaled)\n",
    "labels_predict_6"
   ],
   "metadata": {
    "collapsed": false,
    "pycharm": {
     "name": "#%%\n"
    }
   }
  },
  {
   "cell_type": "code",
   "execution_count": 83,
   "outputs": [
    {
     "data": {
      "text/plain": "0.6260435836584001"
     },
     "execution_count": 83,
     "metadata": {},
     "output_type": "execute_result"
    }
   ],
   "source": [
    "\n",
    "ari_06 = adjusted_rand_score(labels_model_6, labels_predict_6)\n",
    "ari_06"
   ],
   "metadata": {
    "collapsed": false,
    "pycharm": {
     "name": "#%%\n"
    }
   }
  },
  {
   "cell_type": "code",
   "execution_count": 84,
   "outputs": [
    {
     "data": {
      "text/plain": "{'2017-09-19': 0.6864551842612211,\n Timestamp('2017-10-10 00:00:00'): 0.9703524800217207,\n Timestamp('2017-10-31 00:00:00'): 0.9556678730363262,\n Timestamp('2017-11-21 00:00:00'): 0.7102637915244074,\n Timestamp('2017-12-12 00:00:00'): 0.6883429712802089,\n Timestamp('2018-01-02 00:00:00'): 0.6260435836584001}"
     },
     "execution_count": 84,
     "metadata": {},
     "output_type": "execute_result"
    }
   ],
   "source": [
    "ari_score[I_06] = ari_06\n",
    "ari_score"
   ],
   "metadata": {
    "collapsed": false,
    "pycharm": {
     "name": "#%%\n"
    }
   }
  },
  {
   "cell_type": "markdown",
   "source": [
    "####\n",
    "### Intervalle 7"
   ],
   "metadata": {
    "collapsed": false,
    "pycharm": {
     "name": "#%% md\n"
    }
   }
  },
  {
   "cell_type": "code",
   "execution_count": 85,
   "outputs": [
    {
     "data": {
      "text/plain": "Timestamp('2018-01-23 00:00:00')"
     },
     "execution_count": 85,
     "metadata": {},
     "output_type": "execute_result"
    }
   ],
   "source": [
    "I_07 = additional_period(I_06, nj, last_order_date)\n",
    "I_07"
   ],
   "metadata": {
    "collapsed": false,
    "pycharm": {
     "name": "#%%\n"
    }
   }
  },
  {
   "cell_type": "code",
   "execution_count": 86,
   "outputs": [
    {
     "data": {
      "text/plain": "                                 order_purchase_timestamp  R (Récence)  f  \\\ncustomer_unique_id                                                          \n471774533790e9e337b0a5bef4824d88      2018-01-22 23:58:22         1758  1   \ndd6a750c92768a89a7d9c5e819df852a      2018-01-22 23:55:38         1758  1   \nf8977117beaf7f10282fd90bc9bde423      2018-01-22 23:53:16         1758  1   \n351a0e8f58d932eac460f4b7a8321d64      2018-01-22 23:51:49         1758  1   \n89f85ff8f63aa9404d98a83cf96cd4e4      2018-01-22 23:50:35         1758  1   \n...                                                   ...          ... ..   \nd47f5eaacf2b4d3e082870095322b0ed      2018-01-02 06:31:44         1779  1   \na7bc069d832786d5e0230ef0c6ce236c      2018-01-02 02:28:40         1779  1   \n6991bf68b10037559555b50b9ec0892a      2018-01-02 01:18:47         1779  1   \n72a157d02dd3556672c065525fe82195      2018-01-02 00:40:15         1779  1   \n26a396fa263866c77d9753de6ab2e98c      2018-01-02 00:04:05         1779  1   \n\n                                       m  delta_purchase_delivery  \\\ncustomer_unique_id                                                  \n471774533790e9e337b0a5bef4824d88   33.84                      8.0   \ndd6a750c92768a89a7d9c5e819df852a   58.62                     10.0   \nf8977117beaf7f10282fd90bc9bde423  120.77                      3.0   \n351a0e8f58d932eac460f4b7a8321d64   77.04                     10.0   \n89f85ff8f63aa9404d98a83cf96cd4e4  119.29                     22.0   \n...                                  ...                      ...   \nd47f5eaacf2b4d3e082870095322b0ed  111.03                      8.0   \na7bc069d832786d5e0230ef0c6ce236c   83.22                      7.0   \n6991bf68b10037559555b50b9ec0892a  109.89                      6.0   \n72a157d02dd3556672c065525fe82195  175.52                     14.0   \n26a396fa263866c77d9753de6ab2e98c  102.49                     27.0   \n\n                                  review_score  haversine_distance  \ncustomer_unique_id                                                  \n471774533790e9e337b0a5bef4824d88           5.0          197.320132  \ndd6a750c92768a89a7d9c5e819df852a           5.0           15.894093  \nf8977117beaf7f10282fd90bc9bde423           5.0          146.372710  \n351a0e8f58d932eac460f4b7a8321d64           1.0         1356.590175  \n89f85ff8f63aa9404d98a83cf96cd4e4           2.0         1137.359829  \n...                                        ...                 ...  \nd47f5eaacf2b4d3e082870095322b0ed           4.0           48.933310  \na7bc069d832786d5e0230ef0c6ce236c           4.0          291.301829  \n6991bf68b10037559555b50b9ec0892a           4.0           15.585756  \n72a157d02dd3556672c065525fe82195           1.0         1328.306104  \n26a396fa263866c77d9753de6ab2e98c           3.0          785.190548  \n\n[4861 rows x 7 columns]",
      "text/html": "<div>\n<style scoped>\n    .dataframe tbody tr th:only-of-type {\n        vertical-align: middle;\n    }\n\n    .dataframe tbody tr th {\n        vertical-align: top;\n    }\n\n    .dataframe thead th {\n        text-align: right;\n    }\n</style>\n<table border=\"1\" class=\"dataframe\">\n  <thead>\n    <tr style=\"text-align: right;\">\n      <th></th>\n      <th>order_purchase_timestamp</th>\n      <th>R (Récence)</th>\n      <th>f</th>\n      <th>m</th>\n      <th>delta_purchase_delivery</th>\n      <th>review_score</th>\n      <th>haversine_distance</th>\n    </tr>\n    <tr>\n      <th>customer_unique_id</th>\n      <th></th>\n      <th></th>\n      <th></th>\n      <th></th>\n      <th></th>\n      <th></th>\n      <th></th>\n    </tr>\n  </thead>\n  <tbody>\n    <tr>\n      <th>471774533790e9e337b0a5bef4824d88</th>\n      <td>2018-01-22 23:58:22</td>\n      <td>1758</td>\n      <td>1</td>\n      <td>33.84</td>\n      <td>8.0</td>\n      <td>5.0</td>\n      <td>197.320132</td>\n    </tr>\n    <tr>\n      <th>dd6a750c92768a89a7d9c5e819df852a</th>\n      <td>2018-01-22 23:55:38</td>\n      <td>1758</td>\n      <td>1</td>\n      <td>58.62</td>\n      <td>10.0</td>\n      <td>5.0</td>\n      <td>15.894093</td>\n    </tr>\n    <tr>\n      <th>f8977117beaf7f10282fd90bc9bde423</th>\n      <td>2018-01-22 23:53:16</td>\n      <td>1758</td>\n      <td>1</td>\n      <td>120.77</td>\n      <td>3.0</td>\n      <td>5.0</td>\n      <td>146.372710</td>\n    </tr>\n    <tr>\n      <th>351a0e8f58d932eac460f4b7a8321d64</th>\n      <td>2018-01-22 23:51:49</td>\n      <td>1758</td>\n      <td>1</td>\n      <td>77.04</td>\n      <td>10.0</td>\n      <td>1.0</td>\n      <td>1356.590175</td>\n    </tr>\n    <tr>\n      <th>89f85ff8f63aa9404d98a83cf96cd4e4</th>\n      <td>2018-01-22 23:50:35</td>\n      <td>1758</td>\n      <td>1</td>\n      <td>119.29</td>\n      <td>22.0</td>\n      <td>2.0</td>\n      <td>1137.359829</td>\n    </tr>\n    <tr>\n      <th>...</th>\n      <td>...</td>\n      <td>...</td>\n      <td>...</td>\n      <td>...</td>\n      <td>...</td>\n      <td>...</td>\n      <td>...</td>\n    </tr>\n    <tr>\n      <th>d47f5eaacf2b4d3e082870095322b0ed</th>\n      <td>2018-01-02 06:31:44</td>\n      <td>1779</td>\n      <td>1</td>\n      <td>111.03</td>\n      <td>8.0</td>\n      <td>4.0</td>\n      <td>48.933310</td>\n    </tr>\n    <tr>\n      <th>a7bc069d832786d5e0230ef0c6ce236c</th>\n      <td>2018-01-02 02:28:40</td>\n      <td>1779</td>\n      <td>1</td>\n      <td>83.22</td>\n      <td>7.0</td>\n      <td>4.0</td>\n      <td>291.301829</td>\n    </tr>\n    <tr>\n      <th>6991bf68b10037559555b50b9ec0892a</th>\n      <td>2018-01-02 01:18:47</td>\n      <td>1779</td>\n      <td>1</td>\n      <td>109.89</td>\n      <td>6.0</td>\n      <td>4.0</td>\n      <td>15.585756</td>\n    </tr>\n    <tr>\n      <th>72a157d02dd3556672c065525fe82195</th>\n      <td>2018-01-02 00:40:15</td>\n      <td>1779</td>\n      <td>1</td>\n      <td>175.52</td>\n      <td>14.0</td>\n      <td>1.0</td>\n      <td>1328.306104</td>\n    </tr>\n    <tr>\n      <th>26a396fa263866c77d9753de6ab2e98c</th>\n      <td>2018-01-02 00:04:05</td>\n      <td>1779</td>\n      <td>1</td>\n      <td>102.49</td>\n      <td>27.0</td>\n      <td>3.0</td>\n      <td>785.190548</td>\n    </tr>\n  </tbody>\n</table>\n<p>4861 rows × 7 columns</p>\n</div>"
     },
     "execution_count": 86,
     "metadata": {},
     "output_type": "execute_result"
    }
   ],
   "source": [
    "df_inf_07 = df_inf_00.loc[\n",
    "    (df_inf_00['order_purchase_timestamp'] > I_06) & (df_inf_00['order_purchase_timestamp'] <= I_07)]\n",
    "df_inf_07"
   ],
   "metadata": {
    "collapsed": false,
    "pycharm": {
     "name": "#%%\n"
    }
   }
  },
  {
   "cell_type": "code",
   "execution_count": 87,
   "outputs": [
    {
     "data": {
      "text/plain": "                                  R (Récence)  f       m  \\\ncustomer_unique_id                                         \n471774533790e9e337b0a5bef4824d88         1758  1   33.84   \ndd6a750c92768a89a7d9c5e819df852a         1758  1   58.62   \nf8977117beaf7f10282fd90bc9bde423         1758  1  120.77   \n351a0e8f58d932eac460f4b7a8321d64         1758  1   77.04   \n89f85ff8f63aa9404d98a83cf96cd4e4         1758  1  119.29   \n...                                       ... ..     ...   \nd47f5eaacf2b4d3e082870095322b0ed         1779  1  111.03   \na7bc069d832786d5e0230ef0c6ce236c         1779  1   83.22   \n6991bf68b10037559555b50b9ec0892a         1779  1  109.89   \n72a157d02dd3556672c065525fe82195         1779  1  175.52   \n26a396fa263866c77d9753de6ab2e98c         1779  1  102.49   \n\n                                  delta_purchase_delivery  review_score  \\\ncustomer_unique_id                                                        \n471774533790e9e337b0a5bef4824d88                      8.0           5.0   \ndd6a750c92768a89a7d9c5e819df852a                     10.0           5.0   \nf8977117beaf7f10282fd90bc9bde423                      3.0           5.0   \n351a0e8f58d932eac460f4b7a8321d64                     10.0           1.0   \n89f85ff8f63aa9404d98a83cf96cd4e4                     22.0           2.0   \n...                                                   ...           ...   \nd47f5eaacf2b4d3e082870095322b0ed                      8.0           4.0   \na7bc069d832786d5e0230ef0c6ce236c                      7.0           4.0   \n6991bf68b10037559555b50b9ec0892a                      6.0           4.0   \n72a157d02dd3556672c065525fe82195                     14.0           1.0   \n26a396fa263866c77d9753de6ab2e98c                     27.0           3.0   \n\n                                  haversine_distance  \ncustomer_unique_id                                    \n471774533790e9e337b0a5bef4824d88          197.320132  \ndd6a750c92768a89a7d9c5e819df852a           15.894093  \nf8977117beaf7f10282fd90bc9bde423          146.372710  \n351a0e8f58d932eac460f4b7a8321d64         1356.590175  \n89f85ff8f63aa9404d98a83cf96cd4e4         1137.359829  \n...                                              ...  \nd47f5eaacf2b4d3e082870095322b0ed           48.933310  \na7bc069d832786d5e0230ef0c6ce236c          291.301829  \n6991bf68b10037559555b50b9ec0892a           15.585756  \n72a157d02dd3556672c065525fe82195         1328.306104  \n26a396fa263866c77d9753de6ab2e98c          785.190548  \n\n[4861 rows x 6 columns]",
      "text/html": "<div>\n<style scoped>\n    .dataframe tbody tr th:only-of-type {\n        vertical-align: middle;\n    }\n\n    .dataframe tbody tr th {\n        vertical-align: top;\n    }\n\n    .dataframe thead th {\n        text-align: right;\n    }\n</style>\n<table border=\"1\" class=\"dataframe\">\n  <thead>\n    <tr style=\"text-align: right;\">\n      <th></th>\n      <th>R (Récence)</th>\n      <th>f</th>\n      <th>m</th>\n      <th>delta_purchase_delivery</th>\n      <th>review_score</th>\n      <th>haversine_distance</th>\n    </tr>\n    <tr>\n      <th>customer_unique_id</th>\n      <th></th>\n      <th></th>\n      <th></th>\n      <th></th>\n      <th></th>\n      <th></th>\n    </tr>\n  </thead>\n  <tbody>\n    <tr>\n      <th>471774533790e9e337b0a5bef4824d88</th>\n      <td>1758</td>\n      <td>1</td>\n      <td>33.84</td>\n      <td>8.0</td>\n      <td>5.0</td>\n      <td>197.320132</td>\n    </tr>\n    <tr>\n      <th>dd6a750c92768a89a7d9c5e819df852a</th>\n      <td>1758</td>\n      <td>1</td>\n      <td>58.62</td>\n      <td>10.0</td>\n      <td>5.0</td>\n      <td>15.894093</td>\n    </tr>\n    <tr>\n      <th>f8977117beaf7f10282fd90bc9bde423</th>\n      <td>1758</td>\n      <td>1</td>\n      <td>120.77</td>\n      <td>3.0</td>\n      <td>5.0</td>\n      <td>146.372710</td>\n    </tr>\n    <tr>\n      <th>351a0e8f58d932eac460f4b7a8321d64</th>\n      <td>1758</td>\n      <td>1</td>\n      <td>77.04</td>\n      <td>10.0</td>\n      <td>1.0</td>\n      <td>1356.590175</td>\n    </tr>\n    <tr>\n      <th>89f85ff8f63aa9404d98a83cf96cd4e4</th>\n      <td>1758</td>\n      <td>1</td>\n      <td>119.29</td>\n      <td>22.0</td>\n      <td>2.0</td>\n      <td>1137.359829</td>\n    </tr>\n    <tr>\n      <th>...</th>\n      <td>...</td>\n      <td>...</td>\n      <td>...</td>\n      <td>...</td>\n      <td>...</td>\n      <td>...</td>\n    </tr>\n    <tr>\n      <th>d47f5eaacf2b4d3e082870095322b0ed</th>\n      <td>1779</td>\n      <td>1</td>\n      <td>111.03</td>\n      <td>8.0</td>\n      <td>4.0</td>\n      <td>48.933310</td>\n    </tr>\n    <tr>\n      <th>a7bc069d832786d5e0230ef0c6ce236c</th>\n      <td>1779</td>\n      <td>1</td>\n      <td>83.22</td>\n      <td>7.0</td>\n      <td>4.0</td>\n      <td>291.301829</td>\n    </tr>\n    <tr>\n      <th>6991bf68b10037559555b50b9ec0892a</th>\n      <td>1779</td>\n      <td>1</td>\n      <td>109.89</td>\n      <td>6.0</td>\n      <td>4.0</td>\n      <td>15.585756</td>\n    </tr>\n    <tr>\n      <th>72a157d02dd3556672c065525fe82195</th>\n      <td>1779</td>\n      <td>1</td>\n      <td>175.52</td>\n      <td>14.0</td>\n      <td>1.0</td>\n      <td>1328.306104</td>\n    </tr>\n    <tr>\n      <th>26a396fa263866c77d9753de6ab2e98c</th>\n      <td>1779</td>\n      <td>1</td>\n      <td>102.49</td>\n      <td>27.0</td>\n      <td>3.0</td>\n      <td>785.190548</td>\n    </tr>\n  </tbody>\n</table>\n<p>4861 rows × 6 columns</p>\n</div>"
     },
     "execution_count": 87,
     "metadata": {},
     "output_type": "execute_result"
    }
   ],
   "source": [
    "\n",
    "df_inf_07_ = df_inf_07[['R (Récence)', 'f', 'm', 'delta_purchase_delivery', 'review_score', 'haversine_distance']]\n",
    "df_inf_07_"
   ],
   "metadata": {
    "collapsed": false,
    "pycharm": {
     "name": "#%%\n"
    }
   }
  },
  {
   "cell_type": "code",
   "execution_count": 88,
   "outputs": [
    {
     "data": {
      "text/plain": "array([[0.        , 0.        , 0.009023  , 0.03684211, 1.        ,\n        0.10123274],\n       [0.        , 0.        , 0.02033827, 0.04736842, 1.        ,\n        0.00815427],\n       [0.        , 0.        , 0.04871778, 0.01052632, 1.        ,\n        0.07509477],\n       ...,\n       [1.        , 0.        , 0.04374966, 0.02631579, 0.75      ,\n        0.00799609],\n       [1.        , 0.        , 0.07371824, 0.06842105, 0.        ,\n        0.68147158],\n       [1.        , 0.        , 0.0403706 , 0.13684211, 0.5       ,\n        0.40283263]])"
     },
     "execution_count": 88,
     "metadata": {},
     "output_type": "execute_result"
    }
   ],
   "source": [
    "df_inf_07_scaled = scaler.fit_transform(df_inf_07_)\n",
    "df_inf_07_scaled"
   ],
   "metadata": {
    "collapsed": false,
    "pycharm": {
     "name": "#%%\n"
    }
   }
  },
  {
   "cell_type": "code",
   "execution_count": 89,
   "outputs": [],
   "source": [
    "\n",
    "# Kmeans avec le k choisi\n",
    "\n",
    "kmeans_model_7 = KMeans(4, random_state=42)\n",
    "kmeans_model_7.fit(df_inf_07_scaled)\n",
    "\n",
    "# Etiquette\n",
    "labels_model_7 = kmeans_model_7.labels_"
   ],
   "metadata": {
    "collapsed": false,
    "pycharm": {
     "name": "#%%\n"
    }
   }
  },
  {
   "cell_type": "code",
   "execution_count": 90,
   "outputs": [
    {
     "data": {
      "text/plain": "array([2, 2, 2, ..., 3, 1, 3])"
     },
     "execution_count": 90,
     "metadata": {},
     "output_type": "execute_result"
    }
   ],
   "source": [
    "labels_model_7"
   ],
   "metadata": {
    "collapsed": false,
    "pycharm": {
     "name": "#%%\n"
    }
   }
  },
  {
   "cell_type": "code",
   "execution_count": 91,
   "outputs": [
    {
     "data": {
      "text/plain": "array([3, 3, 3, ..., 1, 2, 2])"
     },
     "execution_count": 91,
     "metadata": {},
     "output_type": "execute_result"
    }
   ],
   "source": [
    "labels_predict_7 = kmeans_model_6.predict(df_inf_07_scaled)\n",
    "labels_predict_7"
   ],
   "metadata": {
    "collapsed": false,
    "pycharm": {
     "name": "#%%\n"
    }
   }
  },
  {
   "cell_type": "code",
   "execution_count": 92,
   "outputs": [
    {
     "data": {
      "text/plain": "0.87985860894732"
     },
     "execution_count": 92,
     "metadata": {},
     "output_type": "execute_result"
    }
   ],
   "source": [
    "\n",
    "ari_07 = adjusted_rand_score(labels_model_7, labels_predict_7)\n",
    "ari_07"
   ],
   "metadata": {
    "collapsed": false,
    "pycharm": {
     "name": "#%%\n"
    }
   }
  },
  {
   "cell_type": "code",
   "execution_count": 93,
   "outputs": [
    {
     "data": {
      "text/plain": "{'2017-09-19': 0.6864551842612211,\n Timestamp('2017-10-10 00:00:00'): 0.9703524800217207,\n Timestamp('2017-10-31 00:00:00'): 0.9556678730363262,\n Timestamp('2017-11-21 00:00:00'): 0.7102637915244074,\n Timestamp('2017-12-12 00:00:00'): 0.6883429712802089,\n Timestamp('2018-01-02 00:00:00'): 0.6260435836584001,\n Timestamp('2018-01-23 00:00:00'): 0.87985860894732}"
     },
     "execution_count": 93,
     "metadata": {},
     "output_type": "execute_result"
    }
   ],
   "source": [
    "ari_score[I_07] = ari_07\n",
    "ari_score"
   ],
   "metadata": {
    "collapsed": false,
    "pycharm": {
     "name": "#%%\n"
    }
   }
  },
  {
   "cell_type": "markdown",
   "source": [
    "####\n",
    "### Intervalle 8"
   ],
   "metadata": {
    "collapsed": false,
    "pycharm": {
     "name": "#%% md\n"
    }
   }
  },
  {
   "cell_type": "code",
   "execution_count": 94,
   "outputs": [
    {
     "data": {
      "text/plain": "Timestamp('2018-02-13 00:00:00')"
     },
     "execution_count": 94,
     "metadata": {},
     "output_type": "execute_result"
    }
   ],
   "source": [
    "I_08 = additional_period(I_07, nj, last_order_date)\n",
    "I_08"
   ],
   "metadata": {
    "collapsed": false,
    "pycharm": {
     "name": "#%%\n"
    }
   }
  },
  {
   "cell_type": "code",
   "execution_count": 95,
   "outputs": [
    {
     "data": {
      "text/plain": "                                 order_purchase_timestamp  R (Récence)  f  \\\ncustomer_unique_id                                                          \n487ff42ade0b680bbb1c3dbcb4779329      2018-02-12 23:55:18         1737  1   \n904089b4cfa95d92587b5d9e9e12ebaa      2018-02-12 23:47:54         1737  1   \nc9e88dde299927079d22c21f72ba6e3d      2018-02-12 23:27:44         1737  1   \n94f48c018010de09d9c471e5d819ea05      2018-02-12 23:11:00         1737  1   \ne047dae90f668bb660ad7edc1f98923b      2018-02-12 23:01:58         1737  1   \n...                                                   ...          ... ..   \nec898e38f1ef4afd3043f8b09b14a16e      2018-01-23 00:49:18         1758  1   \n8792a15ab5ef76ccaacba6398ea2041d      2018-01-23 00:44:09         1758  1   \nbd99f9ce70ae45607f337d482aa62684      2018-01-23 00:30:58         1758  1   \nd4e1025ab443665f0aed4e25f5464ba8      2018-01-23 00:18:46         1758  1   \nba93b30c40aeedd1996a5218a0edb45f      2018-01-23 00:05:39         1758  1   \n\n                                       m  delta_purchase_delivery  \\\ncustomer_unique_id                                                  \n487ff42ade0b680bbb1c3dbcb4779329   61.84                     13.0   \n904089b4cfa95d92587b5d9e9e12ebaa   86.83                      8.0   \nc9e88dde299927079d22c21f72ba6e3d  931.62                     43.0   \n94f48c018010de09d9c471e5d819ea05   32.77                      4.0   \ne047dae90f668bb660ad7edc1f98923b  118.98                      9.0   \n...                                  ...                      ...   \nec898e38f1ef4afd3043f8b09b14a16e  108.19                     15.0   \n8792a15ab5ef76ccaacba6398ea2041d   46.69                     45.0   \nbd99f9ce70ae45607f337d482aa62684   67.79                      9.0   \nd4e1025ab443665f0aed4e25f5464ba8   86.83                     17.0   \nba93b30c40aeedd1996a5218a0edb45f   36.59                     24.0   \n\n                                  review_score  haversine_distance  \ncustomer_unique_id                                                  \n487ff42ade0b680bbb1c3dbcb4779329      5.000000          121.011082  \n904089b4cfa95d92587b5d9e9e12ebaa      5.000000          737.714745  \nc9e88dde299927079d22c21f72ba6e3d      4.153643         1212.147937  \n94f48c018010de09d9c471e5d819ea05      5.000000           50.576377  \ne047dae90f668bb660ad7edc1f98923b      3.000000          145.873409  \n...                                        ...                 ...  \nec898e38f1ef4afd3043f8b09b14a16e      5.000000          695.661519  \n8792a15ab5ef76ccaacba6398ea2041d      1.000000          456.952782  \nbd99f9ce70ae45607f337d482aa62684      5.000000          113.019420  \nd4e1025ab443665f0aed4e25f5464ba8      5.000000          552.992641  \nba93b30c40aeedd1996a5218a0edb45f      4.000000          267.382099  \n\n[4391 rows x 7 columns]",
      "text/html": "<div>\n<style scoped>\n    .dataframe tbody tr th:only-of-type {\n        vertical-align: middle;\n    }\n\n    .dataframe tbody tr th {\n        vertical-align: top;\n    }\n\n    .dataframe thead th {\n        text-align: right;\n    }\n</style>\n<table border=\"1\" class=\"dataframe\">\n  <thead>\n    <tr style=\"text-align: right;\">\n      <th></th>\n      <th>order_purchase_timestamp</th>\n      <th>R (Récence)</th>\n      <th>f</th>\n      <th>m</th>\n      <th>delta_purchase_delivery</th>\n      <th>review_score</th>\n      <th>haversine_distance</th>\n    </tr>\n    <tr>\n      <th>customer_unique_id</th>\n      <th></th>\n      <th></th>\n      <th></th>\n      <th></th>\n      <th></th>\n      <th></th>\n      <th></th>\n    </tr>\n  </thead>\n  <tbody>\n    <tr>\n      <th>487ff42ade0b680bbb1c3dbcb4779329</th>\n      <td>2018-02-12 23:55:18</td>\n      <td>1737</td>\n      <td>1</td>\n      <td>61.84</td>\n      <td>13.0</td>\n      <td>5.000000</td>\n      <td>121.011082</td>\n    </tr>\n    <tr>\n      <th>904089b4cfa95d92587b5d9e9e12ebaa</th>\n      <td>2018-02-12 23:47:54</td>\n      <td>1737</td>\n      <td>1</td>\n      <td>86.83</td>\n      <td>8.0</td>\n      <td>5.000000</td>\n      <td>737.714745</td>\n    </tr>\n    <tr>\n      <th>c9e88dde299927079d22c21f72ba6e3d</th>\n      <td>2018-02-12 23:27:44</td>\n      <td>1737</td>\n      <td>1</td>\n      <td>931.62</td>\n      <td>43.0</td>\n      <td>4.153643</td>\n      <td>1212.147937</td>\n    </tr>\n    <tr>\n      <th>94f48c018010de09d9c471e5d819ea05</th>\n      <td>2018-02-12 23:11:00</td>\n      <td>1737</td>\n      <td>1</td>\n      <td>32.77</td>\n      <td>4.0</td>\n      <td>5.000000</td>\n      <td>50.576377</td>\n    </tr>\n    <tr>\n      <th>e047dae90f668bb660ad7edc1f98923b</th>\n      <td>2018-02-12 23:01:58</td>\n      <td>1737</td>\n      <td>1</td>\n      <td>118.98</td>\n      <td>9.0</td>\n      <td>3.000000</td>\n      <td>145.873409</td>\n    </tr>\n    <tr>\n      <th>...</th>\n      <td>...</td>\n      <td>...</td>\n      <td>...</td>\n      <td>...</td>\n      <td>...</td>\n      <td>...</td>\n      <td>...</td>\n    </tr>\n    <tr>\n      <th>ec898e38f1ef4afd3043f8b09b14a16e</th>\n      <td>2018-01-23 00:49:18</td>\n      <td>1758</td>\n      <td>1</td>\n      <td>108.19</td>\n      <td>15.0</td>\n      <td>5.000000</td>\n      <td>695.661519</td>\n    </tr>\n    <tr>\n      <th>8792a15ab5ef76ccaacba6398ea2041d</th>\n      <td>2018-01-23 00:44:09</td>\n      <td>1758</td>\n      <td>1</td>\n      <td>46.69</td>\n      <td>45.0</td>\n      <td>1.000000</td>\n      <td>456.952782</td>\n    </tr>\n    <tr>\n      <th>bd99f9ce70ae45607f337d482aa62684</th>\n      <td>2018-01-23 00:30:58</td>\n      <td>1758</td>\n      <td>1</td>\n      <td>67.79</td>\n      <td>9.0</td>\n      <td>5.000000</td>\n      <td>113.019420</td>\n    </tr>\n    <tr>\n      <th>d4e1025ab443665f0aed4e25f5464ba8</th>\n      <td>2018-01-23 00:18:46</td>\n      <td>1758</td>\n      <td>1</td>\n      <td>86.83</td>\n      <td>17.0</td>\n      <td>5.000000</td>\n      <td>552.992641</td>\n    </tr>\n    <tr>\n      <th>ba93b30c40aeedd1996a5218a0edb45f</th>\n      <td>2018-01-23 00:05:39</td>\n      <td>1758</td>\n      <td>1</td>\n      <td>36.59</td>\n      <td>24.0</td>\n      <td>4.000000</td>\n      <td>267.382099</td>\n    </tr>\n  </tbody>\n</table>\n<p>4391 rows × 7 columns</p>\n</div>"
     },
     "execution_count": 95,
     "metadata": {},
     "output_type": "execute_result"
    }
   ],
   "source": [
    "df_inf_08 = df_inf_00.loc[\n",
    "    (df_inf_00['order_purchase_timestamp'] > I_07) & (df_inf_00['order_purchase_timestamp'] <= I_08)]\n",
    "df_inf_08"
   ],
   "metadata": {
    "collapsed": false,
    "pycharm": {
     "name": "#%%\n"
    }
   }
  },
  {
   "cell_type": "code",
   "execution_count": 96,
   "outputs": [
    {
     "data": {
      "text/plain": "                                  R (Récence)  f       m  \\\ncustomer_unique_id                                         \n487ff42ade0b680bbb1c3dbcb4779329         1737  1   61.84   \n904089b4cfa95d92587b5d9e9e12ebaa         1737  1   86.83   \nc9e88dde299927079d22c21f72ba6e3d         1737  1  931.62   \n94f48c018010de09d9c471e5d819ea05         1737  1   32.77   \ne047dae90f668bb660ad7edc1f98923b         1737  1  118.98   \n...                                       ... ..     ...   \nec898e38f1ef4afd3043f8b09b14a16e         1758  1  108.19   \n8792a15ab5ef76ccaacba6398ea2041d         1758  1   46.69   \nbd99f9ce70ae45607f337d482aa62684         1758  1   67.79   \nd4e1025ab443665f0aed4e25f5464ba8         1758  1   86.83   \nba93b30c40aeedd1996a5218a0edb45f         1758  1   36.59   \n\n                                  delta_purchase_delivery  review_score  \\\ncustomer_unique_id                                                        \n487ff42ade0b680bbb1c3dbcb4779329                     13.0      5.000000   \n904089b4cfa95d92587b5d9e9e12ebaa                      8.0      5.000000   \nc9e88dde299927079d22c21f72ba6e3d                     43.0      4.153643   \n94f48c018010de09d9c471e5d819ea05                      4.0      5.000000   \ne047dae90f668bb660ad7edc1f98923b                      9.0      3.000000   \n...                                                   ...           ...   \nec898e38f1ef4afd3043f8b09b14a16e                     15.0      5.000000   \n8792a15ab5ef76ccaacba6398ea2041d                     45.0      1.000000   \nbd99f9ce70ae45607f337d482aa62684                      9.0      5.000000   \nd4e1025ab443665f0aed4e25f5464ba8                     17.0      5.000000   \nba93b30c40aeedd1996a5218a0edb45f                     24.0      4.000000   \n\n                                  haversine_distance  \ncustomer_unique_id                                    \n487ff42ade0b680bbb1c3dbcb4779329          121.011082  \n904089b4cfa95d92587b5d9e9e12ebaa          737.714745  \nc9e88dde299927079d22c21f72ba6e3d         1212.147937  \n94f48c018010de09d9c471e5d819ea05           50.576377  \ne047dae90f668bb660ad7edc1f98923b          145.873409  \n...                                              ...  \nec898e38f1ef4afd3043f8b09b14a16e          695.661519  \n8792a15ab5ef76ccaacba6398ea2041d          456.952782  \nbd99f9ce70ae45607f337d482aa62684          113.019420  \nd4e1025ab443665f0aed4e25f5464ba8          552.992641  \nba93b30c40aeedd1996a5218a0edb45f          267.382099  \n\n[4391 rows x 6 columns]",
      "text/html": "<div>\n<style scoped>\n    .dataframe tbody tr th:only-of-type {\n        vertical-align: middle;\n    }\n\n    .dataframe tbody tr th {\n        vertical-align: top;\n    }\n\n    .dataframe thead th {\n        text-align: right;\n    }\n</style>\n<table border=\"1\" class=\"dataframe\">\n  <thead>\n    <tr style=\"text-align: right;\">\n      <th></th>\n      <th>R (Récence)</th>\n      <th>f</th>\n      <th>m</th>\n      <th>delta_purchase_delivery</th>\n      <th>review_score</th>\n      <th>haversine_distance</th>\n    </tr>\n    <tr>\n      <th>customer_unique_id</th>\n      <th></th>\n      <th></th>\n      <th></th>\n      <th></th>\n      <th></th>\n      <th></th>\n    </tr>\n  </thead>\n  <tbody>\n    <tr>\n      <th>487ff42ade0b680bbb1c3dbcb4779329</th>\n      <td>1737</td>\n      <td>1</td>\n      <td>61.84</td>\n      <td>13.0</td>\n      <td>5.000000</td>\n      <td>121.011082</td>\n    </tr>\n    <tr>\n      <th>904089b4cfa95d92587b5d9e9e12ebaa</th>\n      <td>1737</td>\n      <td>1</td>\n      <td>86.83</td>\n      <td>8.0</td>\n      <td>5.000000</td>\n      <td>737.714745</td>\n    </tr>\n    <tr>\n      <th>c9e88dde299927079d22c21f72ba6e3d</th>\n      <td>1737</td>\n      <td>1</td>\n      <td>931.62</td>\n      <td>43.0</td>\n      <td>4.153643</td>\n      <td>1212.147937</td>\n    </tr>\n    <tr>\n      <th>94f48c018010de09d9c471e5d819ea05</th>\n      <td>1737</td>\n      <td>1</td>\n      <td>32.77</td>\n      <td>4.0</td>\n      <td>5.000000</td>\n      <td>50.576377</td>\n    </tr>\n    <tr>\n      <th>e047dae90f668bb660ad7edc1f98923b</th>\n      <td>1737</td>\n      <td>1</td>\n      <td>118.98</td>\n      <td>9.0</td>\n      <td>3.000000</td>\n      <td>145.873409</td>\n    </tr>\n    <tr>\n      <th>...</th>\n      <td>...</td>\n      <td>...</td>\n      <td>...</td>\n      <td>...</td>\n      <td>...</td>\n      <td>...</td>\n    </tr>\n    <tr>\n      <th>ec898e38f1ef4afd3043f8b09b14a16e</th>\n      <td>1758</td>\n      <td>1</td>\n      <td>108.19</td>\n      <td>15.0</td>\n      <td>5.000000</td>\n      <td>695.661519</td>\n    </tr>\n    <tr>\n      <th>8792a15ab5ef76ccaacba6398ea2041d</th>\n      <td>1758</td>\n      <td>1</td>\n      <td>46.69</td>\n      <td>45.0</td>\n      <td>1.000000</td>\n      <td>456.952782</td>\n    </tr>\n    <tr>\n      <th>bd99f9ce70ae45607f337d482aa62684</th>\n      <td>1758</td>\n      <td>1</td>\n      <td>67.79</td>\n      <td>9.0</td>\n      <td>5.000000</td>\n      <td>113.019420</td>\n    </tr>\n    <tr>\n      <th>d4e1025ab443665f0aed4e25f5464ba8</th>\n      <td>1758</td>\n      <td>1</td>\n      <td>86.83</td>\n      <td>17.0</td>\n      <td>5.000000</td>\n      <td>552.992641</td>\n    </tr>\n    <tr>\n      <th>ba93b30c40aeedd1996a5218a0edb45f</th>\n      <td>1758</td>\n      <td>1</td>\n      <td>36.59</td>\n      <td>24.0</td>\n      <td>4.000000</td>\n      <td>267.382099</td>\n    </tr>\n  </tbody>\n</table>\n<p>4391 rows × 6 columns</p>\n</div>"
     },
     "execution_count": 96,
     "metadata": {},
     "output_type": "execute_result"
    }
   ],
   "source": [
    "df_inf_08_ = df_inf_08[['R (Récence)', 'f', 'm', 'delta_purchase_delivery', 'review_score', 'haversine_distance']]\n",
    "df_inf_08_"
   ],
   "metadata": {
    "collapsed": false,
    "pycharm": {
     "name": "#%%\n"
    }
   }
  },
  {
   "cell_type": "code",
   "execution_count": 97,
   "outputs": [
    {
     "data": {
      "text/plain": "array([[0.        , 0.        , 0.01232962, 0.07738095, 1.        ,\n        0.05753274],\n       [0.        , 0.        , 0.0188853 , 0.04761905, 1.        ,\n        0.35073441],\n       [0.        , 0.        , 0.24050095, 0.25595238, 0.78841064,\n        0.5762959 ],\n       ...,\n       [1.        , 0.        , 0.01389049, 0.05357143, 1.        ,\n        0.05373323],\n       [1.        , 0.        , 0.0188853 , 0.10119048, 1.        ,\n        0.2629113 ],\n       [1.        , 0.        , 0.00570573, 0.14285714, 0.75      ,\n        0.12712244]])"
     },
     "execution_count": 97,
     "metadata": {},
     "output_type": "execute_result"
    }
   ],
   "source": [
    "df_inf_08_scaled = scaler.fit_transform(df_inf_08_)\n",
    "df_inf_08_scaled"
   ],
   "metadata": {
    "collapsed": false,
    "pycharm": {
     "name": "#%%\n"
    }
   }
  },
  {
   "cell_type": "code",
   "execution_count": 98,
   "outputs": [],
   "source": [
    "\n",
    "# Kmeans avec le k choisi\n",
    "\n",
    "kmeans_model_8 = KMeans(4, random_state=42)\n",
    "kmeans_model_8.fit(df_inf_08_scaled)\n",
    "\n",
    "# Etiquette\n",
    "labels_model_8 = kmeans_model_8.labels_"
   ],
   "metadata": {
    "collapsed": false,
    "pycharm": {
     "name": "#%%\n"
    }
   }
  },
  {
   "cell_type": "code",
   "execution_count": 99,
   "outputs": [
    {
     "data": {
      "text/plain": "array([2, 2, 2, ..., 0, 0, 0])"
     },
     "execution_count": 99,
     "metadata": {},
     "output_type": "execute_result"
    }
   ],
   "source": [
    "labels_model_8"
   ],
   "metadata": {
    "collapsed": false,
    "pycharm": {
     "name": "#%%\n"
    }
   }
  },
  {
   "cell_type": "code",
   "execution_count": 100,
   "outputs": [
    {
     "data": {
      "text/plain": "array([2, 2, 0, ..., 3, 3, 3])"
     },
     "execution_count": 100,
     "metadata": {},
     "output_type": "execute_result"
    }
   ],
   "source": [
    "labels_predict_8 = kmeans_model_7.predict(df_inf_08_scaled)\n",
    "labels_predict_8"
   ],
   "metadata": {
    "collapsed": false,
    "pycharm": {
     "name": "#%%\n"
    }
   }
  },
  {
   "cell_type": "code",
   "execution_count": 101,
   "outputs": [
    {
     "data": {
      "text/plain": "0.7505950375892347"
     },
     "execution_count": 101,
     "metadata": {},
     "output_type": "execute_result"
    }
   ],
   "source": [
    "\n",
    "ari_08 = adjusted_rand_score(labels_model_8, labels_predict_8)\n",
    "ari_08"
   ],
   "metadata": {
    "collapsed": false,
    "pycharm": {
     "name": "#%%\n"
    }
   }
  },
  {
   "cell_type": "code",
   "execution_count": 102,
   "outputs": [
    {
     "data": {
      "text/plain": "{'2017-09-19': 0.6864551842612211,\n Timestamp('2017-10-10 00:00:00'): 0.9703524800217207,\n Timestamp('2017-10-31 00:00:00'): 0.9556678730363262,\n Timestamp('2017-11-21 00:00:00'): 0.7102637915244074,\n Timestamp('2017-12-12 00:00:00'): 0.6883429712802089,\n Timestamp('2018-01-02 00:00:00'): 0.6260435836584001,\n Timestamp('2018-01-23 00:00:00'): 0.87985860894732,\n Timestamp('2018-02-13 00:00:00'): 0.7505950375892347}"
     },
     "execution_count": 102,
     "metadata": {},
     "output_type": "execute_result"
    }
   ],
   "source": [
    "ari_score[I_08] = ari_08\n",
    "ari_score"
   ],
   "metadata": {
    "collapsed": false,
    "pycharm": {
     "name": "#%%\n"
    }
   }
  },
  {
   "cell_type": "markdown",
   "source": [
    "####\n",
    "### Intervalle 9"
   ],
   "metadata": {
    "collapsed": false,
    "pycharm": {
     "name": "#%% md\n"
    }
   }
  },
  {
   "cell_type": "code",
   "execution_count": 103,
   "outputs": [
    {
     "data": {
      "text/plain": "Timestamp('2018-03-06 00:00:00')"
     },
     "execution_count": 103,
     "metadata": {},
     "output_type": "execute_result"
    }
   ],
   "source": [
    "I_09 = additional_period(I_08, nj, last_order_date)\n",
    "I_09"
   ],
   "metadata": {
    "collapsed": false,
    "pycharm": {
     "name": "#%%\n"
    }
   }
  },
  {
   "cell_type": "code",
   "execution_count": 104,
   "outputs": [
    {
     "data": {
      "text/plain": "                                 order_purchase_timestamp  R (Récence)  f  \\\ncustomer_unique_id                                                          \n3c0db381133bd9fbf8255b12defee7e7      2018-03-05 23:51:28         1716  1   \n4dfdc2b505745b7fa2547c07f4d1d5d9      2018-03-05 23:50:06         1716  1   \n90445636126e4dbeacad6c7ec24e4c16      2018-03-05 23:31:49         1716  1   \nacf44dfee8ef086ef411e130c9b7e23d      2018-03-05 23:23:04         1716  1   \n9b9ec683f4c725d34f8844616265c45b      2018-03-05 22:50:41         1716  1   \n...                                                   ...          ... ..   \n81c8a13965f7a71bbaa1b7ae76e839c3      2018-02-13 00:59:36         1737  1   \n7857512dc9a14ef806537f0443fd5d9e      2018-02-13 00:38:22         1737  1   \naf90886f773a050db25c4316d0aedf49      2018-02-13 00:21:01         1737  1   \n5a174bb71d5ec2d4acce5732fbad85cc      2018-02-13 00:19:51         1737  1   \ne3ff1c66fc29070a74179654e03caea3      2018-02-13 00:03:01         1737  1   \n\n                                       m  delta_purchase_delivery  \\\ncustomer_unique_id                                                  \n3c0db381133bd9fbf8255b12defee7e7  169.08                      8.0   \n4dfdc2b505745b7fa2547c07f4d1d5d9   52.31                     20.0   \n90445636126e4dbeacad6c7ec24e4c16   22.79                     30.0   \nacf44dfee8ef086ef411e130c9b7e23d  492.21                     23.0   \n9b9ec683f4c725d34f8844616265c45b  165.95                     21.0   \n...                                  ...                      ...   \n81c8a13965f7a71bbaa1b7ae76e839c3   43.78                     29.0   \n7857512dc9a14ef806537f0443fd5d9e   50.63                      8.0   \naf90886f773a050db25c4316d0aedf49  138.60                     20.0   \n5a174bb71d5ec2d4acce5732fbad85cc   52.00                     10.0   \ne3ff1c66fc29070a74179654e03caea3   63.01                      7.0   \n\n                                  review_score  haversine_distance  \ncustomer_unique_id                                                  \n3c0db381133bd9fbf8255b12defee7e7           5.0          145.069446  \n4dfdc2b505745b7fa2547c07f4d1d5d9           5.0          842.431024  \n90445636126e4dbeacad6c7ec24e4c16           3.0          178.420397  \nacf44dfee8ef086ef411e130c9b7e23d           4.0          339.843800  \n9b9ec683f4c725d34f8844616265c45b           4.0         1199.345744  \n...                                        ...                 ...  \n81c8a13965f7a71bbaa1b7ae76e839c3           3.0          826.181440  \n7857512dc9a14ef806537f0443fd5d9e           3.0            7.873576  \naf90886f773a050db25c4316d0aedf49           4.0          509.839978  \n5a174bb71d5ec2d4acce5732fbad85cc           5.0          276.542816  \ne3ff1c66fc29070a74179654e03caea3           5.0          137.830638  \n\n[4970 rows x 7 columns]",
      "text/html": "<div>\n<style scoped>\n    .dataframe tbody tr th:only-of-type {\n        vertical-align: middle;\n    }\n\n    .dataframe tbody tr th {\n        vertical-align: top;\n    }\n\n    .dataframe thead th {\n        text-align: right;\n    }\n</style>\n<table border=\"1\" class=\"dataframe\">\n  <thead>\n    <tr style=\"text-align: right;\">\n      <th></th>\n      <th>order_purchase_timestamp</th>\n      <th>R (Récence)</th>\n      <th>f</th>\n      <th>m</th>\n      <th>delta_purchase_delivery</th>\n      <th>review_score</th>\n      <th>haversine_distance</th>\n    </tr>\n    <tr>\n      <th>customer_unique_id</th>\n      <th></th>\n      <th></th>\n      <th></th>\n      <th></th>\n      <th></th>\n      <th></th>\n      <th></th>\n    </tr>\n  </thead>\n  <tbody>\n    <tr>\n      <th>3c0db381133bd9fbf8255b12defee7e7</th>\n      <td>2018-03-05 23:51:28</td>\n      <td>1716</td>\n      <td>1</td>\n      <td>169.08</td>\n      <td>8.0</td>\n      <td>5.0</td>\n      <td>145.069446</td>\n    </tr>\n    <tr>\n      <th>4dfdc2b505745b7fa2547c07f4d1d5d9</th>\n      <td>2018-03-05 23:50:06</td>\n      <td>1716</td>\n      <td>1</td>\n      <td>52.31</td>\n      <td>20.0</td>\n      <td>5.0</td>\n      <td>842.431024</td>\n    </tr>\n    <tr>\n      <th>90445636126e4dbeacad6c7ec24e4c16</th>\n      <td>2018-03-05 23:31:49</td>\n      <td>1716</td>\n      <td>1</td>\n      <td>22.79</td>\n      <td>30.0</td>\n      <td>3.0</td>\n      <td>178.420397</td>\n    </tr>\n    <tr>\n      <th>acf44dfee8ef086ef411e130c9b7e23d</th>\n      <td>2018-03-05 23:23:04</td>\n      <td>1716</td>\n      <td>1</td>\n      <td>492.21</td>\n      <td>23.0</td>\n      <td>4.0</td>\n      <td>339.843800</td>\n    </tr>\n    <tr>\n      <th>9b9ec683f4c725d34f8844616265c45b</th>\n      <td>2018-03-05 22:50:41</td>\n      <td>1716</td>\n      <td>1</td>\n      <td>165.95</td>\n      <td>21.0</td>\n      <td>4.0</td>\n      <td>1199.345744</td>\n    </tr>\n    <tr>\n      <th>...</th>\n      <td>...</td>\n      <td>...</td>\n      <td>...</td>\n      <td>...</td>\n      <td>...</td>\n      <td>...</td>\n      <td>...</td>\n    </tr>\n    <tr>\n      <th>81c8a13965f7a71bbaa1b7ae76e839c3</th>\n      <td>2018-02-13 00:59:36</td>\n      <td>1737</td>\n      <td>1</td>\n      <td>43.78</td>\n      <td>29.0</td>\n      <td>3.0</td>\n      <td>826.181440</td>\n    </tr>\n    <tr>\n      <th>7857512dc9a14ef806537f0443fd5d9e</th>\n      <td>2018-02-13 00:38:22</td>\n      <td>1737</td>\n      <td>1</td>\n      <td>50.63</td>\n      <td>8.0</td>\n      <td>3.0</td>\n      <td>7.873576</td>\n    </tr>\n    <tr>\n      <th>af90886f773a050db25c4316d0aedf49</th>\n      <td>2018-02-13 00:21:01</td>\n      <td>1737</td>\n      <td>1</td>\n      <td>138.60</td>\n      <td>20.0</td>\n      <td>4.0</td>\n      <td>509.839978</td>\n    </tr>\n    <tr>\n      <th>5a174bb71d5ec2d4acce5732fbad85cc</th>\n      <td>2018-02-13 00:19:51</td>\n      <td>1737</td>\n      <td>1</td>\n      <td>52.00</td>\n      <td>10.0</td>\n      <td>5.0</td>\n      <td>276.542816</td>\n    </tr>\n    <tr>\n      <th>e3ff1c66fc29070a74179654e03caea3</th>\n      <td>2018-02-13 00:03:01</td>\n      <td>1737</td>\n      <td>1</td>\n      <td>63.01</td>\n      <td>7.0</td>\n      <td>5.0</td>\n      <td>137.830638</td>\n    </tr>\n  </tbody>\n</table>\n<p>4970 rows × 7 columns</p>\n</div>"
     },
     "execution_count": 104,
     "metadata": {},
     "output_type": "execute_result"
    }
   ],
   "source": [
    "df_inf_09 = df_inf_00.loc[\n",
    "    (df_inf_00['order_purchase_timestamp'] > I_08) & (df_inf_00['order_purchase_timestamp'] <= I_09)]\n",
    "df_inf_09"
   ],
   "metadata": {
    "collapsed": false,
    "pycharm": {
     "name": "#%%\n"
    }
   }
  },
  {
   "cell_type": "code",
   "execution_count": 105,
   "outputs": [
    {
     "data": {
      "text/plain": "                                  R (Récence)  f       m  \\\ncustomer_unique_id                                         \n3c0db381133bd9fbf8255b12defee7e7         1716  1  169.08   \n4dfdc2b505745b7fa2547c07f4d1d5d9         1716  1   52.31   \n90445636126e4dbeacad6c7ec24e4c16         1716  1   22.79   \nacf44dfee8ef086ef411e130c9b7e23d         1716  1  492.21   \n9b9ec683f4c725d34f8844616265c45b         1716  1  165.95   \n...                                       ... ..     ...   \n81c8a13965f7a71bbaa1b7ae76e839c3         1737  1   43.78   \n7857512dc9a14ef806537f0443fd5d9e         1737  1   50.63   \naf90886f773a050db25c4316d0aedf49         1737  1  138.60   \n5a174bb71d5ec2d4acce5732fbad85cc         1737  1   52.00   \ne3ff1c66fc29070a74179654e03caea3         1737  1   63.01   \n\n                                  delta_purchase_delivery  review_score  \\\ncustomer_unique_id                                                        \n3c0db381133bd9fbf8255b12defee7e7                      8.0           5.0   \n4dfdc2b505745b7fa2547c07f4d1d5d9                     20.0           5.0   \n90445636126e4dbeacad6c7ec24e4c16                     30.0           3.0   \nacf44dfee8ef086ef411e130c9b7e23d                     23.0           4.0   \n9b9ec683f4c725d34f8844616265c45b                     21.0           4.0   \n...                                                   ...           ...   \n81c8a13965f7a71bbaa1b7ae76e839c3                     29.0           3.0   \n7857512dc9a14ef806537f0443fd5d9e                      8.0           3.0   \naf90886f773a050db25c4316d0aedf49                     20.0           4.0   \n5a174bb71d5ec2d4acce5732fbad85cc                     10.0           5.0   \ne3ff1c66fc29070a74179654e03caea3                      7.0           5.0   \n\n                                  haversine_distance  \ncustomer_unique_id                                    \n3c0db381133bd9fbf8255b12defee7e7          145.069446  \n4dfdc2b505745b7fa2547c07f4d1d5d9          842.431024  \n90445636126e4dbeacad6c7ec24e4c16          178.420397  \nacf44dfee8ef086ef411e130c9b7e23d          339.843800  \n9b9ec683f4c725d34f8844616265c45b         1199.345744  \n...                                              ...  \n81c8a13965f7a71bbaa1b7ae76e839c3          826.181440  \n7857512dc9a14ef806537f0443fd5d9e            7.873576  \naf90886f773a050db25c4316d0aedf49          509.839978  \n5a174bb71d5ec2d4acce5732fbad85cc          276.542816  \ne3ff1c66fc29070a74179654e03caea3          137.830638  \n\n[4970 rows x 6 columns]",
      "text/html": "<div>\n<style scoped>\n    .dataframe tbody tr th:only-of-type {\n        vertical-align: middle;\n    }\n\n    .dataframe tbody tr th {\n        vertical-align: top;\n    }\n\n    .dataframe thead th {\n        text-align: right;\n    }\n</style>\n<table border=\"1\" class=\"dataframe\">\n  <thead>\n    <tr style=\"text-align: right;\">\n      <th></th>\n      <th>R (Récence)</th>\n      <th>f</th>\n      <th>m</th>\n      <th>delta_purchase_delivery</th>\n      <th>review_score</th>\n      <th>haversine_distance</th>\n    </tr>\n    <tr>\n      <th>customer_unique_id</th>\n      <th></th>\n      <th></th>\n      <th></th>\n      <th></th>\n      <th></th>\n      <th></th>\n    </tr>\n  </thead>\n  <tbody>\n    <tr>\n      <th>3c0db381133bd9fbf8255b12defee7e7</th>\n      <td>1716</td>\n      <td>1</td>\n      <td>169.08</td>\n      <td>8.0</td>\n      <td>5.0</td>\n      <td>145.069446</td>\n    </tr>\n    <tr>\n      <th>4dfdc2b505745b7fa2547c07f4d1d5d9</th>\n      <td>1716</td>\n      <td>1</td>\n      <td>52.31</td>\n      <td>20.0</td>\n      <td>5.0</td>\n      <td>842.431024</td>\n    </tr>\n    <tr>\n      <th>90445636126e4dbeacad6c7ec24e4c16</th>\n      <td>1716</td>\n      <td>1</td>\n      <td>22.79</td>\n      <td>30.0</td>\n      <td>3.0</td>\n      <td>178.420397</td>\n    </tr>\n    <tr>\n      <th>acf44dfee8ef086ef411e130c9b7e23d</th>\n      <td>1716</td>\n      <td>1</td>\n      <td>492.21</td>\n      <td>23.0</td>\n      <td>4.0</td>\n      <td>339.843800</td>\n    </tr>\n    <tr>\n      <th>9b9ec683f4c725d34f8844616265c45b</th>\n      <td>1716</td>\n      <td>1</td>\n      <td>165.95</td>\n      <td>21.0</td>\n      <td>4.0</td>\n      <td>1199.345744</td>\n    </tr>\n    <tr>\n      <th>...</th>\n      <td>...</td>\n      <td>...</td>\n      <td>...</td>\n      <td>...</td>\n      <td>...</td>\n      <td>...</td>\n    </tr>\n    <tr>\n      <th>81c8a13965f7a71bbaa1b7ae76e839c3</th>\n      <td>1737</td>\n      <td>1</td>\n      <td>43.78</td>\n      <td>29.0</td>\n      <td>3.0</td>\n      <td>826.181440</td>\n    </tr>\n    <tr>\n      <th>7857512dc9a14ef806537f0443fd5d9e</th>\n      <td>1737</td>\n      <td>1</td>\n      <td>50.63</td>\n      <td>8.0</td>\n      <td>3.0</td>\n      <td>7.873576</td>\n    </tr>\n    <tr>\n      <th>af90886f773a050db25c4316d0aedf49</th>\n      <td>1737</td>\n      <td>1</td>\n      <td>138.60</td>\n      <td>20.0</td>\n      <td>4.0</td>\n      <td>509.839978</td>\n    </tr>\n    <tr>\n      <th>5a174bb71d5ec2d4acce5732fbad85cc</th>\n      <td>1737</td>\n      <td>1</td>\n      <td>52.00</td>\n      <td>10.0</td>\n      <td>5.0</td>\n      <td>276.542816</td>\n    </tr>\n    <tr>\n      <th>e3ff1c66fc29070a74179654e03caea3</th>\n      <td>1737</td>\n      <td>1</td>\n      <td>63.01</td>\n      <td>7.0</td>\n      <td>5.0</td>\n      <td>137.830638</td>\n    </tr>\n  </tbody>\n</table>\n<p>4970 rows × 6 columns</p>\n</div>"
     },
     "execution_count": 105,
     "metadata": {},
     "output_type": "execute_result"
    }
   ],
   "source": [
    "df_inf_09_ = df_inf_09[['R (Récence)', 'f', 'm', 'delta_purchase_delivery', 'review_score', 'haversine_distance']]\n",
    "df_inf_09_"
   ],
   "metadata": {
    "collapsed": false,
    "pycharm": {
     "name": "#%%\n"
    }
   }
  },
  {
   "cell_type": "code",
   "execution_count": 106,
   "outputs": [
    {
     "data": {
      "text/plain": "array([[0.        , 0.        , 0.06432348, 0.03381643, 1.        ,\n        0.06909322],\n       [0.        , 0.        , 0.015006  , 0.09178744, 1.        ,\n        0.40123039],\n       [0.        , 0.        , 0.00253831, 0.14009662, 0.5       ,\n        0.0849775 ],\n       ...,\n       [1.        , 0.        , 0.05145034, 0.09178744, 0.75      ,\n        0.24282497],\n       [1.        , 0.        , 0.01487507, 0.04347826, 1.        ,\n        0.13171094],\n       [1.        , 0.        , 0.01952511, 0.02898551, 1.        ,\n        0.06564554]])"
     },
     "execution_count": 106,
     "metadata": {},
     "output_type": "execute_result"
    }
   ],
   "source": [
    "df_inf_09_scaled = scaler.fit_transform(df_inf_09_)\n",
    "df_inf_09_scaled"
   ],
   "metadata": {
    "collapsed": false,
    "pycharm": {
     "name": "#%%\n"
    }
   }
  },
  {
   "cell_type": "code",
   "execution_count": 107,
   "outputs": [],
   "source": [
    "\n",
    "# Kmeans avec le k choisi\n",
    "\n",
    "kmeans_model_9 = KMeans(4, random_state=42)\n",
    "kmeans_model_9.fit(df_inf_09_scaled)\n",
    "\n",
    "# Etiquette\n",
    "labels_model_9 = kmeans_model_9.labels_"
   ],
   "metadata": {
    "collapsed": false,
    "pycharm": {
     "name": "#%%\n"
    }
   }
  },
  {
   "cell_type": "code",
   "execution_count": 108,
   "outputs": [
    {
     "data": {
      "text/plain": "array([2, 2, 2, ..., 1, 1, 1])"
     },
     "execution_count": 108,
     "metadata": {},
     "output_type": "execute_result"
    }
   ],
   "source": [
    "labels_model_9"
   ],
   "metadata": {
    "collapsed": false,
    "pycharm": {
     "name": "#%%\n"
    }
   }
  },
  {
   "cell_type": "code",
   "execution_count": 109,
   "outputs": [
    {
     "data": {
      "text/plain": "array([2, 2, 1, ..., 0, 0, 0])"
     },
     "execution_count": 109,
     "metadata": {},
     "output_type": "execute_result"
    }
   ],
   "source": [
    "labels_predict_9 = kmeans_model_8.predict(df_inf_09_scaled)\n",
    "labels_predict_9"
   ],
   "metadata": {
    "collapsed": false,
    "pycharm": {
     "name": "#%%\n"
    }
   }
  },
  {
   "cell_type": "code",
   "execution_count": 110,
   "outputs": [
    {
     "data": {
      "text/plain": "0.8178611413052195"
     },
     "execution_count": 110,
     "metadata": {},
     "output_type": "execute_result"
    }
   ],
   "source": [
    "\n",
    "ari_09 = adjusted_rand_score(labels_model_9, labels_predict_9)\n",
    "ari_09"
   ],
   "metadata": {
    "collapsed": false,
    "pycharm": {
     "name": "#%%\n"
    }
   }
  },
  {
   "cell_type": "code",
   "execution_count": 111,
   "outputs": [
    {
     "data": {
      "text/plain": "{'2017-09-19': 0.6864551842612211,\n Timestamp('2017-10-10 00:00:00'): 0.9703524800217207,\n Timestamp('2017-10-31 00:00:00'): 0.9556678730363262,\n Timestamp('2017-11-21 00:00:00'): 0.7102637915244074,\n Timestamp('2017-12-12 00:00:00'): 0.6883429712802089,\n Timestamp('2018-01-02 00:00:00'): 0.6260435836584001,\n Timestamp('2018-01-23 00:00:00'): 0.87985860894732,\n Timestamp('2018-02-13 00:00:00'): 0.7505950375892347,\n Timestamp('2018-03-06 00:00:00'): 0.8178611413052195}"
     },
     "execution_count": 111,
     "metadata": {},
     "output_type": "execute_result"
    }
   ],
   "source": [
    "ari_score[I_09] = ari_09\n",
    "ari_score"
   ],
   "metadata": {
    "collapsed": false,
    "pycharm": {
     "name": "#%%\n"
    }
   }
  },
  {
   "cell_type": "markdown",
   "source": [
    "####\n",
    "### Intervalle 10"
   ],
   "metadata": {
    "collapsed": false,
    "pycharm": {
     "name": "#%% md\n"
    }
   }
  },
  {
   "cell_type": "code",
   "execution_count": 112,
   "outputs": [
    {
     "data": {
      "text/plain": "Timestamp('2018-03-27 00:00:00')"
     },
     "execution_count": 112,
     "metadata": {},
     "output_type": "execute_result"
    }
   ],
   "source": [
    "I_10 = additional_period(I_09, nj, last_order_date)\n",
    "I_10"
   ],
   "metadata": {
    "collapsed": false,
    "pycharm": {
     "name": "#%%\n"
    }
   }
  },
  {
   "cell_type": "code",
   "execution_count": 113,
   "outputs": [
    {
     "data": {
      "text/plain": "                                 order_purchase_timestamp  R (Récence)  f  \\\ncustomer_unique_id                                                          \n3d850129935d047bc6fc1fed1022641a      2018-03-26 23:50:49         1695  1   \na9a77b4e25980b7ca58cb71f878abb27      2018-03-26 23:43:27         1695  1   \n4c2ea7d5d0d6f073ea20fd63cd619d3d      2018-03-26 23:38:16         1695  1   \n65f9921f70c022110d5cc227be50e7b7      2018-03-26 23:38:06         1695  1   \nae16e6392fd04e6939f6b861725e6db6      2018-03-26 23:37:36         1695  1   \n...                                                   ...          ... ..   \n720581f424c67a341d5fef3a1914f29f      2018-03-06 00:47:51         1716  1   \n17ca979a63dda173f34124582b248b5b      2018-03-06 00:42:20         1716  1   \n4662682dade3cc1bfa04996c5225a849      2018-03-06 00:26:58         1716  1   \n7f1c95d3218de30f64810a9cee62b2a5      2018-03-06 00:15:07         1716  1   \n6926885b18239381073985d8d43e55d3      2018-03-06 00:01:09         1716  1   \n\n                                       m  delta_purchase_delivery  \\\ncustomer_unique_id                                                  \n3d850129935d047bc6fc1fed1022641a   89.48                     21.0   \na9a77b4e25980b7ca58cb71f878abb27   59.78                     16.0   \n4c2ea7d5d0d6f073ea20fd63cd619d3d  162.37                     14.0   \n65f9921f70c022110d5cc227be50e7b7  142.89                     11.0   \nae16e6392fd04e6939f6b861725e6db6   77.92                     13.0   \n...                                  ...                      ...   \n720581f424c67a341d5fef3a1914f29f   40.66                     20.0   \n17ca979a63dda173f34124582b248b5b  183.60                     10.0   \n4662682dade3cc1bfa04996c5225a849  112.83                      2.0   \n7f1c95d3218de30f64810a9cee62b2a5  116.26                     28.0   \n6926885b18239381073985d8d43e55d3  128.75                     36.0   \n\n                                  review_score  haversine_distance  \ncustomer_unique_id                                                  \n3d850129935d047bc6fc1fed1022641a           5.0         1743.817536  \na9a77b4e25980b7ca58cb71f878abb27           5.0          112.842980  \n4c2ea7d5d0d6f073ea20fd63cd619d3d           5.0         1426.134770  \n65f9921f70c022110d5cc227be50e7b7           5.0          139.310019  \nae16e6392fd04e6939f6b861725e6db6           5.0          451.934529  \n...                                        ...                 ...  \n720581f424c67a341d5fef3a1914f29f           4.0            6.778959  \n17ca979a63dda173f34124582b248b5b           5.0          496.749053  \n4662682dade3cc1bfa04996c5225a849           4.0            7.286066  \n7f1c95d3218de30f64810a9cee62b2a5           1.0          155.114197  \n6926885b18239381073985d8d43e55d3           4.0          221.784697  \n\n[4721 rows x 7 columns]",
      "text/html": "<div>\n<style scoped>\n    .dataframe tbody tr th:only-of-type {\n        vertical-align: middle;\n    }\n\n    .dataframe tbody tr th {\n        vertical-align: top;\n    }\n\n    .dataframe thead th {\n        text-align: right;\n    }\n</style>\n<table border=\"1\" class=\"dataframe\">\n  <thead>\n    <tr style=\"text-align: right;\">\n      <th></th>\n      <th>order_purchase_timestamp</th>\n      <th>R (Récence)</th>\n      <th>f</th>\n      <th>m</th>\n      <th>delta_purchase_delivery</th>\n      <th>review_score</th>\n      <th>haversine_distance</th>\n    </tr>\n    <tr>\n      <th>customer_unique_id</th>\n      <th></th>\n      <th></th>\n      <th></th>\n      <th></th>\n      <th></th>\n      <th></th>\n      <th></th>\n    </tr>\n  </thead>\n  <tbody>\n    <tr>\n      <th>3d850129935d047bc6fc1fed1022641a</th>\n      <td>2018-03-26 23:50:49</td>\n      <td>1695</td>\n      <td>1</td>\n      <td>89.48</td>\n      <td>21.0</td>\n      <td>5.0</td>\n      <td>1743.817536</td>\n    </tr>\n    <tr>\n      <th>a9a77b4e25980b7ca58cb71f878abb27</th>\n      <td>2018-03-26 23:43:27</td>\n      <td>1695</td>\n      <td>1</td>\n      <td>59.78</td>\n      <td>16.0</td>\n      <td>5.0</td>\n      <td>112.842980</td>\n    </tr>\n    <tr>\n      <th>4c2ea7d5d0d6f073ea20fd63cd619d3d</th>\n      <td>2018-03-26 23:38:16</td>\n      <td>1695</td>\n      <td>1</td>\n      <td>162.37</td>\n      <td>14.0</td>\n      <td>5.0</td>\n      <td>1426.134770</td>\n    </tr>\n    <tr>\n      <th>65f9921f70c022110d5cc227be50e7b7</th>\n      <td>2018-03-26 23:38:06</td>\n      <td>1695</td>\n      <td>1</td>\n      <td>142.89</td>\n      <td>11.0</td>\n      <td>5.0</td>\n      <td>139.310019</td>\n    </tr>\n    <tr>\n      <th>ae16e6392fd04e6939f6b861725e6db6</th>\n      <td>2018-03-26 23:37:36</td>\n      <td>1695</td>\n      <td>1</td>\n      <td>77.92</td>\n      <td>13.0</td>\n      <td>5.0</td>\n      <td>451.934529</td>\n    </tr>\n    <tr>\n      <th>...</th>\n      <td>...</td>\n      <td>...</td>\n      <td>...</td>\n      <td>...</td>\n      <td>...</td>\n      <td>...</td>\n      <td>...</td>\n    </tr>\n    <tr>\n      <th>720581f424c67a341d5fef3a1914f29f</th>\n      <td>2018-03-06 00:47:51</td>\n      <td>1716</td>\n      <td>1</td>\n      <td>40.66</td>\n      <td>20.0</td>\n      <td>4.0</td>\n      <td>6.778959</td>\n    </tr>\n    <tr>\n      <th>17ca979a63dda173f34124582b248b5b</th>\n      <td>2018-03-06 00:42:20</td>\n      <td>1716</td>\n      <td>1</td>\n      <td>183.60</td>\n      <td>10.0</td>\n      <td>5.0</td>\n      <td>496.749053</td>\n    </tr>\n    <tr>\n      <th>4662682dade3cc1bfa04996c5225a849</th>\n      <td>2018-03-06 00:26:58</td>\n      <td>1716</td>\n      <td>1</td>\n      <td>112.83</td>\n      <td>2.0</td>\n      <td>4.0</td>\n      <td>7.286066</td>\n    </tr>\n    <tr>\n      <th>7f1c95d3218de30f64810a9cee62b2a5</th>\n      <td>2018-03-06 00:15:07</td>\n      <td>1716</td>\n      <td>1</td>\n      <td>116.26</td>\n      <td>28.0</td>\n      <td>1.0</td>\n      <td>155.114197</td>\n    </tr>\n    <tr>\n      <th>6926885b18239381073985d8d43e55d3</th>\n      <td>2018-03-06 00:01:09</td>\n      <td>1716</td>\n      <td>1</td>\n      <td>128.75</td>\n      <td>36.0</td>\n      <td>4.0</td>\n      <td>221.784697</td>\n    </tr>\n  </tbody>\n</table>\n<p>4721 rows × 7 columns</p>\n</div>"
     },
     "execution_count": 113,
     "metadata": {},
     "output_type": "execute_result"
    }
   ],
   "source": [
    "df_inf_10 = df_inf_00.loc[\n",
    "    (df_inf_00['order_purchase_timestamp'] > I_09) & (df_inf_00['order_purchase_timestamp'] <= I_10)]\n",
    "df_inf_10"
   ],
   "metadata": {
    "collapsed": false,
    "pycharm": {
     "name": "#%%\n"
    }
   }
  },
  {
   "cell_type": "code",
   "execution_count": 114,
   "outputs": [
    {
     "data": {
      "text/plain": "                                  R (Récence)  f       m  \\\ncustomer_unique_id                                         \n3d850129935d047bc6fc1fed1022641a         1695  1   89.48   \na9a77b4e25980b7ca58cb71f878abb27         1695  1   59.78   \n4c2ea7d5d0d6f073ea20fd63cd619d3d         1695  1  162.37   \n65f9921f70c022110d5cc227be50e7b7         1695  1  142.89   \nae16e6392fd04e6939f6b861725e6db6         1695  1   77.92   \n...                                       ... ..     ...   \n720581f424c67a341d5fef3a1914f29f         1716  1   40.66   \n17ca979a63dda173f34124582b248b5b         1716  1  183.60   \n4662682dade3cc1bfa04996c5225a849         1716  1  112.83   \n7f1c95d3218de30f64810a9cee62b2a5         1716  1  116.26   \n6926885b18239381073985d8d43e55d3         1716  1  128.75   \n\n                                  delta_purchase_delivery  review_score  \\\ncustomer_unique_id                                                        \n3d850129935d047bc6fc1fed1022641a                     21.0           5.0   \na9a77b4e25980b7ca58cb71f878abb27                     16.0           5.0   \n4c2ea7d5d0d6f073ea20fd63cd619d3d                     14.0           5.0   \n65f9921f70c022110d5cc227be50e7b7                     11.0           5.0   \nae16e6392fd04e6939f6b861725e6db6                     13.0           5.0   \n...                                                   ...           ...   \n720581f424c67a341d5fef3a1914f29f                     20.0           4.0   \n17ca979a63dda173f34124582b248b5b                     10.0           5.0   \n4662682dade3cc1bfa04996c5225a849                      2.0           4.0   \n7f1c95d3218de30f64810a9cee62b2a5                     28.0           1.0   \n6926885b18239381073985d8d43e55d3                     36.0           4.0   \n\n                                  haversine_distance  \ncustomer_unique_id                                    \n3d850129935d047bc6fc1fed1022641a         1743.817536  \na9a77b4e25980b7ca58cb71f878abb27          112.842980  \n4c2ea7d5d0d6f073ea20fd63cd619d3d         1426.134770  \n65f9921f70c022110d5cc227be50e7b7          139.310019  \nae16e6392fd04e6939f6b861725e6db6          451.934529  \n...                                              ...  \n720581f424c67a341d5fef3a1914f29f            6.778959  \n17ca979a63dda173f34124582b248b5b          496.749053  \n4662682dade3cc1bfa04996c5225a849            7.286066  \n7f1c95d3218de30f64810a9cee62b2a5          155.114197  \n6926885b18239381073985d8d43e55d3          221.784697  \n\n[4721 rows x 6 columns]",
      "text/html": "<div>\n<style scoped>\n    .dataframe tbody tr th:only-of-type {\n        vertical-align: middle;\n    }\n\n    .dataframe tbody tr th {\n        vertical-align: top;\n    }\n\n    .dataframe thead th {\n        text-align: right;\n    }\n</style>\n<table border=\"1\" class=\"dataframe\">\n  <thead>\n    <tr style=\"text-align: right;\">\n      <th></th>\n      <th>R (Récence)</th>\n      <th>f</th>\n      <th>m</th>\n      <th>delta_purchase_delivery</th>\n      <th>review_score</th>\n      <th>haversine_distance</th>\n    </tr>\n    <tr>\n      <th>customer_unique_id</th>\n      <th></th>\n      <th></th>\n      <th></th>\n      <th></th>\n      <th></th>\n      <th></th>\n    </tr>\n  </thead>\n  <tbody>\n    <tr>\n      <th>3d850129935d047bc6fc1fed1022641a</th>\n      <td>1695</td>\n      <td>1</td>\n      <td>89.48</td>\n      <td>21.0</td>\n      <td>5.0</td>\n      <td>1743.817536</td>\n    </tr>\n    <tr>\n      <th>a9a77b4e25980b7ca58cb71f878abb27</th>\n      <td>1695</td>\n      <td>1</td>\n      <td>59.78</td>\n      <td>16.0</td>\n      <td>5.0</td>\n      <td>112.842980</td>\n    </tr>\n    <tr>\n      <th>4c2ea7d5d0d6f073ea20fd63cd619d3d</th>\n      <td>1695</td>\n      <td>1</td>\n      <td>162.37</td>\n      <td>14.0</td>\n      <td>5.0</td>\n      <td>1426.134770</td>\n    </tr>\n    <tr>\n      <th>65f9921f70c022110d5cc227be50e7b7</th>\n      <td>1695</td>\n      <td>1</td>\n      <td>142.89</td>\n      <td>11.0</td>\n      <td>5.0</td>\n      <td>139.310019</td>\n    </tr>\n    <tr>\n      <th>ae16e6392fd04e6939f6b861725e6db6</th>\n      <td>1695</td>\n      <td>1</td>\n      <td>77.92</td>\n      <td>13.0</td>\n      <td>5.0</td>\n      <td>451.934529</td>\n    </tr>\n    <tr>\n      <th>...</th>\n      <td>...</td>\n      <td>...</td>\n      <td>...</td>\n      <td>...</td>\n      <td>...</td>\n      <td>...</td>\n    </tr>\n    <tr>\n      <th>720581f424c67a341d5fef3a1914f29f</th>\n      <td>1716</td>\n      <td>1</td>\n      <td>40.66</td>\n      <td>20.0</td>\n      <td>4.0</td>\n      <td>6.778959</td>\n    </tr>\n    <tr>\n      <th>17ca979a63dda173f34124582b248b5b</th>\n      <td>1716</td>\n      <td>1</td>\n      <td>183.60</td>\n      <td>10.0</td>\n      <td>5.0</td>\n      <td>496.749053</td>\n    </tr>\n    <tr>\n      <th>4662682dade3cc1bfa04996c5225a849</th>\n      <td>1716</td>\n      <td>1</td>\n      <td>112.83</td>\n      <td>2.0</td>\n      <td>4.0</td>\n      <td>7.286066</td>\n    </tr>\n    <tr>\n      <th>7f1c95d3218de30f64810a9cee62b2a5</th>\n      <td>1716</td>\n      <td>1</td>\n      <td>116.26</td>\n      <td>28.0</td>\n      <td>1.0</td>\n      <td>155.114197</td>\n    </tr>\n    <tr>\n      <th>6926885b18239381073985d8d43e55d3</th>\n      <td>1716</td>\n      <td>1</td>\n      <td>128.75</td>\n      <td>36.0</td>\n      <td>4.0</td>\n      <td>221.784697</td>\n    </tr>\n  </tbody>\n</table>\n<p>4721 rows × 6 columns</p>\n</div>"
     },
     "execution_count": 114,
     "metadata": {},
     "output_type": "execute_result"
    }
   ],
   "source": [
    "df_inf_10_ = df_inf_10[['R (Récence)', 'f', 'm', 'delta_purchase_delivery', 'review_score', 'haversine_distance']]\n",
    "df_inf_10_"
   ],
   "metadata": {
    "collapsed": false,
    "pycharm": {
     "name": "#%%\n"
    }
   }
  },
  {
   "cell_type": "code",
   "execution_count": 115,
   "outputs": [
    {
     "data": {
      "text/plain": "array([[0.        , 0.        , 0.02014167, 0.19607843, 1.        ,\n        0.79241967],\n       [0.        , 0.        , 0.01228293, 0.14705882, 1.        ,\n        0.05112861],\n       [0.        , 0.        , 0.03942867, 0.12745098, 1.        ,\n        0.6480303 ],\n       ...,\n       [1.        , 0.        , 0.02632018, 0.00980392, 0.75      ,\n        0.00315214],\n       [1.        , 0.        , 0.02722777, 0.26470588, 0.        ,\n        0.07034121],\n       [1.        , 0.        , 0.03053267, 0.34313725, 0.75      ,\n        0.10064349]])"
     },
     "execution_count": 115,
     "metadata": {},
     "output_type": "execute_result"
    }
   ],
   "source": [
    "df_inf_10_scaled = scaler.fit_transform(df_inf_10_)\n",
    "df_inf_10_scaled"
   ],
   "metadata": {
    "collapsed": false,
    "pycharm": {
     "name": "#%%\n"
    }
   }
  },
  {
   "cell_type": "code",
   "execution_count": 116,
   "outputs": [],
   "source": [
    "\n",
    "# Kmeans avec le k choisi\n",
    "\n",
    "kmeans_model_10 = KMeans(4, random_state=42)\n",
    "kmeans_model_10.fit(df_inf_10_scaled)\n",
    "\n",
    "# Etiquette\n",
    "labels_model_10 = kmeans_model_10.labels_"
   ],
   "metadata": {
    "collapsed": false,
    "pycharm": {
     "name": "#%%\n"
    }
   }
  },
  {
   "cell_type": "code",
   "execution_count": 117,
   "outputs": [
    {
     "data": {
      "text/plain": "array([0, 0, 0, ..., 2, 1, 2])"
     },
     "execution_count": 117,
     "metadata": {},
     "output_type": "execute_result"
    }
   ],
   "source": [
    "labels_model_10"
   ],
   "metadata": {
    "collapsed": false,
    "pycharm": {
     "name": "#%%\n"
    }
   }
  },
  {
   "cell_type": "code",
   "execution_count": 118,
   "outputs": [
    {
     "data": {
      "text/plain": "array([2, 2, 2, ..., 1, 3, 1])"
     },
     "execution_count": 118,
     "metadata": {},
     "output_type": "execute_result"
    }
   ],
   "source": [
    "labels_predict_10 = kmeans_model_9.predict(df_inf_10_scaled)\n",
    "labels_predict_10"
   ],
   "metadata": {
    "collapsed": false,
    "pycharm": {
     "name": "#%%\n"
    }
   }
  },
  {
   "cell_type": "code",
   "execution_count": 119,
   "outputs": [
    {
     "data": {
      "text/plain": "0.8269586441910798"
     },
     "execution_count": 119,
     "metadata": {},
     "output_type": "execute_result"
    }
   ],
   "source": [
    "\n",
    "ari_10 = adjusted_rand_score(labels_model_10, labels_predict_10)\n",
    "ari_10"
   ],
   "metadata": {
    "collapsed": false,
    "pycharm": {
     "name": "#%%\n"
    }
   }
  },
  {
   "cell_type": "code",
   "execution_count": 120,
   "outputs": [
    {
     "data": {
      "text/plain": "{'2017-09-19': 0.6864551842612211,\n Timestamp('2017-10-10 00:00:00'): 0.9703524800217207,\n Timestamp('2017-10-31 00:00:00'): 0.9556678730363262,\n Timestamp('2017-11-21 00:00:00'): 0.7102637915244074,\n Timestamp('2017-12-12 00:00:00'): 0.6883429712802089,\n Timestamp('2018-01-02 00:00:00'): 0.6260435836584001,\n Timestamp('2018-01-23 00:00:00'): 0.87985860894732,\n Timestamp('2018-02-13 00:00:00'): 0.7505950375892347,\n Timestamp('2018-03-06 00:00:00'): 0.8178611413052195,\n Timestamp('2018-03-27 00:00:00'): 0.8269586441910798}"
     },
     "execution_count": 120,
     "metadata": {},
     "output_type": "execute_result"
    }
   ],
   "source": [
    "ari_score[I_10] = ari_10\n",
    "ari_score"
   ],
   "metadata": {
    "collapsed": false,
    "pycharm": {
     "name": "#%%\n"
    }
   }
  },
  {
   "cell_type": "markdown",
   "source": [
    "####\n",
    "### Intervalle 11"
   ],
   "metadata": {
    "collapsed": false,
    "pycharm": {
     "name": "#%% md\n"
    }
   }
  },
  {
   "cell_type": "code",
   "execution_count": 121,
   "outputs": [
    {
     "data": {
      "text/plain": "Timestamp('2018-04-17 00:00:00')"
     },
     "execution_count": 121,
     "metadata": {},
     "output_type": "execute_result"
    }
   ],
   "source": [
    "I_11 = additional_period(I_10, nj, last_order_date)\n",
    "I_11"
   ],
   "metadata": {
    "collapsed": false,
    "pycharm": {
     "name": "#%%\n"
    }
   }
  },
  {
   "cell_type": "code",
   "execution_count": 122,
   "outputs": [
    {
     "data": {
      "text/plain": "                                 order_purchase_timestamp  R (Récence)  f  \\\ncustomer_unique_id                                                          \n10e92acf5a464233662f0a72bcbb2c6b      2018-04-16 23:49:35         1674  1   \n5979d961c6e1d37b4660dc62e1bc700d      2018-04-16 23:45:36         1674  1   \n02fdf47b3bd661072bb00a5aab1853dc      2018-04-16 23:42:17         1674  1   \n0b10db910940be094f62a77f58d086b7      2018-04-16 23:41:55         1674  1   \n7fc43d0621f1c617d3242f7531a2c166      2018-04-16 23:22:51         1674  1   \n...                                                   ...          ... ..   \n8645d9b2ac9b380dd02db0ea5ba6e2a8      2018-03-27 01:00:29         1695  1   \n9629571615597f3820713e054a195387      2018-03-27 00:23:35         1695  1   \ne1aee958411b38ccf9fe3b9334dfedb6      2018-03-27 00:17:22         1695  1   \n144b5c6dd260fe9984a0963614b81f0b      2018-03-27 00:14:42         1695  1   \n154b5ad2b99ed5ec6fb235c93a83d824      2018-03-27 00:06:39         1695  1   \n\n                                       m  delta_purchase_delivery  \\\ncustomer_unique_id                                                  \n10e92acf5a464233662f0a72bcbb2c6b  670.20                      7.0   \n5979d961c6e1d37b4660dc62e1bc700d  118.42                      6.0   \n02fdf47b3bd661072bb00a5aab1853dc  268.40                      6.0   \n0b10db910940be094f62a77f58d086b7  136.60                      8.0   \n7fc43d0621f1c617d3242f7531a2c166  216.54                     22.0   \n...                                  ...                      ...   \n8645d9b2ac9b380dd02db0ea5ba6e2a8   87.06                     22.0   \n9629571615597f3820713e054a195387   24.38                      1.0   \ne1aee958411b38ccf9fe3b9334dfedb6  253.22                     10.0   \n144b5c6dd260fe9984a0963614b81f0b  211.73                      6.0   \n154b5ad2b99ed5ec6fb235c93a83d824  111.62                      9.0   \n\n                                  review_score  haversine_distance  \ncustomer_unique_id                                                  \n10e92acf5a464233662f0a72bcbb2c6b      5.000000          526.678065  \n5979d961c6e1d37b4660dc62e1bc700d      5.000000           85.601122  \n02fdf47b3bd661072bb00a5aab1853dc      2.000000          567.215951  \n0b10db910940be094f62a77f58d086b7      5.000000          233.685228  \n7fc43d0621f1c617d3242f7531a2c166      5.000000         1320.477838  \n...                                        ...                 ...  \n8645d9b2ac9b380dd02db0ea5ba6e2a8      3.000000          551.317856  \n9629571615597f3820713e054a195387      4.000000            8.389777  \ne1aee958411b38ccf9fe3b9334dfedb6      5.000000          526.434949  \n144b5c6dd260fe9984a0963614b81f0b      4.153643           38.785777  \n154b5ad2b99ed5ec6fb235c93a83d824      4.000000         1054.838932  \n\n[4410 rows x 7 columns]",
      "text/html": "<div>\n<style scoped>\n    .dataframe tbody tr th:only-of-type {\n        vertical-align: middle;\n    }\n\n    .dataframe tbody tr th {\n        vertical-align: top;\n    }\n\n    .dataframe thead th {\n        text-align: right;\n    }\n</style>\n<table border=\"1\" class=\"dataframe\">\n  <thead>\n    <tr style=\"text-align: right;\">\n      <th></th>\n      <th>order_purchase_timestamp</th>\n      <th>R (Récence)</th>\n      <th>f</th>\n      <th>m</th>\n      <th>delta_purchase_delivery</th>\n      <th>review_score</th>\n      <th>haversine_distance</th>\n    </tr>\n    <tr>\n      <th>customer_unique_id</th>\n      <th></th>\n      <th></th>\n      <th></th>\n      <th></th>\n      <th></th>\n      <th></th>\n      <th></th>\n    </tr>\n  </thead>\n  <tbody>\n    <tr>\n      <th>10e92acf5a464233662f0a72bcbb2c6b</th>\n      <td>2018-04-16 23:49:35</td>\n      <td>1674</td>\n      <td>1</td>\n      <td>670.20</td>\n      <td>7.0</td>\n      <td>5.000000</td>\n      <td>526.678065</td>\n    </tr>\n    <tr>\n      <th>5979d961c6e1d37b4660dc62e1bc700d</th>\n      <td>2018-04-16 23:45:36</td>\n      <td>1674</td>\n      <td>1</td>\n      <td>118.42</td>\n      <td>6.0</td>\n      <td>5.000000</td>\n      <td>85.601122</td>\n    </tr>\n    <tr>\n      <th>02fdf47b3bd661072bb00a5aab1853dc</th>\n      <td>2018-04-16 23:42:17</td>\n      <td>1674</td>\n      <td>1</td>\n      <td>268.40</td>\n      <td>6.0</td>\n      <td>2.000000</td>\n      <td>567.215951</td>\n    </tr>\n    <tr>\n      <th>0b10db910940be094f62a77f58d086b7</th>\n      <td>2018-04-16 23:41:55</td>\n      <td>1674</td>\n      <td>1</td>\n      <td>136.60</td>\n      <td>8.0</td>\n      <td>5.000000</td>\n      <td>233.685228</td>\n    </tr>\n    <tr>\n      <th>7fc43d0621f1c617d3242f7531a2c166</th>\n      <td>2018-04-16 23:22:51</td>\n      <td>1674</td>\n      <td>1</td>\n      <td>216.54</td>\n      <td>22.0</td>\n      <td>5.000000</td>\n      <td>1320.477838</td>\n    </tr>\n    <tr>\n      <th>...</th>\n      <td>...</td>\n      <td>...</td>\n      <td>...</td>\n      <td>...</td>\n      <td>...</td>\n      <td>...</td>\n      <td>...</td>\n    </tr>\n    <tr>\n      <th>8645d9b2ac9b380dd02db0ea5ba6e2a8</th>\n      <td>2018-03-27 01:00:29</td>\n      <td>1695</td>\n      <td>1</td>\n      <td>87.06</td>\n      <td>22.0</td>\n      <td>3.000000</td>\n      <td>551.317856</td>\n    </tr>\n    <tr>\n      <th>9629571615597f3820713e054a195387</th>\n      <td>2018-03-27 00:23:35</td>\n      <td>1695</td>\n      <td>1</td>\n      <td>24.38</td>\n      <td>1.0</td>\n      <td>4.000000</td>\n      <td>8.389777</td>\n    </tr>\n    <tr>\n      <th>e1aee958411b38ccf9fe3b9334dfedb6</th>\n      <td>2018-03-27 00:17:22</td>\n      <td>1695</td>\n      <td>1</td>\n      <td>253.22</td>\n      <td>10.0</td>\n      <td>5.000000</td>\n      <td>526.434949</td>\n    </tr>\n    <tr>\n      <th>144b5c6dd260fe9984a0963614b81f0b</th>\n      <td>2018-03-27 00:14:42</td>\n      <td>1695</td>\n      <td>1</td>\n      <td>211.73</td>\n      <td>6.0</td>\n      <td>4.153643</td>\n      <td>38.785777</td>\n    </tr>\n    <tr>\n      <th>154b5ad2b99ed5ec6fb235c93a83d824</th>\n      <td>2018-03-27 00:06:39</td>\n      <td>1695</td>\n      <td>1</td>\n      <td>111.62</td>\n      <td>9.0</td>\n      <td>4.000000</td>\n      <td>1054.838932</td>\n    </tr>\n  </tbody>\n</table>\n<p>4410 rows × 7 columns</p>\n</div>"
     },
     "execution_count": 122,
     "metadata": {},
     "output_type": "execute_result"
    }
   ],
   "source": [
    "df_inf_11 = df_inf_00.loc[\n",
    "    (df_inf_00['order_purchase_timestamp'] > I_10) & (df_inf_00['order_purchase_timestamp'] <= I_11)]\n",
    "df_inf_11"
   ],
   "metadata": {
    "collapsed": false,
    "pycharm": {
     "name": "#%%\n"
    }
   }
  },
  {
   "cell_type": "code",
   "execution_count": 123,
   "outputs": [
    {
     "data": {
      "text/plain": "                                  R (Récence)  f       m  \\\ncustomer_unique_id                                         \n10e92acf5a464233662f0a72bcbb2c6b         1674  1  670.20   \n5979d961c6e1d37b4660dc62e1bc700d         1674  1  118.42   \n02fdf47b3bd661072bb00a5aab1853dc         1674  1  268.40   \n0b10db910940be094f62a77f58d086b7         1674  1  136.60   \n7fc43d0621f1c617d3242f7531a2c166         1674  1  216.54   \n...                                       ... ..     ...   \n8645d9b2ac9b380dd02db0ea5ba6e2a8         1695  1   87.06   \n9629571615597f3820713e054a195387         1695  1   24.38   \ne1aee958411b38ccf9fe3b9334dfedb6         1695  1  253.22   \n144b5c6dd260fe9984a0963614b81f0b         1695  1  211.73   \n154b5ad2b99ed5ec6fb235c93a83d824         1695  1  111.62   \n\n                                  delta_purchase_delivery  review_score  \\\ncustomer_unique_id                                                        \n10e92acf5a464233662f0a72bcbb2c6b                      7.0      5.000000   \n5979d961c6e1d37b4660dc62e1bc700d                      6.0      5.000000   \n02fdf47b3bd661072bb00a5aab1853dc                      6.0      2.000000   \n0b10db910940be094f62a77f58d086b7                      8.0      5.000000   \n7fc43d0621f1c617d3242f7531a2c166                     22.0      5.000000   \n...                                                   ...           ...   \n8645d9b2ac9b380dd02db0ea5ba6e2a8                     22.0      3.000000   \n9629571615597f3820713e054a195387                      1.0      4.000000   \ne1aee958411b38ccf9fe3b9334dfedb6                     10.0      5.000000   \n144b5c6dd260fe9984a0963614b81f0b                      6.0      4.153643   \n154b5ad2b99ed5ec6fb235c93a83d824                      9.0      4.000000   \n\n                                  haversine_distance  \ncustomer_unique_id                                    \n10e92acf5a464233662f0a72bcbb2c6b          526.678065  \n5979d961c6e1d37b4660dc62e1bc700d           85.601122  \n02fdf47b3bd661072bb00a5aab1853dc          567.215951  \n0b10db910940be094f62a77f58d086b7          233.685228  \n7fc43d0621f1c617d3242f7531a2c166         1320.477838  \n...                                              ...  \n8645d9b2ac9b380dd02db0ea5ba6e2a8          551.317856  \n9629571615597f3820713e054a195387            8.389777  \ne1aee958411b38ccf9fe3b9334dfedb6          526.434949  \n144b5c6dd260fe9984a0963614b81f0b           38.785777  \n154b5ad2b99ed5ec6fb235c93a83d824         1054.838932  \n\n[4410 rows x 6 columns]",
      "text/html": "<div>\n<style scoped>\n    .dataframe tbody tr th:only-of-type {\n        vertical-align: middle;\n    }\n\n    .dataframe tbody tr th {\n        vertical-align: top;\n    }\n\n    .dataframe thead th {\n        text-align: right;\n    }\n</style>\n<table border=\"1\" class=\"dataframe\">\n  <thead>\n    <tr style=\"text-align: right;\">\n      <th></th>\n      <th>R (Récence)</th>\n      <th>f</th>\n      <th>m</th>\n      <th>delta_purchase_delivery</th>\n      <th>review_score</th>\n      <th>haversine_distance</th>\n    </tr>\n    <tr>\n      <th>customer_unique_id</th>\n      <th></th>\n      <th></th>\n      <th></th>\n      <th></th>\n      <th></th>\n      <th></th>\n    </tr>\n  </thead>\n  <tbody>\n    <tr>\n      <th>10e92acf5a464233662f0a72bcbb2c6b</th>\n      <td>1674</td>\n      <td>1</td>\n      <td>670.20</td>\n      <td>7.0</td>\n      <td>5.000000</td>\n      <td>526.678065</td>\n    </tr>\n    <tr>\n      <th>5979d961c6e1d37b4660dc62e1bc700d</th>\n      <td>1674</td>\n      <td>1</td>\n      <td>118.42</td>\n      <td>6.0</td>\n      <td>5.000000</td>\n      <td>85.601122</td>\n    </tr>\n    <tr>\n      <th>02fdf47b3bd661072bb00a5aab1853dc</th>\n      <td>1674</td>\n      <td>1</td>\n      <td>268.40</td>\n      <td>6.0</td>\n      <td>2.000000</td>\n      <td>567.215951</td>\n    </tr>\n    <tr>\n      <th>0b10db910940be094f62a77f58d086b7</th>\n      <td>1674</td>\n      <td>1</td>\n      <td>136.60</td>\n      <td>8.0</td>\n      <td>5.000000</td>\n      <td>233.685228</td>\n    </tr>\n    <tr>\n      <th>7fc43d0621f1c617d3242f7531a2c166</th>\n      <td>1674</td>\n      <td>1</td>\n      <td>216.54</td>\n      <td>22.0</td>\n      <td>5.000000</td>\n      <td>1320.477838</td>\n    </tr>\n    <tr>\n      <th>...</th>\n      <td>...</td>\n      <td>...</td>\n      <td>...</td>\n      <td>...</td>\n      <td>...</td>\n      <td>...</td>\n    </tr>\n    <tr>\n      <th>8645d9b2ac9b380dd02db0ea5ba6e2a8</th>\n      <td>1695</td>\n      <td>1</td>\n      <td>87.06</td>\n      <td>22.0</td>\n      <td>3.000000</td>\n      <td>551.317856</td>\n    </tr>\n    <tr>\n      <th>9629571615597f3820713e054a195387</th>\n      <td>1695</td>\n      <td>1</td>\n      <td>24.38</td>\n      <td>1.0</td>\n      <td>4.000000</td>\n      <td>8.389777</td>\n    </tr>\n    <tr>\n      <th>e1aee958411b38ccf9fe3b9334dfedb6</th>\n      <td>1695</td>\n      <td>1</td>\n      <td>253.22</td>\n      <td>10.0</td>\n      <td>5.000000</td>\n      <td>526.434949</td>\n    </tr>\n    <tr>\n      <th>144b5c6dd260fe9984a0963614b81f0b</th>\n      <td>1695</td>\n      <td>1</td>\n      <td>211.73</td>\n      <td>6.0</td>\n      <td>4.153643</td>\n      <td>38.785777</td>\n    </tr>\n    <tr>\n      <th>154b5ad2b99ed5ec6fb235c93a83d824</th>\n      <td>1695</td>\n      <td>1</td>\n      <td>111.62</td>\n      <td>9.0</td>\n      <td>4.000000</td>\n      <td>1054.838932</td>\n    </tr>\n  </tbody>\n</table>\n<p>4410 rows × 6 columns</p>\n</div>"
     },
     "execution_count": 123,
     "metadata": {},
     "output_type": "execute_result"
    }
   ],
   "source": [
    "df_inf_11_ = df_inf_11[['R (Récence)', 'f', 'm', 'delta_purchase_delivery', 'review_score', 'haversine_distance']]\n",
    "df_inf_11_"
   ],
   "metadata": {
    "collapsed": false,
    "pycharm": {
     "name": "#%%\n"
    }
   }
  },
  {
   "cell_type": "code",
   "execution_count": 124,
   "outputs": [
    {
     "data": {
      "text/plain": "array([[0.        , 0.        , 0.15761367, 0.05607477, 1.        ,\n        0.25632745],\n       [0.        , 0.        , 0.02500198, 0.04672897, 1.        ,\n        0.04166097],\n       [0.        , 0.        , 0.06104733, 0.04672897, 0.25      ,\n        0.27605672],\n       ...,\n       [1.        , 0.        , 0.05739905, 0.08411215, 1.        ,\n        0.25620913],\n       [1.        , 0.        , 0.04742758, 0.04672897, 0.78841064,\n        0.01887654],\n       [1.        , 0.        , 0.02336771, 0.07476636, 0.75      ,\n        0.51337656]])"
     },
     "execution_count": 124,
     "metadata": {},
     "output_type": "execute_result"
    }
   ],
   "source": [
    "df_inf_11_scaled = scaler.fit_transform(df_inf_11_)\n",
    "df_inf_11_scaled"
   ],
   "metadata": {
    "collapsed": false,
    "pycharm": {
     "name": "#%%\n"
    }
   }
  },
  {
   "cell_type": "code",
   "execution_count": 125,
   "outputs": [],
   "source": [
    "\n",
    "# Kmeans avec le k choisi\n",
    "\n",
    "kmeans_model_11 = KMeans(4, random_state=42)\n",
    "kmeans_model_11.fit(df_inf_11_scaled)\n",
    "\n",
    "# Etiquette\n",
    "labels_model_11 = kmeans_model_11.labels_"
   ],
   "metadata": {
    "collapsed": false,
    "pycharm": {
     "name": "#%%\n"
    }
   }
  },
  {
   "cell_type": "code",
   "execution_count": 126,
   "outputs": [
    {
     "data": {
      "text/plain": "array([0, 0, 1, ..., 2, 2, 2])"
     },
     "execution_count": 126,
     "metadata": {},
     "output_type": "execute_result"
    }
   ],
   "source": [
    "labels_model_11"
   ],
   "metadata": {
    "collapsed": false,
    "pycharm": {
     "name": "#%%\n"
    }
   }
  },
  {
   "cell_type": "code",
   "execution_count": 127,
   "outputs": [
    {
     "data": {
      "text/plain": "array([0, 0, 3, ..., 2, 2, 2])"
     },
     "execution_count": 127,
     "metadata": {},
     "output_type": "execute_result"
    }
   ],
   "source": [
    "labels_predict_11 = kmeans_model_10.predict(df_inf_11_scaled)\n",
    "labels_predict_11"
   ],
   "metadata": {
    "collapsed": false,
    "pycharm": {
     "name": "#%%\n"
    }
   }
  },
  {
   "cell_type": "code",
   "execution_count": 128,
   "outputs": [
    {
     "data": {
      "text/plain": "0.6723549610424632"
     },
     "execution_count": 128,
     "metadata": {},
     "output_type": "execute_result"
    }
   ],
   "source": [
    "\n",
    "ari_11 = adjusted_rand_score(labels_model_11, labels_predict_11)\n",
    "ari_11"
   ],
   "metadata": {
    "collapsed": false,
    "pycharm": {
     "name": "#%%\n"
    }
   }
  },
  {
   "cell_type": "code",
   "execution_count": 129,
   "outputs": [
    {
     "data": {
      "text/plain": "{'2017-09-19': 0.6864551842612211,\n Timestamp('2017-10-10 00:00:00'): 0.9703524800217207,\n Timestamp('2017-10-31 00:00:00'): 0.9556678730363262,\n Timestamp('2017-11-21 00:00:00'): 0.7102637915244074,\n Timestamp('2017-12-12 00:00:00'): 0.6883429712802089,\n Timestamp('2018-01-02 00:00:00'): 0.6260435836584001,\n Timestamp('2018-01-23 00:00:00'): 0.87985860894732,\n Timestamp('2018-02-13 00:00:00'): 0.7505950375892347,\n Timestamp('2018-03-06 00:00:00'): 0.8178611413052195,\n Timestamp('2018-03-27 00:00:00'): 0.8269586441910798,\n Timestamp('2018-04-17 00:00:00'): 0.6723549610424632}"
     },
     "execution_count": 129,
     "metadata": {},
     "output_type": "execute_result"
    }
   ],
   "source": [
    "ari_score[I_11] = ari_11\n",
    "ari_score"
   ],
   "metadata": {
    "collapsed": false,
    "pycharm": {
     "name": "#%%\n"
    }
   }
  },
  {
   "cell_type": "markdown",
   "source": [
    "####\n",
    "### Intervalle 12"
   ],
   "metadata": {
    "collapsed": false,
    "pycharm": {
     "name": "#%% md\n"
    }
   }
  },
  {
   "cell_type": "code",
   "execution_count": 130,
   "outputs": [
    {
     "data": {
      "text/plain": "Timestamp('2018-05-08 00:00:00')"
     },
     "execution_count": 130,
     "metadata": {},
     "output_type": "execute_result"
    }
   ],
   "source": [
    "I_12 = additional_period(I_11, nj, last_order_date)\n",
    "I_12"
   ],
   "metadata": {
    "collapsed": false,
    "pycharm": {
     "name": "#%%\n"
    }
   }
  },
  {
   "cell_type": "code",
   "execution_count": 131,
   "outputs": [
    {
     "data": {
      "text/plain": "                                 order_purchase_timestamp  R (Récence)  f  \\\ncustomer_unique_id                                                          \n7fe53ce6ebcc4a93719884627ab3f66b      2018-05-07 23:59:33         1653  1   \ndcb605d0a35c2e900646a9014393628d      2018-05-07 23:56:44         1653  1   \n35d68a3cffde6623481e49668e51ae08      2018-05-07 23:49:04         1653  1   \n31dcb1b92cf754e8f46bfa847cd43cae      2018-05-07 23:45:58         1653  1   \ne3b3b57caa0974d93ed5218dde2ff4b3      2018-05-07 23:29:24         1653  1   \n...                                                   ...          ... ..   \n8ed59382bc7f2a312d62671973568c4f      2018-04-17 00:31:55         1674  1   \n4d6365e0380d725248a1a2aa490d7f0b      2018-04-17 00:29:51         1674  1   \n80ac9b7155f022c3478998f6f0cd8043      2018-04-17 00:15:54         1674  1   \n0e81b6a7e11ce0ddc1d020d358f5edc6      2018-04-17 00:15:04         1674  1   \nf33b9333ee2a4f84a5147946521a9592      2018-04-17 00:12:44         1674  1   \n\n                                        m  delta_purchase_delivery  \\\ncustomer_unique_id                                                   \n7fe53ce6ebcc4a93719884627ab3f66b   201.96                      7.0   \ndcb605d0a35c2e900646a9014393628d    42.39                      2.0   \n35d68a3cffde6623481e49668e51ae08    38.13                     15.0   \n31dcb1b92cf754e8f46bfa847cd43cae    57.72                      1.0   \ne3b3b57caa0974d93ed5218dde2ff4b3  1311.46                      7.0   \n...                                   ...                      ...   \n8ed59382bc7f2a312d62671973568c4f    31.13                      7.0   \n4d6365e0380d725248a1a2aa490d7f0b   269.44                      3.0   \n80ac9b7155f022c3478998f6f0cd8043    64.29                      1.0   \n0e81b6a7e11ce0ddc1d020d358f5edc6    35.77                      9.0   \nf33b9333ee2a4f84a5147946521a9592    73.44                      7.0   \n\n                                  review_score  haversine_distance  \ncustomer_unique_id                                                  \n7fe53ce6ebcc4a93719884627ab3f66b           5.0          481.124158  \ndcb605d0a35c2e900646a9014393628d           5.0            5.598402  \n35d68a3cffde6623481e49668e51ae08           5.0          452.451275  \n31dcb1b92cf754e8f46bfa847cd43cae           5.0           45.003784  \ne3b3b57caa0974d93ed5218dde2ff4b3           4.0          150.042465  \n...                                        ...                 ...  \n8ed59382bc7f2a312d62671973568c4f           5.0          215.783427  \n4d6365e0380d725248a1a2aa490d7f0b           5.0          274.168338  \n80ac9b7155f022c3478998f6f0cd8043           5.0           16.467261  \n0e81b6a7e11ce0ddc1d020d358f5edc6           3.0           39.202756  \nf33b9333ee2a4f84a5147946521a9592           5.0          261.883662  \n\n[4993 rows x 7 columns]",
      "text/html": "<div>\n<style scoped>\n    .dataframe tbody tr th:only-of-type {\n        vertical-align: middle;\n    }\n\n    .dataframe tbody tr th {\n        vertical-align: top;\n    }\n\n    .dataframe thead th {\n        text-align: right;\n    }\n</style>\n<table border=\"1\" class=\"dataframe\">\n  <thead>\n    <tr style=\"text-align: right;\">\n      <th></th>\n      <th>order_purchase_timestamp</th>\n      <th>R (Récence)</th>\n      <th>f</th>\n      <th>m</th>\n      <th>delta_purchase_delivery</th>\n      <th>review_score</th>\n      <th>haversine_distance</th>\n    </tr>\n    <tr>\n      <th>customer_unique_id</th>\n      <th></th>\n      <th></th>\n      <th></th>\n      <th></th>\n      <th></th>\n      <th></th>\n      <th></th>\n    </tr>\n  </thead>\n  <tbody>\n    <tr>\n      <th>7fe53ce6ebcc4a93719884627ab3f66b</th>\n      <td>2018-05-07 23:59:33</td>\n      <td>1653</td>\n      <td>1</td>\n      <td>201.96</td>\n      <td>7.0</td>\n      <td>5.0</td>\n      <td>481.124158</td>\n    </tr>\n    <tr>\n      <th>dcb605d0a35c2e900646a9014393628d</th>\n      <td>2018-05-07 23:56:44</td>\n      <td>1653</td>\n      <td>1</td>\n      <td>42.39</td>\n      <td>2.0</td>\n      <td>5.0</td>\n      <td>5.598402</td>\n    </tr>\n    <tr>\n      <th>35d68a3cffde6623481e49668e51ae08</th>\n      <td>2018-05-07 23:49:04</td>\n      <td>1653</td>\n      <td>1</td>\n      <td>38.13</td>\n      <td>15.0</td>\n      <td>5.0</td>\n      <td>452.451275</td>\n    </tr>\n    <tr>\n      <th>31dcb1b92cf754e8f46bfa847cd43cae</th>\n      <td>2018-05-07 23:45:58</td>\n      <td>1653</td>\n      <td>1</td>\n      <td>57.72</td>\n      <td>1.0</td>\n      <td>5.0</td>\n      <td>45.003784</td>\n    </tr>\n    <tr>\n      <th>e3b3b57caa0974d93ed5218dde2ff4b3</th>\n      <td>2018-05-07 23:29:24</td>\n      <td>1653</td>\n      <td>1</td>\n      <td>1311.46</td>\n      <td>7.0</td>\n      <td>4.0</td>\n      <td>150.042465</td>\n    </tr>\n    <tr>\n      <th>...</th>\n      <td>...</td>\n      <td>...</td>\n      <td>...</td>\n      <td>...</td>\n      <td>...</td>\n      <td>...</td>\n      <td>...</td>\n    </tr>\n    <tr>\n      <th>8ed59382bc7f2a312d62671973568c4f</th>\n      <td>2018-04-17 00:31:55</td>\n      <td>1674</td>\n      <td>1</td>\n      <td>31.13</td>\n      <td>7.0</td>\n      <td>5.0</td>\n      <td>215.783427</td>\n    </tr>\n    <tr>\n      <th>4d6365e0380d725248a1a2aa490d7f0b</th>\n      <td>2018-04-17 00:29:51</td>\n      <td>1674</td>\n      <td>1</td>\n      <td>269.44</td>\n      <td>3.0</td>\n      <td>5.0</td>\n      <td>274.168338</td>\n    </tr>\n    <tr>\n      <th>80ac9b7155f022c3478998f6f0cd8043</th>\n      <td>2018-04-17 00:15:54</td>\n      <td>1674</td>\n      <td>1</td>\n      <td>64.29</td>\n      <td>1.0</td>\n      <td>5.0</td>\n      <td>16.467261</td>\n    </tr>\n    <tr>\n      <th>0e81b6a7e11ce0ddc1d020d358f5edc6</th>\n      <td>2018-04-17 00:15:04</td>\n      <td>1674</td>\n      <td>1</td>\n      <td>35.77</td>\n      <td>9.0</td>\n      <td>3.0</td>\n      <td>39.202756</td>\n    </tr>\n    <tr>\n      <th>f33b9333ee2a4f84a5147946521a9592</th>\n      <td>2018-04-17 00:12:44</td>\n      <td>1674</td>\n      <td>1</td>\n      <td>73.44</td>\n      <td>7.0</td>\n      <td>5.0</td>\n      <td>261.883662</td>\n    </tr>\n  </tbody>\n</table>\n<p>4993 rows × 7 columns</p>\n</div>"
     },
     "execution_count": 131,
     "metadata": {},
     "output_type": "execute_result"
    }
   ],
   "source": [
    "df_inf_12 = df_inf_00.loc[\n",
    "    (df_inf_00['order_purchase_timestamp'] > I_11) & (df_inf_00['order_purchase_timestamp'] <= I_12)]\n",
    "df_inf_12"
   ],
   "metadata": {
    "collapsed": false,
    "pycharm": {
     "name": "#%%\n"
    }
   }
  },
  {
   "cell_type": "code",
   "execution_count": 132,
   "outputs": [
    {
     "data": {
      "text/plain": "                                  R (Récence)  f        m  \\\ncustomer_unique_id                                          \n7fe53ce6ebcc4a93719884627ab3f66b         1653  1   201.96   \ndcb605d0a35c2e900646a9014393628d         1653  1    42.39   \n35d68a3cffde6623481e49668e51ae08         1653  1    38.13   \n31dcb1b92cf754e8f46bfa847cd43cae         1653  1    57.72   \ne3b3b57caa0974d93ed5218dde2ff4b3         1653  1  1311.46   \n...                                       ... ..      ...   \n8ed59382bc7f2a312d62671973568c4f         1674  1    31.13   \n4d6365e0380d725248a1a2aa490d7f0b         1674  1   269.44   \n80ac9b7155f022c3478998f6f0cd8043         1674  1    64.29   \n0e81b6a7e11ce0ddc1d020d358f5edc6         1674  1    35.77   \nf33b9333ee2a4f84a5147946521a9592         1674  1    73.44   \n\n                                  delta_purchase_delivery  review_score  \\\ncustomer_unique_id                                                        \n7fe53ce6ebcc4a93719884627ab3f66b                      7.0           5.0   \ndcb605d0a35c2e900646a9014393628d                      2.0           5.0   \n35d68a3cffde6623481e49668e51ae08                     15.0           5.0   \n31dcb1b92cf754e8f46bfa847cd43cae                      1.0           5.0   \ne3b3b57caa0974d93ed5218dde2ff4b3                      7.0           4.0   \n...                                                   ...           ...   \n8ed59382bc7f2a312d62671973568c4f                      7.0           5.0   \n4d6365e0380d725248a1a2aa490d7f0b                      3.0           5.0   \n80ac9b7155f022c3478998f6f0cd8043                      1.0           5.0   \n0e81b6a7e11ce0ddc1d020d358f5edc6                      9.0           3.0   \nf33b9333ee2a4f84a5147946521a9592                      7.0           5.0   \n\n                                  haversine_distance  \ncustomer_unique_id                                    \n7fe53ce6ebcc4a93719884627ab3f66b          481.124158  \ndcb605d0a35c2e900646a9014393628d            5.598402  \n35d68a3cffde6623481e49668e51ae08          452.451275  \n31dcb1b92cf754e8f46bfa847cd43cae           45.003784  \ne3b3b57caa0974d93ed5218dde2ff4b3          150.042465  \n...                                              ...  \n8ed59382bc7f2a312d62671973568c4f          215.783427  \n4d6365e0380d725248a1a2aa490d7f0b          274.168338  \n80ac9b7155f022c3478998f6f0cd8043           16.467261  \n0e81b6a7e11ce0ddc1d020d358f5edc6           39.202756  \nf33b9333ee2a4f84a5147946521a9592          261.883662  \n\n[4993 rows x 6 columns]",
      "text/html": "<div>\n<style scoped>\n    .dataframe tbody tr th:only-of-type {\n        vertical-align: middle;\n    }\n\n    .dataframe tbody tr th {\n        vertical-align: top;\n    }\n\n    .dataframe thead th {\n        text-align: right;\n    }\n</style>\n<table border=\"1\" class=\"dataframe\">\n  <thead>\n    <tr style=\"text-align: right;\">\n      <th></th>\n      <th>R (Récence)</th>\n      <th>f</th>\n      <th>m</th>\n      <th>delta_purchase_delivery</th>\n      <th>review_score</th>\n      <th>haversine_distance</th>\n    </tr>\n    <tr>\n      <th>customer_unique_id</th>\n      <th></th>\n      <th></th>\n      <th></th>\n      <th></th>\n      <th></th>\n      <th></th>\n    </tr>\n  </thead>\n  <tbody>\n    <tr>\n      <th>7fe53ce6ebcc4a93719884627ab3f66b</th>\n      <td>1653</td>\n      <td>1</td>\n      <td>201.96</td>\n      <td>7.0</td>\n      <td>5.0</td>\n      <td>481.124158</td>\n    </tr>\n    <tr>\n      <th>dcb605d0a35c2e900646a9014393628d</th>\n      <td>1653</td>\n      <td>1</td>\n      <td>42.39</td>\n      <td>2.0</td>\n      <td>5.0</td>\n      <td>5.598402</td>\n    </tr>\n    <tr>\n      <th>35d68a3cffde6623481e49668e51ae08</th>\n      <td>1653</td>\n      <td>1</td>\n      <td>38.13</td>\n      <td>15.0</td>\n      <td>5.0</td>\n      <td>452.451275</td>\n    </tr>\n    <tr>\n      <th>31dcb1b92cf754e8f46bfa847cd43cae</th>\n      <td>1653</td>\n      <td>1</td>\n      <td>57.72</td>\n      <td>1.0</td>\n      <td>5.0</td>\n      <td>45.003784</td>\n    </tr>\n    <tr>\n      <th>e3b3b57caa0974d93ed5218dde2ff4b3</th>\n      <td>1653</td>\n      <td>1</td>\n      <td>1311.46</td>\n      <td>7.0</td>\n      <td>4.0</td>\n      <td>150.042465</td>\n    </tr>\n    <tr>\n      <th>...</th>\n      <td>...</td>\n      <td>...</td>\n      <td>...</td>\n      <td>...</td>\n      <td>...</td>\n      <td>...</td>\n    </tr>\n    <tr>\n      <th>8ed59382bc7f2a312d62671973568c4f</th>\n      <td>1674</td>\n      <td>1</td>\n      <td>31.13</td>\n      <td>7.0</td>\n      <td>5.0</td>\n      <td>215.783427</td>\n    </tr>\n    <tr>\n      <th>4d6365e0380d725248a1a2aa490d7f0b</th>\n      <td>1674</td>\n      <td>1</td>\n      <td>269.44</td>\n      <td>3.0</td>\n      <td>5.0</td>\n      <td>274.168338</td>\n    </tr>\n    <tr>\n      <th>80ac9b7155f022c3478998f6f0cd8043</th>\n      <td>1674</td>\n      <td>1</td>\n      <td>64.29</td>\n      <td>1.0</td>\n      <td>5.0</td>\n      <td>16.467261</td>\n    </tr>\n    <tr>\n      <th>0e81b6a7e11ce0ddc1d020d358f5edc6</th>\n      <td>1674</td>\n      <td>1</td>\n      <td>35.77</td>\n      <td>9.0</td>\n      <td>3.0</td>\n      <td>39.202756</td>\n    </tr>\n    <tr>\n      <th>f33b9333ee2a4f84a5147946521a9592</th>\n      <td>1674</td>\n      <td>1</td>\n      <td>73.44</td>\n      <td>7.0</td>\n      <td>5.0</td>\n      <td>261.883662</td>\n    </tr>\n  </tbody>\n</table>\n<p>4993 rows × 6 columns</p>\n</div>"
     },
     "execution_count": 132,
     "metadata": {},
     "output_type": "execute_result"
    }
   ],
   "source": [
    "df_inf_12_ = df_inf_12[['R (Récence)', 'f', 'm', 'delta_purchase_delivery', 'review_score', 'haversine_distance']]\n",
    "df_inf_12_"
   ],
   "metadata": {
    "collapsed": false,
    "pycharm": {
     "name": "#%%\n"
    }
   }
  },
  {
   "cell_type": "code",
   "execution_count": 133,
   "outputs": [
    {
     "data": {
      "text/plain": "array([[0.        , 0.        , 0.05899579, 0.05825243, 1.        ,\n        0.23065523],\n       [0.        , 0.        , 0.00907291, 0.00970874, 1.        ,\n        0.00268392],\n       [0.        , 0.        , 0.00774013, 0.13592233, 1.        ,\n        0.21690919],\n       ...,\n       [1.        , 0.        , 0.01592451, 0.        , 1.        ,\n        0.00789455],\n       [1.        , 0.        , 0.00700178, 0.0776699 , 0.5       ,\n        0.01879415],\n       [1.        , 0.        , 0.01878717, 0.05825243, 1.        ,\n        0.12554937]])"
     },
     "execution_count": 133,
     "metadata": {},
     "output_type": "execute_result"
    }
   ],
   "source": [
    "df_inf_12_scaled = scaler.fit_transform(df_inf_12_)\n",
    "df_inf_12_scaled"
   ],
   "metadata": {
    "collapsed": false,
    "pycharm": {
     "name": "#%%\n"
    }
   }
  },
  {
   "cell_type": "code",
   "execution_count": 134,
   "outputs": [],
   "source": [
    "\n",
    "# Kmeans avec le k choisi\n",
    "\n",
    "kmeans_model_12 = KMeans(4, random_state=42)\n",
    "kmeans_model_12.fit(df_inf_12_scaled)\n",
    "\n",
    "# Etiquette\n",
    "labels_model_12 = kmeans_model_12.labels_"
   ],
   "metadata": {
    "collapsed": false,
    "pycharm": {
     "name": "#%%\n"
    }
   }
  },
  {
   "cell_type": "code",
   "execution_count": 135,
   "outputs": [
    {
     "data": {
      "text/plain": "array([1, 1, 1, ..., 3, 3, 3])"
     },
     "execution_count": 135,
     "metadata": {},
     "output_type": "execute_result"
    }
   ],
   "source": [
    "labels_model_12"
   ],
   "metadata": {
    "collapsed": false,
    "pycharm": {
     "name": "#%%\n"
    }
   }
  },
  {
   "cell_type": "code",
   "execution_count": 136,
   "outputs": [
    {
     "data": {
      "text/plain": "array([0, 0, 0, ..., 2, 2, 2])"
     },
     "execution_count": 136,
     "metadata": {},
     "output_type": "execute_result"
    }
   ],
   "source": [
    "labels_predict_12 = kmeans_model_11.predict(df_inf_12_scaled)\n",
    "labels_predict_12"
   ],
   "metadata": {
    "collapsed": false,
    "pycharm": {
     "name": "#%%\n"
    }
   }
  },
  {
   "cell_type": "code",
   "execution_count": 137,
   "outputs": [
    {
     "data": {
      "text/plain": "0.9629533204562484"
     },
     "execution_count": 137,
     "metadata": {},
     "output_type": "execute_result"
    }
   ],
   "source": [
    "\n",
    "ari_12 = adjusted_rand_score(labels_model_12, labels_predict_12)\n",
    "ari_12"
   ],
   "metadata": {
    "collapsed": false,
    "pycharm": {
     "name": "#%%\n"
    }
   }
  },
  {
   "cell_type": "code",
   "execution_count": 138,
   "outputs": [
    {
     "data": {
      "text/plain": "{'2017-09-19': 0.6864551842612211,\n Timestamp('2017-10-10 00:00:00'): 0.9703524800217207,\n Timestamp('2017-10-31 00:00:00'): 0.9556678730363262,\n Timestamp('2017-11-21 00:00:00'): 0.7102637915244074,\n Timestamp('2017-12-12 00:00:00'): 0.6883429712802089,\n Timestamp('2018-01-02 00:00:00'): 0.6260435836584001,\n Timestamp('2018-01-23 00:00:00'): 0.87985860894732,\n Timestamp('2018-02-13 00:00:00'): 0.7505950375892347,\n Timestamp('2018-03-06 00:00:00'): 0.8178611413052195,\n Timestamp('2018-03-27 00:00:00'): 0.8269586441910798,\n Timestamp('2018-04-17 00:00:00'): 0.6723549610424632,\n Timestamp('2018-05-08 00:00:00'): 0.9629533204562484}"
     },
     "execution_count": 138,
     "metadata": {},
     "output_type": "execute_result"
    }
   ],
   "source": [
    "ari_score[I_12] = ari_12\n",
    "ari_score"
   ],
   "metadata": {
    "collapsed": false,
    "pycharm": {
     "name": "#%%\n"
    }
   }
  },
  {
   "cell_type": "markdown",
   "source": [
    "####\n",
    "### Intervalle 13"
   ],
   "metadata": {
    "collapsed": false,
    "pycharm": {
     "name": "#%% md\n"
    }
   }
  },
  {
   "cell_type": "code",
   "execution_count": 139,
   "outputs": [
    {
     "data": {
      "text/plain": "Timestamp('2018-05-29 00:00:00')"
     },
     "execution_count": 139,
     "metadata": {},
     "output_type": "execute_result"
    }
   ],
   "source": [
    "I_13 = additional_period(I_12, nj, last_order_date)\n",
    "I_13"
   ],
   "metadata": {
    "collapsed": false,
    "pycharm": {
     "name": "#%%\n"
    }
   }
  },
  {
   "cell_type": "code",
   "execution_count": 140,
   "outputs": [
    {
     "data": {
      "text/plain": "                                 order_purchase_timestamp  R (Récence)  f  \\\ncustomer_unique_id                                                          \nda75590f6cf4c7efc0e3821639c71430      2018-05-28 23:23:31         1632  1   \nb89ecab6b0fc4a02fbdf36fd2839e3a6      2018-05-28 23:18:32         1632  1   \ncd5317ec968d862b96ff90df43ff22b8      2018-05-28 23:15:15         1632  1   \n73f97c6a5af65a71194cc2265ae82501      2018-05-28 23:06:44         1632  2   \n3947ca729a860c522a64a49d762baada      2018-05-28 22:39:59         1632  1   \n...                                                   ...          ... ..   \n3c5cc98c5d66e9df468a1149cea5db2f      2018-05-08 02:09:32         1653  1   \n7fb3376b7bcbfa9bb632247c4b434512      2018-05-08 01:15:33         1653  1   \nf61917dc2a134d82da0e28ada9e3b156      2018-05-08 00:45:50         1653  1   \n12e7b097386af1c4279a1d3bc9bee056      2018-05-08 00:14:57         1653  1   \n0807baeeeaa1309effbd9a9dee41ab17      2018-05-08 00:06:19         1653  2   \n\n                                       m  delta_purchase_delivery  \\\ncustomer_unique_id                                                  \nda75590f6cf4c7efc0e3821639c71430  399.49                      6.0   \nb89ecab6b0fc4a02fbdf36fd2839e3a6  358.03                     14.0   \ncd5317ec968d862b96ff90df43ff22b8   36.95                      6.0   \n73f97c6a5af65a71194cc2265ae82501  125.13                      7.0   \n3947ca729a860c522a64a49d762baada  905.93                     20.0   \n...                                  ...                      ...   \n3c5cc98c5d66e9df468a1149cea5db2f  764.52                      8.0   \n7fb3376b7bcbfa9bb632247c4b434512  239.41                      6.0   \nf61917dc2a134d82da0e28ada9e3b156   47.83                     18.0   \n12e7b097386af1c4279a1d3bc9bee056   59.66                      9.0   \n0807baeeeaa1309effbd9a9dee41ab17  384.44                      9.0   \n\n                                  review_score  haversine_distance  \ncustomer_unique_id                                                  \nda75590f6cf4c7efc0e3821639c71430           4.0           54.344246  \nb89ecab6b0fc4a02fbdf36fd2839e3a6           5.0          425.374525  \ncd5317ec968d862b96ff90df43ff22b8           3.0          543.555468  \n73f97c6a5af65a71194cc2265ae82501           4.5          584.623648  \n3947ca729a860c522a64a49d762baada           5.0         1732.131198  \n...                                        ...                 ...  \n3c5cc98c5d66e9df468a1149cea5db2f           5.0           29.732756  \n7fb3376b7bcbfa9bb632247c4b434512           5.0          360.683679  \nf61917dc2a134d82da0e28ada9e3b156           5.0          204.946878  \n12e7b097386af1c4279a1d3bc9bee056           2.0          544.498591  \n0807baeeeaa1309effbd9a9dee41ab17           5.0           52.262351  \n\n[4393 rows x 7 columns]",
      "text/html": "<div>\n<style scoped>\n    .dataframe tbody tr th:only-of-type {\n        vertical-align: middle;\n    }\n\n    .dataframe tbody tr th {\n        vertical-align: top;\n    }\n\n    .dataframe thead th {\n        text-align: right;\n    }\n</style>\n<table border=\"1\" class=\"dataframe\">\n  <thead>\n    <tr style=\"text-align: right;\">\n      <th></th>\n      <th>order_purchase_timestamp</th>\n      <th>R (Récence)</th>\n      <th>f</th>\n      <th>m</th>\n      <th>delta_purchase_delivery</th>\n      <th>review_score</th>\n      <th>haversine_distance</th>\n    </tr>\n    <tr>\n      <th>customer_unique_id</th>\n      <th></th>\n      <th></th>\n      <th></th>\n      <th></th>\n      <th></th>\n      <th></th>\n      <th></th>\n    </tr>\n  </thead>\n  <tbody>\n    <tr>\n      <th>da75590f6cf4c7efc0e3821639c71430</th>\n      <td>2018-05-28 23:23:31</td>\n      <td>1632</td>\n      <td>1</td>\n      <td>399.49</td>\n      <td>6.0</td>\n      <td>4.0</td>\n      <td>54.344246</td>\n    </tr>\n    <tr>\n      <th>b89ecab6b0fc4a02fbdf36fd2839e3a6</th>\n      <td>2018-05-28 23:18:32</td>\n      <td>1632</td>\n      <td>1</td>\n      <td>358.03</td>\n      <td>14.0</td>\n      <td>5.0</td>\n      <td>425.374525</td>\n    </tr>\n    <tr>\n      <th>cd5317ec968d862b96ff90df43ff22b8</th>\n      <td>2018-05-28 23:15:15</td>\n      <td>1632</td>\n      <td>1</td>\n      <td>36.95</td>\n      <td>6.0</td>\n      <td>3.0</td>\n      <td>543.555468</td>\n    </tr>\n    <tr>\n      <th>73f97c6a5af65a71194cc2265ae82501</th>\n      <td>2018-05-28 23:06:44</td>\n      <td>1632</td>\n      <td>2</td>\n      <td>125.13</td>\n      <td>7.0</td>\n      <td>4.5</td>\n      <td>584.623648</td>\n    </tr>\n    <tr>\n      <th>3947ca729a860c522a64a49d762baada</th>\n      <td>2018-05-28 22:39:59</td>\n      <td>1632</td>\n      <td>1</td>\n      <td>905.93</td>\n      <td>20.0</td>\n      <td>5.0</td>\n      <td>1732.131198</td>\n    </tr>\n    <tr>\n      <th>...</th>\n      <td>...</td>\n      <td>...</td>\n      <td>...</td>\n      <td>...</td>\n      <td>...</td>\n      <td>...</td>\n      <td>...</td>\n    </tr>\n    <tr>\n      <th>3c5cc98c5d66e9df468a1149cea5db2f</th>\n      <td>2018-05-08 02:09:32</td>\n      <td>1653</td>\n      <td>1</td>\n      <td>764.52</td>\n      <td>8.0</td>\n      <td>5.0</td>\n      <td>29.732756</td>\n    </tr>\n    <tr>\n      <th>7fb3376b7bcbfa9bb632247c4b434512</th>\n      <td>2018-05-08 01:15:33</td>\n      <td>1653</td>\n      <td>1</td>\n      <td>239.41</td>\n      <td>6.0</td>\n      <td>5.0</td>\n      <td>360.683679</td>\n    </tr>\n    <tr>\n      <th>f61917dc2a134d82da0e28ada9e3b156</th>\n      <td>2018-05-08 00:45:50</td>\n      <td>1653</td>\n      <td>1</td>\n      <td>47.83</td>\n      <td>18.0</td>\n      <td>5.0</td>\n      <td>204.946878</td>\n    </tr>\n    <tr>\n      <th>12e7b097386af1c4279a1d3bc9bee056</th>\n      <td>2018-05-08 00:14:57</td>\n      <td>1653</td>\n      <td>1</td>\n      <td>59.66</td>\n      <td>9.0</td>\n      <td>2.0</td>\n      <td>544.498591</td>\n    </tr>\n    <tr>\n      <th>0807baeeeaa1309effbd9a9dee41ab17</th>\n      <td>2018-05-08 00:06:19</td>\n      <td>1653</td>\n      <td>2</td>\n      <td>384.44</td>\n      <td>9.0</td>\n      <td>5.0</td>\n      <td>52.262351</td>\n    </tr>\n  </tbody>\n</table>\n<p>4393 rows × 7 columns</p>\n</div>"
     },
     "execution_count": 140,
     "metadata": {},
     "output_type": "execute_result"
    }
   ],
   "source": [
    "df_inf_13 = df_inf_00.loc[\n",
    "    (df_inf_00['order_purchase_timestamp'] > I_12) & (df_inf_00['order_purchase_timestamp'] <= I_13)]\n",
    "df_inf_13"
   ],
   "metadata": {
    "collapsed": false,
    "pycharm": {
     "name": "#%%\n"
    }
   }
  },
  {
   "cell_type": "code",
   "execution_count": 141,
   "outputs": [
    {
     "data": {
      "text/plain": "                                  R (Récence)  f       m  \\\ncustomer_unique_id                                         \nda75590f6cf4c7efc0e3821639c71430         1632  1  399.49   \nb89ecab6b0fc4a02fbdf36fd2839e3a6         1632  1  358.03   \ncd5317ec968d862b96ff90df43ff22b8         1632  1   36.95   \n73f97c6a5af65a71194cc2265ae82501         1632  2  125.13   \n3947ca729a860c522a64a49d762baada         1632  1  905.93   \n...                                       ... ..     ...   \n3c5cc98c5d66e9df468a1149cea5db2f         1653  1  764.52   \n7fb3376b7bcbfa9bb632247c4b434512         1653  1  239.41   \nf61917dc2a134d82da0e28ada9e3b156         1653  1   47.83   \n12e7b097386af1c4279a1d3bc9bee056         1653  1   59.66   \n0807baeeeaa1309effbd9a9dee41ab17         1653  2  384.44   \n\n                                  delta_purchase_delivery  review_score  \\\ncustomer_unique_id                                                        \nda75590f6cf4c7efc0e3821639c71430                      6.0           4.0   \nb89ecab6b0fc4a02fbdf36fd2839e3a6                     14.0           5.0   \ncd5317ec968d862b96ff90df43ff22b8                      6.0           3.0   \n73f97c6a5af65a71194cc2265ae82501                      7.0           4.5   \n3947ca729a860c522a64a49d762baada                     20.0           5.0   \n...                                                   ...           ...   \n3c5cc98c5d66e9df468a1149cea5db2f                      8.0           5.0   \n7fb3376b7bcbfa9bb632247c4b434512                      6.0           5.0   \nf61917dc2a134d82da0e28ada9e3b156                     18.0           5.0   \n12e7b097386af1c4279a1d3bc9bee056                      9.0           2.0   \n0807baeeeaa1309effbd9a9dee41ab17                      9.0           5.0   \n\n                                  haversine_distance  \ncustomer_unique_id                                    \nda75590f6cf4c7efc0e3821639c71430           54.344246  \nb89ecab6b0fc4a02fbdf36fd2839e3a6          425.374525  \ncd5317ec968d862b96ff90df43ff22b8          543.555468  \n73f97c6a5af65a71194cc2265ae82501          584.623648  \n3947ca729a860c522a64a49d762baada         1732.131198  \n...                                              ...  \n3c5cc98c5d66e9df468a1149cea5db2f           29.732756  \n7fb3376b7bcbfa9bb632247c4b434512          360.683679  \nf61917dc2a134d82da0e28ada9e3b156          204.946878  \n12e7b097386af1c4279a1d3bc9bee056          544.498591  \n0807baeeeaa1309effbd9a9dee41ab17           52.262351  \n\n[4393 rows x 6 columns]",
      "text/html": "<div>\n<style scoped>\n    .dataframe tbody tr th:only-of-type {\n        vertical-align: middle;\n    }\n\n    .dataframe tbody tr th {\n        vertical-align: top;\n    }\n\n    .dataframe thead th {\n        text-align: right;\n    }\n</style>\n<table border=\"1\" class=\"dataframe\">\n  <thead>\n    <tr style=\"text-align: right;\">\n      <th></th>\n      <th>R (Récence)</th>\n      <th>f</th>\n      <th>m</th>\n      <th>delta_purchase_delivery</th>\n      <th>review_score</th>\n      <th>haversine_distance</th>\n    </tr>\n    <tr>\n      <th>customer_unique_id</th>\n      <th></th>\n      <th></th>\n      <th></th>\n      <th></th>\n      <th></th>\n      <th></th>\n    </tr>\n  </thead>\n  <tbody>\n    <tr>\n      <th>da75590f6cf4c7efc0e3821639c71430</th>\n      <td>1632</td>\n      <td>1</td>\n      <td>399.49</td>\n      <td>6.0</td>\n      <td>4.0</td>\n      <td>54.344246</td>\n    </tr>\n    <tr>\n      <th>b89ecab6b0fc4a02fbdf36fd2839e3a6</th>\n      <td>1632</td>\n      <td>1</td>\n      <td>358.03</td>\n      <td>14.0</td>\n      <td>5.0</td>\n      <td>425.374525</td>\n    </tr>\n    <tr>\n      <th>cd5317ec968d862b96ff90df43ff22b8</th>\n      <td>1632</td>\n      <td>1</td>\n      <td>36.95</td>\n      <td>6.0</td>\n      <td>3.0</td>\n      <td>543.555468</td>\n    </tr>\n    <tr>\n      <th>73f97c6a5af65a71194cc2265ae82501</th>\n      <td>1632</td>\n      <td>2</td>\n      <td>125.13</td>\n      <td>7.0</td>\n      <td>4.5</td>\n      <td>584.623648</td>\n    </tr>\n    <tr>\n      <th>3947ca729a860c522a64a49d762baada</th>\n      <td>1632</td>\n      <td>1</td>\n      <td>905.93</td>\n      <td>20.0</td>\n      <td>5.0</td>\n      <td>1732.131198</td>\n    </tr>\n    <tr>\n      <th>...</th>\n      <td>...</td>\n      <td>...</td>\n      <td>...</td>\n      <td>...</td>\n      <td>...</td>\n      <td>...</td>\n    </tr>\n    <tr>\n      <th>3c5cc98c5d66e9df468a1149cea5db2f</th>\n      <td>1653</td>\n      <td>1</td>\n      <td>764.52</td>\n      <td>8.0</td>\n      <td>5.0</td>\n      <td>29.732756</td>\n    </tr>\n    <tr>\n      <th>7fb3376b7bcbfa9bb632247c4b434512</th>\n      <td>1653</td>\n      <td>1</td>\n      <td>239.41</td>\n      <td>6.0</td>\n      <td>5.0</td>\n      <td>360.683679</td>\n    </tr>\n    <tr>\n      <th>f61917dc2a134d82da0e28ada9e3b156</th>\n      <td>1653</td>\n      <td>1</td>\n      <td>47.83</td>\n      <td>18.0</td>\n      <td>5.0</td>\n      <td>204.946878</td>\n    </tr>\n    <tr>\n      <th>12e7b097386af1c4279a1d3bc9bee056</th>\n      <td>1653</td>\n      <td>1</td>\n      <td>59.66</td>\n      <td>9.0</td>\n      <td>2.0</td>\n      <td>544.498591</td>\n    </tr>\n    <tr>\n      <th>0807baeeeaa1309effbd9a9dee41ab17</th>\n      <td>1653</td>\n      <td>2</td>\n      <td>384.44</td>\n      <td>9.0</td>\n      <td>5.0</td>\n      <td>52.262351</td>\n    </tr>\n  </tbody>\n</table>\n<p>4393 rows × 6 columns</p>\n</div>"
     },
     "execution_count": 141,
     "metadata": {},
     "output_type": "execute_result"
    }
   ],
   "source": [
    "df_inf_13_ = df_inf_13[['R (Récence)', 'f', 'm', 'delta_purchase_delivery', 'review_score', 'haversine_distance']]\n",
    "df_inf_13_"
   ],
   "metadata": {
    "collapsed": false,
    "pycharm": {
     "name": "#%%\n"
    }
   }
  },
  {
   "cell_type": "code",
   "execution_count": 142,
   "outputs": [
    {
     "data": {
      "text/plain": "array([[0.        , 0.        , 0.05899579, 0.05825243, 1.        ,\n        0.23065523],\n       [0.        , 0.        , 0.00907291, 0.00970874, 1.        ,\n        0.00268392],\n       [0.        , 0.        , 0.00774013, 0.13592233, 1.        ,\n        0.21690919],\n       ...,\n       [1.        , 0.        , 0.01592451, 0.        , 1.        ,\n        0.00789455],\n       [1.        , 0.        , 0.00700178, 0.0776699 , 0.5       ,\n        0.01879415],\n       [1.        , 0.        , 0.01878717, 0.05825243, 1.        ,\n        0.12554937]])"
     },
     "execution_count": 142,
     "metadata": {},
     "output_type": "execute_result"
    }
   ],
   "source": [
    "df_inf_13_scaled = scaler.fit_transform(df_inf_12_)\n",
    "df_inf_13_scaled"
   ],
   "metadata": {
    "collapsed": false,
    "pycharm": {
     "name": "#%%\n"
    }
   }
  },
  {
   "cell_type": "code",
   "execution_count": 143,
   "outputs": [],
   "source": [
    "\n",
    "# Kmeans avec le k choisi\n",
    "\n",
    "kmeans_model_13 = KMeans(4, random_state=42)\n",
    "kmeans_model_13.fit(df_inf_13_scaled)\n",
    "\n",
    "# Etiquette\n",
    "labels_model_13 = kmeans_model_13.labels_"
   ],
   "metadata": {
    "collapsed": false,
    "pycharm": {
     "name": "#%%\n"
    }
   }
  },
  {
   "cell_type": "code",
   "execution_count": 144,
   "outputs": [
    {
     "data": {
      "text/plain": "array([1, 1, 1, ..., 3, 3, 3])"
     },
     "execution_count": 144,
     "metadata": {},
     "output_type": "execute_result"
    }
   ],
   "source": [
    "labels_model_13"
   ],
   "metadata": {
    "collapsed": false,
    "pycharm": {
     "name": "#%%\n"
    }
   }
  },
  {
   "cell_type": "code",
   "execution_count": 145,
   "outputs": [
    {
     "data": {
      "text/plain": "array([1, 1, 1, ..., 3, 3, 3])"
     },
     "execution_count": 145,
     "metadata": {},
     "output_type": "execute_result"
    }
   ],
   "source": [
    "labels_predict_13 = kmeans_model_12.predict(df_inf_13_scaled)\n",
    "labels_predict_13"
   ],
   "metadata": {
    "collapsed": false,
    "pycharm": {
     "name": "#%%\n"
    }
   }
  },
  {
   "cell_type": "code",
   "execution_count": 146,
   "outputs": [
    {
     "data": {
      "text/plain": "1.0"
     },
     "execution_count": 146,
     "metadata": {},
     "output_type": "execute_result"
    }
   ],
   "source": [
    "\n",
    "ari_13 = adjusted_rand_score(labels_model_13, labels_predict_13)\n",
    "ari_13"
   ],
   "metadata": {
    "collapsed": false,
    "pycharm": {
     "name": "#%%\n"
    }
   }
  },
  {
   "cell_type": "code",
   "execution_count": 147,
   "outputs": [
    {
     "data": {
      "text/plain": "{'2017-09-19': 0.6864551842612211,\n Timestamp('2017-10-10 00:00:00'): 0.9703524800217207,\n Timestamp('2017-10-31 00:00:00'): 0.9556678730363262,\n Timestamp('2017-11-21 00:00:00'): 0.7102637915244074,\n Timestamp('2017-12-12 00:00:00'): 0.6883429712802089,\n Timestamp('2018-01-02 00:00:00'): 0.6260435836584001,\n Timestamp('2018-01-23 00:00:00'): 0.87985860894732,\n Timestamp('2018-02-13 00:00:00'): 0.7505950375892347,\n Timestamp('2018-03-06 00:00:00'): 0.8178611413052195,\n Timestamp('2018-03-27 00:00:00'): 0.8269586441910798,\n Timestamp('2018-04-17 00:00:00'): 0.6723549610424632,\n Timestamp('2018-05-08 00:00:00'): 0.9629533204562484,\n Timestamp('2018-05-29 00:00:00'): 1.0}"
     },
     "execution_count": 147,
     "metadata": {},
     "output_type": "execute_result"
    }
   ],
   "source": [
    "ari_score[I_13] = ari_13\n",
    "ari_score"
   ],
   "metadata": {
    "collapsed": false,
    "pycharm": {
     "name": "#%%\n"
    }
   }
  },
  {
   "cell_type": "markdown",
   "source": [
    "####\n",
    "### Intervalle 14"
   ],
   "metadata": {
    "collapsed": false,
    "pycharm": {
     "name": "#%% md\n"
    }
   }
  },
  {
   "cell_type": "code",
   "execution_count": 148,
   "outputs": [
    {
     "data": {
      "text/plain": "Timestamp('2018-06-19 00:00:00')"
     },
     "execution_count": 148,
     "metadata": {},
     "output_type": "execute_result"
    }
   ],
   "source": [
    "I_14 = additional_period(I_13, nj, last_order_date)\n",
    "I_14"
   ],
   "metadata": {
    "collapsed": false,
    "pycharm": {
     "name": "#%%\n"
    }
   }
  },
  {
   "cell_type": "code",
   "execution_count": 149,
   "outputs": [
    {
     "data": {
      "text/plain": "                                 order_purchase_timestamp  R (Récence)  f  \\\ncustomer_unique_id                                                          \n8c2a5c47e0c02478c440038904724cd5      2018-06-18 23:49:55         1611  1   \n35e410adc25fe96c55082bd4bb2daba2      2018-06-18 23:30:33         1611  1   \neeb40a1c2f9b56f9ef3166fb50b3de81      2018-06-18 23:25:55         1611  1   \n4fcf03fe433130324a017681a545cdb4      2018-06-18 23:21:17         1611  1   \n7345d4421257c44d2866ee8ce2c82648      2018-06-18 23:14:47         1611  1   \n...                                                   ...          ... ..   \n878ea5c2eb715531041a41cfdf83bcbb      2018-05-29 01:12:50         1632  1   \ncdbc7f51db6831d1ffb450d17dd2d8a4      2018-05-29 00:19:25         1632  1   \ne1388a489a08d6a5c95e531ee9053db5      2018-05-29 00:19:06         1632  1   \n0b1863ef940d2c99493c2c551d7e3470      2018-05-29 00:14:52         1632  1   \n47c05993d6a2369558d2f63dddabcf0e      2018-05-29 00:08:35         1632  1   \n\n                                       m  delta_purchase_delivery  \\\ncustomer_unique_id                                                  \n8c2a5c47e0c02478c440038904724cd5   58.37                      3.0   \n35e410adc25fe96c55082bd4bb2daba2  139.24                      1.0   \neeb40a1c2f9b56f9ef3166fb50b3de81   42.36                      3.0   \n4fcf03fe433130324a017681a545cdb4   89.10                      1.0   \n7345d4421257c44d2866ee8ce2c82648   32.22                      7.0   \n...                                  ...                      ...   \n878ea5c2eb715531041a41cfdf83bcbb  226.22                     14.0   \ncdbc7f51db6831d1ffb450d17dd2d8a4   28.56                     14.0   \ne1388a489a08d6a5c95e531ee9053db5   51.69                      9.0   \n0b1863ef940d2c99493c2c551d7e3470   87.92                      8.0   \n47c05993d6a2369558d2f63dddabcf0e   69.22                     14.0   \n\n                                  review_score  haversine_distance  \ncustomer_unique_id                                                  \n8c2a5c47e0c02478c440038904724cd5           5.0          107.782673  \n35e410adc25fe96c55082bd4bb2daba2           5.0           13.662521  \neeb40a1c2f9b56f9ef3166fb50b3de81           5.0          215.218551  \n4fcf03fe433130324a017681a545cdb4           4.0            9.283444  \n7345d4421257c44d2866ee8ce2c82648           5.0          508.714810  \n...                                        ...                 ...  \n878ea5c2eb715531041a41cfdf83bcbb           4.0          220.285724  \ncdbc7f51db6831d1ffb450d17dd2d8a4           3.0          213.950026  \ne1388a489a08d6a5c95e531ee9053db5           5.0          185.266075  \n0b1863ef940d2c99493c2c551d7e3470           1.0          709.456610  \n47c05993d6a2369558d2f63dddabcf0e           4.0          240.888045  \n\n[4040 rows x 7 columns]",
      "text/html": "<div>\n<style scoped>\n    .dataframe tbody tr th:only-of-type {\n        vertical-align: middle;\n    }\n\n    .dataframe tbody tr th {\n        vertical-align: top;\n    }\n\n    .dataframe thead th {\n        text-align: right;\n    }\n</style>\n<table border=\"1\" class=\"dataframe\">\n  <thead>\n    <tr style=\"text-align: right;\">\n      <th></th>\n      <th>order_purchase_timestamp</th>\n      <th>R (Récence)</th>\n      <th>f</th>\n      <th>m</th>\n      <th>delta_purchase_delivery</th>\n      <th>review_score</th>\n      <th>haversine_distance</th>\n    </tr>\n    <tr>\n      <th>customer_unique_id</th>\n      <th></th>\n      <th></th>\n      <th></th>\n      <th></th>\n      <th></th>\n      <th></th>\n      <th></th>\n    </tr>\n  </thead>\n  <tbody>\n    <tr>\n      <th>8c2a5c47e0c02478c440038904724cd5</th>\n      <td>2018-06-18 23:49:55</td>\n      <td>1611</td>\n      <td>1</td>\n      <td>58.37</td>\n      <td>3.0</td>\n      <td>5.0</td>\n      <td>107.782673</td>\n    </tr>\n    <tr>\n      <th>35e410adc25fe96c55082bd4bb2daba2</th>\n      <td>2018-06-18 23:30:33</td>\n      <td>1611</td>\n      <td>1</td>\n      <td>139.24</td>\n      <td>1.0</td>\n      <td>5.0</td>\n      <td>13.662521</td>\n    </tr>\n    <tr>\n      <th>eeb40a1c2f9b56f9ef3166fb50b3de81</th>\n      <td>2018-06-18 23:25:55</td>\n      <td>1611</td>\n      <td>1</td>\n      <td>42.36</td>\n      <td>3.0</td>\n      <td>5.0</td>\n      <td>215.218551</td>\n    </tr>\n    <tr>\n      <th>4fcf03fe433130324a017681a545cdb4</th>\n      <td>2018-06-18 23:21:17</td>\n      <td>1611</td>\n      <td>1</td>\n      <td>89.10</td>\n      <td>1.0</td>\n      <td>4.0</td>\n      <td>9.283444</td>\n    </tr>\n    <tr>\n      <th>7345d4421257c44d2866ee8ce2c82648</th>\n      <td>2018-06-18 23:14:47</td>\n      <td>1611</td>\n      <td>1</td>\n      <td>32.22</td>\n      <td>7.0</td>\n      <td>5.0</td>\n      <td>508.714810</td>\n    </tr>\n    <tr>\n      <th>...</th>\n      <td>...</td>\n      <td>...</td>\n      <td>...</td>\n      <td>...</td>\n      <td>...</td>\n      <td>...</td>\n      <td>...</td>\n    </tr>\n    <tr>\n      <th>878ea5c2eb715531041a41cfdf83bcbb</th>\n      <td>2018-05-29 01:12:50</td>\n      <td>1632</td>\n      <td>1</td>\n      <td>226.22</td>\n      <td>14.0</td>\n      <td>4.0</td>\n      <td>220.285724</td>\n    </tr>\n    <tr>\n      <th>cdbc7f51db6831d1ffb450d17dd2d8a4</th>\n      <td>2018-05-29 00:19:25</td>\n      <td>1632</td>\n      <td>1</td>\n      <td>28.56</td>\n      <td>14.0</td>\n      <td>3.0</td>\n      <td>213.950026</td>\n    </tr>\n    <tr>\n      <th>e1388a489a08d6a5c95e531ee9053db5</th>\n      <td>2018-05-29 00:19:06</td>\n      <td>1632</td>\n      <td>1</td>\n      <td>51.69</td>\n      <td>9.0</td>\n      <td>5.0</td>\n      <td>185.266075</td>\n    </tr>\n    <tr>\n      <th>0b1863ef940d2c99493c2c551d7e3470</th>\n      <td>2018-05-29 00:14:52</td>\n      <td>1632</td>\n      <td>1</td>\n      <td>87.92</td>\n      <td>8.0</td>\n      <td>1.0</td>\n      <td>709.456610</td>\n    </tr>\n    <tr>\n      <th>47c05993d6a2369558d2f63dddabcf0e</th>\n      <td>2018-05-29 00:08:35</td>\n      <td>1632</td>\n      <td>1</td>\n      <td>69.22</td>\n      <td>14.0</td>\n      <td>4.0</td>\n      <td>240.888045</td>\n    </tr>\n  </tbody>\n</table>\n<p>4040 rows × 7 columns</p>\n</div>"
     },
     "execution_count": 149,
     "metadata": {},
     "output_type": "execute_result"
    }
   ],
   "source": [
    "df_inf_14 = df_inf_00.loc[\n",
    "    (df_inf_00['order_purchase_timestamp'] > I_13) & (df_inf_00['order_purchase_timestamp'] <= I_14)]\n",
    "df_inf_14"
   ],
   "metadata": {
    "collapsed": false,
    "pycharm": {
     "name": "#%%\n"
    }
   }
  },
  {
   "cell_type": "code",
   "execution_count": 150,
   "outputs": [
    {
     "data": {
      "text/plain": "                                  R (Récence)  f       m  \\\ncustomer_unique_id                                         \n8c2a5c47e0c02478c440038904724cd5         1611  1   58.37   \n35e410adc25fe96c55082bd4bb2daba2         1611  1  139.24   \neeb40a1c2f9b56f9ef3166fb50b3de81         1611  1   42.36   \n4fcf03fe433130324a017681a545cdb4         1611  1   89.10   \n7345d4421257c44d2866ee8ce2c82648         1611  1   32.22   \n...                                       ... ..     ...   \n878ea5c2eb715531041a41cfdf83bcbb         1632  1  226.22   \ncdbc7f51db6831d1ffb450d17dd2d8a4         1632  1   28.56   \ne1388a489a08d6a5c95e531ee9053db5         1632  1   51.69   \n0b1863ef940d2c99493c2c551d7e3470         1632  1   87.92   \n47c05993d6a2369558d2f63dddabcf0e         1632  1   69.22   \n\n                                  delta_purchase_delivery  review_score  \\\ncustomer_unique_id                                                        \n8c2a5c47e0c02478c440038904724cd5                      3.0           5.0   \n35e410adc25fe96c55082bd4bb2daba2                      1.0           5.0   \neeb40a1c2f9b56f9ef3166fb50b3de81                      3.0           5.0   \n4fcf03fe433130324a017681a545cdb4                      1.0           4.0   \n7345d4421257c44d2866ee8ce2c82648                      7.0           5.0   \n...                                                   ...           ...   \n878ea5c2eb715531041a41cfdf83bcbb                     14.0           4.0   \ncdbc7f51db6831d1ffb450d17dd2d8a4                     14.0           3.0   \ne1388a489a08d6a5c95e531ee9053db5                      9.0           5.0   \n0b1863ef940d2c99493c2c551d7e3470                      8.0           1.0   \n47c05993d6a2369558d2f63dddabcf0e                     14.0           4.0   \n\n                                  haversine_distance  \ncustomer_unique_id                                    \n8c2a5c47e0c02478c440038904724cd5          107.782673  \n35e410adc25fe96c55082bd4bb2daba2           13.662521  \neeb40a1c2f9b56f9ef3166fb50b3de81          215.218551  \n4fcf03fe433130324a017681a545cdb4            9.283444  \n7345d4421257c44d2866ee8ce2c82648          508.714810  \n...                                              ...  \n878ea5c2eb715531041a41cfdf83bcbb          220.285724  \ncdbc7f51db6831d1ffb450d17dd2d8a4          213.950026  \ne1388a489a08d6a5c95e531ee9053db5          185.266075  \n0b1863ef940d2c99493c2c551d7e3470          709.456610  \n47c05993d6a2369558d2f63dddabcf0e          240.888045  \n\n[4040 rows x 6 columns]",
      "text/html": "<div>\n<style scoped>\n    .dataframe tbody tr th:only-of-type {\n        vertical-align: middle;\n    }\n\n    .dataframe tbody tr th {\n        vertical-align: top;\n    }\n\n    .dataframe thead th {\n        text-align: right;\n    }\n</style>\n<table border=\"1\" class=\"dataframe\">\n  <thead>\n    <tr style=\"text-align: right;\">\n      <th></th>\n      <th>R (Récence)</th>\n      <th>f</th>\n      <th>m</th>\n      <th>delta_purchase_delivery</th>\n      <th>review_score</th>\n      <th>haversine_distance</th>\n    </tr>\n    <tr>\n      <th>customer_unique_id</th>\n      <th></th>\n      <th></th>\n      <th></th>\n      <th></th>\n      <th></th>\n      <th></th>\n    </tr>\n  </thead>\n  <tbody>\n    <tr>\n      <th>8c2a5c47e0c02478c440038904724cd5</th>\n      <td>1611</td>\n      <td>1</td>\n      <td>58.37</td>\n      <td>3.0</td>\n      <td>5.0</td>\n      <td>107.782673</td>\n    </tr>\n    <tr>\n      <th>35e410adc25fe96c55082bd4bb2daba2</th>\n      <td>1611</td>\n      <td>1</td>\n      <td>139.24</td>\n      <td>1.0</td>\n      <td>5.0</td>\n      <td>13.662521</td>\n    </tr>\n    <tr>\n      <th>eeb40a1c2f9b56f9ef3166fb50b3de81</th>\n      <td>1611</td>\n      <td>1</td>\n      <td>42.36</td>\n      <td>3.0</td>\n      <td>5.0</td>\n      <td>215.218551</td>\n    </tr>\n    <tr>\n      <th>4fcf03fe433130324a017681a545cdb4</th>\n      <td>1611</td>\n      <td>1</td>\n      <td>89.10</td>\n      <td>1.0</td>\n      <td>4.0</td>\n      <td>9.283444</td>\n    </tr>\n    <tr>\n      <th>7345d4421257c44d2866ee8ce2c82648</th>\n      <td>1611</td>\n      <td>1</td>\n      <td>32.22</td>\n      <td>7.0</td>\n      <td>5.0</td>\n      <td>508.714810</td>\n    </tr>\n    <tr>\n      <th>...</th>\n      <td>...</td>\n      <td>...</td>\n      <td>...</td>\n      <td>...</td>\n      <td>...</td>\n      <td>...</td>\n    </tr>\n    <tr>\n      <th>878ea5c2eb715531041a41cfdf83bcbb</th>\n      <td>1632</td>\n      <td>1</td>\n      <td>226.22</td>\n      <td>14.0</td>\n      <td>4.0</td>\n      <td>220.285724</td>\n    </tr>\n    <tr>\n      <th>cdbc7f51db6831d1ffb450d17dd2d8a4</th>\n      <td>1632</td>\n      <td>1</td>\n      <td>28.56</td>\n      <td>14.0</td>\n      <td>3.0</td>\n      <td>213.950026</td>\n    </tr>\n    <tr>\n      <th>e1388a489a08d6a5c95e531ee9053db5</th>\n      <td>1632</td>\n      <td>1</td>\n      <td>51.69</td>\n      <td>9.0</td>\n      <td>5.0</td>\n      <td>185.266075</td>\n    </tr>\n    <tr>\n      <th>0b1863ef940d2c99493c2c551d7e3470</th>\n      <td>1632</td>\n      <td>1</td>\n      <td>87.92</td>\n      <td>8.0</td>\n      <td>1.0</td>\n      <td>709.456610</td>\n    </tr>\n    <tr>\n      <th>47c05993d6a2369558d2f63dddabcf0e</th>\n      <td>1632</td>\n      <td>1</td>\n      <td>69.22</td>\n      <td>14.0</td>\n      <td>4.0</td>\n      <td>240.888045</td>\n    </tr>\n  </tbody>\n</table>\n<p>4040 rows × 6 columns</p>\n</div>"
     },
     "execution_count": 150,
     "metadata": {},
     "output_type": "execute_result"
    }
   ],
   "source": [
    "df_inf_14_ = df_inf_14[['R (Récence)', 'f', 'm', 'delta_purchase_delivery', 'review_score', 'haversine_distance']]\n",
    "df_inf_14_"
   ],
   "metadata": {
    "collapsed": false,
    "pycharm": {
     "name": "#%%\n"
    }
   }
  },
  {
   "cell_type": "code",
   "execution_count": 151,
   "outputs": [
    {
     "data": {
      "text/plain": "array([[0.        , 0.        , 0.01037195, 0.02205882, 1.        ,\n        0.05136382],\n       [0.        , 0.        , 0.02861422, 0.00735294, 1.        ,\n        0.00651087],\n       [0.        , 0.        , 0.00676049, 0.02205882, 1.        ,\n        0.10256238],\n       ...,\n       [1.        , 0.        , 0.00886511, 0.06617647, 1.        ,\n        0.08828853],\n       [1.        , 0.        , 0.0170377 , 0.05882353, 0.        ,\n        0.33809148],\n       [1.        , 0.        , 0.01281944, 0.10294118, 0.75      ,\n        0.11479518]])"
     },
     "execution_count": 151,
     "metadata": {},
     "output_type": "execute_result"
    }
   ],
   "source": [
    "df_inf_14_scaled = scaler.fit_transform(df_inf_14_)\n",
    "df_inf_14_scaled"
   ],
   "metadata": {
    "collapsed": false,
    "pycharm": {
     "name": "#%%\n"
    }
   }
  },
  {
   "cell_type": "code",
   "execution_count": 152,
   "outputs": [],
   "source": [
    "\n",
    "# Kmeans avec le k choisi\n",
    "\n",
    "kmeans_model_14 = KMeans(4, random_state=42)\n",
    "kmeans_model_14.fit(df_inf_14_scaled)\n",
    "\n",
    "# Etiquette\n",
    "labels_model_14 = kmeans_model_14.labels_"
   ],
   "metadata": {
    "collapsed": false,
    "pycharm": {
     "name": "#%%\n"
    }
   }
  },
  {
   "cell_type": "code",
   "execution_count": 153,
   "outputs": [
    {
     "data": {
      "text/plain": "array([2, 2, 2, ..., 1, 0, 1])"
     },
     "execution_count": 153,
     "metadata": {},
     "output_type": "execute_result"
    }
   ],
   "source": [
    "labels_model_14"
   ],
   "metadata": {
    "collapsed": false,
    "pycharm": {
     "name": "#%%\n"
    }
   }
  },
  {
   "cell_type": "code",
   "execution_count": 154,
   "outputs": [
    {
     "data": {
      "text/plain": "array([1, 1, 1, ..., 3, 2, 3])"
     },
     "execution_count": 154,
     "metadata": {},
     "output_type": "execute_result"
    }
   ],
   "source": [
    "labels_predict_14 = kmeans_model_13.predict(df_inf_14_scaled)\n",
    "labels_predict_14"
   ],
   "metadata": {
    "collapsed": false,
    "pycharm": {
     "name": "#%%\n"
    }
   }
  },
  {
   "cell_type": "code",
   "execution_count": 155,
   "outputs": [
    {
     "data": {
      "text/plain": "0.9744320903479493"
     },
     "execution_count": 155,
     "metadata": {},
     "output_type": "execute_result"
    }
   ],
   "source": [
    "\n",
    "ari_14 = adjusted_rand_score(labels_model_14, labels_predict_14)\n",
    "ari_14"
   ],
   "metadata": {
    "collapsed": false,
    "pycharm": {
     "name": "#%%\n"
    }
   }
  },
  {
   "cell_type": "code",
   "execution_count": 156,
   "outputs": [
    {
     "data": {
      "text/plain": "{'2017-09-19': 0.6864551842612211,\n Timestamp('2017-10-10 00:00:00'): 0.9703524800217207,\n Timestamp('2017-10-31 00:00:00'): 0.9556678730363262,\n Timestamp('2017-11-21 00:00:00'): 0.7102637915244074,\n Timestamp('2017-12-12 00:00:00'): 0.6883429712802089,\n Timestamp('2018-01-02 00:00:00'): 0.6260435836584001,\n Timestamp('2018-01-23 00:00:00'): 0.87985860894732,\n Timestamp('2018-02-13 00:00:00'): 0.7505950375892347,\n Timestamp('2018-03-06 00:00:00'): 0.8178611413052195,\n Timestamp('2018-03-27 00:00:00'): 0.8269586441910798,\n Timestamp('2018-04-17 00:00:00'): 0.6723549610424632,\n Timestamp('2018-05-08 00:00:00'): 0.9629533204562484,\n Timestamp('2018-05-29 00:00:00'): 1.0,\n Timestamp('2018-06-19 00:00:00'): 0.9744320903479493}"
     },
     "execution_count": 156,
     "metadata": {},
     "output_type": "execute_result"
    }
   ],
   "source": [
    "ari_score[I_14] = ari_14\n",
    "ari_score"
   ],
   "metadata": {
    "collapsed": false,
    "pycharm": {
     "name": "#%%\n"
    }
   }
  },
  {
   "cell_type": "markdown",
   "source": [
    "####\n",
    "### Intervalle 15"
   ],
   "metadata": {
    "collapsed": false,
    "pycharm": {
     "name": "#%% md\n"
    }
   }
  },
  {
   "cell_type": "code",
   "execution_count": 157,
   "outputs": [
    {
     "data": {
      "text/plain": "Timestamp('2018-07-10 00:00:00')"
     },
     "execution_count": 157,
     "metadata": {},
     "output_type": "execute_result"
    }
   ],
   "source": [
    "I_15 = additional_period(I_14, nj, last_order_date)\n",
    "I_15"
   ],
   "metadata": {
    "collapsed": false,
    "pycharm": {
     "name": "#%%\n"
    }
   }
  },
  {
   "cell_type": "code",
   "execution_count": 158,
   "outputs": [
    {
     "data": {
      "text/plain": "                                 order_purchase_timestamp  R (Récence)  f  \\\ncustomer_unique_id                                                          \nedb29614fae66506fd950294c9fea702      2018-07-09 23:30:18         1590  1   \n364849e1d0ec338fd949b47bfe80ec62      2018-07-09 23:08:29         1590  1   \nb05a0be462115e2c6e1580b127161643      2018-07-09 22:59:16         1590  1   \n03146a8b7c6feaac56b53e8e834eccd2      2018-07-09 22:51:02         1590  1   \n3d1a76622ec022c19f773e757122968b      2018-07-09 22:31:06         1590  1   \n...                                                   ...          ... ..   \n3527fe1276a408f2cac54f65373c57d4      2018-06-19 03:01:18         1611  1   \n5d8620f729a63db9808b84811985626c      2018-06-19 01:25:53         1611  1   \n6c5ce6b9d419df2b111d90a6e85a10d6      2018-06-19 00:26:23         1611  1   \n698eb77f4e92210ab9d6a4103cfe5fa1      2018-06-19 00:19:37         1611  1   \n1983d4bb595adf04d53264aab08ffb6b      2018-06-19 00:16:16         1611  1   \n\n                                       m  delta_purchase_delivery  \\\ncustomer_unique_id                                                  \nedb29614fae66506fd950294c9fea702  144.12                     15.0   \n364849e1d0ec338fd949b47bfe80ec62  104.70                     30.0   \nb05a0be462115e2c6e1580b127161643  135.15                      3.0   \n03146a8b7c6feaac56b53e8e834eccd2   69.53                      6.0   \n3d1a76622ec022c19f773e757122968b   57.58                      3.0   \n...                                  ...                      ...   \n3527fe1276a408f2cac54f65373c57d4  120.91                      7.0   \n5d8620f729a63db9808b84811985626c   33.22                      6.0   \n6c5ce6b9d419df2b111d90a6e85a10d6  120.68                      5.0   \n698eb77f4e92210ab9d6a4103cfe5fa1   99.77                      7.0   \n1983d4bb595adf04d53264aab08ffb6b   27.49                      2.0   \n\n                                  review_score  haversine_distance  \ncustomer_unique_id                                                  \nedb29614fae66506fd950294c9fea702           5.0          747.275662  \n364849e1d0ec338fd949b47bfe80ec62           1.0          132.830738  \nb05a0be462115e2c6e1580b127161643           1.0          184.186773  \n03146a8b7c6feaac56b53e8e834eccd2           3.0          314.705863  \n3d1a76622ec022c19f773e757122968b           5.0           14.447014  \n...                                        ...                 ...  \n3527fe1276a408f2cac54f65373c57d4           4.0           62.643995  \n5d8620f729a63db9808b84811985626c           5.0          507.205597  \n6c5ce6b9d419df2b111d90a6e85a10d6           5.0            9.327671  \n698eb77f4e92210ab9d6a4103cfe5fa1           5.0           83.180433  \n1983d4bb595adf04d53264aab08ffb6b           5.0            8.724517  \n\n[3853 rows x 7 columns]",
      "text/html": "<div>\n<style scoped>\n    .dataframe tbody tr th:only-of-type {\n        vertical-align: middle;\n    }\n\n    .dataframe tbody tr th {\n        vertical-align: top;\n    }\n\n    .dataframe thead th {\n        text-align: right;\n    }\n</style>\n<table border=\"1\" class=\"dataframe\">\n  <thead>\n    <tr style=\"text-align: right;\">\n      <th></th>\n      <th>order_purchase_timestamp</th>\n      <th>R (Récence)</th>\n      <th>f</th>\n      <th>m</th>\n      <th>delta_purchase_delivery</th>\n      <th>review_score</th>\n      <th>haversine_distance</th>\n    </tr>\n    <tr>\n      <th>customer_unique_id</th>\n      <th></th>\n      <th></th>\n      <th></th>\n      <th></th>\n      <th></th>\n      <th></th>\n      <th></th>\n    </tr>\n  </thead>\n  <tbody>\n    <tr>\n      <th>edb29614fae66506fd950294c9fea702</th>\n      <td>2018-07-09 23:30:18</td>\n      <td>1590</td>\n      <td>1</td>\n      <td>144.12</td>\n      <td>15.0</td>\n      <td>5.0</td>\n      <td>747.275662</td>\n    </tr>\n    <tr>\n      <th>364849e1d0ec338fd949b47bfe80ec62</th>\n      <td>2018-07-09 23:08:29</td>\n      <td>1590</td>\n      <td>1</td>\n      <td>104.70</td>\n      <td>30.0</td>\n      <td>1.0</td>\n      <td>132.830738</td>\n    </tr>\n    <tr>\n      <th>b05a0be462115e2c6e1580b127161643</th>\n      <td>2018-07-09 22:59:16</td>\n      <td>1590</td>\n      <td>1</td>\n      <td>135.15</td>\n      <td>3.0</td>\n      <td>1.0</td>\n      <td>184.186773</td>\n    </tr>\n    <tr>\n      <th>03146a8b7c6feaac56b53e8e834eccd2</th>\n      <td>2018-07-09 22:51:02</td>\n      <td>1590</td>\n      <td>1</td>\n      <td>69.53</td>\n      <td>6.0</td>\n      <td>3.0</td>\n      <td>314.705863</td>\n    </tr>\n    <tr>\n      <th>3d1a76622ec022c19f773e757122968b</th>\n      <td>2018-07-09 22:31:06</td>\n      <td>1590</td>\n      <td>1</td>\n      <td>57.58</td>\n      <td>3.0</td>\n      <td>5.0</td>\n      <td>14.447014</td>\n    </tr>\n    <tr>\n      <th>...</th>\n      <td>...</td>\n      <td>...</td>\n      <td>...</td>\n      <td>...</td>\n      <td>...</td>\n      <td>...</td>\n      <td>...</td>\n    </tr>\n    <tr>\n      <th>3527fe1276a408f2cac54f65373c57d4</th>\n      <td>2018-06-19 03:01:18</td>\n      <td>1611</td>\n      <td>1</td>\n      <td>120.91</td>\n      <td>7.0</td>\n      <td>4.0</td>\n      <td>62.643995</td>\n    </tr>\n    <tr>\n      <th>5d8620f729a63db9808b84811985626c</th>\n      <td>2018-06-19 01:25:53</td>\n      <td>1611</td>\n      <td>1</td>\n      <td>33.22</td>\n      <td>6.0</td>\n      <td>5.0</td>\n      <td>507.205597</td>\n    </tr>\n    <tr>\n      <th>6c5ce6b9d419df2b111d90a6e85a10d6</th>\n      <td>2018-06-19 00:26:23</td>\n      <td>1611</td>\n      <td>1</td>\n      <td>120.68</td>\n      <td>5.0</td>\n      <td>5.0</td>\n      <td>9.327671</td>\n    </tr>\n    <tr>\n      <th>698eb77f4e92210ab9d6a4103cfe5fa1</th>\n      <td>2018-06-19 00:19:37</td>\n      <td>1611</td>\n      <td>1</td>\n      <td>99.77</td>\n      <td>7.0</td>\n      <td>5.0</td>\n      <td>83.180433</td>\n    </tr>\n    <tr>\n      <th>1983d4bb595adf04d53264aab08ffb6b</th>\n      <td>2018-06-19 00:16:16</td>\n      <td>1611</td>\n      <td>1</td>\n      <td>27.49</td>\n      <td>2.0</td>\n      <td>5.0</td>\n      <td>8.724517</td>\n    </tr>\n  </tbody>\n</table>\n<p>3853 rows × 7 columns</p>\n</div>"
     },
     "execution_count": 158,
     "metadata": {},
     "output_type": "execute_result"
    }
   ],
   "source": [
    "df_inf_15 = df_inf_00.loc[\n",
    "    (df_inf_00['order_purchase_timestamp'] > I_14) & (df_inf_00['order_purchase_timestamp'] <= I_15)]\n",
    "df_inf_15"
   ],
   "metadata": {
    "collapsed": false,
    "pycharm": {
     "name": "#%%\n"
    }
   }
  },
  {
   "cell_type": "code",
   "execution_count": 159,
   "outputs": [
    {
     "data": {
      "text/plain": "                                  R (Récence)  f       m  \\\ncustomer_unique_id                                         \nedb29614fae66506fd950294c9fea702         1590  1  144.12   \n364849e1d0ec338fd949b47bfe80ec62         1590  1  104.70   \nb05a0be462115e2c6e1580b127161643         1590  1  135.15   \n03146a8b7c6feaac56b53e8e834eccd2         1590  1   69.53   \n3d1a76622ec022c19f773e757122968b         1590  1   57.58   \n...                                       ... ..     ...   \n3527fe1276a408f2cac54f65373c57d4         1611  1  120.91   \n5d8620f729a63db9808b84811985626c         1611  1   33.22   \n6c5ce6b9d419df2b111d90a6e85a10d6         1611  1  120.68   \n698eb77f4e92210ab9d6a4103cfe5fa1         1611  1   99.77   \n1983d4bb595adf04d53264aab08ffb6b         1611  1   27.49   \n\n                                  delta_purchase_delivery  review_score  \\\ncustomer_unique_id                                                        \nedb29614fae66506fd950294c9fea702                     15.0           5.0   \n364849e1d0ec338fd949b47bfe80ec62                     30.0           1.0   \nb05a0be462115e2c6e1580b127161643                      3.0           1.0   \n03146a8b7c6feaac56b53e8e834eccd2                      6.0           3.0   \n3d1a76622ec022c19f773e757122968b                      3.0           5.0   \n...                                                   ...           ...   \n3527fe1276a408f2cac54f65373c57d4                      7.0           4.0   \n5d8620f729a63db9808b84811985626c                      6.0           5.0   \n6c5ce6b9d419df2b111d90a6e85a10d6                      5.0           5.0   \n698eb77f4e92210ab9d6a4103cfe5fa1                      7.0           5.0   \n1983d4bb595adf04d53264aab08ffb6b                      2.0           5.0   \n\n                                  haversine_distance  \ncustomer_unique_id                                    \nedb29614fae66506fd950294c9fea702          747.275662  \n364849e1d0ec338fd949b47bfe80ec62          132.830738  \nb05a0be462115e2c6e1580b127161643          184.186773  \n03146a8b7c6feaac56b53e8e834eccd2          314.705863  \n3d1a76622ec022c19f773e757122968b           14.447014  \n...                                              ...  \n3527fe1276a408f2cac54f65373c57d4           62.643995  \n5d8620f729a63db9808b84811985626c          507.205597  \n6c5ce6b9d419df2b111d90a6e85a10d6            9.327671  \n698eb77f4e92210ab9d6a4103cfe5fa1           83.180433  \n1983d4bb595adf04d53264aab08ffb6b            8.724517  \n\n[3853 rows x 6 columns]",
      "text/html": "<div>\n<style scoped>\n    .dataframe tbody tr th:only-of-type {\n        vertical-align: middle;\n    }\n\n    .dataframe tbody tr th {\n        vertical-align: top;\n    }\n\n    .dataframe thead th {\n        text-align: right;\n    }\n</style>\n<table border=\"1\" class=\"dataframe\">\n  <thead>\n    <tr style=\"text-align: right;\">\n      <th></th>\n      <th>R (Récence)</th>\n      <th>f</th>\n      <th>m</th>\n      <th>delta_purchase_delivery</th>\n      <th>review_score</th>\n      <th>haversine_distance</th>\n    </tr>\n    <tr>\n      <th>customer_unique_id</th>\n      <th></th>\n      <th></th>\n      <th></th>\n      <th></th>\n      <th></th>\n      <th></th>\n    </tr>\n  </thead>\n  <tbody>\n    <tr>\n      <th>edb29614fae66506fd950294c9fea702</th>\n      <td>1590</td>\n      <td>1</td>\n      <td>144.12</td>\n      <td>15.0</td>\n      <td>5.0</td>\n      <td>747.275662</td>\n    </tr>\n    <tr>\n      <th>364849e1d0ec338fd949b47bfe80ec62</th>\n      <td>1590</td>\n      <td>1</td>\n      <td>104.70</td>\n      <td>30.0</td>\n      <td>1.0</td>\n      <td>132.830738</td>\n    </tr>\n    <tr>\n      <th>b05a0be462115e2c6e1580b127161643</th>\n      <td>1590</td>\n      <td>1</td>\n      <td>135.15</td>\n      <td>3.0</td>\n      <td>1.0</td>\n      <td>184.186773</td>\n    </tr>\n    <tr>\n      <th>03146a8b7c6feaac56b53e8e834eccd2</th>\n      <td>1590</td>\n      <td>1</td>\n      <td>69.53</td>\n      <td>6.0</td>\n      <td>3.0</td>\n      <td>314.705863</td>\n    </tr>\n    <tr>\n      <th>3d1a76622ec022c19f773e757122968b</th>\n      <td>1590</td>\n      <td>1</td>\n      <td>57.58</td>\n      <td>3.0</td>\n      <td>5.0</td>\n      <td>14.447014</td>\n    </tr>\n    <tr>\n      <th>...</th>\n      <td>...</td>\n      <td>...</td>\n      <td>...</td>\n      <td>...</td>\n      <td>...</td>\n      <td>...</td>\n    </tr>\n    <tr>\n      <th>3527fe1276a408f2cac54f65373c57d4</th>\n      <td>1611</td>\n      <td>1</td>\n      <td>120.91</td>\n      <td>7.0</td>\n      <td>4.0</td>\n      <td>62.643995</td>\n    </tr>\n    <tr>\n      <th>5d8620f729a63db9808b84811985626c</th>\n      <td>1611</td>\n      <td>1</td>\n      <td>33.22</td>\n      <td>6.0</td>\n      <td>5.0</td>\n      <td>507.205597</td>\n    </tr>\n    <tr>\n      <th>6c5ce6b9d419df2b111d90a6e85a10d6</th>\n      <td>1611</td>\n      <td>1</td>\n      <td>120.68</td>\n      <td>5.0</td>\n      <td>5.0</td>\n      <td>9.327671</td>\n    </tr>\n    <tr>\n      <th>698eb77f4e92210ab9d6a4103cfe5fa1</th>\n      <td>1611</td>\n      <td>1</td>\n      <td>99.77</td>\n      <td>7.0</td>\n      <td>5.0</td>\n      <td>83.180433</td>\n    </tr>\n    <tr>\n      <th>1983d4bb595adf04d53264aab08ffb6b</th>\n      <td>1611</td>\n      <td>1</td>\n      <td>27.49</td>\n      <td>2.0</td>\n      <td>5.0</td>\n      <td>8.724517</td>\n    </tr>\n  </tbody>\n</table>\n<p>3853 rows × 6 columns</p>\n</div>"
     },
     "execution_count": 159,
     "metadata": {},
     "output_type": "execute_result"
    }
   ],
   "source": [
    "df_inf_15_ = df_inf_15[['R (Récence)', 'f', 'm', 'delta_purchase_delivery', 'review_score', 'haversine_distance']]\n",
    "df_inf_15_"
   ],
   "metadata": {
    "collapsed": false,
    "pycharm": {
     "name": "#%%\n"
    }
   }
  },
  {
   "cell_type": "code",
   "execution_count": 160,
   "outputs": [
    {
     "data": {
      "text/plain": "array([[0.        , 0.        , 0.02852347, 0.19230769, 1.        ,\n        0.37733323],\n       [0.        , 0.        , 0.02008397, 0.38461538, 0.        ,\n        0.06679764],\n       [0.        , 0.        , 0.02660307, 0.03846154, 0.        ,\n        0.09275257],\n       ...,\n       [1.        , 0.        , 0.02350516, 0.06410256, 1.        ,\n        0.00438017],\n       [1.        , 0.        , 0.01902849, 0.08974359, 1.        ,\n        0.04170477],\n       [1.        , 0.        , 0.00355393, 0.02564103, 1.        ,\n        0.00407534]])"
     },
     "execution_count": 160,
     "metadata": {},
     "output_type": "execute_result"
    }
   ],
   "source": [
    "df_inf_15_scaled = scaler.fit_transform(df_inf_15_)\n",
    "df_inf_15_scaled"
   ],
   "metadata": {
    "collapsed": false,
    "pycharm": {
     "name": "#%%\n"
    }
   }
  },
  {
   "cell_type": "code",
   "execution_count": 161,
   "outputs": [],
   "source": [
    "\n",
    "# Kmeans avec le k choisi\n",
    "\n",
    "kmeans_model_15 = KMeans(4, random_state=42)\n",
    "kmeans_model_15.fit(df_inf_15_scaled)\n",
    "\n",
    "# Etiquette\n",
    "labels_model_15 = kmeans_model_15.labels_"
   ],
   "metadata": {
    "collapsed": false,
    "pycharm": {
     "name": "#%%\n"
    }
   }
  },
  {
   "cell_type": "code",
   "execution_count": 162,
   "outputs": [
    {
     "data": {
      "text/plain": "array([2, 3, 3, ..., 1, 1, 1])"
     },
     "execution_count": 162,
     "metadata": {},
     "output_type": "execute_result"
    }
   ],
   "source": [
    "labels_model_15"
   ],
   "metadata": {
    "collapsed": false,
    "pycharm": {
     "name": "#%%\n"
    }
   }
  },
  {
   "cell_type": "code",
   "execution_count": 163,
   "outputs": [
    {
     "data": {
      "text/plain": "array([2, 0, 0, ..., 1, 1, 1])"
     },
     "execution_count": 163,
     "metadata": {},
     "output_type": "execute_result"
    }
   ],
   "source": [
    "labels_predict_15 = kmeans_model_14.predict(df_inf_15_scaled)\n",
    "labels_predict_15"
   ],
   "metadata": {
    "collapsed": false,
    "pycharm": {
     "name": "#%%\n"
    }
   }
  },
  {
   "cell_type": "code",
   "execution_count": 164,
   "outputs": [
    {
     "data": {
      "text/plain": "0.872074147278521"
     },
     "execution_count": 164,
     "metadata": {},
     "output_type": "execute_result"
    }
   ],
   "source": [
    "\n",
    "ari_15 = adjusted_rand_score(labels_model_15, labels_predict_15)\n",
    "ari_15"
   ],
   "metadata": {
    "collapsed": false,
    "pycharm": {
     "name": "#%%\n"
    }
   }
  },
  {
   "cell_type": "code",
   "execution_count": 165,
   "outputs": [
    {
     "data": {
      "text/plain": "{'2017-09-19': 0.6864551842612211,\n Timestamp('2017-10-10 00:00:00'): 0.9703524800217207,\n Timestamp('2017-10-31 00:00:00'): 0.9556678730363262,\n Timestamp('2017-11-21 00:00:00'): 0.7102637915244074,\n Timestamp('2017-12-12 00:00:00'): 0.6883429712802089,\n Timestamp('2018-01-02 00:00:00'): 0.6260435836584001,\n Timestamp('2018-01-23 00:00:00'): 0.87985860894732,\n Timestamp('2018-02-13 00:00:00'): 0.7505950375892347,\n Timestamp('2018-03-06 00:00:00'): 0.8178611413052195,\n Timestamp('2018-03-27 00:00:00'): 0.8269586441910798,\n Timestamp('2018-04-17 00:00:00'): 0.6723549610424632,\n Timestamp('2018-05-08 00:00:00'): 0.9629533204562484,\n Timestamp('2018-05-29 00:00:00'): 1.0,\n Timestamp('2018-06-19 00:00:00'): 0.9744320903479493,\n Timestamp('2018-07-10 00:00:00'): 0.872074147278521}"
     },
     "execution_count": 165,
     "metadata": {},
     "output_type": "execute_result"
    }
   ],
   "source": [
    "ari_score[I_15] = ari_15\n",
    "ari_score"
   ],
   "metadata": {
    "collapsed": false,
    "pycharm": {
     "name": "#%%\n"
    }
   }
  },
  {
   "cell_type": "markdown",
   "source": [
    "####\n",
    "### Intervalle 16"
   ],
   "metadata": {
    "collapsed": false,
    "pycharm": {
     "name": "#%% md\n"
    }
   }
  },
  {
   "cell_type": "code",
   "execution_count": 166,
   "outputs": [
    {
     "data": {
      "text/plain": "Timestamp('2018-07-31 00:00:00')"
     },
     "execution_count": 166,
     "metadata": {},
     "output_type": "execute_result"
    }
   ],
   "source": [
    "I_16 = additional_period(I_15, nj, last_order_date)\n",
    "I_16"
   ],
   "metadata": {
    "collapsed": false,
    "pycharm": {
     "name": "#%%\n"
    }
   }
  },
  {
   "cell_type": "code",
   "execution_count": 167,
   "outputs": [
    {
     "data": {
      "text/plain": "                                 order_purchase_timestamp  R (Récence)  f  \\\ncustomer_unique_id                                                          \na9669782a17a0b5e26ebbd3e67d82908      2018-07-30 23:54:48         1569  1   \n4126ee95b7096d3383d3885b8180c567      2018-07-30 23:54:39         1569  1   \n5273b85d23730ed771fe91b0abd9108f      2018-07-30 23:51:39         1569  1   \n990228d4f60cef7388323d8fc67d7169      2018-07-30 23:50:53         1569  1   \n563dc9dc9f253c5c77566643c8e4ea4c      2018-07-30 23:26:24         1569  1   \n...                                                   ...          ... ..   \n4bb7d9f700ca1724ed6ec873680e4220      2018-07-10 06:45:51         1590  1   \n81936ea8a94431b4ccddaf0207921467      2018-07-10 01:51:19         1590  1   \n2b43c6254527a0919214430775f3b927      2018-07-10 00:32:48         1590  1   \n7f68389bf3a90ae30f7da04f5ae7a7ca      2018-07-10 00:21:12         1590  1   \nafaa3eb9c14474cd407763dce797da1a      2018-07-10 00:01:10         1590  1   \n\n                                       m  delta_purchase_delivery  \\\ncustomer_unique_id                                                  \na9669782a17a0b5e26ebbd3e67d82908   89.58                      8.0   \n4126ee95b7096d3383d3885b8180c567  152.03                      4.0   \n5273b85d23730ed771fe91b0abd9108f   57.27                      3.0   \n990228d4f60cef7388323d8fc67d7169   53.37                      6.0   \n563dc9dc9f253c5c77566643c8e4ea4c  128.77                      6.0   \n...                                  ...                      ...   \n4bb7d9f700ca1724ed6ec873680e4220   27.39                      3.0   \n81936ea8a94431b4ccddaf0207921467  132.33                      2.0   \n2b43c6254527a0919214430775f3b927  229.28                      1.0   \n7f68389bf3a90ae30f7da04f5ae7a7ca   71.62                      6.0   \nafaa3eb9c14474cd407763dce797da1a  120.72                      1.0   \n\n                                  review_score  haversine_distance  \ncustomer_unique_id                                                  \na9669782a17a0b5e26ebbd3e67d82908      5.000000          270.636771  \n4126ee95b7096d3383d3885b8180c567      3.000000          181.190885  \n5273b85d23730ed771fe91b0abd9108f      5.000000          339.775948  \n990228d4f60cef7388323d8fc67d7169      5.000000           88.349191  \n563dc9dc9f253c5c77566643c8e4ea4c      5.000000          202.680596  \n...                                        ...                 ...  \n4bb7d9f700ca1724ed6ec873680e4220      4.153643           20.891964  \n81936ea8a94431b4ccddaf0207921467      5.000000          106.561936  \n2b43c6254527a0919214430775f3b927      3.000000           31.422360  \n7f68389bf3a90ae30f7da04f5ae7a7ca      5.000000          396.801359  \nafaa3eb9c14474cd407763dce797da1a      5.000000           15.019491  \n\n[4288 rows x 7 columns]",
      "text/html": "<div>\n<style scoped>\n    .dataframe tbody tr th:only-of-type {\n        vertical-align: middle;\n    }\n\n    .dataframe tbody tr th {\n        vertical-align: top;\n    }\n\n    .dataframe thead th {\n        text-align: right;\n    }\n</style>\n<table border=\"1\" class=\"dataframe\">\n  <thead>\n    <tr style=\"text-align: right;\">\n      <th></th>\n      <th>order_purchase_timestamp</th>\n      <th>R (Récence)</th>\n      <th>f</th>\n      <th>m</th>\n      <th>delta_purchase_delivery</th>\n      <th>review_score</th>\n      <th>haversine_distance</th>\n    </tr>\n    <tr>\n      <th>customer_unique_id</th>\n      <th></th>\n      <th></th>\n      <th></th>\n      <th></th>\n      <th></th>\n      <th></th>\n      <th></th>\n    </tr>\n  </thead>\n  <tbody>\n    <tr>\n      <th>a9669782a17a0b5e26ebbd3e67d82908</th>\n      <td>2018-07-30 23:54:48</td>\n      <td>1569</td>\n      <td>1</td>\n      <td>89.58</td>\n      <td>8.0</td>\n      <td>5.000000</td>\n      <td>270.636771</td>\n    </tr>\n    <tr>\n      <th>4126ee95b7096d3383d3885b8180c567</th>\n      <td>2018-07-30 23:54:39</td>\n      <td>1569</td>\n      <td>1</td>\n      <td>152.03</td>\n      <td>4.0</td>\n      <td>3.000000</td>\n      <td>181.190885</td>\n    </tr>\n    <tr>\n      <th>5273b85d23730ed771fe91b0abd9108f</th>\n      <td>2018-07-30 23:51:39</td>\n      <td>1569</td>\n      <td>1</td>\n      <td>57.27</td>\n      <td>3.0</td>\n      <td>5.000000</td>\n      <td>339.775948</td>\n    </tr>\n    <tr>\n      <th>990228d4f60cef7388323d8fc67d7169</th>\n      <td>2018-07-30 23:50:53</td>\n      <td>1569</td>\n      <td>1</td>\n      <td>53.37</td>\n      <td>6.0</td>\n      <td>5.000000</td>\n      <td>88.349191</td>\n    </tr>\n    <tr>\n      <th>563dc9dc9f253c5c77566643c8e4ea4c</th>\n      <td>2018-07-30 23:26:24</td>\n      <td>1569</td>\n      <td>1</td>\n      <td>128.77</td>\n      <td>6.0</td>\n      <td>5.000000</td>\n      <td>202.680596</td>\n    </tr>\n    <tr>\n      <th>...</th>\n      <td>...</td>\n      <td>...</td>\n      <td>...</td>\n      <td>...</td>\n      <td>...</td>\n      <td>...</td>\n      <td>...</td>\n    </tr>\n    <tr>\n      <th>4bb7d9f700ca1724ed6ec873680e4220</th>\n      <td>2018-07-10 06:45:51</td>\n      <td>1590</td>\n      <td>1</td>\n      <td>27.39</td>\n      <td>3.0</td>\n      <td>4.153643</td>\n      <td>20.891964</td>\n    </tr>\n    <tr>\n      <th>81936ea8a94431b4ccddaf0207921467</th>\n      <td>2018-07-10 01:51:19</td>\n      <td>1590</td>\n      <td>1</td>\n      <td>132.33</td>\n      <td>2.0</td>\n      <td>5.000000</td>\n      <td>106.561936</td>\n    </tr>\n    <tr>\n      <th>2b43c6254527a0919214430775f3b927</th>\n      <td>2018-07-10 00:32:48</td>\n      <td>1590</td>\n      <td>1</td>\n      <td>229.28</td>\n      <td>1.0</td>\n      <td>3.000000</td>\n      <td>31.422360</td>\n    </tr>\n    <tr>\n      <th>7f68389bf3a90ae30f7da04f5ae7a7ca</th>\n      <td>2018-07-10 00:21:12</td>\n      <td>1590</td>\n      <td>1</td>\n      <td>71.62</td>\n      <td>6.0</td>\n      <td>5.000000</td>\n      <td>396.801359</td>\n    </tr>\n    <tr>\n      <th>afaa3eb9c14474cd407763dce797da1a</th>\n      <td>2018-07-10 00:01:10</td>\n      <td>1590</td>\n      <td>1</td>\n      <td>120.72</td>\n      <td>1.0</td>\n      <td>5.000000</td>\n      <td>15.019491</td>\n    </tr>\n  </tbody>\n</table>\n<p>4288 rows × 7 columns</p>\n</div>"
     },
     "execution_count": 167,
     "metadata": {},
     "output_type": "execute_result"
    }
   ],
   "source": [
    "df_inf_16 = df_inf_00.loc[\n",
    "    (df_inf_00['order_purchase_timestamp'] > I_15) & (df_inf_00['order_purchase_timestamp'] <= I_16)]\n",
    "df_inf_16"
   ],
   "metadata": {
    "collapsed": false,
    "pycharm": {
     "name": "#%%\n"
    }
   }
  },
  {
   "cell_type": "code",
   "execution_count": 168,
   "outputs": [
    {
     "data": {
      "text/plain": "                                  R (Récence)  f       m  \\\ncustomer_unique_id                                         \na9669782a17a0b5e26ebbd3e67d82908         1569  1   89.58   \n4126ee95b7096d3383d3885b8180c567         1569  1  152.03   \n5273b85d23730ed771fe91b0abd9108f         1569  1   57.27   \n990228d4f60cef7388323d8fc67d7169         1569  1   53.37   \n563dc9dc9f253c5c77566643c8e4ea4c         1569  1  128.77   \n...                                       ... ..     ...   \n4bb7d9f700ca1724ed6ec873680e4220         1590  1   27.39   \n81936ea8a94431b4ccddaf0207921467         1590  1  132.33   \n2b43c6254527a0919214430775f3b927         1590  1  229.28   \n7f68389bf3a90ae30f7da04f5ae7a7ca         1590  1   71.62   \nafaa3eb9c14474cd407763dce797da1a         1590  1  120.72   \n\n                                  delta_purchase_delivery  review_score  \\\ncustomer_unique_id                                                        \na9669782a17a0b5e26ebbd3e67d82908                      8.0      5.000000   \n4126ee95b7096d3383d3885b8180c567                      4.0      3.000000   \n5273b85d23730ed771fe91b0abd9108f                      3.0      5.000000   \n990228d4f60cef7388323d8fc67d7169                      6.0      5.000000   \n563dc9dc9f253c5c77566643c8e4ea4c                      6.0      5.000000   \n...                                                   ...           ...   \n4bb7d9f700ca1724ed6ec873680e4220                      3.0      4.153643   \n81936ea8a94431b4ccddaf0207921467                      2.0      5.000000   \n2b43c6254527a0919214430775f3b927                      1.0      3.000000   \n7f68389bf3a90ae30f7da04f5ae7a7ca                      6.0      5.000000   \nafaa3eb9c14474cd407763dce797da1a                      1.0      5.000000   \n\n                                  haversine_distance  \ncustomer_unique_id                                    \na9669782a17a0b5e26ebbd3e67d82908          270.636771  \n4126ee95b7096d3383d3885b8180c567          181.190885  \n5273b85d23730ed771fe91b0abd9108f          339.775948  \n990228d4f60cef7388323d8fc67d7169           88.349191  \n563dc9dc9f253c5c77566643c8e4ea4c          202.680596  \n...                                              ...  \n4bb7d9f700ca1724ed6ec873680e4220           20.891964  \n81936ea8a94431b4ccddaf0207921467          106.561936  \n2b43c6254527a0919214430775f3b927           31.422360  \n7f68389bf3a90ae30f7da04f5ae7a7ca          396.801359  \nafaa3eb9c14474cd407763dce797da1a           15.019491  \n\n[4288 rows x 6 columns]",
      "text/html": "<div>\n<style scoped>\n    .dataframe tbody tr th:only-of-type {\n        vertical-align: middle;\n    }\n\n    .dataframe tbody tr th {\n        vertical-align: top;\n    }\n\n    .dataframe thead th {\n        text-align: right;\n    }\n</style>\n<table border=\"1\" class=\"dataframe\">\n  <thead>\n    <tr style=\"text-align: right;\">\n      <th></th>\n      <th>R (Récence)</th>\n      <th>f</th>\n      <th>m</th>\n      <th>delta_purchase_delivery</th>\n      <th>review_score</th>\n      <th>haversine_distance</th>\n    </tr>\n    <tr>\n      <th>customer_unique_id</th>\n      <th></th>\n      <th></th>\n      <th></th>\n      <th></th>\n      <th></th>\n      <th></th>\n    </tr>\n  </thead>\n  <tbody>\n    <tr>\n      <th>a9669782a17a0b5e26ebbd3e67d82908</th>\n      <td>1569</td>\n      <td>1</td>\n      <td>89.58</td>\n      <td>8.0</td>\n      <td>5.000000</td>\n      <td>270.636771</td>\n    </tr>\n    <tr>\n      <th>4126ee95b7096d3383d3885b8180c567</th>\n      <td>1569</td>\n      <td>1</td>\n      <td>152.03</td>\n      <td>4.0</td>\n      <td>3.000000</td>\n      <td>181.190885</td>\n    </tr>\n    <tr>\n      <th>5273b85d23730ed771fe91b0abd9108f</th>\n      <td>1569</td>\n      <td>1</td>\n      <td>57.27</td>\n      <td>3.0</td>\n      <td>5.000000</td>\n      <td>339.775948</td>\n    </tr>\n    <tr>\n      <th>990228d4f60cef7388323d8fc67d7169</th>\n      <td>1569</td>\n      <td>1</td>\n      <td>53.37</td>\n      <td>6.0</td>\n      <td>5.000000</td>\n      <td>88.349191</td>\n    </tr>\n    <tr>\n      <th>563dc9dc9f253c5c77566643c8e4ea4c</th>\n      <td>1569</td>\n      <td>1</td>\n      <td>128.77</td>\n      <td>6.0</td>\n      <td>5.000000</td>\n      <td>202.680596</td>\n    </tr>\n    <tr>\n      <th>...</th>\n      <td>...</td>\n      <td>...</td>\n      <td>...</td>\n      <td>...</td>\n      <td>...</td>\n      <td>...</td>\n    </tr>\n    <tr>\n      <th>4bb7d9f700ca1724ed6ec873680e4220</th>\n      <td>1590</td>\n      <td>1</td>\n      <td>27.39</td>\n      <td>3.0</td>\n      <td>4.153643</td>\n      <td>20.891964</td>\n    </tr>\n    <tr>\n      <th>81936ea8a94431b4ccddaf0207921467</th>\n      <td>1590</td>\n      <td>1</td>\n      <td>132.33</td>\n      <td>2.0</td>\n      <td>5.000000</td>\n      <td>106.561936</td>\n    </tr>\n    <tr>\n      <th>2b43c6254527a0919214430775f3b927</th>\n      <td>1590</td>\n      <td>1</td>\n      <td>229.28</td>\n      <td>1.0</td>\n      <td>3.000000</td>\n      <td>31.422360</td>\n    </tr>\n    <tr>\n      <th>7f68389bf3a90ae30f7da04f5ae7a7ca</th>\n      <td>1590</td>\n      <td>1</td>\n      <td>71.62</td>\n      <td>6.0</td>\n      <td>5.000000</td>\n      <td>396.801359</td>\n    </tr>\n    <tr>\n      <th>afaa3eb9c14474cd407763dce797da1a</th>\n      <td>1590</td>\n      <td>1</td>\n      <td>120.72</td>\n      <td>1.0</td>\n      <td>5.000000</td>\n      <td>15.019491</td>\n    </tr>\n  </tbody>\n</table>\n<p>4288 rows × 6 columns</p>\n</div>"
     },
     "execution_count": 168,
     "metadata": {},
     "output_type": "execute_result"
    }
   ],
   "source": [
    "df_inf_16_ = df_inf_16[['R (Récence)', 'f', 'm', 'delta_purchase_delivery', 'review_score', 'haversine_distance']]\n",
    "df_inf_16_"
   ],
   "metadata": {
    "collapsed": false,
    "pycharm": {
     "name": "#%%\n"
    }
   }
  },
  {
   "cell_type": "code",
   "execution_count": 169,
   "outputs": [
    {
     "data": {
      "text/plain": "array([[0.        , 0.        , 0.01040103, 0.10447761, 1.        ,\n        0.05013548],\n       [0.        , 0.        , 0.01900199, 0.04477612, 0.5       ,\n        0.03353435],\n       [0.        , 0.        , 0.00595112, 0.02985075, 1.        ,\n        0.06296769],\n       ...,\n       [1.        , 0.        , 0.02964128, 0.        , 0.5       ,\n        0.00573736],\n       [1.        , 0.        , 0.00792748, 0.07462687, 1.        ,\n        0.07355158],\n       [1.        , 0.        , 0.0146898 , 0.        , 1.        ,\n        0.002693  ]])"
     },
     "execution_count": 169,
     "metadata": {},
     "output_type": "execute_result"
    }
   ],
   "source": [
    "df_inf_16_scaled = scaler.fit_transform(df_inf_16_)\n",
    "df_inf_16_scaled"
   ],
   "metadata": {
    "collapsed": false,
    "pycharm": {
     "name": "#%%\n"
    }
   }
  },
  {
   "cell_type": "code",
   "execution_count": 170,
   "outputs": [],
   "source": [
    "\n",
    "# Kmeans avec le k choisi\n",
    "\n",
    "kmeans_model_16 = KMeans(4, random_state=42)\n",
    "kmeans_model_16.fit(df_inf_16_scaled)\n",
    "\n",
    "# Etiquette\n",
    "labels_model_16 = kmeans_model_16.labels_"
   ],
   "metadata": {
    "collapsed": false,
    "pycharm": {
     "name": "#%%\n"
    }
   }
  },
  {
   "cell_type": "code",
   "execution_count": 171,
   "outputs": [
    {
     "data": {
      "text/plain": "array([1, 3, 1, ..., 0, 0, 0])"
     },
     "execution_count": 171,
     "metadata": {},
     "output_type": "execute_result"
    }
   ],
   "source": [
    "labels_model_16"
   ],
   "metadata": {
    "collapsed": false,
    "pycharm": {
     "name": "#%%\n"
    }
   }
  },
  {
   "cell_type": "code",
   "execution_count": 172,
   "outputs": [
    {
     "data": {
      "text/plain": "array([2, 2, 2, ..., 1, 1, 1])"
     },
     "execution_count": 172,
     "metadata": {},
     "output_type": "execute_result"
    }
   ],
   "source": [
    "labels_predict_16 = kmeans_model_15.predict(df_inf_16_scaled)\n",
    "labels_predict_16"
   ],
   "metadata": {
    "collapsed": false,
    "pycharm": {
     "name": "#%%\n"
    }
   }
  },
  {
   "cell_type": "code",
   "execution_count": 173,
   "outputs": [
    {
     "data": {
      "text/plain": "0.7203959724688447"
     },
     "execution_count": 173,
     "metadata": {},
     "output_type": "execute_result"
    }
   ],
   "source": [
    "\n",
    "ari_16 = adjusted_rand_score(labels_model_16, labels_predict_16)\n",
    "ari_16"
   ],
   "metadata": {
    "collapsed": false,
    "pycharm": {
     "name": "#%%\n"
    }
   }
  },
  {
   "cell_type": "code",
   "execution_count": 174,
   "outputs": [
    {
     "data": {
      "text/plain": "{'2017-09-19': 0.6864551842612211,\n Timestamp('2017-10-10 00:00:00'): 0.9703524800217207,\n Timestamp('2017-10-31 00:00:00'): 0.9556678730363262,\n Timestamp('2017-11-21 00:00:00'): 0.7102637915244074,\n Timestamp('2017-12-12 00:00:00'): 0.6883429712802089,\n Timestamp('2018-01-02 00:00:00'): 0.6260435836584001,\n Timestamp('2018-01-23 00:00:00'): 0.87985860894732,\n Timestamp('2018-02-13 00:00:00'): 0.7505950375892347,\n Timestamp('2018-03-06 00:00:00'): 0.8178611413052195,\n Timestamp('2018-03-27 00:00:00'): 0.8269586441910798,\n Timestamp('2018-04-17 00:00:00'): 0.6723549610424632,\n Timestamp('2018-05-08 00:00:00'): 0.9629533204562484,\n Timestamp('2018-05-29 00:00:00'): 1.0,\n Timestamp('2018-06-19 00:00:00'): 0.9744320903479493,\n Timestamp('2018-07-10 00:00:00'): 0.872074147278521,\n Timestamp('2018-07-31 00:00:00'): 0.7203959724688447}"
     },
     "execution_count": 174,
     "metadata": {},
     "output_type": "execute_result"
    }
   ],
   "source": [
    "ari_score[I_16] = ari_16\n",
    "ari_score"
   ],
   "metadata": {
    "collapsed": false,
    "pycharm": {
     "name": "#%%\n"
    }
   }
  },
  {
   "cell_type": "markdown",
   "source": [
    "####\n",
    "### Intervalle 17"
   ],
   "metadata": {
    "collapsed": false,
    "pycharm": {
     "name": "#%% md\n"
    }
   }
  },
  {
   "cell_type": "code",
   "execution_count": 175,
   "outputs": [
    {
     "data": {
      "text/plain": "Timestamp('2018-08-21 00:00:00')"
     },
     "execution_count": 175,
     "metadata": {},
     "output_type": "execute_result"
    }
   ],
   "source": [
    "I_17 = additional_period(I_16, nj, last_order_date)\n",
    "I_17"
   ],
   "metadata": {
    "collapsed": false,
    "pycharm": {
     "name": "#%%\n"
    }
   }
  },
  {
   "cell_type": "code",
   "execution_count": 176,
   "outputs": [
    {
     "data": {
      "text/plain": "                                 order_purchase_timestamp  R (Récence)  f  \\\ncustomer_unique_id                                                          \ne780757b43bdb9a1abdf5bc54dfbf54e      2018-08-20 23:58:59         1548  1   \n7b7d279dcd8c4096df6622f18d344569      2018-08-20 23:52:39         1548  1   \ne4fe3a04efe1568d27be366187752445      2018-08-20 23:41:45         1548  1   \n2bda8b5ca873c93f2e13ee19397429c8      2018-08-20 23:35:44         1548  1   \n5460c602044c610414e3faa53a9f2e9c      2018-08-20 23:25:36         1548  1   \n...                                                   ...          ... ..   \na9cf937719d2881fc6841f36dd5a709a      2018-07-31 01:14:22         1569  1   \n60204fb945f6c8fe2469fb41a8f95463      2018-07-31 00:36:04         1569  1   \n819c65629034acc8a0e1c096c2c6715d      2018-07-31 00:23:09         1569  2   \nbe1e99a0c57d7c3c699cfc4db26c8edf      2018-07-31 00:17:40         1569  1   \nf52b4d471a3fd579ed98ab5aa6763857      2018-07-31 00:16:31         1569  1   \n\n                                       m  delta_purchase_delivery  \\\ncustomer_unique_id                                                  \ne780757b43bdb9a1abdf5bc54dfbf54e  143.10                      6.0   \n7b7d279dcd8c4096df6622f18d344569  179.73                      6.0   \ne4fe3a04efe1568d27be366187752445  147.16                      7.0   \n2bda8b5ca873c93f2e13ee19397429c8  226.88                      4.0   \n5460c602044c610414e3faa53a9f2e9c  239.66                      6.0   \n...                                  ...                      ...   \na9cf937719d2881fc6841f36dd5a709a   85.81                      1.0   \n60204fb945f6c8fe2469fb41a8f95463  145.11                      8.0   \n819c65629034acc8a0e1c096c2c6715d  395.29                      3.0   \nbe1e99a0c57d7c3c699cfc4db26c8edf   40.27                      3.0   \nf52b4d471a3fd579ed98ab5aa6763857  298.77                     16.0   \n\n                                  review_score  haversine_distance  \ncustomer_unique_id                                                  \ne780757b43bdb9a1abdf5bc54dfbf54e           5.0          356.453753  \n7b7d279dcd8c4096df6622f18d344569           3.0          999.710707  \ne4fe3a04efe1568d27be366187752445           3.0          317.174584  \n2bda8b5ca873c93f2e13ee19397429c8           1.0           14.870754  \n5460c602044c610414e3faa53a9f2e9c           5.0          437.852996  \n...                                        ...                 ...  \na9cf937719d2881fc6841f36dd5a709a           3.0           32.246003  \n60204fb945f6c8fe2469fb41a8f95463           5.0          150.605096  \n819c65629034acc8a0e1c096c2c6715d           5.0          267.355832  \nbe1e99a0c57d7c3c699cfc4db26c8edf           1.0          280.944946  \nf52b4d471a3fd579ed98ab5aa6763857           4.0         1075.715930  \n\n[5704 rows x 7 columns]",
      "text/html": "<div>\n<style scoped>\n    .dataframe tbody tr th:only-of-type {\n        vertical-align: middle;\n    }\n\n    .dataframe tbody tr th {\n        vertical-align: top;\n    }\n\n    .dataframe thead th {\n        text-align: right;\n    }\n</style>\n<table border=\"1\" class=\"dataframe\">\n  <thead>\n    <tr style=\"text-align: right;\">\n      <th></th>\n      <th>order_purchase_timestamp</th>\n      <th>R (Récence)</th>\n      <th>f</th>\n      <th>m</th>\n      <th>delta_purchase_delivery</th>\n      <th>review_score</th>\n      <th>haversine_distance</th>\n    </tr>\n    <tr>\n      <th>customer_unique_id</th>\n      <th></th>\n      <th></th>\n      <th></th>\n      <th></th>\n      <th></th>\n      <th></th>\n      <th></th>\n    </tr>\n  </thead>\n  <tbody>\n    <tr>\n      <th>e780757b43bdb9a1abdf5bc54dfbf54e</th>\n      <td>2018-08-20 23:58:59</td>\n      <td>1548</td>\n      <td>1</td>\n      <td>143.10</td>\n      <td>6.0</td>\n      <td>5.0</td>\n      <td>356.453753</td>\n    </tr>\n    <tr>\n      <th>7b7d279dcd8c4096df6622f18d344569</th>\n      <td>2018-08-20 23:52:39</td>\n      <td>1548</td>\n      <td>1</td>\n      <td>179.73</td>\n      <td>6.0</td>\n      <td>3.0</td>\n      <td>999.710707</td>\n    </tr>\n    <tr>\n      <th>e4fe3a04efe1568d27be366187752445</th>\n      <td>2018-08-20 23:41:45</td>\n      <td>1548</td>\n      <td>1</td>\n      <td>147.16</td>\n      <td>7.0</td>\n      <td>3.0</td>\n      <td>317.174584</td>\n    </tr>\n    <tr>\n      <th>2bda8b5ca873c93f2e13ee19397429c8</th>\n      <td>2018-08-20 23:35:44</td>\n      <td>1548</td>\n      <td>1</td>\n      <td>226.88</td>\n      <td>4.0</td>\n      <td>1.0</td>\n      <td>14.870754</td>\n    </tr>\n    <tr>\n      <th>5460c602044c610414e3faa53a9f2e9c</th>\n      <td>2018-08-20 23:25:36</td>\n      <td>1548</td>\n      <td>1</td>\n      <td>239.66</td>\n      <td>6.0</td>\n      <td>5.0</td>\n      <td>437.852996</td>\n    </tr>\n    <tr>\n      <th>...</th>\n      <td>...</td>\n      <td>...</td>\n      <td>...</td>\n      <td>...</td>\n      <td>...</td>\n      <td>...</td>\n      <td>...</td>\n    </tr>\n    <tr>\n      <th>a9cf937719d2881fc6841f36dd5a709a</th>\n      <td>2018-07-31 01:14:22</td>\n      <td>1569</td>\n      <td>1</td>\n      <td>85.81</td>\n      <td>1.0</td>\n      <td>3.0</td>\n      <td>32.246003</td>\n    </tr>\n    <tr>\n      <th>60204fb945f6c8fe2469fb41a8f95463</th>\n      <td>2018-07-31 00:36:04</td>\n      <td>1569</td>\n      <td>1</td>\n      <td>145.11</td>\n      <td>8.0</td>\n      <td>5.0</td>\n      <td>150.605096</td>\n    </tr>\n    <tr>\n      <th>819c65629034acc8a0e1c096c2c6715d</th>\n      <td>2018-07-31 00:23:09</td>\n      <td>1569</td>\n      <td>2</td>\n      <td>395.29</td>\n      <td>3.0</td>\n      <td>5.0</td>\n      <td>267.355832</td>\n    </tr>\n    <tr>\n      <th>be1e99a0c57d7c3c699cfc4db26c8edf</th>\n      <td>2018-07-31 00:17:40</td>\n      <td>1569</td>\n      <td>1</td>\n      <td>40.27</td>\n      <td>3.0</td>\n      <td>1.0</td>\n      <td>280.944946</td>\n    </tr>\n    <tr>\n      <th>f52b4d471a3fd579ed98ab5aa6763857</th>\n      <td>2018-07-31 00:16:31</td>\n      <td>1569</td>\n      <td>1</td>\n      <td>298.77</td>\n      <td>16.0</td>\n      <td>4.0</td>\n      <td>1075.715930</td>\n    </tr>\n  </tbody>\n</table>\n<p>5704 rows × 7 columns</p>\n</div>"
     },
     "execution_count": 176,
     "metadata": {},
     "output_type": "execute_result"
    }
   ],
   "source": [
    "df_inf_17 = df_inf_00.loc[\n",
    "    (df_inf_00['order_purchase_timestamp'] > I_16) & (df_inf_00['order_purchase_timestamp'] <= I_17)]\n",
    "df_inf_17"
   ],
   "metadata": {
    "collapsed": false,
    "pycharm": {
     "name": "#%%\n"
    }
   }
  },
  {
   "cell_type": "code",
   "execution_count": 177,
   "outputs": [
    {
     "data": {
      "text/plain": "                                  R (Récence)  f       m  \\\ncustomer_unique_id                                         \ne780757b43bdb9a1abdf5bc54dfbf54e         1548  1  143.10   \n7b7d279dcd8c4096df6622f18d344569         1548  1  179.73   \ne4fe3a04efe1568d27be366187752445         1548  1  147.16   \n2bda8b5ca873c93f2e13ee19397429c8         1548  1  226.88   \n5460c602044c610414e3faa53a9f2e9c         1548  1  239.66   \n...                                       ... ..     ...   \na9cf937719d2881fc6841f36dd5a709a         1569  1   85.81   \n60204fb945f6c8fe2469fb41a8f95463         1569  1  145.11   \n819c65629034acc8a0e1c096c2c6715d         1569  2  395.29   \nbe1e99a0c57d7c3c699cfc4db26c8edf         1569  1   40.27   \nf52b4d471a3fd579ed98ab5aa6763857         1569  1  298.77   \n\n                                  delta_purchase_delivery  review_score  \\\ncustomer_unique_id                                                        \ne780757b43bdb9a1abdf5bc54dfbf54e                      6.0           5.0   \n7b7d279dcd8c4096df6622f18d344569                      6.0           3.0   \ne4fe3a04efe1568d27be366187752445                      7.0           3.0   \n2bda8b5ca873c93f2e13ee19397429c8                      4.0           1.0   \n5460c602044c610414e3faa53a9f2e9c                      6.0           5.0   \n...                                                   ...           ...   \na9cf937719d2881fc6841f36dd5a709a                      1.0           3.0   \n60204fb945f6c8fe2469fb41a8f95463                      8.0           5.0   \n819c65629034acc8a0e1c096c2c6715d                      3.0           5.0   \nbe1e99a0c57d7c3c699cfc4db26c8edf                      3.0           1.0   \nf52b4d471a3fd579ed98ab5aa6763857                     16.0           4.0   \n\n                                  haversine_distance  \ncustomer_unique_id                                    \ne780757b43bdb9a1abdf5bc54dfbf54e          356.453753  \n7b7d279dcd8c4096df6622f18d344569          999.710707  \ne4fe3a04efe1568d27be366187752445          317.174584  \n2bda8b5ca873c93f2e13ee19397429c8           14.870754  \n5460c602044c610414e3faa53a9f2e9c          437.852996  \n...                                              ...  \na9cf937719d2881fc6841f36dd5a709a           32.246003  \n60204fb945f6c8fe2469fb41a8f95463          150.605096  \n819c65629034acc8a0e1c096c2c6715d          267.355832  \nbe1e99a0c57d7c3c699cfc4db26c8edf          280.944946  \nf52b4d471a3fd579ed98ab5aa6763857         1075.715930  \n\n[5704 rows x 6 columns]",
      "text/html": "<div>\n<style scoped>\n    .dataframe tbody tr th:only-of-type {\n        vertical-align: middle;\n    }\n\n    .dataframe tbody tr th {\n        vertical-align: top;\n    }\n\n    .dataframe thead th {\n        text-align: right;\n    }\n</style>\n<table border=\"1\" class=\"dataframe\">\n  <thead>\n    <tr style=\"text-align: right;\">\n      <th></th>\n      <th>R (Récence)</th>\n      <th>f</th>\n      <th>m</th>\n      <th>delta_purchase_delivery</th>\n      <th>review_score</th>\n      <th>haversine_distance</th>\n    </tr>\n    <tr>\n      <th>customer_unique_id</th>\n      <th></th>\n      <th></th>\n      <th></th>\n      <th></th>\n      <th></th>\n      <th></th>\n    </tr>\n  </thead>\n  <tbody>\n    <tr>\n      <th>e780757b43bdb9a1abdf5bc54dfbf54e</th>\n      <td>1548</td>\n      <td>1</td>\n      <td>143.10</td>\n      <td>6.0</td>\n      <td>5.0</td>\n      <td>356.453753</td>\n    </tr>\n    <tr>\n      <th>7b7d279dcd8c4096df6622f18d344569</th>\n      <td>1548</td>\n      <td>1</td>\n      <td>179.73</td>\n      <td>6.0</td>\n      <td>3.0</td>\n      <td>999.710707</td>\n    </tr>\n    <tr>\n      <th>e4fe3a04efe1568d27be366187752445</th>\n      <td>1548</td>\n      <td>1</td>\n      <td>147.16</td>\n      <td>7.0</td>\n      <td>3.0</td>\n      <td>317.174584</td>\n    </tr>\n    <tr>\n      <th>2bda8b5ca873c93f2e13ee19397429c8</th>\n      <td>1548</td>\n      <td>1</td>\n      <td>226.88</td>\n      <td>4.0</td>\n      <td>1.0</td>\n      <td>14.870754</td>\n    </tr>\n    <tr>\n      <th>5460c602044c610414e3faa53a9f2e9c</th>\n      <td>1548</td>\n      <td>1</td>\n      <td>239.66</td>\n      <td>6.0</td>\n      <td>5.0</td>\n      <td>437.852996</td>\n    </tr>\n    <tr>\n      <th>...</th>\n      <td>...</td>\n      <td>...</td>\n      <td>...</td>\n      <td>...</td>\n      <td>...</td>\n      <td>...</td>\n    </tr>\n    <tr>\n      <th>a9cf937719d2881fc6841f36dd5a709a</th>\n      <td>1569</td>\n      <td>1</td>\n      <td>85.81</td>\n      <td>1.0</td>\n      <td>3.0</td>\n      <td>32.246003</td>\n    </tr>\n    <tr>\n      <th>60204fb945f6c8fe2469fb41a8f95463</th>\n      <td>1569</td>\n      <td>1</td>\n      <td>145.11</td>\n      <td>8.0</td>\n      <td>5.0</td>\n      <td>150.605096</td>\n    </tr>\n    <tr>\n      <th>819c65629034acc8a0e1c096c2c6715d</th>\n      <td>1569</td>\n      <td>2</td>\n      <td>395.29</td>\n      <td>3.0</td>\n      <td>5.0</td>\n      <td>267.355832</td>\n    </tr>\n    <tr>\n      <th>be1e99a0c57d7c3c699cfc4db26c8edf</th>\n      <td>1569</td>\n      <td>1</td>\n      <td>40.27</td>\n      <td>3.0</td>\n      <td>1.0</td>\n      <td>280.944946</td>\n    </tr>\n    <tr>\n      <th>f52b4d471a3fd579ed98ab5aa6763857</th>\n      <td>1569</td>\n      <td>1</td>\n      <td>298.77</td>\n      <td>16.0</td>\n      <td>4.0</td>\n      <td>1075.715930</td>\n    </tr>\n  </tbody>\n</table>\n<p>5704 rows × 6 columns</p>\n</div>"
     },
     "execution_count": 177,
     "metadata": {},
     "output_type": "execute_result"
    }
   ],
   "source": [
    "df_inf_17_ = df_inf_17[['R (Récence)', 'f', 'm', 'delta_purchase_delivery', 'review_score', 'haversine_distance']]\n",
    "df_inf_17_"
   ],
   "metadata": {
    "collapsed": false,
    "pycharm": {
     "name": "#%%\n"
    }
   }
  },
  {
   "cell_type": "code",
   "execution_count": 178,
   "outputs": [
    {
     "data": {
      "text/plain": "array([[0.        , 0.        , 0.02794184, 0.10204082, 1.        ,\n        0.18325516],\n       [0.        , 0.        , 0.03583199, 0.10204082, 0.5       ,\n        0.51395768],\n       [0.        , 0.        , 0.02881637, 0.12244898, 0.5       ,\n        0.16306149],\n       ...,\n       [1.        , 0.07142857, 0.08226387, 0.04081633, 1.        ,\n        0.13744935],\n       [1.        , 0.        , 0.00579214, 0.04081633, 0.        ,\n        0.1444356 ],\n       [1.        , 0.        , 0.06147334, 0.30612245, 0.75      ,\n        0.55303245]])"
     },
     "execution_count": 178,
     "metadata": {},
     "output_type": "execute_result"
    }
   ],
   "source": [
    "df_inf_17_scaled = scaler.fit_transform(df_inf_17_)\n",
    "df_inf_17_scaled"
   ],
   "metadata": {
    "collapsed": false,
    "pycharm": {
     "name": "#%%\n"
    }
   }
  },
  {
   "cell_type": "code",
   "execution_count": 179,
   "outputs": [],
   "source": [
    "\n",
    "# Kmeans avec le k choisi\n",
    "\n",
    "kmeans_model_17 = KMeans(4, random_state=42)\n",
    "kmeans_model_17.fit(df_inf_17_scaled)\n",
    "\n",
    "# Etiquette\n",
    "labels_model_17 = kmeans_model_17.labels_"
   ],
   "metadata": {
    "collapsed": false,
    "pycharm": {
     "name": "#%%\n"
    }
   }
  },
  {
   "cell_type": "code",
   "execution_count": 180,
   "outputs": [
    {
     "data": {
      "text/plain": "array([0, 0, 0, ..., 1, 2, 3])"
     },
     "execution_count": 180,
     "metadata": {},
     "output_type": "execute_result"
    }
   ],
   "source": [
    "labels_model_17"
   ],
   "metadata": {
    "collapsed": false,
    "pycharm": {
     "name": "#%%\n"
    }
   }
  },
  {
   "cell_type": "code",
   "execution_count": 181,
   "outputs": [
    {
     "data": {
      "text/plain": "array([1, 3, 3, ..., 0, 2, 0])"
     },
     "execution_count": 181,
     "metadata": {},
     "output_type": "execute_result"
    }
   ],
   "source": [
    "labels_predict_17 = kmeans_model_16.predict(df_inf_17_scaled)\n",
    "labels_predict_17"
   ],
   "metadata": {
    "collapsed": false,
    "pycharm": {
     "name": "#%%\n"
    }
   }
  },
  {
   "cell_type": "code",
   "execution_count": 182,
   "outputs": [
    {
     "data": {
      "text/plain": "0.6293239353728253"
     },
     "execution_count": 182,
     "metadata": {},
     "output_type": "execute_result"
    }
   ],
   "source": [
    "\n",
    "ari_17 = adjusted_rand_score(labels_model_17, labels_predict_17)\n",
    "ari_17"
   ],
   "metadata": {
    "collapsed": false,
    "pycharm": {
     "name": "#%%\n"
    }
   }
  },
  {
   "cell_type": "code",
   "execution_count": 183,
   "outputs": [
    {
     "data": {
      "text/plain": "{'2017-09-19': 0.6864551842612211,\n Timestamp('2017-10-10 00:00:00'): 0.9703524800217207,\n Timestamp('2017-10-31 00:00:00'): 0.9556678730363262,\n Timestamp('2017-11-21 00:00:00'): 0.7102637915244074,\n Timestamp('2017-12-12 00:00:00'): 0.6883429712802089,\n Timestamp('2018-01-02 00:00:00'): 0.6260435836584001,\n Timestamp('2018-01-23 00:00:00'): 0.87985860894732,\n Timestamp('2018-02-13 00:00:00'): 0.7505950375892347,\n Timestamp('2018-03-06 00:00:00'): 0.8178611413052195,\n Timestamp('2018-03-27 00:00:00'): 0.8269586441910798,\n Timestamp('2018-04-17 00:00:00'): 0.6723549610424632,\n Timestamp('2018-05-08 00:00:00'): 0.9629533204562484,\n Timestamp('2018-05-29 00:00:00'): 1.0,\n Timestamp('2018-06-19 00:00:00'): 0.9744320903479493,\n Timestamp('2018-07-10 00:00:00'): 0.872074147278521,\n Timestamp('2018-07-31 00:00:00'): 0.7203959724688447,\n Timestamp('2018-08-21 00:00:00'): 0.6293239353728253}"
     },
     "execution_count": 183,
     "metadata": {},
     "output_type": "execute_result"
    }
   ],
   "source": [
    "ari_score[I_17] = ari_17\n",
    "ari_score"
   ],
   "metadata": {
    "collapsed": false,
    "pycharm": {
     "name": "#%%\n"
    }
   }
  },
  {
   "cell_type": "markdown",
   "source": [
    "####\n",
    "### Intervalle 18"
   ],
   "metadata": {
    "collapsed": false,
    "pycharm": {
     "name": "#%% md\n"
    }
   }
  },
  {
   "cell_type": "code",
   "execution_count": 184,
   "outputs": [
    {
     "name": "stdout",
     "output_type": "stream",
     "text": [
      "La date maximale est dépassé\n"
     ]
    }
   ],
   "source": [
    "I_18 = additional_period(I_17, nj, last_order_date)\n",
    "I_18"
   ],
   "metadata": {
    "collapsed": false,
    "pycharm": {
     "name": "#%%\n"
    }
   }
  },
  {
   "cell_type": "markdown",
   "source": [
    "####\n",
    "### Affichage des résultats sur un graphique"
   ],
   "metadata": {
    "collapsed": false,
    "pycharm": {
     "name": "#%% md\n"
    }
   }
  },
  {
   "cell_type": "code",
   "execution_count": 185,
   "outputs": [
    {
     "data": {
      "text/plain": "       Period       Ari\n0  2017-09-19  0.686455\n1  2017-10-10  0.970352\n2  2017-10-31  0.955668\n3  2017-11-21  0.710264\n4  2017-12-12  0.688343\n5  2018-01-02  0.626044\n6  2018-01-23  0.879859\n7  2018-02-13  0.750595\n8  2018-03-06  0.817861\n9  2018-03-27  0.826959\n10 2018-04-17  0.672355\n11 2018-05-08  0.962953\n12 2018-05-29  1.000000\n13 2018-06-19  0.974432\n14 2018-07-10  0.872074\n15 2018-07-31  0.720396\n16 2018-08-21  0.629324",
      "text/html": "<div>\n<style scoped>\n    .dataframe tbody tr th:only-of-type {\n        vertical-align: middle;\n    }\n\n    .dataframe tbody tr th {\n        vertical-align: top;\n    }\n\n    .dataframe thead th {\n        text-align: right;\n    }\n</style>\n<table border=\"1\" class=\"dataframe\">\n  <thead>\n    <tr style=\"text-align: right;\">\n      <th></th>\n      <th>Period</th>\n      <th>Ari</th>\n    </tr>\n  </thead>\n  <tbody>\n    <tr>\n      <th>0</th>\n      <td>2017-09-19</td>\n      <td>0.686455</td>\n    </tr>\n    <tr>\n      <th>1</th>\n      <td>2017-10-10</td>\n      <td>0.970352</td>\n    </tr>\n    <tr>\n      <th>2</th>\n      <td>2017-10-31</td>\n      <td>0.955668</td>\n    </tr>\n    <tr>\n      <th>3</th>\n      <td>2017-11-21</td>\n      <td>0.710264</td>\n    </tr>\n    <tr>\n      <th>4</th>\n      <td>2017-12-12</td>\n      <td>0.688343</td>\n    </tr>\n    <tr>\n      <th>5</th>\n      <td>2018-01-02</td>\n      <td>0.626044</td>\n    </tr>\n    <tr>\n      <th>6</th>\n      <td>2018-01-23</td>\n      <td>0.879859</td>\n    </tr>\n    <tr>\n      <th>7</th>\n      <td>2018-02-13</td>\n      <td>0.750595</td>\n    </tr>\n    <tr>\n      <th>8</th>\n      <td>2018-03-06</td>\n      <td>0.817861</td>\n    </tr>\n    <tr>\n      <th>9</th>\n      <td>2018-03-27</td>\n      <td>0.826959</td>\n    </tr>\n    <tr>\n      <th>10</th>\n      <td>2018-04-17</td>\n      <td>0.672355</td>\n    </tr>\n    <tr>\n      <th>11</th>\n      <td>2018-05-08</td>\n      <td>0.962953</td>\n    </tr>\n    <tr>\n      <th>12</th>\n      <td>2018-05-29</td>\n      <td>1.000000</td>\n    </tr>\n    <tr>\n      <th>13</th>\n      <td>2018-06-19</td>\n      <td>0.974432</td>\n    </tr>\n    <tr>\n      <th>14</th>\n      <td>2018-07-10</td>\n      <td>0.872074</td>\n    </tr>\n    <tr>\n      <th>15</th>\n      <td>2018-07-31</td>\n      <td>0.720396</td>\n    </tr>\n    <tr>\n      <th>16</th>\n      <td>2018-08-21</td>\n      <td>0.629324</td>\n    </tr>\n  </tbody>\n</table>\n</div>"
     },
     "execution_count": 185,
     "metadata": {},
     "output_type": "execute_result"
    }
   ],
   "source": [
    "Ari_score = pd.DataFrame(ari_score.items(), columns=[\"Period\", \"Ari\"])\n",
    "Ari_score"
   ],
   "metadata": {
    "collapsed": false,
    "pycharm": {
     "name": "#%%\n"
    }
   }
  },
  {
   "cell_type": "code",
   "execution_count": 187,
   "outputs": [
    {
     "data": {
      "text/plain": "<Figure size 864x576 with 1 Axes>",
      "image/png": "[encoded data removed]"
     },
     "metadata": {},
     "output_type": "display_data"
    }
   ],
   "source": [
    "\n",
    "\n",
    "# plot ARI Score\n",
    "fig = plt.figure(figsize=(12,8))\n",
    "sns.lineplot(data=Ari_score, x=\"Period\", y=\"Ari\")\n",
    "\n",
    "plt.xlabel(\"Period\")\n",
    "plt.ylabel(\"ARI Score\")\n",
    "plt.title(\"Temporal stability\",\n",
    "          fontsize=25,\n",
    "          color=\"b\")\n",
    "plt.show()"
   ],
   "metadata": {
    "collapsed": false,
    "pycharm": {
     "name": "#%%\n"
    }
   }
  },
  {
   "cell_type": "code",
   "execution_count": 186,
   "outputs": [],
   "source": [],
   "metadata": {
    "collapsed": false,
    "pycharm": {
     "name": "#%%\n"
    }
   }
  }
 ],
 "metadata": {
  "kernelspec": {
   "display_name": "Python 3",
   "language": "python",
   "name": "python3"
  },
  "language_info": {
   "codemirror_mode": {
    "name": "ipython",
    "version": 2
   },
   "file_extension": ".py",
   "mimetype": "text/x-python",
   "name": "python",
   "nbconvert_exporter": "python",
   "pygments_lexer": "ipython2",
   "version": "2.7.6"
  }
 },
 "nbformat": 4,
 "nbformat_minor": 0
}